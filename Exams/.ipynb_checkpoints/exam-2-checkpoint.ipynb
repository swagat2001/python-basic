{
 "cells": [
  {
   "cell_type": "markdown",
   "id": "800680b5",
   "metadata": {},
   "source": [
    "# Exam - 2"
   ]
  },
  {
   "cell_type": "markdown",
   "id": "b0eb617f",
   "metadata": {},
   "source": [
    "1. Write a function to calculate the sum of the first N natural numbers using a loop."
   ]
  },
  {
   "cell_type": "code",
   "execution_count": 12,
   "id": "04702ef4",
   "metadata": {},
   "outputs": [
    {
     "name": "stdout",
     "output_type": "stream",
     "text": [
      "Enter a number 5\n",
      "sum of first 5 natural numbers are 15.\n"
     ]
    }
   ],
   "source": [
    "def summ(num):\n",
    "    i = num\n",
    "    sum = 0\n",
    "    while True:\n",
    "        sum = sum+i\n",
    "        i-=1\n",
    "        if i==0:\n",
    "            print(f'sum of first {num} natural numbers are {sum}.')\n",
    "            break\n",
    "            \n",
    "summ(num = eval(input('Enter a number ')))"
   ]
  },
  {
   "cell_type": "markdown",
   "id": "29b73e67",
   "metadata": {},
   "source": [
    "2. Write a function to find the factorial of a given number using a loop."
   ]
  },
  {
   "cell_type": "code",
   "execution_count": 8,
   "id": "02d8e9f3",
   "metadata": {},
   "outputs": [
    {
     "name": "stdout",
     "output_type": "stream",
     "text": [
      "Enter a number to find the fsctorial :5\n",
      "Fctorial of 5 is 120\n"
     ]
    }
   ],
   "source": [
    "def factorial(num):\n",
    "    fact = 1\n",
    "    i = num\n",
    "    while True:\n",
    "            fact = fact*i\n",
    "            i-=1\n",
    "            if i == 1:\n",
    "                print(f'Fctorial of {num} is {fact}')\n",
    "                break\n",
    "                \n",
    "factorial(num = eval(input('Enter a number to find the fsctorial :')))"
   ]
  },
  {
   "cell_type": "markdown",
   "id": "7cbe2dd3",
   "metadata": {},
   "source": [
    "3. Write a function to check if a given number is prime or not using an if-else condition."
   ]
  },
  {
   "cell_type": "code",
   "execution_count": 9,
   "id": "04fcfbd4",
   "metadata": {},
   "outputs": [
    {
     "name": "stdout",
     "output_type": "stream",
     "text": [
      "Enter a number to check wheather its prime or not :13\n",
      "The number 13 is a prinme number .\n"
     ]
    }
   ],
   "source": [
    "def num_check(num):\n",
    "    if num%1==0:\n",
    "        if num%num==0:\n",
    "            print(f'The number {num} is a prinme number .')\n",
    "        else:\n",
    "            print(f'{num} is not a prime number ')\n",
    "    else:\n",
    "        print(f'{num} is not a prime number ')\n",
    "        \n",
    "num_check(num = eval(input('Enter a number to check wheather its prime or not :')))"
   ]
  },
  {
   "cell_type": "markdown",
   "id": "f19caba1",
   "metadata": {},
   "source": [
    "4. Write a function to print the first N numbers in the Fibonacci sequence using a loop."
   ]
  },
  {
   "cell_type": "code",
   "execution_count": null,
   "id": "0ce05de4",
   "metadata": {},
   "outputs": [],
   "source": [
    "def fibonacci(num):\n",
    "    fibo = 0\n",
    "    if num == 0:\n",
    "        fibo = 0\n",
    "    elif num-2>=0:\n",
    "        fibo = (num-1)+(num-2)\n",
    "            "
   ]
  },
  {
   "cell_type": "markdown",
   "id": "ffc9d5f9",
   "metadata": {},
   "source": [
    "5. Write a function to find the greatest of three given numbers using if-else conditions."
   ]
  },
  {
   "cell_type": "code",
   "execution_count": 10,
   "id": "dc671765",
   "metadata": {},
   "outputs": [
    {
     "name": "stdout",
     "output_type": "stream",
     "text": [
      "4 is greater than 2 and 3.\n"
     ]
    }
   ],
   "source": [
    "def greater_check(num1,num2,num3):\n",
    "    if num1>num2 and num1>num3:\n",
    "        print(f'{num1} is greater than {num2} and {num3}.')\n",
    "    elif num2>num1 and num2>num3:\n",
    "        print(f'{num2} is greater than {num1} and {num3}.')\n",
    "    elif num3>num1 and num3>num2:\n",
    "        print(f'{num3} is greater than {num1} and {num2}.')   \n",
    "greater_check(2,3,4)"
   ]
  }
 ],
 "metadata": {
  "kernelspec": {
   "display_name": "Python 3 (ipykernel)",
   "language": "python",
   "name": "python3"
  },
  "language_info": {
   "codemirror_mode": {
    "name": "ipython",
    "version": 3
   },
   "file_extension": ".py",
   "mimetype": "text/x-python",
   "name": "python",
   "nbconvert_exporter": "python",
   "pygments_lexer": "ipython3",
   "version": "3.9.13"
  }
 },
 "nbformat": 4,
 "nbformat_minor": 5
}
