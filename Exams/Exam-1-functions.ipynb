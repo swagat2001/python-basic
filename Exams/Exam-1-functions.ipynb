{
 "cells": [
  {
   "cell_type": "markdown",
   "id": "b40a0a58",
   "metadata": {},
   "source": [
    "# Exam -1 (Answers)\n",
    "\n",
    "\n",
    "1. A) SyntaxError\n",
    "2. A) TypeError\n",
    "3. A) TypeError\n",
    "4. A) NameError\n",
    "5. C) SyntaxError\n",
    "6. A) TypeError\n",
    "7. A) TypeError\n",
    "8. A) ValueError\n",
    "9. C) IndentationError\n",
    "10. A) x is greater than 5\n",
    "11. B) 5\n",
    "12. D) eval() only works with numbers.\n",
    "13. B) Not greater than 5\n",
    "14. A) 10\n",
    "15. a) Divisible by 3 and Odd\n",
    "16. D) SyntaxError\n",
    "17. A) 50\n",
    "18. A) True\n",
    "19. B) Hello\n",
    "World!\n",
    "\n",
    "20. A) Even and greater than 10"
   ]
  },
  {
   "cell_type": "code",
   "execution_count": null,
   "id": "2a3dd0d9",
   "metadata": {},
   "outputs": [],
   "source": []
  }
 ],
 "metadata": {
  "kernelspec": {
   "display_name": "Python 3 (ipykernel)",
   "language": "python",
   "name": "python3"
  },
  "language_info": {
   "codemirror_mode": {
    "name": "ipython",
    "version": 3
   },
   "file_extension": ".py",
   "mimetype": "text/x-python",
   "name": "python",
   "nbconvert_exporter": "python",
   "pygments_lexer": "ipython3",
   "version": "3.9.13"
  }
 },
 "nbformat": 4,
 "nbformat_minor": 5
}
