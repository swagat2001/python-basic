{
 "cells": [
  {
   "cell_type": "markdown",
   "id": "4419273f",
   "metadata": {},
   "source": [
    "1. Data Cleaning: Write a function that takes a string containing unwanted special characters (!@#$%^&*()_+) and removes them. Test it with \"Hello! World@2023#\"."
   ]
  },
  {
   "cell_type": "code",
   "execution_count": 10,
   "id": "5fbf0c6d",
   "metadata": {},
   "outputs": [
    {
     "name": "stdout",
     "output_type": "stream",
     "text": [
      "enter a string to remove special character : Hello! World@2023#\n",
      "Cleaned string is Hello World2023\n"
     ]
    }
   ],
   "source": [
    "import string\n",
    "# dir(string)\n",
    "# string.digits\n",
    "def problem_1(str1):\n",
    "    clean_str = ''\n",
    "    valid_char = string.ascii_letters + string.digits + ' '\n",
    "    for i in str1:\n",
    "        if i in valid_char:\n",
    "            clean_str = clean_str + i\n",
    "    print(f'Cleaned string is {clean_str}')\n",
    "            \n",
    "    \n",
    "problem_1(str1=input('enter a string to remove special character : '))"
   ]
  },
  {
   "cell_type": "markdown",
   "id": "6c9e4993",
   "metadata": {},
   "source": [
    "**Question 1(a): Remove Digits from a String  \n",
    "Write a function that takes a string containing numbers (0-9) and removes all the digits from it. Print the cleaned string inside the function.**\n",
    "\n",
    "**Example:**\n",
    "- **Input: \"H3ll0 W0rld!\"**\n",
    "- **Output: \"Hll Wrld!\"**"
   ]
  },
  {
   "cell_type": "code",
   "execution_count": 13,
   "id": "f456fd9a",
   "metadata": {},
   "outputs": [
    {
     "name": "stdout",
     "output_type": "stream",
     "text": [
      "Enter your string : H3ll0 W0rld!\n",
      "The cleaned string is : Hll Wrld\n"
     ]
    }
   ],
   "source": [
    "import string\n",
    "dir(string)\n",
    "def problem_1a(text):\n",
    "    valid_text = string.ascii_letters + ' '\n",
    "    result = ''\n",
    "    for i in text:\n",
    "        if i in valid_text:\n",
    "            result = result + i\n",
    "    print(f'The cleaned string is : {result}')\n",
    "    \n",
    "problem_1a(text = input('Enter your string : '))"
   ]
  },
  {
   "cell_type": "markdown",
   "id": "1d5b0c5a",
   "metadata": {},
   "source": [
    "**Question 1(b): Keep Only Vowels in a String  \n",
    "Write a function that takes a string and removes all characters except vowels (a, e, i, o, u both lowercase and uppercase). Print the result inside the function.**\n",
    "\n",
    "**Example:**\n",
    "- **Input: \"Beautiful Day!\"**\n",
    "- **Output: \"eauiua\"**"
   ]
  },
  {
   "cell_type": "code",
   "execution_count": 1,
   "id": "9bdd01ef",
   "metadata": {},
   "outputs": [
    {
     "name": "stdout",
     "output_type": "stream",
     "text": [
      "Enter a string : Beautiful Day!\n",
      "The updated string is : eauiua .\n"
     ]
    }
   ],
   "source": [
    "import string\n",
    "dir(string)\n",
    "def problem_1b(text):\n",
    "    vowels = 'aeiou'\n",
    "    result = ''\n",
    "    for i in text:\n",
    "        if i in vowels:\n",
    "            result = result+i\n",
    "    print(f'The updated string is : {result} .')\n",
    "problem_1b(text = input('Enter a string : '))"
   ]
  },
  {
   "cell_type": "markdown",
   "id": "d8b984f4",
   "metadata": {},
   "source": [
    "**Question 1(c): Remove Consonants from a String  \n",
    "Write a function that takes a string and removes all consonants (non-vowel letters). Print the result inside the function.**\n",
    "\n",
    "**Example:**\n",
    "- **Input: \"Python Programming!\"**\n",
    "- **Output: \"o oai!\"**"
   ]
  },
  {
   "cell_type": "code",
   "execution_count": 9,
   "id": "b0d4e970",
   "metadata": {},
   "outputs": [
    {
     "name": "stdout",
     "output_type": "stream",
     "text": [
      "Enter a string : Python Programming!\n",
      "The updated string is : o oai!.\n"
     ]
    }
   ],
   "source": [
    "import string\n",
    "dir(string)\n",
    "def problem_1c(text):\n",
    "    vowels = 'aeiou'\n",
    "    valid_char = vowels + string.punctuation + string.whitespace + ''\n",
    "    result = ''\n",
    "    for i in text:\n",
    "        if i in valid_char:\n",
    "            result = result+i\n",
    "    print(f'The updated string is : {result}.')\n",
    "problem_1c(text = input('Enter a string : '))"
   ]
  },
  {
   "cell_type": "markdown",
   "id": "0f9ea4fd",
   "metadata": {},
   "source": [
    "**Question 1(d): Remove Whitespaces from a String  \n",
    "Write a function that takes a string and removes all spaces (whitespace) from it. Print the cleaned string inside the function.**\n",
    "\n",
    "**Example:**\n",
    "- **Input: \"Hello World 2025!\"**\n",
    "- **Output: \"HelloWorld2025!\"**"
   ]
  },
  {
   "cell_type": "code",
   "execution_count": 11,
   "id": "ee6efb72",
   "metadata": {},
   "outputs": [
    {
     "name": "stdout",
     "output_type": "stream",
     "text": [
      "Enter a string : Hello World 2025!\n",
      "The updated string is : HelloWorld2025!.\n"
     ]
    }
   ],
   "source": [
    "import string\n",
    "dir(string)\n",
    "def problem_1d(text):\n",
    "    valid_char = string.ascii_letters + string.digits + string.punctuation\n",
    "    result = ''\n",
    "    for i in text:\n",
    "        if i in valid_char:\n",
    "            result = result+i\n",
    "    print(f'The updated string is : {result}.')\n",
    "problem_1d(text = input('Enter a string : '))"
   ]
  },
  {
   "cell_type": "markdown",
   "id": "cc4bad55",
   "metadata": {},
   "source": [
    "**Question 1(e): Remove Uppercase Letters from a String  \n",
    "Write a function that takes a string and removes all uppercase letters (A-Z). Print the cleaned string inside the function.**\n",
    "\n",
    "**Example:**\n",
    "- **Input: \"PyThOn Is AwEsOmE!\"**\n",
    "- **Output: \"yhn s wsm!\"**"
   ]
  },
  {
   "cell_type": "code",
   "execution_count": 14,
   "id": "45bba8a2",
   "metadata": {},
   "outputs": [
    {
     "name": "stdout",
     "output_type": "stream",
     "text": [
      "Enter a string : PyThOn Is AwEsOmE!\n",
      "The updated string is : yhn s wsm!.\n"
     ]
    }
   ],
   "source": [
    "import string\n",
    "dir(string)\n",
    "def problem_1e(text):\n",
    "    valid_char = string.ascii_lowercase + string.digits + string.punctuation + string.whitespace + ''\n",
    "    result = ''\n",
    "    for i in text:\n",
    "        if i in valid_char:\n",
    "            result = result+i\n",
    "    print(f'The updated string is : {result}.')\n",
    "problem_1e(text = input('Enter a string : '))"
   ]
  },
  {
   "cell_type": "markdown",
   "id": "79aaa1cf",
   "metadata": {},
   "source": [
    "2. Email Validation: Create a function that validates if a given string is a valid email address. Test with \"test.email@example.com\" and \"invalid-email@.com\"."
   ]
  },
  {
   "cell_type": "code",
   "execution_count": 13,
   "id": "433ed10e",
   "metadata": {},
   "outputs": [
    {
     "name": "stdout",
     "output_type": "stream",
     "text": [
      "ola ola\n"
     ]
    }
   ],
   "source": [
    "# import string\n",
    "# def problem2(email):\n",
    "#     valid_char =  string.ascii_letters\n",
    "str1 = 'ola@ola'\n",
    "# dir(str1)\n",
    "username, domain = str1.split('@')\n",
    "print(username,domain)"
   ]
  },
  {
   "cell_type": "code",
   "execution_count": null,
   "id": "136f9465",
   "metadata": {},
   "outputs": [],
   "source": [
    "import string\n",
    "def problem2(email):\n",
    "    valid_char = string.ascii_letters + string.digits + '@.-_'\n",
    "    \n",
    "    if email.count('@') !=1:\n",
    "        return'invalid email.'\n",
    "        \n",
    "    username,domain = email.split('@')\n",
    "    \n",
    "    if '.' not in username:\n",
    "        return 'not valid'\n",
    "    for i in username:\n",
    "        if i not in valid_char:\n",
    "            print('Invalid')            \n",
    "            break\n",
    "        else:\n",
    "            continue\n",
    "   \n",
    "    if '.' not in domain:\n",
    "        return 'invalid'\n",
    "        \n",
    "    domain_name,extension = domain.split('.')\n",
    "    for i in domain_name:\n",
    "        if i not in string.ascii_lowercase:\n",
    "            break  \n",
    "         \n",
    "        \n",
    "    \n",
    "    "
   ]
  },
  {
   "cell_type": "markdown",
   "id": "e8112009",
   "metadata": {},
   "source": [
    "3. Password Strength Checker: Write a function to check the strength of a password based on the following criteria: length >= 8, contains uppercase and lowercase letters, numbers, and special characters. Example: \"P@ssw0rd123\"."
   ]
  },
  {
   "cell_type": "code",
   "execution_count": null,
   "id": "e23e0cf8",
   "metadata": {},
   "outputs": [],
   "source": []
  },
  {
   "cell_type": "code",
   "execution_count": null,
   "id": "58b36b3d",
   "metadata": {},
   "outputs": [],
   "source": []
  },
  {
   "cell_type": "markdown",
   "id": "8649c480",
   "metadata": {},
   "source": [
    "4. Anagram Checker: Write a function to check if two strings are anagrams of each other. Example: \"listen\" and \"silent\"."
   ]
  },
  {
   "cell_type": "code",
   "execution_count": null,
   "id": "34ef213f",
   "metadata": {},
   "outputs": [],
   "source": []
  },
  {
   "cell_type": "markdown",
   "id": "98091e6c",
   "metadata": {},
   "source": [
    "5. Palindrome Detection: Create a function that checks if a given string is a palindrome. Test with \"madam\" and \"Python\"."
   ]
  },
  {
   "cell_type": "code",
   "execution_count": null,
   "id": "1d8eea22",
   "metadata": {},
   "outputs": [],
   "source": []
  },
  {
   "cell_type": "markdown",
   "id": "cdfd06d5",
   "metadata": {},
   "source": [
    "6. String Compression: Implement a function that compresses a string using the counts of repeated characters. Example: \"aaabbcccc\" should return \"a3b2c4\"."
   ]
  },
  {
   "cell_type": "code",
   "execution_count": 11,
   "id": "51d44249",
   "metadata": {},
   "outputs": [
    {
     "data": {
      "text/plain": [
       "6"
      ]
     },
     "execution_count": 11,
     "metadata": {},
     "output_type": "execute_result"
    }
   ],
   "source": [
    "# def problem6(text,char):\n",
    "#     result\n",
    "\n",
    "str1 = 'hai how are you'\n",
    "str1.find('w')"
   ]
  },
  {
   "cell_type": "markdown",
   "id": "8cba010e",
   "metadata": {},
   "source": [
    "7. Extracting Hashtags: Given a tweet, write a function to extract all hashtags. Example: \"Love #Python and #MachineLearning\" should return ['#Python', '#MachineLearning']."
   ]
  },
  {
   "cell_type": "code",
   "execution_count": null,
   "id": "6028368d",
   "metadata": {},
   "outputs": [],
   "source": []
  },
  {
   "cell_type": "markdown",
   "id": "c972107d",
   "metadata": {},
   "source": [
    "8. Find Longest Word: Write a function to find the longest word in a sentence. Example: \"I love natural language processing\" should return \"processing\"."
   ]
  },
  {
   "cell_type": "code",
   "execution_count": null,
   "id": "e6194a26",
   "metadata": {},
   "outputs": [],
   "source": []
  },
  {
   "cell_type": "markdown",
   "id": "5e931dc3",
   "metadata": {},
   "source": [
    "9. Remove Duplicates: Write a function that removes duplicate characters from a string while maintaining the order. Example: \"mississippi\" should return \"misp\"."
   ]
  },
  {
   "cell_type": "code",
   "execution_count": null,
   "id": "2a2d7e4c",
   "metadata": {},
   "outputs": [],
   "source": []
  },
  {
   "cell_type": "markdown",
   "id": "b418db51",
   "metadata": {},
   "source": [
    "10. Substring Search: Implement a function to find the number of occurrences of a substring in a given string. Example: In \"banana\", the substring \"ana\" appears twice."
   ]
  },
  {
   "cell_type": "code",
   "execution_count": 1,
   "id": "c16b26e2",
   "metadata": {},
   "outputs": [
    {
     "name": "stdout",
     "output_type": "stream",
     "text": [
      "Enter a string : banana\n",
      "Enter the substring you want to search : ana\n",
      "The number of occurance of ana in banana is 1 times.\n"
     ]
    }
   ],
   "source": [
    "def problem10(text,sub_text):\n",
    "    countt = text.count(sub_text)\n",
    "    print(f'The number of occurance of {sub_text} in {text} is {countt} times.')\n",
    "problem10(text = input('Enter a string : '),\n",
    "          sub_text = input('Enter the substring you want to search : '))"
   ]
  }
 ],
 "metadata": {
  "kernelspec": {
   "display_name": "Python 3",
   "language": "python",
   "name": "python3"
  },
  "language_info": {
   "codemirror_mode": {
    "name": "ipython",
    "version": 3
   },
   "file_extension": ".py",
   "mimetype": "text/x-python",
   "name": "python",
   "nbconvert_exporter": "python",
   "pygments_lexer": "ipython3",
   "version": "3.10.8"
  }
 },
 "nbformat": 4,
 "nbformat_minor": 5
}
