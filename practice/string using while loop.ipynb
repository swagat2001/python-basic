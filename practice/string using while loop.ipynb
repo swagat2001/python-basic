{
 "cells": [
  {
   "cell_type": "markdown",
   "id": "71abae31",
   "metadata": {},
   "source": [
    "# Basics"
   ]
  },
  {
   "cell_type": "markdown",
   "id": "b5f2fc73",
   "metadata": {},
   "source": [
    "1. Print Characters One by One\n",
    "- Write a program that prints each character of a given string using a while loop."
   ]
  },
  {
   "cell_type": "code",
   "execution_count": 7,
   "id": "68487017",
   "metadata": {},
   "outputs": [
    {
     "name": "stdout",
     "output_type": "stream",
     "text": [
      "swagat\n",
      "{0, 's'} {1, 'w'} {2, 'a'} {3, 'g'} {4, 'a'} {'t', 5} "
     ]
    }
   ],
   "source": [
    "name = input()\n",
    "i = 0\n",
    "while True:\n",
    "    print({i,name[i]},end = ' ')\n",
    "    i+=1\n",
    "    if i == len(name):\n",
    "        break"
   ]
  },
  {
   "cell_type": "markdown",
   "id": "9fb0d484",
   "metadata": {},
   "source": [
    "2. Reverse a String\n",
    "- Write a program that takes a string as input and prints it in reverse using a while loop."
   ]
  },
  {
   "cell_type": "code",
   "execution_count": 9,
   "id": "b8154f66",
   "metadata": {},
   "outputs": [
    {
     "name": "stdout",
     "output_type": "stream",
     "text": [
      "swagat\n",
      "t a g a w s "
     ]
    }
   ],
   "source": [
    "name = input()\n",
    "i = len(name)-1\n",
    "while True:\n",
    "    print(name[i],end=\" \")\n",
    "    i-=1\n",
    "    if i== -1:\n",
    "        break"
   ]
  },
  {
   "cell_type": "markdown",
   "id": "2f4299fe",
   "metadata": {},
   "source": [
    "3. Count Vowels in a String\n",
    "- Write a program that counts and prints the number of vowels (a, e, i, o, u) in a given string using a while loop."
   ]
  },
  {
   "cell_type": "code",
   "execution_count": 12,
   "id": "e77013b4",
   "metadata": {},
   "outputs": [
    {
     "name": "stdout",
     "output_type": "stream",
     "text": [
      "olaolaiou\n",
      "7\n"
     ]
    }
   ],
   "source": [
    "name = input()\n",
    "vowels = 'aeiou'\n",
    "count = 0\n",
    "i = 0\n",
    "while i<len(name):\n",
    "    if name[i] in vowels:\n",
    "        count+=1\n",
    "        i+=1\n",
    "    else:\n",
    "        i+=1\n",
    "print(count)"
   ]
  },
  {
   "cell_type": "markdown",
   "id": "30072a56",
   "metadata": {},
   "source": [
    "4. Count the Length of a String\n",
    "- Write a program to find the length of a given string without using len(), only with a while loop."
   ]
  },
  {
   "cell_type": "code",
   "execution_count": 15,
   "id": "27a5f35b",
   "metadata": {},
   "outputs": [
    {
     "name": "stdout",
     "output_type": "stream",
     "text": [
      "swagat mohanty\n",
      "14\n"
     ]
    }
   ],
   "source": [
    "name = input()\n",
    "count=0\n",
    "i = 0\n",
    "while True:\n",
    "    count+=1\n",
    "    i+=1\n",
    "    if i==len(name):\n",
    "        break\n",
    "print(count)"
   ]
  },
  {
   "cell_type": "markdown",
   "id": "d2d38de6",
   "metadata": {},
   "source": [
    "5. Print Characters at Even Indexes\n",
    "- Write a program that prints characters present at even indexes using a while loop."
   ]
  },
  {
   "cell_type": "code",
   "execution_count": 17,
   "id": "0fa2e347",
   "metadata": {},
   "outputs": [
    {
     "name": "stdout",
     "output_type": "stream",
     "text": [
      "swagat mohanty\n",
      "s\n",
      "a\n",
      "a\n",
      " \n",
      "o\n",
      "a\n",
      "t\n"
     ]
    }
   ],
   "source": [
    "name = input()\n",
    "i = 0\n",
    "while i<len(name):\n",
    "    if i%2==0:\n",
    "        print(name[i])\n",
    "        i+=1\n",
    "    else:\n",
    "        i+=1"
   ]
  },
  {
   "cell_type": "markdown",
   "id": "78f3288e",
   "metadata": {},
   "source": [
    "6. Print Characters at Odd Indexes\n",
    "- Modify the above program to print characters at odd indexes instead."
   ]
  },
  {
   "cell_type": "code",
   "execution_count": 21,
   "id": "83974c28",
   "metadata": {},
   "outputs": [
    {
     "name": "stdout",
     "output_type": "stream",
     "text": [
      "swagat mohanty\n",
      "w g t m h n y "
     ]
    }
   ],
   "source": [
    "name = input()\n",
    "i = 0\n",
    "while i<len(name):\n",
    "    if i%2!=0:\n",
    "        print(name[i],end=' ')\n",
    "        i+=1\n",
    "    else:\n",
    "        i+=1"
   ]
  },
  {
   "cell_type": "markdown",
   "id": "d0ca9a7a",
   "metadata": {},
   "source": [
    "7. Find a Character in a String\n",
    "- Take a string and a character as input, then use a while loop to find its first occurrence index."
   ]
  },
  {
   "cell_type": "code",
   "execution_count": 2,
   "id": "c6f3482e",
   "metadata": {},
   "outputs": [
    {
     "name": "stdout",
     "output_type": "stream",
     "text": [
      "python naresh IT\n",
      "n\n",
      "5\n"
     ]
    }
   ],
   "source": [
    "name = input()\n",
    "find = input()\n",
    "i = 0\n",
    "while i<len(name):\n",
    "    if name[i] == find:\n",
    "        print(i)\n",
    "        break\n",
    "    i+=1"
   ]
  },
  {
   "cell_type": "markdown",
   "id": "bbb84196",
   "metadata": {},
   "source": [
    "8. Count a Specific Character in a String\n",
    "- Write a program that counts how many times a given character appears in a string using a while loop."
   ]
  },
  {
   "cell_type": "code",
   "execution_count": 4,
   "id": "df300204",
   "metadata": {},
   "outputs": [
    {
     "name": "stdout",
     "output_type": "stream",
     "text": [
      "swagatmohanty\n",
      "a\n",
      "3\n"
     ]
    }
   ],
   "source": [
    "name = input()\n",
    "find = input()\n",
    "count = 0\n",
    "i = 0\n",
    "while i<len(name):\n",
    "    if find == name[i]:\n",
    "        count+=1\n",
    "    i+=1\n",
    "print(count)"
   ]
  },
  {
   "cell_type": "markdown",
   "id": "712d42e7",
   "metadata": {},
   "source": [
    "9. Print String Without Last Character\n",
    "- Take a string as input and print it without the last character using a while loop and indexing."
   ]
  },
  {
   "cell_type": "code",
   "execution_count": null,
   "id": "545a5616",
   "metadata": {},
   "outputs": [],
   "source": []
  },
  {
   "cell_type": "markdown",
   "id": "41c25556",
   "metadata": {},
   "source": [
    "4. Character Frequency Counter\n",
    "- Take a string as input and count the occurrences of each character using a while loop."
   ]
  },
  {
   "cell_type": "code",
   "execution_count": null,
   "id": "1d9237f9",
   "metadata": {},
   "outputs": [],
   "source": [
    "name = 'NareshIT'\n",
    "count = 0\n",
    "name1 = len(name)\n"
   ]
  },
  {
   "cell_type": "markdown",
   "id": "e0761883",
   "metadata": {},
   "source": [
    "5. Remove Spaces from a String\n",
    "\n",
    "- Write a program that removes all spaces from a given string using a while loop."
   ]
  },
  {
   "cell_type": "code",
   "execution_count": null,
   "id": "eb976602",
   "metadata": {},
   "outputs": [],
   "source": [
    "name = input()\n",
    "i = len(name)\n",
    "while True:\n",
    "    if name[i] == ' ':"
   ]
  },
  {
   "cell_type": "markdown",
   "id": "dfd8496f",
   "metadata": {},
   "source": [
    "6. Print Each Character Separately\n",
    "- Given a string, print each character on a new line using a while loop."
   ]
  },
  {
   "cell_type": "code",
   "execution_count": 1,
   "id": "26ca85a6",
   "metadata": {},
   "outputs": [
    {
     "name": "stdout",
     "output_type": "stream",
     "text": [
      "swagat\n",
      "s w a g a t "
     ]
    }
   ],
   "source": [
    "name = input()\n",
    "i = 0\n",
    "while True:\n",
    "    print(name[i],end=' ')\n",
    "    i+=1\n",
    "    if i==len(name):\n",
    "        break"
   ]
  },
  {
   "cell_type": "markdown",
   "id": "fa12ca61",
   "metadata": {},
   "source": [
    "7. Check for a Substring\n",
    "- Write a program that checks if a substring exists in a given string using a while loop."
   ]
  },
  {
   "cell_type": "code",
   "execution_count": null,
   "id": "32c2948e",
   "metadata": {},
   "outputs": [],
   "source": []
  },
  {
   "cell_type": "markdown",
   "id": "5df7e81a",
   "metadata": {},
   "source": [
    "8. Replace a Character in a String\n",
    "- Take a string and replace all occurrences of a specific character with another using a while loop."
   ]
  },
  {
   "cell_type": "code",
   "execution_count": null,
   "id": "f6f12cf9",
   "metadata": {},
   "outputs": [],
   "source": []
  },
  {
   "cell_type": "markdown",
   "id": "945826f7",
   "metadata": {},
   "source": [
    "9. Find the First Occurrence of a Character\n",
    "- Write a program to find the first occurrence index of a given character in a string using a while loop."
   ]
  },
  {
   "cell_type": "code",
   "execution_count": null,
   "id": "29f89b9d",
   "metadata": {},
   "outputs": [],
   "source": []
  },
  {
   "cell_type": "markdown",
   "id": "6754b35d",
   "metadata": {},
   "source": [
    "10. Alternate Character Printing\n",
    "- Print only alternate characters from a given string using a while loop."
   ]
  },
  {
   "cell_type": "code",
   "execution_count": null,
   "id": "28c85821",
   "metadata": {},
   "outputs": [],
   "source": []
  },
  {
   "cell_type": "markdown",
   "id": "bd9bc466",
   "metadata": {},
   "source": [
    "11. Palindrome Check\n",
    "- Write a program that checks if a given string is a palindrome using a while loop."
   ]
  },
  {
   "cell_type": "code",
   "execution_count": null,
   "id": "4361775e",
   "metadata": {},
   "outputs": [],
   "source": []
  }
 ],
 "metadata": {
  "kernelspec": {
   "display_name": "Python 3 (ipykernel)",
   "language": "python",
   "name": "python3"
  },
  "language_info": {
   "codemirror_mode": {
    "name": "ipython",
    "version": 3
   },
   "file_extension": ".py",
   "mimetype": "text/x-python",
   "name": "python",
   "nbconvert_exporter": "python",
   "pygments_lexer": "ipython3",
   "version": "3.9.13"
  }
 },
 "nbformat": 4,
 "nbformat_minor": 5
}
