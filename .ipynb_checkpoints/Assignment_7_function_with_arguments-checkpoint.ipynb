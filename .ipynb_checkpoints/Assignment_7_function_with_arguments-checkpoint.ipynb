{
 "cells": [
  {
   "cell_type": "code",
   "execution_count": 4,
   "id": "e2b830fc",
   "metadata": {},
   "outputs": [
    {
     "name": "stdout",
     "output_type": "stream",
     "text": [
      "The average of 10, 20 and 30 is 20.0\n",
      "The average of 10, 20 and 30 is 20.0 .\n"
     ]
    }
   ],
   "source": [
    "# q1\n",
    "def average(n1,n2,n3):\n",
    "    avg = round((n1+n2+n3)/3,2)\n",
    "    print(f'The average of {n1}, {n2} and {n3} is {avg}')\n",
    "    print('The average of {}, {} and {} is {} .'.format(n1,n2,n3,avg))\n",
    "average(10,20,30)"
   ]
  },
  {
   "cell_type": "code",
   "execution_count": 7,
   "id": "8a6a1d9a",
   "metadata": {},
   "outputs": [
    {
     "name": "stdout",
     "output_type": "stream",
     "text": [
      "The average of 10, 20 and 30 is 20.0\n"
     ]
    }
   ],
   "source": [
    "# q1\n",
    "def average1(n1,n2,n3):\n",
    "    try:\n",
    "        avg = round((n1+n2+n3)/3,2)\n",
    "        print(f'The average of {n1}, {n2} and {n3} is {avg}')\n",
    "    except Exception as e:\n",
    "        print(e)        \n",
    "average1(10,20,30)"
   ]
  },
  {
   "cell_type": "code",
   "execution_count": 8,
   "id": "963f0d3f",
   "metadata": {},
   "outputs": [
    {
     "name": "stdout",
     "output_type": "stream",
     "text": [
      "name 'avgs' is not defined\n"
     ]
    }
   ],
   "source": [
    "# q1\n",
    "def average2(n1,n2,n3):\n",
    "    try:\n",
    "        avg = round((n1+n2+n3)/3,2)\n",
    "        print(f'The average of {n1}, {n2} and {n3} is {avgs}')\n",
    "    except Exception as e:\n",
    "        print(e)        \n",
    "average2(10,20,30)"
   ]
  },
  {
   "cell_type": "code",
   "execution_count": 9,
   "id": "7c3de8a6",
   "metadata": {},
   "outputs": [
    {
     "name": "stdout",
     "output_type": "stream",
     "text": [
      "Area of the circle is 314.16\n"
     ]
    }
   ],
   "source": [
    "# q2\n",
    "import math\n",
    "def area_of_circle(radius):\n",
    "    area = round(math.pi*radius*radius,2)\n",
    "    print(f'Area of the circle is {area}')\n",
    "area_of_circle(10)"
   ]
  },
  {
   "cell_type": "code",
   "execution_count": 13,
   "id": "718c961b",
   "metadata": {},
   "outputs": [
    {
     "name": "stdout",
     "output_type": "stream",
     "text": [
      "Area of the circle is 31415.93\n"
     ]
    }
   ],
   "source": [
    "# q2\n",
    "def area_of_circle1(radius):\n",
    "    try:\n",
    "        area = round(math.pi*radius*radius,2)\n",
    "        print(f'Area of the circle is {area}')\n",
    "    except Exception as e:\n",
    "        print(e)\n",
    "area_of_circle1(100)"
   ]
  },
  {
   "cell_type": "code",
   "execution_count": 14,
   "id": "7fef3db8",
   "metadata": {},
   "outputs": [
    {
     "name": "stdout",
     "output_type": "stream",
     "text": [
      "name 'radiuss' is not defined\n"
     ]
    }
   ],
   "source": [
    "# q2\n",
    "def area_of_circle2(radius):\n",
    "    try:\n",
    "        area = round(math.pi*radiuss*radius,2)\n",
    "        print(f'Area of the circle is {area}')\n",
    "    except Exception as e:\n",
    "        print(e)\n",
    "area_of_circle2(100)"
   ]
  },
  {
   "cell_type": "code",
   "execution_count": 15,
   "id": "5ebac49d",
   "metadata": {},
   "outputs": [
    {
     "name": "stdout",
     "output_type": "stream",
     "text": [
      "The area of the triangle is : 500.0\n"
     ]
    }
   ],
   "source": [
    "# q3\n",
    "def triangle(height,breadth):\n",
    "    area = round(0.5*height*breadth,2)\n",
    "    print(f'The area of the triangle is : {area}')\n",
    "triangle(100,10)"
   ]
  },
  {
   "cell_type": "code",
   "execution_count": 20,
   "id": "09ed22de",
   "metadata": {},
   "outputs": [
    {
     "name": "stdout",
     "output_type": "stream",
     "text": [
      "name 'breadths' is not defined\n"
     ]
    }
   ],
   "source": [
    "# q3\n",
    "def triangle1(height,breadth):\n",
    "    try:\n",
    "        area = round(0.5*height*breadths,2)\n",
    "        print(f'The area of the triangle is : {area}')\n",
    "    except Exception as e:\n",
    "        print(e)\n",
    "triangle1(100,10)"
   ]
  },
  {
   "cell_type": "code",
   "execution_count": 21,
   "id": "9c136c14",
   "metadata": {},
   "outputs": [
    {
     "name": "stdout",
     "output_type": "stream",
     "text": [
      "The area of the triangle is : 500.0\n"
     ]
    }
   ],
   "source": [
    "# q3\n",
    "def triangle2(height,breadth):\n",
    "    try:\n",
    "        area = round(0.5*height*breadth,2)\n",
    "        print(f'The area of the triangle is : {area}')\n",
    "    except Exception as e:\n",
    "        print(e)\n",
    "triangle2(100,10)"
   ]
  },
  {
   "cell_type": "code",
   "execution_count": 25,
   "id": "ed93ce17",
   "metadata": {},
   "outputs": [
    {
     "name": "stdout",
     "output_type": "stream",
     "text": [
      "Total bill is 1500\n"
     ]
    }
   ],
   "source": [
    "# q4\n",
    "def total_bill(bill_amount,tip_amount):\n",
    "    total = bill_amount+tip_amount\n",
    "    print(f'Total bill is {total}')\n",
    "total_bill(1000,500)"
   ]
  },
  {
   "cell_type": "code",
   "execution_count": 26,
   "id": "6ce1a444",
   "metadata": {},
   "outputs": [
    {
     "name": "stdout",
     "output_type": "stream",
     "text": [
      "Total bill is 1500\n"
     ]
    }
   ],
   "source": [
    "# q4\n",
    "def total_bill1(bill_amount,tip_amount):\n",
    "    try:\n",
    "        total = bill_amount+tip_amount\n",
    "        print(f'Total bill is {total}')\n",
    "    except Exception as e:\n",
    "        print(e)\n",
    "total_bill1(1000,500)    "
   ]
  },
  {
   "cell_type": "code",
   "execution_count": 27,
   "id": "a1c5ec4e",
   "metadata": {},
   "outputs": [
    {
     "name": "stdout",
     "output_type": "stream",
     "text": [
      "name 'tip_amounts' is not defined\n"
     ]
    }
   ],
   "source": [
    "# q4\n",
    "def total_bill2(bill_amount,tip_amount):\n",
    "    try:\n",
    "        total = bill_amount+tip_amounts\n",
    "        print(f'Total bill is {total}')\n",
    "    except Exception as e:\n",
    "        print(e)\n",
    "total_bill2(1000,500)    "
   ]
  },
  {
   "cell_type": "code",
   "execution_count": 28,
   "id": "adba3c23",
   "metadata": {},
   "outputs": [
    {
     "name": "stdout",
     "output_type": "stream",
     "text": [
      "Area of the rectangle of length 10 and breadth 20 is 200\n"
     ]
    }
   ],
   "source": [
    "# q5\n",
    "def rectangle(length,breadth):\n",
    "    area = round(length*breadth,2)\n",
    "    print(f'Area of the rectangle of length {length} and breadth {breadth} is {area} ,')\n",
    "rectangle(10,20)"
   ]
  },
  {
   "cell_type": "code",
   "execution_count": 29,
   "id": "3c5fdaeb",
   "metadata": {},
   "outputs": [
    {
     "name": "stdout",
     "output_type": "stream",
     "text": [
      "Area of the rectangle of length 100 and breadth 20 is 2000 .\n"
     ]
    }
   ],
   "source": [
    "# q5\n",
    "def rectangle1(length,breadth):\n",
    "    try:\n",
    "        area = round(length*breadth,2)\n",
    "        print(f'Area of the rectangle of length {length} and breadth {breadth} is {area} .')\n",
    "    except Exception as e:\n",
    "        print(e)\n",
    "rectangle1(100,20)"
   ]
  },
  {
   "cell_type": "code",
   "execution_count": 30,
   "id": "4f225457",
   "metadata": {},
   "outputs": [
    {
     "name": "stdout",
     "output_type": "stream",
     "text": [
      "name 'breadths' is not defined\n"
     ]
    }
   ],
   "source": [
    "# q5\n",
    "def rectangle1(length,breadth):\n",
    "    try:\n",
    "        area = round(length*breadths,2)\n",
    "        print(f'Area of the rectangle of length {length} and breadth {breadth} is {area} .')\n",
    "    except Exception as e:\n",
    "        print(e)\n",
    "rectangle1(100,20)"
   ]
  },
  {
   "cell_type": "code",
   "execution_count": 35,
   "id": "9635abb0",
   "metadata": {},
   "outputs": [
    {
     "name": "stdout",
     "output_type": "stream",
     "text": [
      "87 is an odd number .\n"
     ]
    }
   ],
   "source": [
    "# q6\n",
    "def num_check(num):\n",
    "    if num%2==0:\n",
    "        print(f'{num} is a even number .')\n",
    "    else:\n",
    "        print(f'{num} is an odd number .')\n",
    "num_check(87)"
   ]
  },
  {
   "cell_type": "code",
   "execution_count": 37,
   "id": "82e6ecad",
   "metadata": {},
   "outputs": [
    {
     "name": "stdout",
     "output_type": "stream",
     "text": [
      "88 is a even number .\n"
     ]
    }
   ],
   "source": [
    "# q6\n",
    "def num_check2(num):\n",
    "    try:\n",
    "        if num%2==0:\n",
    "            print(f'{num} is a even number .')\n",
    "        else:\n",
    "            print(f'{num} is an odd number .')\n",
    "    except Exception as e:\n",
    "        print(e)\n",
    "num_check2(88)"
   ]
  },
  {
   "cell_type": "code",
   "execution_count": null,
   "id": "724dcf02",
   "metadata": {},
   "outputs": [],
   "source": []
  },
  {
   "cell_type": "code",
   "execution_count": 31,
   "id": "7b005e25",
   "metadata": {},
   "outputs": [
    {
     "name": "stdout",
     "output_type": "stream",
     "text": [
      "100 is greater than 20 .\n"
     ]
    }
   ],
   "source": [
    "# q7\n",
    "def check(num1,num2):\n",
    "    if num1>num2:\n",
    "        print(f'{num1} is greater than {num2} .')\n",
    "    else:\n",
    "        print(f'{num2} is greater than {num1} .')\n",
    "check(100,20)"
   ]
  },
  {
   "cell_type": "code",
   "execution_count": 32,
   "id": "e70e6698",
   "metadata": {},
   "outputs": [
    {
     "name": "stdout",
     "output_type": "stream",
     "text": [
      "90 is greater than 45 .\n"
     ]
    }
   ],
   "source": [
    "# q7\n",
    "def check1(num1,num2):\n",
    "    try:\n",
    "        if num1>num2:\n",
    "            print(f'{num1} is greater than {num2} .')\n",
    "        else:\n",
    "            print(f'{num2} is greater than {num1}')\n",
    "    except Exception as e:\n",
    "        print(e)\n",
    "check1(90,45)"
   ]
  },
  {
   "cell_type": "code",
   "execution_count": 33,
   "id": "667fe905",
   "metadata": {},
   "outputs": [
    {
     "name": "stdout",
     "output_type": "stream",
     "text": [
      "name 'num2s' is not defined\n"
     ]
    }
   ],
   "source": [
    "# q7\n",
    "def check2(num1,num2):\n",
    "    try:\n",
    "        if num1>num2s:\n",
    "            print(f'{num1} is greater than {num2} .')\n",
    "        else:\n",
    "            print(f'{num2} is greater than {num1}')\n",
    "    except Exception as e:\n",
    "        print(e)\n",
    "check2(90,45)"
   ]
  },
  {
   "cell_type": "code",
   "execution_count": null,
   "id": "37cd5563",
   "metadata": {},
   "outputs": [],
   "source": [
    "# q8\n"
   ]
  }
 ],
 "metadata": {
  "kernelspec": {
   "display_name": "Python 3 (ipykernel)",
   "language": "python",
   "name": "python3"
  },
  "language_info": {
   "codemirror_mode": {
    "name": "ipython",
    "version": 3
   },
   "file_extension": ".py",
   "mimetype": "text/x-python",
   "name": "python",
   "nbconvert_exporter": "python",
   "pygments_lexer": "ipython3",
   "version": "3.9.13"
  }
 },
 "nbformat": 4,
 "nbformat_minor": 5
}
