{
 "cells": [
  {
   "cell_type": "markdown",
   "id": "e9efbe6c",
   "metadata": {},
   "source": [
    "# Data Types\n",
    "- Integer\n",
    "- float\n",
    "- string\n",
    "- boolean\n",
    "- list\n",
    "- dictionary\n",
    "- tuple\n",
    "- set\n",
    "- range\n",
    "- byte\n",
    "- bytearray\n",
    "- memoryview\n",
    "- frozen set\n",
    "- Nontype\n",
    "- Complex"
   ]
  },
  {
   "cell_type": "markdown",
   "id": "f5d51cfd",
   "metadata": {},
   "source": [
    "# Important Notes\n",
    "- Python basic level\n",
    "\n",
    "    - variables\n",
    "    - data types\n",
    "    - how to convert one data type to another type (TYpecasting)\n",
    "    - basic codes\n",
    "    - conditional statements\n",
    "    - functions\n",
    "    - try-except\n",
    "    - loops(for + while)\n",
    "- Python Intermediate level\n",
    "    - Strings\n",
    "    - List\n",
    "    - Dictionary\n",
    "    - Tuple\n",
    "    - Sets\n",
    "    - File handling\n",
    "    - Lambda functions\n",
    "- Python Advance level\n",
    "    - OOPS concept\n",
    "_______________________________________________________________\n",
    "\n",
    "- python + statistics = EDA\n",
    "- python + ML = model development\n",
    "- python + DL\n",
    "- python + NLP\n",
    "- python + GenAI\n",
    "- python + AI agents"
   ]
  },
  {
   "cell_type": "code",
   "execution_count": null,
   "id": "4f098163",
   "metadata": {},
   "outputs": [],
   "source": []
  }
 ],
 "metadata": {
  "kernelspec": {
   "display_name": "Python 3 (ipykernel)",
   "language": "python",
   "name": "python3"
  },
  "language_info": {
   "codemirror_mode": {
    "name": "ipython",
    "version": 3
   },
   "file_extension": ".py",
   "mimetype": "text/x-python",
   "name": "python",
   "nbconvert_exporter": "python",
   "pygments_lexer": "ipython3",
   "version": "3.9.13"
  }
 },
 "nbformat": 4,
 "nbformat_minor": 5
}
