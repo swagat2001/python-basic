{
 "cells": [
  {
   "cell_type": "code",
   "execution_count": 5,
   "id": "8c1a5046",
   "metadata": {},
   "outputs": [],
   "source": [
    "number = 100  # hard coding\n",
    "# I want to take a number from user"
   ]
  },
  {
   "cell_type": "markdown",
   "id": "78b5a9f2",
   "metadata": {},
   "source": [
    "**Input**"
   ]
  },
  {
   "cell_type": "code",
   "execution_count": 6,
   "id": "1a1104f2",
   "metadata": {},
   "outputs": [
    {
     "data": {
      "text/plain": [
       "<bound method Kernel.raw_input of <ipykernel.ipkernel.IPythonKernel object at 0x00000223F78FE160>>"
      ]
     },
     "execution_count": 6,
     "metadata": {},
     "output_type": "execute_result"
    }
   ],
   "source": [
    "input"
   ]
  },
  {
   "cell_type": "code",
   "execution_count": 7,
   "id": "f6181004",
   "metadata": {},
   "outputs": [
    {
     "data": {
      "text/plain": [
       "<function print>"
      ]
     },
     "execution_count": 7,
     "metadata": {},
     "output_type": "execute_result"
    }
   ],
   "source": [
    "print"
   ]
  },
  {
   "cell_type": "code",
   "execution_count": 8,
   "id": "7e79d37e",
   "metadata": {},
   "outputs": [
    {
     "data": {
      "text/plain": [
       "type"
      ]
     },
     "execution_count": 8,
     "metadata": {},
     "output_type": "execute_result"
    }
   ],
   "source": [
    "type"
   ]
  },
  {
   "cell_type": "code",
   "execution_count": 9,
   "id": "da976604",
   "metadata": {},
   "outputs": [
    {
     "name": "stdout",
     "output_type": "stream",
     "text": [
      "100\n"
     ]
    },
    {
     "data": {
      "text/plain": [
       "'100'"
      ]
     },
     "execution_count": 9,
     "metadata": {},
     "output_type": "execute_result"
    }
   ],
   "source": [
    "input()"
   ]
  },
  {
   "cell_type": "code",
   "execution_count": 10,
   "id": "c12cc7ed",
   "metadata": {},
   "outputs": [
    {
     "name": "stdout",
     "output_type": "stream",
     "text": [
      "10000\n"
     ]
    },
    {
     "data": {
      "text/plain": [
       "'10000'"
      ]
     },
     "execution_count": 10,
     "metadata": {},
     "output_type": "execute_result"
    }
   ],
   "source": [
    "input()"
   ]
  },
  {
   "cell_type": "code",
   "execution_count": 11,
   "id": "df3da477",
   "metadata": {},
   "outputs": [
    {
     "name": "stdout",
     "output_type": "stream",
     "text": [
      "Naresh IT\n"
     ]
    },
    {
     "data": {
      "text/plain": [
       "'Naresh IT'"
      ]
     },
     "execution_count": 11,
     "metadata": {},
     "output_type": "execute_result"
    }
   ],
   "source": [
    "input()"
   ]
  },
  {
   "cell_type": "code",
   "execution_count": 12,
   "id": "be309e9e",
   "metadata": {},
   "outputs": [
    {
     "name": "stdout",
     "output_type": "stream",
     "text": [
      "10\n",
      "20\n",
      "30\n"
     ]
    },
    {
     "data": {
      "text/plain": [
       "'30'"
      ]
     },
     "execution_count": 12,
     "metadata": {},
     "output_type": "execute_result"
    }
   ],
   "source": [
    "input()\n",
    "input()\n",
    "input()"
   ]
  },
  {
   "cell_type": "markdown",
   "id": "b4fa7788",
   "metadata": {},
   "source": [
    "**Note**\n",
    "\n",
    "- if you ,iss brackets then **bound method will display**\n",
    "- also sometimes **function display**\n",
    "- whenever if you see bound method or function this indicates we are missing brackets"
   ]
  },
  {
   "cell_type": "code",
   "execution_count": 13,
   "id": "fc4e9aba",
   "metadata": {},
   "outputs": [
    {
     "data": {
      "text/plain": [
       "<bound method Kernel.raw_input of <ipykernel.ipkernel.IPythonKernel object at 0x00000223F78FE160>>"
      ]
     },
     "execution_count": 13,
     "metadata": {},
     "output_type": "execute_result"
    }
   ],
   "source": [
    "input"
   ]
  },
  {
   "cell_type": "code",
   "execution_count": 14,
   "id": "8fc1246f",
   "metadata": {},
   "outputs": [
    {
     "name": "stdout",
     "output_type": "stream",
     "text": [
      "10000\n"
     ]
    },
    {
     "data": {
      "text/plain": [
       "'10000'"
      ]
     },
     "execution_count": 14,
     "metadata": {},
     "output_type": "execute_result"
    }
   ],
   "source": [
    "input()"
   ]
  },
  {
   "cell_type": "markdown",
   "id": "2bc73f36",
   "metadata": {},
   "source": [
    "**Case-2**"
   ]
  },
  {
   "cell_type": "code",
   "execution_count": 16,
   "id": "d3c52892",
   "metadata": {},
   "outputs": [
    {
     "name": "stdout",
     "output_type": "stream",
     "text": [
      "Enter the number1 :100\n"
     ]
    },
    {
     "data": {
      "text/plain": [
       "'100'"
      ]
     },
     "execution_count": 16,
     "metadata": {},
     "output_type": "execute_result"
    }
   ],
   "source": [
    "input('Enter the number1 :')"
   ]
  },
  {
   "cell_type": "code",
   "execution_count": 17,
   "id": "fb151101",
   "metadata": {},
   "outputs": [
    {
     "name": "stdout",
     "output_type": "stream",
     "text": [
      "Enter your name : Swagat\n"
     ]
    },
    {
     "data": {
      "text/plain": [
       "'Swagat'"
      ]
     },
     "execution_count": 17,
     "metadata": {},
     "output_type": "execute_result"
    }
   ],
   "source": [
    "input('Enter your name : ')"
   ]
  },
  {
   "cell_type": "code",
   "execution_count": 18,
   "id": "801db647",
   "metadata": {},
   "outputs": [
    {
     "name": "stdout",
     "output_type": "stream",
     "text": [
      "Enter the name : Swagat\n"
     ]
    },
    {
     "data": {
      "text/plain": [
       "'Swagat'"
      ]
     },
     "execution_count": 18,
     "metadata": {},
     "output_type": "execute_result"
    }
   ],
   "source": [
    "input(\"Enter the name : \")"
   ]
  },
  {
   "cell_type": "code",
   "execution_count": 19,
   "id": "1382221f",
   "metadata": {},
   "outputs": [
    {
     "name": "stdout",
     "output_type": "stream",
     "text": [
      "24\n",
      "Enter the nameswagat\n"
     ]
    },
    {
     "data": {
      "text/plain": [
       "'swagat'"
      ]
     },
     "execution_count": 19,
     "metadata": {},
     "output_type": "execute_result"
    }
   ],
   "source": [
    "input()\n",
    "input('Enter the name')"
   ]
  },
  {
   "cell_type": "code",
   "execution_count": 21,
   "id": "0069269e",
   "metadata": {},
   "outputs": [
    {
     "name": "stdout",
     "output_type": "stream",
     "text": [
      "Enter a number : 100\n"
     ]
    }
   ],
   "source": [
    "n1 = input('Enter a number : ')"
   ]
  },
  {
   "cell_type": "code",
   "execution_count": 25,
   "id": "0909b951",
   "metadata": {},
   "outputs": [
    {
     "name": "stdout",
     "output_type": "stream",
     "text": [
      "Enter the number for n1 : 20\n",
      "Enter the number for n2 : 30\n"
     ]
    },
    {
     "data": {
      "text/plain": [
       "'2030'"
      ]
     },
     "execution_count": 25,
     "metadata": {},
     "output_type": "execute_result"
    }
   ],
   "source": [
    "n1 = input('Enter the number for n1 : ')\n",
    "n2 = input('Enter the number for n2 : ')\n",
    "add = n1 + n2\n",
    "add"
   ]
  },
  {
   "cell_type": "markdown",
   "id": "7b537379",
   "metadata": {},
   "source": [
    "- whenever we enter a value using input by default it is consider as string type\n",
    "- for numbers we need to type cast either integer or float"
   ]
  },
  {
   "cell_type": "code",
   "execution_count": 1,
   "id": "4cfa72a9",
   "metadata": {},
   "outputs": [
    {
     "data": {
      "text/plain": [
       "300"
      ]
     },
     "execution_count": 1,
     "metadata": {},
     "output_type": "execute_result"
    }
   ],
   "source": [
    "n1 = int('100')\n",
    "n2 = int('200')\n",
    "n1 +n2"
   ]
  },
  {
   "cell_type": "code",
   "execution_count": 2,
   "id": "5b60a7e0",
   "metadata": {},
   "outputs": [
    {
     "name": "stdout",
     "output_type": "stream",
     "text": [
      "Enter the number for n1 : 200\n",
      "Enter the number for n2 : 300\n"
     ]
    },
    {
     "data": {
      "text/plain": [
       "500"
      ]
     },
     "execution_count": 2,
     "metadata": {},
     "output_type": "execute_result"
    }
   ],
   "source": [
    "n1 = int(input('Enter the number for n1 : '))\n",
    "n2 = int(input('Enter the number for n2 : '))\n",
    "add = n1 + n2\n",
    "add"
   ]
  },
  {
   "cell_type": "code",
   "execution_count": 3,
   "id": "25f53aa4",
   "metadata": {},
   "outputs": [
    {
     "name": "stdout",
     "output_type": "stream",
     "text": [
      "Enter the number for n1 : 20\n",
      "Enter the number for n2 : 30\n",
      "The addition of 20 and 30 is 50\n"
     ]
    }
   ],
   "source": [
    "n1 = int(input('Enter the number for n1 : '))\n",
    "n2 = int(input('Enter the number for n2 : '))\n",
    "add = n1 + n2\n",
    "print(f'The addition of {n1} and {n2} is {add}')"
   ]
  },
  {
   "cell_type": "code",
   "execution_count": 5,
   "id": "ef2cafb8",
   "metadata": {},
   "outputs": [
    {
     "name": "stdout",
     "output_type": "stream",
     "text": [
      "Enter the number for n1 : 100\n",
      "Enter the number for n2 : 100.5\n"
     ]
    },
    {
     "data": {
      "text/plain": [
       "200.5"
      ]
     },
     "execution_count": 5,
     "metadata": {},
     "output_type": "execute_result"
    }
   ],
   "source": [
    "n1 = int(input('Enter the number for n1 : '))\n",
    "n2 = float(input('Enter the number for n2 : '))\n",
    "add = n1 + n2\n",
    "add"
   ]
  },
  {
   "cell_type": "markdown",
   "id": "dabb6414",
   "metadata": {},
   "source": [
    "**eval**\n",
    "\n",
    "- eval means evaluate\n",
    "- eval will convert integer type to integer\n",
    "- eval will convert float type to float\n",
    "- we no need to worry which one we need to provide\n",
    "- Now onwards if you want to type cast a number\n",
    "- always eval(input)"
   ]
  },
  {
   "cell_type": "code",
   "execution_count": 6,
   "id": "07d3bed0",
   "metadata": {},
   "outputs": [
    {
     "name": "stdout",
     "output_type": "stream",
     "text": [
      "Enter the number for n1 : 10.45\n",
      "Enter the number for n2 : 31.3\n"
     ]
    },
    {
     "data": {
      "text/plain": [
       "41.75"
      ]
     },
     "execution_count": 6,
     "metadata": {},
     "output_type": "execute_result"
    }
   ],
   "source": [
    "n1 = eval(input('Enter the number for n1 : '))\n",
    "n2 = eval(input('Enter the number for n2 : '))\n",
    "add = n1 + n2\n",
    "add"
   ]
  },
  {
   "cell_type": "code",
   "execution_count": 7,
   "id": "6a24a198",
   "metadata": {},
   "outputs": [
    {
     "name": "stdout",
     "output_type": "stream",
     "text": [
      "Enter the number for n1 : 100\n",
      "Enter the number for n2 : 21.25\n"
     ]
    },
    {
     "data": {
      "text/plain": [
       "121.25"
      ]
     },
     "execution_count": 7,
     "metadata": {},
     "output_type": "execute_result"
    }
   ],
   "source": [
    "n1 = eval(input('Enter the number for n1 : '))\n",
    "n2 = eval(input('Enter the number for n2 : '))\n",
    "add = n1 + n2\n",
    "add"
   ]
  },
  {
   "cell_type": "code",
   "execution_count": null,
   "id": "d0445f9d",
   "metadata": {},
   "outputs": [],
   "source": []
  }
 ],
 "metadata": {
  "kernelspec": {
   "display_name": "Python 3 (ipykernel)",
   "language": "python",
   "name": "python3"
  },
  "language_info": {
   "codemirror_mode": {
    "name": "ipython",
    "version": 3
   },
   "file_extension": ".py",
   "mimetype": "text/x-python",
   "name": "python",
   "nbconvert_exporter": "python",
   "pygments_lexer": "ipython3",
   "version": "3.9.13"
  }
 },
 "nbformat": 4,
 "nbformat_minor": 5
}
