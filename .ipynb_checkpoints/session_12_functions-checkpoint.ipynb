{
 "cells": [
  {
   "cell_type": "code",
   "execution_count": 2,
   "id": "7d08cff5",
   "metadata": {},
   "outputs": [
    {
     "name": "stdout",
     "output_type": "stream",
     "text": [
      "Enter your income :100000\n",
      "Enter the tax percentage : 10\n"
     ]
    },
    {
     "data": {
      "text/plain": [
       "10000.0"
      ]
     },
     "execution_count": 2,
     "metadata": {},
     "output_type": "execute_result"
    }
   ],
   "source": [
    "# Tax calculation code\n",
    "income = eval(input('Enter your income :'))\n",
    "tax_per = eval(input('Enter the tax percentage : '))\n",
    "tax_amount = income*tax_per/100\n",
    "tax_amount"
   ]
  },
  {
   "cell_type": "markdown",
   "id": "4ba50a74",
   "metadata": {},
   "source": [
    "- Function means reuse of the code\n",
    "\n",
    "\n",
    "- If same piece of the code wants to use multiple times\n",
    "\n",
    "\n",
    "- we can create a function wrapper for that piece of code\n",
    "\n",
    "\n",
    "- then we can call the function for our task\n",
    "\n",
    "\n"
   ]
  },
  {
   "cell_type": "markdown",
   "id": "aabebaf2",
   "metadata": {},
   "source": [
    "- functions with out arguments\n",
    "\n",
    "\n",
    "- functions with arguments\n",
    "\n",
    "\n",
    "- functions default arguments\n",
    "\n",
    "\n",
    "- local variable vs global variable\n",
    "\n",
    "\n",
    "- functions with return statement\n",
    "\n",
    "\n",
    "- functions inside functions\n",
    "\n",
    "\n",
    "- kwargs (keyword arguments)"
   ]
  },
  {
   "cell_type": "markdown",
   "id": "d60fdc9f",
   "metadata": {},
   "source": [
    "**1- Functions with out arguments**"
   ]
  },
  {
   "cell_type": "code",
   "execution_count": null,
   "id": "bbcefa62",
   "metadata": {},
   "outputs": [],
   "source": [
    "syntax:\n",
    "    \n",
    "    \n",
    "def <function name>(): # defination (keyword as it is in green word)\n",
    "    <start write your code here>\n",
    "    "
   ]
  },
  {
   "cell_type": "code",
   "execution_count": 3,
   "id": "d1996a6e",
   "metadata": {},
   "outputs": [],
   "source": [
    "def greet():\n",
    "    print('good evening')"
   ]
  },
  {
   "cell_type": "code",
   "execution_count": 4,
   "id": "55182f92",
   "metadata": {},
   "outputs": [
    {
     "name": "stdout",
     "output_type": "stream",
     "text": [
      "good evening\n"
     ]
    }
   ],
   "source": [
    "greet()"
   ]
  },
  {
   "cell_type": "code",
   "execution_count": 5,
   "id": "2146a4ca",
   "metadata": {},
   "outputs": [
    {
     "name": "stdout",
     "output_type": "stream",
     "text": [
      "Enter the number1 : 20\n",
      "Enter the number2 : 30\n",
      "The addition of 20 and 30 is: 50\n"
     ]
    }
   ],
   "source": [
    "n1=eval(input('Enter the number1 : '))\n",
    "n2=eval(input('Enter the number2 : '))\n",
    "add = n1+n2\n",
    "print(f'The addition of {n1} and {n2} is: {add}')"
   ]
  },
  {
   "cell_type": "code",
   "execution_count": 6,
   "id": "22bc23dd",
   "metadata": {},
   "outputs": [],
   "source": [
    "def addition():\n",
    "    n1=eval(input('Enter the number1 : '))\n",
    "    n2=eval(input('Enter the number2 : '))\n",
    "    add = n1+n2\n",
    "    print(f'The addition of {n1} and {n2} is: {add}')"
   ]
  },
  {
   "cell_type": "code",
   "execution_count": 7,
   "id": "d5540dfe",
   "metadata": {},
   "outputs": [
    {
     "name": "stdout",
     "output_type": "stream",
     "text": [
      "Enter the number1 : 90\n",
      "Enter the number2 : 89\n",
      "The addition of 90 and 89 is: 179\n"
     ]
    }
   ],
   "source": [
    "addition()"
   ]
  },
  {
   "cell_type": "code",
   "execution_count": 9,
   "id": "9cc10181",
   "metadata": {},
   "outputs": [
    {
     "name": "stdout",
     "output_type": "stream",
     "text": [
      "Enter the number1 : 80\n",
      "Enter the number2 : 100\n",
      "The addition of 80 and 100 is: 180\n"
     ]
    }
   ],
   "source": [
    "def addition():\n",
    "    n1=eval(input('Enter the number1 : '))\n",
    "    n2=eval(input('Enter the number2 : '))\n",
    "    add = n1+n2\n",
    "    print(f'The addition of {n1} and {n2} is: {add}')\n",
    "addition()"
   ]
  },
  {
   "cell_type": "code",
   "execution_count": 10,
   "id": "3a0ee55a",
   "metadata": {},
   "outputs": [],
   "source": [
    "def addition1():\n",
    "    n1=eval(input('Enter the number1 : '))\n",
    "    n2=eval(input('Enter the number2 : '))\n",
    "    add = n1111+n2\n",
    "    print(f'The addition of {n1} and {n2} is: {add}')\n",
    "# addition1()"
   ]
  },
  {
   "cell_type": "code",
   "execution_count": 11,
   "id": "795b555a",
   "metadata": {},
   "outputs": [
    {
     "name": "stdout",
     "output_type": "stream",
     "text": [
      "Enter the number1 : 90\n",
      "Enter the number2 : 9\n"
     ]
    },
    {
     "ename": "NameError",
     "evalue": "name 'n1111' is not defined",
     "output_type": "error",
     "traceback": [
      "\u001b[1;31m---------------------------------------------------------------------------\u001b[0m",
      "\u001b[1;31mNameError\u001b[0m                                 Traceback (most recent call last)",
      "\u001b[1;32m~\\AppData\\Local\\Temp\\ipykernel_1230832\\1779030100.py\u001b[0m in \u001b[0;36m<module>\u001b[1;34m\u001b[0m\n\u001b[1;32m----> 1\u001b[1;33m \u001b[0maddition1\u001b[0m\u001b[1;33m(\u001b[0m\u001b[1;33m)\u001b[0m\u001b[1;33m\u001b[0m\u001b[1;33m\u001b[0m\u001b[0m\n\u001b[0m",
      "\u001b[1;32m~\\AppData\\Local\\Temp\\ipykernel_1230832\\3276716977.py\u001b[0m in \u001b[0;36maddition1\u001b[1;34m()\u001b[0m\n\u001b[0;32m      2\u001b[0m     \u001b[0mn1\u001b[0m\u001b[1;33m=\u001b[0m\u001b[0meval\u001b[0m\u001b[1;33m(\u001b[0m\u001b[0minput\u001b[0m\u001b[1;33m(\u001b[0m\u001b[1;34m'Enter the number1 : '\u001b[0m\u001b[1;33m)\u001b[0m\u001b[1;33m)\u001b[0m\u001b[1;33m\u001b[0m\u001b[1;33m\u001b[0m\u001b[0m\n\u001b[0;32m      3\u001b[0m     \u001b[0mn2\u001b[0m\u001b[1;33m=\u001b[0m\u001b[0meval\u001b[0m\u001b[1;33m(\u001b[0m\u001b[0minput\u001b[0m\u001b[1;33m(\u001b[0m\u001b[1;34m'Enter the number2 : '\u001b[0m\u001b[1;33m)\u001b[0m\u001b[1;33m)\u001b[0m\u001b[1;33m\u001b[0m\u001b[1;33m\u001b[0m\u001b[0m\n\u001b[1;32m----> 4\u001b[1;33m     \u001b[0madd\u001b[0m \u001b[1;33m=\u001b[0m \u001b[0mn1111\u001b[0m\u001b[1;33m+\u001b[0m\u001b[0mn2\u001b[0m\u001b[1;33m\u001b[0m\u001b[1;33m\u001b[0m\u001b[0m\n\u001b[0m\u001b[0;32m      5\u001b[0m     \u001b[0mprint\u001b[0m\u001b[1;33m(\u001b[0m\u001b[1;34mf'The addition of {n1} and {n2} is: {add}'\u001b[0m\u001b[1;33m)\u001b[0m\u001b[1;33m\u001b[0m\u001b[1;33m\u001b[0m\u001b[0m\n\u001b[0;32m      6\u001b[0m \u001b[1;31m# addition1()\u001b[0m\u001b[1;33m\u001b[0m\u001b[1;33m\u001b[0m\u001b[0m\n",
      "\u001b[1;31mNameError\u001b[0m: name 'n1111' is not defined"
     ]
    }
   ],
   "source": [
    "addition1()\n"
   ]
  },
  {
   "cell_type": "markdown",
   "id": "6037ac43",
   "metadata": {},
   "source": [
    "- function name follows same variable name rules\n",
    "\n",
    "\n",
    "- function name shouldnot be any variable names\n",
    "\n",
    "\n",
    "- function name should not be any package name\n",
    "\n",
    "\n",
    "- function name should not be your file name\n",
    "\n",
    "\n",
    "- when we define function, we will not able to identify error is there or not\n",
    "\n",
    "\n",
    "- In order to check the code working part first we need to call the function"
   ]
  },
  {
   "cell_type": "code",
   "execution_count": 17,
   "id": "1f6d54b8",
   "metadata": {},
   "outputs": [],
   "source": [
    "try:\n",
    "    def addition2():\n",
    "        n1=eval(input('Enter the number1 : '))\n",
    "        n2=eval(input('Enter the number2 : '))\n",
    "        add = n1111+n2\n",
    "        print(f'The addition of {n1} and {n2} is: {add}')\n",
    "    # addition1()\n",
    "except Exception as e:\n",
    "    print(e)"
   ]
  },
  {
   "cell_type": "code",
   "execution_count": 18,
   "id": "d7b9771a",
   "metadata": {},
   "outputs": [
    {
     "name": "stdout",
     "output_type": "stream",
     "text": [
      "Enter the number1 : 90\n",
      "Enter the number2 : 9\n"
     ]
    },
    {
     "ename": "NameError",
     "evalue": "name 'n1111' is not defined",
     "output_type": "error",
     "traceback": [
      "\u001b[1;31m---------------------------------------------------------------------------\u001b[0m",
      "\u001b[1;31mNameError\u001b[0m                                 Traceback (most recent call last)",
      "\u001b[1;32m~\\AppData\\Local\\Temp\\ipykernel_1230832\\174716992.py\u001b[0m in \u001b[0;36m<module>\u001b[1;34m\u001b[0m\n\u001b[1;32m----> 1\u001b[1;33m \u001b[0maddition2\u001b[0m\u001b[1;33m(\u001b[0m\u001b[1;33m)\u001b[0m\u001b[1;33m\u001b[0m\u001b[1;33m\u001b[0m\u001b[0m\n\u001b[0m",
      "\u001b[1;32m~\\AppData\\Local\\Temp\\ipykernel_1230832\\1158436311.py\u001b[0m in \u001b[0;36maddition2\u001b[1;34m()\u001b[0m\n\u001b[0;32m      3\u001b[0m         \u001b[0mn1\u001b[0m\u001b[1;33m=\u001b[0m\u001b[0meval\u001b[0m\u001b[1;33m(\u001b[0m\u001b[0minput\u001b[0m\u001b[1;33m(\u001b[0m\u001b[1;34m'Enter the number1 : '\u001b[0m\u001b[1;33m)\u001b[0m\u001b[1;33m)\u001b[0m\u001b[1;33m\u001b[0m\u001b[1;33m\u001b[0m\u001b[0m\n\u001b[0;32m      4\u001b[0m         \u001b[0mn2\u001b[0m\u001b[1;33m=\u001b[0m\u001b[0meval\u001b[0m\u001b[1;33m(\u001b[0m\u001b[0minput\u001b[0m\u001b[1;33m(\u001b[0m\u001b[1;34m'Enter the number2 : '\u001b[0m\u001b[1;33m)\u001b[0m\u001b[1;33m)\u001b[0m\u001b[1;33m\u001b[0m\u001b[1;33m\u001b[0m\u001b[0m\n\u001b[1;32m----> 5\u001b[1;33m         \u001b[0madd\u001b[0m \u001b[1;33m=\u001b[0m \u001b[0mn1111\u001b[0m\u001b[1;33m+\u001b[0m\u001b[0mn2\u001b[0m\u001b[1;33m\u001b[0m\u001b[1;33m\u001b[0m\u001b[0m\n\u001b[0m\u001b[0;32m      6\u001b[0m         \u001b[0mprint\u001b[0m\u001b[1;33m(\u001b[0m\u001b[1;34mf'The addition of {n1} and {n2} is: {add}'\u001b[0m\u001b[1;33m)\u001b[0m\u001b[1;33m\u001b[0m\u001b[1;33m\u001b[0m\u001b[0m\n\u001b[0;32m      7\u001b[0m     \u001b[1;31m# addition1()\u001b[0m\u001b[1;33m\u001b[0m\u001b[1;33m\u001b[0m\u001b[0m\n",
      "\u001b[1;31mNameError\u001b[0m: name 'n1111' is not defined"
     ]
    }
   ],
   "source": [
    "addition2()"
   ]
  },
  {
   "cell_type": "code",
   "execution_count": 22,
   "id": "dbc52573",
   "metadata": {},
   "outputs": [],
   "source": [
    "def addition3():\n",
    "    try:\n",
    "        n1=eval(input('Enter the number1 : '))\n",
    "        n2=eval(input('Enter the number2 : '))\n",
    "        add = n1111+n2\n",
    "        print(f'The addition of {n1} and {n2} is: {add}')\n",
    "    # addition1()\n",
    "    except Exception as e:\n",
    "        print(e)\n",
    "        n1=eval(input('Enter the number1 : '))\n",
    "        n2=eval(input('Enter the number2 : '))\n",
    "        add = n1+n2\n",
    "        print(f'The addition of {n1} and {n2} is: {add}')"
   ]
  },
  {
   "cell_type": "code",
   "execution_count": 23,
   "id": "ec66c6b2",
   "metadata": {},
   "outputs": [
    {
     "name": "stdout",
     "output_type": "stream",
     "text": [
      "Enter the number1 : 90\n",
      "Enter the number2 : 9\n",
      "name 'n1111' is not defined\n",
      "Enter the number1 : 90\n",
      "Enter the number2 : 9\n",
      "The addition of 90 and 9 is: 99\n"
     ]
    }
   ],
   "source": [
    "addition3()\n"
   ]
  },
  {
   "cell_type": "markdown",
   "id": "4a081bab",
   "metadata": {},
   "source": [
    "- try and exception is working inside the function\n",
    "\n",
    "\n",
    "- function isnot working inside try and except"
   ]
  },
  {
   "cell_type": "code",
   "execution_count": null,
   "id": "b63b0f77",
   "metadata": {},
   "outputs": [],
   "source": []
  },
  {
   "cell_type": "code",
   "execution_count": null,
   "id": "8851babd",
   "metadata": {},
   "outputs": [],
   "source": []
  },
  {
   "cell_type": "code",
   "execution_count": null,
   "id": "4f4188f9",
   "metadata": {},
   "outputs": [],
   "source": []
  },
  {
   "cell_type": "code",
   "execution_count": null,
   "id": "95964d86",
   "metadata": {},
   "outputs": [],
   "source": []
  },
  {
   "cell_type": "code",
   "execution_count": null,
   "id": "234fd43b",
   "metadata": {},
   "outputs": [],
   "source": []
  },
  {
   "cell_type": "code",
   "execution_count": null,
   "id": "a59e23af",
   "metadata": {},
   "outputs": [],
   "source": []
  },
  {
   "cell_type": "markdown",
   "id": "2e85a8bc",
   "metadata": {},
   "source": [
    "- the above all functions are examples of **function with out arguments**\n",
    "\n",
    "\n",
    "- means when we define the function we are not providing any arguments inside the bracket\n"
   ]
  },
  {
   "cell_type": "markdown",
   "id": "b35ea39e",
   "metadata": {},
   "source": [
    "**2- Function with arguments**\n",
    "\n",
    "- in the function how many variables are there : 3(n1,n2,add)\n",
    "\n",
    "\n",
    "- in the function how many input variables are there : 2(n1, n2)\n",
    "\n",
    "\n",
    "- in the function how many output variables :1(add)\n",
    "\n",
    "\n",
    "- **don't touch output variables**"
   ]
  },
  {
   "cell_type": "code",
   "execution_count": 27,
   "id": "4c500aad",
   "metadata": {},
   "outputs": [
    {
     "name": "stdout",
     "output_type": "stream",
     "text": [
      "enter n110\n",
      "enter n2220\n",
      "230\n"
     ]
    }
   ],
   "source": [
    "def addition11():\n",
    "    n1 =eval(input('enter n1'))\n",
    "    n2 =eval(input('enter n2'))\n",
    "    add = n1+n2\n",
    "    print(add)\n",
    "addition11()"
   ]
  },
  {
   "cell_type": "code",
   "execution_count": 28,
   "id": "7c089141",
   "metadata": {},
   "outputs": [],
   "source": [
    "def addition12(n1,n2):\n",
    "    add = n1+n2\n",
    "    print(add)"
   ]
  },
  {
   "cell_type": "code",
   "execution_count": 29,
   "id": "ee8c7b1c",
   "metadata": {},
   "outputs": [
    {
     "name": "stdout",
     "output_type": "stream",
     "text": [
      "70\n"
     ]
    }
   ],
   "source": [
    "addition12(30,40)"
   ]
  },
  {
   "cell_type": "code",
   "execution_count": 36,
   "id": "937b9310",
   "metadata": {},
   "outputs": [],
   "source": [
    "def average11(n1,n2,n3):\n",
    "    avg = round((n1+n2+n3)/3,2)\n",
    "    print(avg)"
   ]
  },
  {
   "cell_type": "code",
   "execution_count": 37,
   "id": "93ce7e8b",
   "metadata": {},
   "outputs": [
    {
     "name": "stdout",
     "output_type": "stream",
     "text": [
      "20.33\n"
     ]
    }
   ],
   "source": [
    "average11(10,20,31)"
   ]
  },
  {
   "cell_type": "code",
   "execution_count": null,
   "id": "02b28fe3",
   "metadata": {},
   "outputs": [],
   "source": []
  }
 ],
 "metadata": {
  "kernelspec": {
   "display_name": "Python 3 (ipykernel)",
   "language": "python",
   "name": "python3"
  },
  "language_info": {
   "codemirror_mode": {
    "name": "ipython",
    "version": 3
   },
   "file_extension": ".py",
   "mimetype": "text/x-python",
   "name": "python",
   "nbconvert_exporter": "python",
   "pygments_lexer": "ipython3",
   "version": "3.9.13"
  }
 },
 "nbformat": 4,
 "nbformat_minor": 5
}
