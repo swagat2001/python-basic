{
 "cells": [
  {
   "cell_type": "markdown",
   "id": "d9b2c093",
   "metadata": {},
   "source": [
    "- we taken the hardcodeed values\n",
    "\n",
    "- then we taken the values from user **input**\n",
    "\n",
    "- we observed the user input values by default string datatype\n",
    "\n",
    "- we did **type casting**\n",
    "\n",
    "- we performed **int**"
   ]
  },
  {
   "cell_type": "code",
   "execution_count": 1,
   "id": "0ebc6304",
   "metadata": {},
   "outputs": [
    {
     "name": "stdout",
     "output_type": "stream",
     "text": [
      "enter the n1 :10\n",
      "enter the n2 :20\n",
      "enter the n3 :30\n",
      "The average of 10,20 and 30 is : 20.0\n"
     ]
    }
   ],
   "source": [
    "n1 = eval(input('enter the n1 :'))\n",
    "n2 = eval(input('enter the n2 :'))\n",
    "n3 = eval(input('enter the n3 :'))\n",
    "\n",
    "avg = (n1+n2+n3)/3\n",
    "\n",
    "print(f'The average of {n1},{n2} and {n3} is : {avg}')"
   ]
  },
  {
   "cell_type": "code",
   "execution_count": 2,
   "id": "35db20de",
   "metadata": {},
   "outputs": [
    {
     "name": "stdout",
     "output_type": "stream",
     "text": [
      "enter the n1 :10\n",
      "enter the n2 :20\n",
      "30\n"
     ]
    }
   ],
   "source": [
    "n1 = input('enter the n1 :')\n",
    "n2 = input('enter the n2 :')\n",
    "\n",
    "add = eval(n1) +eval(n2)\n",
    "\n",
    "print(add)"
   ]
  },
  {
   "cell_type": "code",
   "execution_count": 3,
   "id": "6d77ea12",
   "metadata": {},
   "outputs": [
    {
     "name": "stdout",
     "output_type": "stream",
     "text": [
      "enter the n1 :10\n",
      "enter the n2 :11\n",
      "enter the n3 :17\n",
      "The average of 10,11 and 17 is : 12.666666666666666\n"
     ]
    }
   ],
   "source": [
    "n1 = eval(input('enter the n1 :'))\n",
    "n2 = eval(input('enter the n2 :'))\n",
    "n3 = eval(input('enter the n3 :'))\n",
    "\n",
    "avg = (n1+n2+n3)/3\n",
    "\n",
    "print(f'The average of {n1},{n2} and {n3} is : {avg}')"
   ]
  },
  {
   "cell_type": "markdown",
   "id": "9fff4bf4",
   "metadata": {},
   "source": [
    "**Round**"
   ]
  },
  {
   "cell_type": "code",
   "execution_count": 4,
   "id": "4547d16c",
   "metadata": {},
   "outputs": [
    {
     "data": {
      "text/plain": [
       "13"
      ]
     },
     "execution_count": 4,
     "metadata": {},
     "output_type": "execute_result"
    }
   ],
   "source": [
    "round(12.6666666666666)"
   ]
  },
  {
   "cell_type": "code",
   "execution_count": 5,
   "id": "8752454d",
   "metadata": {},
   "outputs": [
    {
     "data": {
      "text/plain": [
       "12.7"
      ]
     },
     "execution_count": 5,
     "metadata": {},
     "output_type": "execute_result"
    }
   ],
   "source": [
    "# round(value,n)\n",
    "round(12.666,1)"
   ]
  },
  {
   "cell_type": "code",
   "execution_count": 6,
   "id": "b5647494",
   "metadata": {},
   "outputs": [
    {
     "data": {
      "text/plain": [
       "12.67"
      ]
     },
     "execution_count": 6,
     "metadata": {},
     "output_type": "execute_result"
    }
   ],
   "source": [
    "# round(value,n)\n",
    "round(12.6666666,2)"
   ]
  },
  {
   "cell_type": "code",
   "execution_count": 7,
   "id": "a9b2464b",
   "metadata": {},
   "outputs": [
    {
     "data": {
      "text/plain": [
       "12.67"
      ]
     },
     "execution_count": 7,
     "metadata": {},
     "output_type": "execute_result"
    }
   ],
   "source": [
    "n1,n2,n3 = 10,11,17\n",
    "avg = (n1+n2+n3)/3\n",
    "avg1 = round(avg,2)\n",
    "avg1"
   ]
  },
  {
   "cell_type": "code",
   "execution_count": 8,
   "id": "cd933a77",
   "metadata": {},
   "outputs": [
    {
     "data": {
      "text/plain": [
       "12.67"
      ]
     },
     "execution_count": 8,
     "metadata": {},
     "output_type": "execute_result"
    }
   ],
   "source": [
    "n1,n2,n3 = 10,11,17\n",
    "avg = round((n1+n2+n3)/3,2)\n",
    "avg"
   ]
  },
  {
   "cell_type": "code",
   "execution_count": 9,
   "id": "8a172cb0",
   "metadata": {},
   "outputs": [
    {
     "data": {
      "text/plain": [
       "13"
      ]
     },
     "execution_count": 9,
     "metadata": {},
     "output_type": "execute_result"
    }
   ],
   "source": [
    "n1,n2,n3 = 10,11,17\n",
    "avg = round((n1+n2+n3)/3)\n",
    "avg"
   ]
  },
  {
   "cell_type": "code",
   "execution_count": null,
   "id": "35bb8274",
   "metadata": {},
   "outputs": [],
   "source": [
    "name = input('Enter your name :')\n",
    "city = input('Enter your city :')\n",
    "enroled = input('Enter your enroled course name : ')\n",
    "payment_amount = eval(input('Enter the amount you have payed : '))\n",
    "degree = input('Enter your highest qualification degree :')\n",
    "\n",
    "print(f'Name : {name}')\n",
    "print(f'city : {city}')\n",
    "print(f'course : {enroled}')\n",
    "print(f'payment amount : {payment_amount}'/- only)\n",
    "print(f'degree : {degree}')"
   ]
  },
  {
   "cell_type": "code",
   "execution_count": null,
   "id": "424c7dcd",
   "metadata": {},
   "outputs": [],
   "source": []
  }
 ],
 "metadata": {
  "kernelspec": {
   "display_name": "Python 3 (ipykernel)",
   "language": "python",
   "name": "python3"
  },
  "language_info": {
   "codemirror_mode": {
    "name": "ipython",
    "version": 3
   },
   "file_extension": ".py",
   "mimetype": "text/x-python",
   "name": "python",
   "nbconvert_exporter": "python",
   "pygments_lexer": "ipython3",
   "version": "3.9.13"
  }
 },
 "nbformat": 4,
 "nbformat_minor": 5
}
