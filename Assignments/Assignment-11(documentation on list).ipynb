{
 "cells": [
  {
   "cell_type": "markdown",
   "id": "91b55485",
   "metadata": {},
   "source": [
    "# Assignment -11 (Documentation of the below for list)"
   ]
  },
  {
   "cell_type": "markdown",
   "id": "131db04a",
   "metadata": {},
   "source": [
    "'append',\n",
    " 'clear',\n",
    " 'copy',\n",
    " 'count',\n",
    " 'extend',\n",
    " 'index',\n",
    " 'insert',\n",
    " 'pop',\n",
    " 'remove',\n",
    " 'reverse',\n",
    " 'sort'  \n",
    " "
   ]
  },
  {
   "cell_type": "markdown",
   "id": "e144b214",
   "metadata": {},
   "source": [
    "**Append**\n",
    "\n",
    "- append is use to append the object in the end of the list .\n",
    "\n",
    "- ex: list.append(object)"
   ]
  },
  {
   "cell_type": "code",
   "execution_count": 9,
   "id": "0a465e52",
   "metadata": {},
   "outputs": [
    {
     "data": {
      "text/plain": [
       "[10, 20, 30, 40, 90]"
      ]
     },
     "execution_count": 9,
     "metadata": {},
     "output_type": "execute_result"
    }
   ],
   "source": [
    "list1 = [10,20,30,40]\n",
    "list1.append(90)\n",
    "list1"
   ]
  },
  {
   "cell_type": "markdown",
   "id": "0b4f6bdc",
   "metadata": {},
   "source": [
    "**Clear**\n",
    "\n",
    "- clear is use to clear the list .\n",
    "\n",
    "- syntax: list1.clear()"
   ]
  },
  {
   "cell_type": "code",
   "execution_count": 10,
   "id": "347ffc7d",
   "metadata": {},
   "outputs": [
    {
     "data": {
      "text/plain": [
       "[]"
      ]
     },
     "execution_count": 10,
     "metadata": {},
     "output_type": "execute_result"
    }
   ],
   "source": [
    "list1.clear()\n",
    "list1"
   ]
  },
  {
   "cell_type": "markdown",
   "id": "2305d86b",
   "metadata": {},
   "source": [
    "**copy**\n",
    "\n",
    "- copy is used to copy a list to a another empty list  \n",
    "\n",
    "- syntax: newlist = list1.copy()"
   ]
  },
  {
   "cell_type": "code",
   "execution_count": 11,
   "id": "e4644ca0",
   "metadata": {},
   "outputs": [
    {
     "data": {
      "text/plain": [
       "[10, 20, 30, 40]"
      ]
     },
     "execution_count": 11,
     "metadata": {},
     "output_type": "execute_result"
    }
   ],
   "source": [
    "list1 = [10,20,30,40]\n",
    "list2 = list1.copy()\n",
    "list2"
   ]
  },
  {
   "cell_type": "markdown",
   "id": "3b3d00d3",
   "metadata": {},
   "source": [
    "**count**\n",
    "\n",
    "- count is used to count the occurance of an object in a list\n",
    "\n",
    "- syntax: list = [10,20,30,40,50,10,30,10]  \n",
    "            list.count(10)\n",
    "- output : 3"
   ]
  },
  {
   "cell_type": "code",
   "execution_count": 15,
   "id": "87faadc2",
   "metadata": {},
   "outputs": [
    {
     "data": {
      "text/plain": [
       "2"
      ]
     },
     "execution_count": 15,
     "metadata": {},
     "output_type": "execute_result"
    }
   ],
   "source": [
    "list3 = [10,20,30,40,10]\n",
    "list3.count(10)"
   ]
  },
  {
   "cell_type": "markdown",
   "id": "a81ee5ff",
   "metadata": {},
   "source": [
    "**Extend**\n",
    "\n",
    "- extend is used to exend a list by adding another list \n",
    "\n",
    "\n",
    "- syntax:  \n",
    "list1 = [10,20,30,40]  \n",
    "list2 = [30,40,50,60]\n",
    "list1.extend(list2)\n",
    "list1\n",
    "\n",
    "- output: [10,20,30,40,30,40,50,60]"
   ]
  },
  {
   "cell_type": "code",
   "execution_count": 18,
   "id": "b4d16a6c",
   "metadata": {},
   "outputs": [
    {
     "data": {
      "text/plain": [
       "[10, 20, 30, 40, 10, 20, 30, 40, 10]"
      ]
     },
     "execution_count": 18,
     "metadata": {},
     "output_type": "execute_result"
    }
   ],
   "source": [
    "list1.extend(list3)\n",
    "list1"
   ]
  },
  {
   "cell_type": "markdown",
   "id": "a365c10e",
   "metadata": {},
   "source": [
    "**index**\n",
    "\n",
    "- list4.index(value, start=0, stop=9223372036854775807, /)\n",
    "- return the first index value of the input between the starting point\n",
    "\n",
    "\n",
    "- Return first index of value if input is \n",
    "- list.index(object)\n",
    "\n",
    "\n",
    "- **Raises ValueError if the value is not present.**"
   ]
  },
  {
   "cell_type": "code",
   "execution_count": 2,
   "id": "57390e22",
   "metadata": {},
   "outputs": [
    {
     "data": {
      "text/plain": [
       "2"
      ]
     },
     "execution_count": 2,
     "metadata": {},
     "output_type": "execute_result"
    }
   ],
   "source": [
    "list4 = [10,20,30,40,10,50]\n",
    "position_list = list4.index(30)\n",
    "position_list"
   ]
  },
  {
   "cell_type": "code",
   "execution_count": 29,
   "id": "00aecbf3",
   "metadata": {},
   "outputs": [
    {
     "data": {
      "text/plain": [
       "6"
      ]
     },
     "execution_count": 29,
     "metadata": {},
     "output_type": "execute_result"
    }
   ],
   "source": [
    "list4 = [10,20,30,40,10,50,30]\n",
    "position_list = list4.index(30,3)\n",
    "position_list"
   ]
  },
  {
   "cell_type": "markdown",
   "id": "bab0e3ad",
   "metadata": {},
   "source": [
    "**insert**\n",
    "\n",
    "- insert is used to insert an object to a list in the specified location\n",
    "- syntax: list.insert(index number,element)"
   ]
  },
  {
   "cell_type": "code",
   "execution_count": 31,
   "id": "f2a2cdde",
   "metadata": {},
   "outputs": [
    {
     "data": {
      "text/plain": [
       "[10, 20, 30, 70, 40, 10, 50, 30]"
      ]
     },
     "execution_count": 31,
     "metadata": {},
     "output_type": "execute_result"
    }
   ],
   "source": [
    "list4.insert(3,70)\n",
    "list4"
   ]
  },
  {
   "cell_type": "markdown",
   "id": "de1032d7",
   "metadata": {},
   "source": [
    "**pop**\n",
    "\n",
    "- pop is used to delete the last object of the list\n",
    "- list.pop()"
   ]
  },
  {
   "cell_type": "code",
   "execution_count": 32,
   "id": "8406aeab",
   "metadata": {},
   "outputs": [
    {
     "data": {
      "text/plain": [
       "[10, 20, 30, 70, 40, 10, 50]"
      ]
     },
     "execution_count": 32,
     "metadata": {},
     "output_type": "execute_result"
    }
   ],
   "source": [
    "list4.pop()\n",
    "list4"
   ]
  },
  {
   "cell_type": "markdown",
   "id": "99102405",
   "metadata": {},
   "source": [
    "**remove**\n",
    "- remove is used to remove the declared object where it meet first in the list.  \n",
    "- Raises ValueError if the value is not present.  "
   ]
  },
  {
   "cell_type": "code",
   "execution_count": 33,
   "id": "fba68297",
   "metadata": {},
   "outputs": [
    {
     "data": {
      "text/plain": [
       "[20, 30, 70, 40, 10, 50]"
      ]
     },
     "execution_count": 33,
     "metadata": {},
     "output_type": "execute_result"
    }
   ],
   "source": [
    "list4.remove(10)\n",
    "list4"
   ]
  }
 ],
 "metadata": {
  "kernelspec": {
   "display_name": "Python 3 (ipykernel)",
   "language": "python",
   "name": "python3"
  },
  "language_info": {
   "codemirror_mode": {
    "name": "ipython",
    "version": 3
   },
   "file_extension": ".py",
   "mimetype": "text/x-python",
   "name": "python",
   "nbconvert_exporter": "python",
   "pygments_lexer": "ipython3",
   "version": "3.9.13"
  }
 },
 "nbformat": 4,
 "nbformat_minor": 5
}
