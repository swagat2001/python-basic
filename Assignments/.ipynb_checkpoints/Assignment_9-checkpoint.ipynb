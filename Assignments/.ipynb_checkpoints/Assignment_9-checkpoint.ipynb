{
 "cells": [
  {
   "cell_type": "markdown",
   "id": "27522794",
   "metadata": {},
   "source": [
    "#### Problem-1(Use conditional statements)\n",
    "\n",
    "Write a program that asks the user to enter a length in centimetres. If the user enters\n",
    "a negative length, the program should tell the user that the entry is invalid. Otherwise,\n",
    "the program should convert the length to inches and print out the result. There are\n",
    "2.54 centimetres in an inch."
   ]
  },
  {
   "cell_type": "code",
   "execution_count": 4,
   "id": "caf827a0",
   "metadata": {},
   "outputs": [
    {
     "name": "stdout",
     "output_type": "stream",
     "text": [
      "Enter length in centimetres: 90\n",
      "90 cm is equal to 35.43 inch\n"
     ]
    }
   ],
   "source": [
    "def convert(length):\n",
    "    if length<0:\n",
    "        print('You have enterd an invalid length.')\n",
    "    else:\n",
    "        inch = round(length/2.54,2)\n",
    "        print(f'{length} cm is equal to {inch} inch')\n",
    "        \n",
    "convert(length = eval(input('Enter length in centimetres: ')))"
   ]
  },
  {
   "cell_type": "markdown",
   "id": "e0c5bf59",
   "metadata": {},
   "source": [
    "#### Problem-2(Use conditional statements)\n",
    "Ask the user for a temperature. Then ask them what units, Celsius or Fahrenheit, the\n",
    "temperature is in. Your program should convert the temperature to the other unit. The\n",
    "conversions are F = 9 5 C +32 and C = 5 9 (F − 32)."
   ]
  },
  {
   "cell_type": "code",
   "execution_count": null,
   "id": "da7a16d2",
   "metadata": {},
   "outputs": [],
   "source": [
    "def convert1(temp,unit):"
   ]
  },
  {
   "cell_type": "markdown",
   "id": "b91c092d",
   "metadata": {},
   "source": [
    "#### Problem-3(Use conditional statements)\n",
    "Ask the user to enter a temperature in Celsius. The program should print a\n",
    "message based on the temperature:\n",
    "- If the temperature is less than -273.15, print that the temperature is invalid because it is below absolute zero.\n",
    "- If it is exactly -273.15, print that the temperature is absolute 0.\n",
    "- If the temperature is between -273.15 and 0, print that the temperature is below freezing. \n",
    "- If it is 0, print that the temperature is at the freezing point.\n",
    "- If it is between 0 and 100, print that the temperature is in the normal range. \n",
    "- If it is 100, print that the temperature is at the boiling point.\n",
    "- If it is above 100, print that the temperature is above the boiling point.\n"
   ]
  },
  {
   "cell_type": "code",
   "execution_count": null,
   "id": "88e5a595",
   "metadata": {},
   "outputs": [],
   "source": []
  },
  {
   "cell_type": "markdown",
   "id": "c0663584",
   "metadata": {},
   "source": [
    "#### Problem-4(Use conditional statements)\n",
    "Write a program that asks the user how many credits they have taken. If they have taken 23 or\n",
    "less, print that the student is a freshman. If they have taken between 24 and 53, print that they\n",
    "are asophomore. The range for juniors is 54 to 83, and for seniors it is 84 and over."
   ]
  },
  {
   "cell_type": "code",
   "execution_count": null,
   "id": "fb2d2849",
   "metadata": {},
   "outputs": [],
   "source": []
  },
  {
   "cell_type": "markdown",
   "id": "e6420631",
   "metadata": {},
   "source": [
    "#### Problem-5(Use conditional statements)\n",
    "Generate a random number between 1 and 10. Ask the user to guess the number and print a\n",
    "message based on whether they get it right or not."
   ]
  },
  {
   "cell_type": "code",
   "execution_count": null,
   "id": "ef205c11",
   "metadata": {},
   "outputs": [],
   "source": []
  },
  {
   "cell_type": "markdown",
   "id": "4034510e",
   "metadata": {},
   "source": [
    "#### Problem-6(Use conditional statements)\n",
    "A store charges $12 per item if you buy less than 10 items. If you buy between 10\n",
    "and 99 items, the cost is $10 per item. If you buy 100 or more items, the cost is $7\n",
    "per item. Write a program that asks the user how many items they are buying and\n",
    "prints the total cost."
   ]
  },
  {
   "cell_type": "code",
   "execution_count": null,
   "id": "ae0c11e1",
   "metadata": {},
   "outputs": [],
   "source": []
  },
  {
   "cell_type": "markdown",
   "id": "fa96516f",
   "metadata": {},
   "source": [
    "#### Problem-7(Use conditional statements)\n",
    "Write a program that asks the user for two numbers and prints Close if the\n",
    "numbers are within .001of each other and Not close otherwise."
   ]
  },
  {
   "cell_type": "code",
   "execution_count": null,
   "id": "8c8a5942",
   "metadata": {},
   "outputs": [],
   "source": []
  },
  {
   "cell_type": "markdown",
   "id": "ed44cdd6",
   "metadata": {},
   "source": [
    "#### Problem-8(Use conditional statements)\n",
    "A year is a leap year if it is divisible by 4, except that years divisible by 100 are not leap years unless\n",
    "they are also divisible by 400. Write a program that asks the user for a year and prints out whether\n",
    "it is a leap year or not.\n",
    "\n"
   ]
  },
  {
   "cell_type": "code",
   "execution_count": null,
   "id": "45a2406c",
   "metadata": {},
   "outputs": [],
   "source": []
  },
  {
   "cell_type": "markdown",
   "id": "b05eae23",
   "metadata": {},
   "source": [
    "#### Problem-9(Use conditional statements)\n",
    "Write a program that asks the user to enter a number and prints out all the divisors of that\n",
    "number. [Hint: the % operator is used to tell if a number is divisible by something.\n",
    "\n"
   ]
  },
  {
   "cell_type": "code",
   "execution_count": null,
   "id": "d9ea93c0",
   "metadata": {},
   "outputs": [],
   "source": []
  },
  {
   "cell_type": "markdown",
   "id": "76aac8fc",
   "metadata": {},
   "source": [
    "#### Problem-10(Use conditional statements)\n",
    "Write a program that asks the user for an hour between 1 and 12, asks them to\n",
    "enter am or pm, and asks them how many hours into the future they want to go.\n",
    "Print out what the hour will be that many hours into the future, printing am or pm as\n",
    "appropriate. An example is shown below.\n",
    "Enter hour: 8\n",
    "am (1) or pm (2)? 1\n",
    "How many hours ahead? 5\n",
    "New hour: 1 pm"
   ]
  },
  {
   "cell_type": "code",
   "execution_count": null,
   "id": "5121b2ac",
   "metadata": {},
   "outputs": [],
   "source": []
  }
 ],
 "metadata": {
  "kernelspec": {
   "display_name": "Python 3 (ipykernel)",
   "language": "python",
   "name": "python3"
  },
  "language_info": {
   "codemirror_mode": {
    "name": "ipython",
    "version": 3
   },
   "file_extension": ".py",
   "mimetype": "text/x-python",
   "name": "python",
   "nbconvert_exporter": "python",
   "pygments_lexer": "ipython3",
   "version": "3.9.13"
  }
 },
 "nbformat": 4,
 "nbformat_minor": 5
}
