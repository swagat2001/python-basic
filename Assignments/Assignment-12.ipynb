{
 "cells": [
  {
   "cell_type": "code",
   "execution_count": 1,
   "id": "dce3ab6f",
   "metadata": {},
   "outputs": [
    {
     "name": "stdout",
     "output_type": "stream",
     "text": [
      "29 : 841\n",
      "22 : 484\n",
      "55 : 3025\n"
     ]
    },
    {
     "data": {
      "text/plain": [
       "[841, 484, 3025]"
      ]
     },
     "execution_count": 1,
     "metadata": {},
     "output_type": "execute_result"
    }
   ],
   "source": [
    "import random\n",
    "l = []\n",
    "for i in range(1,4):\n",
    "    num = random.randint(10,100)\n",
    "    power = pow(num,2)\n",
    "    print(f'{num} : {power}')\n",
    "    l.append(power)\n",
    "l"
   ]
  },
  {
   "cell_type": "code",
   "execution_count": 2,
   "id": "f7e54319",
   "metadata": {},
   "outputs": [
    {
     "data": {
      "text/plain": [
       "([10, 88], [23, 45, 97])"
      ]
     },
     "execution_count": 2,
     "metadata": {},
     "output_type": "execute_result"
    }
   ],
   "source": [
    "l= [10,23,45,88,97]\n",
    "even = []\n",
    "odd = []\n",
    "for i in l:\n",
    "    if i%2==0:\n",
    "        even.append(i)\n",
    "    else:\n",
    "        odd.append(i)\n",
    "        \n",
    "even,odd"
   ]
  },
  {
   "cell_type": "markdown",
   "id": "b6fe6378",
   "metadata": {},
   "source": [
    " Q3) input=['hyd','bengaluru','mumbai','chennai']\n",
    "     output=['Hyd','Bengaluru','Mumbai','Chennai']"
   ]
  },
  {
   "cell_type": "code",
   "execution_count": null,
   "id": "0e6738d6",
   "metadata": {},
   "outputs": [],
   "source": []
  },
  {
   "cell_type": "markdown",
   "id": "41601f8a",
   "metadata": {},
   "source": [
    "Q4) input=['hyd','bengaluru','mumbai','chennai']\n",
    "     output=['HYD','BENGALURU','MUMBAI','CHENNAI']"
   ]
  },
  {
   "cell_type": "code",
   "execution_count": null,
   "id": "df5b1ca8",
   "metadata": {},
   "outputs": [],
   "source": []
  },
  {
   "cell_type": "markdown",
   "id": "9d083c24",
   "metadata": {},
   "source": [
    "Q5) input=['hyd','beng#aluru','mumbai','chen#nai']\n",
    "     output=['beng#aluru','chen#nai']"
   ]
  },
  {
   "cell_type": "code",
   "execution_count": null,
   "id": "e490912e",
   "metadata": {},
   "outputs": [],
   "source": []
  },
  {
   "cell_type": "markdown",
   "id": "48d1e2dd",
   "metadata": {},
   "source": [
    "Q6) input=['hyd','beng#aluru','mumbai','chen#nai']\n",
    "     output=['hyd','mumbai']"
   ]
  },
  {
   "cell_type": "code",
   "execution_count": null,
   "id": "6e2fa12e",
   "metadata": {},
   "outputs": [],
   "source": []
  },
  {
   "cell_type": "markdown",
   "id": "f9458497",
   "metadata": {},
   "source": [
    "Q7) str1='hai how are you'\n",
    "     output=['HAI','HOW','ARE','YOU']"
   ]
  },
  {
   "cell_type": "code",
   "execution_count": null,
   "id": "2e8d992b",
   "metadata": {},
   "outputs": [],
   "source": []
  },
  {
   "cell_type": "markdown",
   "id": "08305f82",
   "metadata": {},
   "source": [
    "Q8) str1='hai how are you'\n",
    "     ans='Hai How Are You'   with out Title method"
   ]
  },
  {
   "cell_type": "code",
   "execution_count": null,
   "id": "9b521c4c",
   "metadata": {},
   "outputs": [],
   "source": []
  },
  {
   "cell_type": "markdown",
   "id": "d4ba4862",
   "metadata": {},
   "source": [
    "Q9) str1='virat.kohli@rcb.com,rohit.sharma@mi.com,ms.dhoni@csk.com'\n",
    "     fname=['virat','rohit','ms']  sname=['kohli','sharma','dhoni']\n",
    "     cname=['rcb','mi','csk']"
   ]
  },
  {
   "cell_type": "code",
   "execution_count": null,
   "id": "83715858",
   "metadata": {},
   "outputs": [],
   "source": []
  },
  {
   "cell_type": "markdown",
   "id": "a8b34133",
   "metadata": {},
   "source": [
    "Q10) Find the most reperated word in a given string"
   ]
  },
  {
   "cell_type": "code",
   "execution_count": null,
   "id": "a1d9f494",
   "metadata": {},
   "outputs": [],
   "source": []
  },
  {
   "cell_type": "markdown",
   "id": "575474d5",
   "metadata": {},
   "source": [
    "Q11) Find the lonest word in a given string"
   ]
  },
  {
   "cell_type": "code",
   "execution_count": null,
   "id": "d7885f38",
   "metadata": {},
   "outputs": [],
   "source": []
  },
  {
   "cell_type": "markdown",
   "id": "bbdac3a6",
   "metadata": {},
   "source": [
    "Q12) l=[1,7,5,8,17,6]\n",
    "       Sort the list with out using sorted method"
   ]
  },
  {
   "cell_type": "code",
   "execution_count": null,
   "id": "41748066",
   "metadata": {},
   "outputs": [],
   "source": []
  },
  {
   "cell_type": "markdown",
   "id": "53e47a17",
   "metadata": {},
   "source": [
    " Q13) l=[1,7,5,8,17,6]\n",
    "       find the largest value and second lartgest value in a given list"
   ]
  },
  {
   "cell_type": "code",
   "execution_count": null,
   "id": "a591d28e",
   "metadata": {},
   "outputs": [],
   "source": []
  },
  {
   "cell_type": "markdown",
   "id": "0a6a9ab0",
   "metadata": {},
   "source": [
    "Q14) str1='can canner can not can you but you can canner can you'\n",
    "      ouput=['can:5','canner:2','not:1','you:3','but:1']"
   ]
  },
  {
   "cell_type": "code",
   "execution_count": null,
   "id": "11e82901",
   "metadata": {},
   "outputs": [],
   "source": []
  },
  {
   "cell_type": "markdown",
   "id": "2741536d",
   "metadata": {},
   "source": [
    "Q15) str1='can canner can not can you but you can canner can you'\n",
    "      stopwords=['not','but']\n",
    "      remove the stop words in a given string\n",
    "     output='can canner can can you  you can canner can you'"
   ]
  },
  {
   "cell_type": "code",
   "execution_count": null,
   "id": "18caec90",
   "metadata": {},
   "outputs": [],
   "source": []
  },
  {
   "cell_type": "markdown",
   "id": "1e5ff7ae",
   "metadata": {},
   "source": [
    " Q16)\n",
    "   qns_list=['who is PM of India','Who is Captain of ICT mens Crikets',\n",
    "              'what is the capital of India']\n",
    "   ans_list=['modi','rohit','delhi']\n",
    " for every correct answer update the marks\n",
    " print total marks\n",
    "\n",
    "qns_list=['who is PM of India','Who is Captain of ICT mens Crikets',\n",
    "          'what is the capital of India']\n",
    "ans_list=['modi','rohit','delhi']\n",
    "marks=0\n",
    "for i in qns_list:\n",
    "    ans=input(i)\n",
    "    if ans in ans_list:\n",
    "        print('True')"
   ]
  },
  {
   "cell_type": "code",
   "execution_count": null,
   "id": "293bcc56",
   "metadata": {},
   "outputs": [],
   "source": []
  }
 ],
 "metadata": {
  "kernelspec": {
   "display_name": "Python 3 (ipykernel)",
   "language": "python",
   "name": "python3"
  },
  "language_info": {
   "codemirror_mode": {
    "name": "ipython",
    "version": 3
   },
   "file_extension": ".py",
   "mimetype": "text/x-python",
   "name": "python",
   "nbconvert_exporter": "python",
   "pygments_lexer": "ipython3",
   "version": "3.9.13"
  }
 },
 "nbformat": 4,
 "nbformat_minor": 5
}
