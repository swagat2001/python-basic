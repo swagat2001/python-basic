{
 "cells": [
  {
   "cell_type": "markdown",
   "id": "a4bc3109",
   "metadata": {},
   "source": [
    "# Assignment - 5"
   ]
  },
  {
   "cell_type": "markdown",
   "id": "9e825350",
   "metadata": {},
   "source": [
    "**Random:**\n",
    "\n",
    "1. randint\n",
    "2. random\n",
    "3. choice\n",
    "     list=[1,2,3,4,5]\n",
    "    random.choice(list)\n",
    "4. sample\n",
    "5. rand range"
   ]
  },
  {
   "cell_type": "code",
   "execution_count": 10,
   "id": "ec2053fa",
   "metadata": {},
   "outputs": [
    {
     "data": {
      "text/plain": [
       "1"
      ]
     },
     "execution_count": 10,
     "metadata": {},
     "output_type": "execute_result"
    }
   ],
   "source": [
    "# 1. randint\n",
    "import random\n",
    "dir(random)\n",
    "# help(random.randint)\n",
    "random.randint(1,2)"
   ]
  },
  {
   "cell_type": "code",
   "execution_count": 13,
   "id": "20572ddd",
   "metadata": {},
   "outputs": [
    {
     "data": {
      "text/plain": [
       "0.37438320348325005"
      ]
     },
     "execution_count": 13,
     "metadata": {},
     "output_type": "execute_result"
    }
   ],
   "source": [
    "# 2. random\n",
    "import random\n",
    "dir(random)\n",
    "# help(random.random)\n",
    "random.random()"
   ]
  },
  {
   "cell_type": "code",
   "execution_count": 25,
   "id": "d64bf48d",
   "metadata": {},
   "outputs": [
    {
     "data": {
      "text/plain": [
       "5"
      ]
     },
     "execution_count": 25,
     "metadata": {},
     "output_type": "execute_result"
    }
   ],
   "source": [
    "# 3.choice\n",
    "import random\n",
    "dir(random)\n",
    "# help(random.choice)\n",
    "random.choice([1,2,3,4,5])"
   ]
  },
  {
   "cell_type": "code",
   "execution_count": 78,
   "id": "59e035b4",
   "metadata": {},
   "outputs": [
    {
     "data": {
      "text/plain": [
       "['red', 'red', 'blue', 'red', 'blue']"
      ]
     },
     "execution_count": 78,
     "metadata": {},
     "output_type": "execute_result"
    }
   ],
   "source": [
    "# 4.sample\n",
    "import random\n",
    "dir(random)\n",
    "# help(random.sample)\n",
    "random.sample(['red', 'blue'], counts=[4, 2], k=5)"
   ]
  },
  {
   "cell_type": "code",
   "execution_count": 77,
   "id": "8f4b735f",
   "metadata": {},
   "outputs": [
    {
     "data": {
      "text/plain": [
       "7"
      ]
     },
     "execution_count": 77,
     "metadata": {},
     "output_type": "execute_result"
    }
   ],
   "source": [
    "# 5.randrange\n",
    "import random\n",
    "dir(random)\n",
    "# help(random.randrange)\n",
    "random.randrange(1,11,2)"
   ]
  },
  {
   "cell_type": "markdown",
   "id": "7f9f3f2e",
   "metadata": {},
   "source": [
    "**Math:**\n",
    "\n",
    "1. sqrt\n",
    "2. pi\n",
    "3. ceil\n",
    "      similar to round\n",
    "4. e\n",
    "5. pow\n",
    "6. sin"
   ]
  },
  {
   "cell_type": "code",
   "execution_count": 83,
   "id": "18e7f59b",
   "metadata": {},
   "outputs": [
    {
     "data": {
      "text/plain": [
       "2.8284271247461903"
      ]
     },
     "execution_count": 83,
     "metadata": {},
     "output_type": "execute_result"
    }
   ],
   "source": [
    "# 1. sqrt\n",
    "import math\n",
    "dir(math)\n",
    "math.sqrt(8)"
   ]
  },
  {
   "cell_type": "code",
   "execution_count": 85,
   "id": "f8084a67",
   "metadata": {},
   "outputs": [
    {
     "data": {
      "text/plain": [
       "3.141592653589793"
      ]
     },
     "execution_count": 85,
     "metadata": {},
     "output_type": "execute_result"
    }
   ],
   "source": [
    "# 2. pi\n",
    "import math\n",
    "math.pi"
   ]
  },
  {
   "cell_type": "code",
   "execution_count": 90,
   "id": "4d256830",
   "metadata": {},
   "outputs": [
    {
     "data": {
      "text/plain": [
       "24"
      ]
     },
     "execution_count": 90,
     "metadata": {},
     "output_type": "execute_result"
    }
   ],
   "source": [
    "# 3. ceil\n",
    "import math\n",
    "dir(math)\n",
    "# help(math.ceil)\n",
    "math.ceil(23.89)"
   ]
  },
  {
   "cell_type": "code",
   "execution_count": 94,
   "id": "179d9c1c",
   "metadata": {},
   "outputs": [
    {
     "data": {
      "text/plain": [
       "2.718281828459045"
      ]
     },
     "execution_count": 94,
     "metadata": {},
     "output_type": "execute_result"
    }
   ],
   "source": [
    "# 4. e\n",
    "import math\n",
    "dir(math)\n",
    "# help(math.e)\n",
    "math.e"
   ]
  },
  {
   "cell_type": "code",
   "execution_count": 95,
   "id": "71b061d1",
   "metadata": {},
   "outputs": [
    {
     "data": {
      "text/plain": [
       "16.0"
      ]
     },
     "execution_count": 95,
     "metadata": {},
     "output_type": "execute_result"
    }
   ],
   "source": [
    "# 5. pow\n",
    "import math\n",
    "math.pow(4,2)"
   ]
  },
  {
   "cell_type": "code",
   "execution_count": 98,
   "id": "e6437dbd",
   "metadata": {},
   "outputs": [
    {
     "data": {
      "text/plain": [
       "1"
      ]
     },
     "execution_count": 98,
     "metadata": {},
     "output_type": "execute_result"
    }
   ],
   "source": [
    "# sin\n",
    "import math\n",
    "# help(math.sin)\n",
    "math.ceil(math.sin(90))"
   ]
  },
  {
   "cell_type": "markdown",
   "id": "3c942ab6",
   "metadata": {},
   "source": [
    "**Time:**\n",
    "\n",
    "1. sleep\n",
    "2. start=time.time()\n",
    "   write some codes print some statements\n",
    "3. end=time.time()\n",
    "4. print(end-start)"
   ]
  },
  {
   "cell_type": "code",
   "execution_count": 100,
   "id": "6632f351",
   "metadata": {},
   "outputs": [
    {
     "name": "stdout",
     "output_type": "stream",
     "text": [
      "Hii! How are you ?\n",
      "Hii! How are you ?\n",
      "Hii! How are you ?\n",
      "Hii! How are you ?\n",
      "Hii! How are you ?\n"
     ]
    }
   ],
   "source": [
    "# 1. sleep\n",
    "import time\n",
    "dir(time)\n",
    "for i in range(1,6):\n",
    "    print('Hii! How are you ?')\n",
    "    time.sleep(15)\n",
    "# print()\n",
    "# time.sleep()"
   ]
  },
  {
   "cell_type": "code",
   "execution_count": 106,
   "id": "584be2f8",
   "metadata": {},
   "outputs": [
    {
     "name": "stdout",
     "output_type": "stream",
     "text": [
      "hii how are you\n",
      "1741689130.569067\n",
      "1741689130.569067\n"
     ]
    }
   ],
   "source": [
    "# 2.start = time.time()\n",
    "# 3. end = \n",
    "# 4. print(start-end)\n",
    "import time\n",
    "dir(time)\n",
    "# help(time.time)\n",
    "start = time.time()\n",
    "print('hii how are you')\n",
    "end = time.time()\n",
    "print(start)\n",
    "print(end)"
   ]
  }
 ],
 "metadata": {
  "kernelspec": {
   "display_name": "Python 3 (ipykernel)",
   "language": "python",
   "name": "python3"
  },
  "language_info": {
   "codemirror_mode": {
    "name": "ipython",
    "version": 3
   },
   "file_extension": ".py",
   "mimetype": "text/x-python",
   "name": "python",
   "nbconvert_exporter": "python",
   "pygments_lexer": "ipython3",
   "version": "3.9.13"
  }
 },
 "nbformat": 4,
 "nbformat_minor": 5
}
