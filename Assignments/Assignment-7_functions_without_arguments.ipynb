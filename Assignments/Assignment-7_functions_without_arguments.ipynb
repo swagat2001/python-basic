{
 "cells": [
  {
   "cell_type": "code",
   "execution_count": 12,
   "id": "dc133f8a",
   "metadata": {},
   "outputs": [
    {
     "name": "stdout",
     "output_type": "stream",
     "text": [
      "Enter number1 : 12\n",
      "Enter number2 : 12\n",
      "Enter number3 : 11\n",
      "Average of 12, 12 and 11 is 11.67\n",
      "Average of 12, 12 and 11 is 11.67\n"
     ]
    }
   ],
   "source": [
    "# q1\n",
    "def average():\n",
    "    n1 = eval(input('Enter number1 : '))\n",
    "    n2 = eval(input('Enter number2 : '))\n",
    "    n3 = eval(input('Enter number3 : '))\n",
    "    avg = round((n1+n2+n3)/3,2)\n",
    "    print(f'Average of {n1}, {n2} and {n3} is {avg}')\n",
    "    print('Average of {}, {} and {} is {}'.format(n1,n2,n3,avg))\n",
    "average()"
   ]
  },
  {
   "cell_type": "code",
   "execution_count": 7,
   "id": "9e24b259",
   "metadata": {},
   "outputs": [
    {
     "name": "stdout",
     "output_type": "stream",
     "text": [
      "Enter number1 : 10\n",
      "Enter number2 : 20\n",
      "Enter number3 : 30\n",
      "name 'n11' is not defined\n",
      "Enter number1 : 10\n",
      "Enter number2 : 20\n",
      "Enter number3 : 30\n",
      "Average of 10, 20 and 30 is 40.0\n",
      "Average of 10, 20 and 30 is 40.0\n"
     ]
    }
   ],
   "source": [
    "# q1\n",
    "def average1():\n",
    "    try:\n",
    "        n1 = eval(input('Enter number1 : '))\n",
    "        n2 = eval(input('Enter number2 : '))\n",
    "        n3 = eval(input('Enter number3 : '))\n",
    "        avg = round((n11+n2+n3)/3,2)\n",
    "        print(f'Average of {n1}, {n2} and {n3} is {avg}')\n",
    "        print('Average of {}, {} and {} is {}'.format(n1,n2,n3,avg))\n",
    "    except Exception as e:\n",
    "        print(e)\n",
    "        n1 = eval(input('Enter number1 : '))\n",
    "        n2 = eval(input('Enter number2 : '))\n",
    "        n3 = eval(input('Enter number3 : '))\n",
    "        avg =round((n1+n2+n3)/3,2)\n",
    "        print(f'Average of {n1}, {n2} and {n3} is {avg}')\n",
    "        print('Average of {}, {} and {} is {}'.format(n1,n2,n3,avg))\n",
    "average1()"
   ]
  },
  {
   "cell_type": "code",
   "execution_count": 8,
   "id": "76871e35",
   "metadata": {},
   "outputs": [
    {
     "name": "stdout",
     "output_type": "stream",
     "text": [
      "Enter number1 : 10\n",
      "Enter number2 : 20\n",
      "Enter number3 : 30\n",
      "Average of 10, 20 and 30 is 40.0\n",
      "Average of 10, 20 and 30 is 40.0\n"
     ]
    }
   ],
   "source": [
    "# q1\n",
    "def average11():\n",
    "    try:\n",
    "        n1 = eval(input('Enter number1 : '))\n",
    "        n2 = eval(input('Enter number2 : '))\n",
    "        n3 = eval(input('Enter number3 : '))\n",
    "        avg = (n1+n2+n3)/3\n",
    "        print(f'Average of {n1}, {n2} and {n3} is {avg}')\n",
    "        print('Average of {}, {} and {} is {}'.format(n1,n2,n3,avg))\n",
    "    except Exception as e:\n",
    "        print(e)\n",
    "        n1 = eval(input('Enter number1 : '))\n",
    "        n2 = eval(input('Enter number2 : '))\n",
    "        n3 = eval(input('Enter number3 : '))\n",
    "        avg = (n1+n2+n3)/3\n",
    "        print(f'Average of {n1}, {n2} and {n3} is {avg}')\n",
    "        print('Average of {}, {} and {} is {}'.format(n1,n2,n3,avg))\n",
    "average11()"
   ]
  },
  {
   "cell_type": "code",
   "execution_count": 17,
   "id": "892c14c3",
   "metadata": {},
   "outputs": [
    {
     "name": "stdout",
     "output_type": "stream",
     "text": [
      "Enter radius of the circle: 10\n",
      "Area of the circle of radius 10 is 314.16.\n"
     ]
    }
   ],
   "source": [
    "# q2\n",
    "def circle(): \n",
    "    import math\n",
    "    radius = eval(input('Enter radius of the circle: '))\n",
    "    area = round(math.pi*radius*radius,2)\n",
    "    print(f'Area of the circle of radius {radius} is {area}.')\n",
    "circle()"
   ]
  },
  {
   "cell_type": "code",
   "execution_count": 19,
   "id": "7cca57d7",
   "metadata": {},
   "outputs": [
    {
     "name": "stdout",
     "output_type": "stream",
     "text": [
      "Enter radius of the circle: 10\n",
      "Area of the circle of radius 10 is 314.16.\n"
     ]
    }
   ],
   "source": [
    "# q2\n",
    "def circle1():\n",
    "    try:\n",
    "        import math\n",
    "        radius = eval(input('Enter radius of the circle: '))\n",
    "        area = round(math.pi*radius*radius,2)\n",
    "        print(f'Area of the circle of radius {radius} is {area}.')\n",
    "    except Exception as e:\n",
    "        print(e)\n",
    "circle1()"
   ]
  },
  {
   "cell_type": "code",
   "execution_count": 20,
   "id": "4b917d14",
   "metadata": {},
   "outputs": [
    {
     "name": "stdout",
     "output_type": "stream",
     "text": [
      "Enter radius of the circle: 10\n",
      "name 'radiuss' is not defined\n"
     ]
    }
   ],
   "source": [
    "# q2\n",
    "def circle2():\n",
    "    try:\n",
    "        import math\n",
    "        radius = eval(input('Enter radius of the circle: '))\n",
    "        area = round(math.pi*radiuss*radius,2)\n",
    "        print(f'Area of the circle of radius {radius} is {area}.')\n",
    "    except Exception as e:\n",
    "        print(e)\n",
    "circle2()"
   ]
  },
  {
   "cell_type": "code",
   "execution_count": 1,
   "id": "21091e4d",
   "metadata": {},
   "outputs": [
    {
     "name": "stdout",
     "output_type": "stream",
     "text": [
      "Enter breadth : 10\n",
      "Enter height : 10\n",
      "area of the triangle is 50.0\n"
     ]
    }
   ],
   "source": [
    "# q3\n",
    "breadth = eval(input('Enter breadth : '))\n",
    "height = eval(input('Enter height : '))\n",
    "area = 0.5*breadth*height\n",
    "print('area of the triangle is',area)"
   ]
  },
  {
   "cell_type": "code",
   "execution_count": 2,
   "id": "c55850aa",
   "metadata": {},
   "outputs": [
    {
     "name": "stdout",
     "output_type": "stream",
     "text": [
      "Enter breadth : 10\n",
      "Enter height : 20\n",
      "area of the triangle is 100.0\n"
     ]
    }
   ],
   "source": [
    "# q3\n",
    "def area1():\n",
    "    breadth = eval(input('Enter breadth : '))\n",
    "    height = eval(input('Enter height : '))\n",
    "    area = 0.5*breadth*height\n",
    "    print('area of the triangle is',area)\n",
    "area1()   "
   ]
  },
  {
   "cell_type": "code",
   "execution_count": 4,
   "id": "d9b90b9b",
   "metadata": {},
   "outputs": [
    {
     "name": "stdout",
     "output_type": "stream",
     "text": [
      "Enter breadth : 100\n",
      "Enter height : 10\n",
      "area of the triangle is 500.0\n"
     ]
    }
   ],
   "source": [
    "# q3\n",
    "def area2():\n",
    "    try:\n",
    "        breadth = eval(input('Enter breadth : '))\n",
    "        height = eval(input('Enter height : '))\n",
    "        area = 0.5*breadth*height\n",
    "        print('area of the triangle is',area)\n",
    "    except Exception as e:\n",
    "        print(e)\n",
    "area2()        "
   ]
  },
  {
   "cell_type": "code",
   "execution_count": 5,
   "id": "96bc373c",
   "metadata": {},
   "outputs": [
    {
     "name": "stdout",
     "output_type": "stream",
     "text": [
      "Enter breadth : 100\n",
      "Enter height : 10\n",
      "name 'breadths' is not defined\n"
     ]
    }
   ],
   "source": [
    "# q3\n",
    "def area3():\n",
    "    try:\n",
    "        breadth = eval(input('Enter breadth : '))\n",
    "        height = eval(input('Enter height : '))\n",
    "        area = 0.5*breadths*height\n",
    "        print('area of the triangle is',area)\n",
    "    except Exception as e:\n",
    "        print(e)\n",
    "area3()        "
   ]
  },
  {
   "cell_type": "code",
   "execution_count": 8,
   "id": "d4383b02",
   "metadata": {},
   "outputs": [
    {
     "name": "stdout",
     "output_type": "stream",
     "text": [
      "enter the bill amount : 1000\n",
      "enter the tip amount : 100\n",
      "Total bill is 1100\n"
     ]
    }
   ],
   "source": [
    "# q4\n",
    "bill_amount = eval(input('enter the bill amount : '))\n",
    "tip_amount = eval(input('enter the tip amount : '))\n",
    "total = bill_amount+tip_amount\n",
    "print(f'Total bill is {total}')"
   ]
  },
  {
   "cell_type": "code",
   "execution_count": 2,
   "id": "b5ee41eb",
   "metadata": {},
   "outputs": [
    {
     "name": "stdout",
     "output_type": "stream",
     "text": [
      "enter the bill amount : 1000\n",
      "enter the tip amount : 100\n",
      "Total bill is 1100\n"
     ]
    }
   ],
   "source": [
    "# q4\n",
    "def total_bill():\n",
    "    bill_amount = eval(input('enter the bill amount : '))\n",
    "    tip_amount = eval(input('enter the tip amount : '))\n",
    "    total = bill_amount+tip_amount\n",
    "    print(f'Total bill is {total}')\n",
    "total_bill()"
   ]
  },
  {
   "cell_type": "code",
   "execution_count": 6,
   "id": "cc87af3e",
   "metadata": {},
   "outputs": [
    {
     "name": "stdout",
     "output_type": "stream",
     "text": [
      "enter the bill amount : 100\n",
      "enter the tip amount : 10\n",
      "Total bill is 110\n"
     ]
    }
   ],
   "source": [
    "# q4\n",
    "def total_bill1():\n",
    "    try:\n",
    "        bill_amount = eval(input('enter the bill amount : '))\n",
    "        tip_amount = eval(input('enter the tip amount : '))\n",
    "        total = bill_amount+tip_amount\n",
    "        print(f'Total bill is {total}')\n",
    "    except Exception as e:\n",
    "        print(e)\n",
    "total_bill1()"
   ]
  },
  {
   "cell_type": "code",
   "execution_count": 7,
   "id": "7637d7cc",
   "metadata": {},
   "outputs": [
    {
     "name": "stdout",
     "output_type": "stream",
     "text": [
      "enter the bill amount : 100\n",
      "enter the tip amount : 10\n",
      "name 'totals' is not defined\n"
     ]
    }
   ],
   "source": [
    "# q4\n",
    "def total_bill2():\n",
    "    try:\n",
    "        bill_amount = eval(input('enter the bill amount : '))\n",
    "        tip_amount = eval(input('enter the tip amount : '))\n",
    "        total = bill_amount+tip_amount\n",
    "        print(f'Total bill is {totals}')\n",
    "    except Exception as e:\n",
    "        print(e)\n",
    "total_bill2()"
   ]
  },
  {
   "cell_type": "code",
   "execution_count": 8,
   "id": "b8b9d93a",
   "metadata": {},
   "outputs": [
    {
     "name": "stdout",
     "output_type": "stream",
     "text": [
      "Enter the length of the rectangle : 10\n",
      "Enter the breadth of the rectangle : 20\n",
      "The are of the rectangle of length 10 and breadth 20 is 200\n"
     ]
    }
   ],
   "source": [
    "# q5\n",
    "length = eval(input('Enter the length of the rectangle : '))\n",
    "breadth = eval(input('Enter the breadth of the rectangle : '))\n",
    "area = length*breadth\n",
    "print(f'The are of the rectangle of length {length} and breadth {breadth} is {area}.')"
   ]
  },
  {
   "cell_type": "code",
   "execution_count": 9,
   "id": "356ec1c7",
   "metadata": {},
   "outputs": [
    {
     "name": "stdout",
     "output_type": "stream",
     "text": [
      "Enetr the length of the rectangle : 100\n",
      "Enter the breadth of the rectangle : 20\n",
      "The area of the rectangle of length 100 and breadth 20 is 2000.\n"
     ]
    }
   ],
   "source": [
    "# q5\n",
    "def area_of_rectangle():\n",
    "    length = eval(input('Enetr the length of the rectangle : '))\n",
    "    breadth = eval(input('Enter the breadth of the rectangle : '))\n",
    "    area = length*breadth\n",
    "    print(f'The area of the rectangle of length {length} and breadth {breadth} is {area}.')\n",
    "area_of_rectangle()"
   ]
  },
  {
   "cell_type": "code",
   "execution_count": 12,
   "id": "7f822208",
   "metadata": {},
   "outputs": [
    {
     "name": "stdout",
     "output_type": "stream",
     "text": [
      "enter length of the rectangle : 20\n",
      "Enter breadth of the rectangle : 10\n",
      "The area of the rectangle of length 20 and breadth 10 is 200 .\n"
     ]
    }
   ],
   "source": [
    "# q5\n",
    "def area_of_rectangle1():\n",
    "    try:\n",
    "        length = eval(input('enter length of the rectangle : '))\n",
    "        breadth = eval(input('Enter breadth of the rectangle : '))\n",
    "        area = length*breadth\n",
    "        print(f'The area of the rectangle of length {length} and breadth {breadth} is {area} .')\n",
    "    except Exception as e:\n",
    "        print(e)\n",
    "area_of_rectangle1()"
   ]
  },
  {
   "cell_type": "code",
   "execution_count": 15,
   "id": "63033df1",
   "metadata": {},
   "outputs": [
    {
     "name": "stdout",
     "output_type": "stream",
     "text": [
      "Enter the length of the rectangle : 100\n",
      "enter the breadth of the rectangle : 20\n",
      "name 'breadths' is not defined\n"
     ]
    }
   ],
   "source": [
    "# q5\n",
    "def area_of_rectangle2():\n",
    "    try:\n",
    "        length = eval(input('Enter the length of the rectangle : '))\n",
    "        breadth = eval(input('enter the breadth of the rectangle : '))\n",
    "        area = length*breadths\n",
    "        print(f'The area of the rectangle of length {length} and breadth {breadth} is {area}.')\n",
    "    except Exception as e:\n",
    "        print(e)\n",
    "area_of_rectangle2()"
   ]
  },
  {
   "cell_type": "code",
   "execution_count": 22,
   "id": "792b670c",
   "metadata": {},
   "outputs": [
    {
     "name": "stdout",
     "output_type": "stream",
     "text": [
      "enter a number : 45\n",
      "The number 45 is odd .\n"
     ]
    }
   ],
   "source": [
    "# q6\n",
    "num = eval(input('enter a number : '))\n",
    "if num%2==0:\n",
    "    print(f'The number {num} is even .')\n",
    "else:\n",
    "    print(f'The number {num} is odd .')"
   ]
  },
  {
   "cell_type": "code",
   "execution_count": 23,
   "id": "4238225b",
   "metadata": {},
   "outputs": [
    {
     "name": "stdout",
     "output_type": "stream",
     "text": [
      "enter a number : 34\n",
      "The number 34 is even .\n"
     ]
    }
   ],
   "source": [
    "# q6\n",
    "def number_check():\n",
    "    num = eval(input('enter a number : '))\n",
    "    if num%2==0:\n",
    "        print(f'The number {num} is even .')\n",
    "    else:\n",
    "        print(f'The number {num} is odd .')\n",
    "number_check()"
   ]
  },
  {
   "cell_type": "code",
   "execution_count": 25,
   "id": "ee28273e",
   "metadata": {},
   "outputs": [
    {
     "name": "stdout",
     "output_type": "stream",
     "text": [
      "Enter a number : 20\n",
      "name 'numb' is not defined\n"
     ]
    }
   ],
   "source": [
    "# q6\n",
    "def number_check1():\n",
    "    try:\n",
    "        num = eval(input('Enter a number : '))\n",
    "        if numb%2==0:\n",
    "            print(f'The number {num} is even .')\n",
    "        else:\n",
    "            print(f'The number {num} is odd .')\n",
    "    except Exception as e:\n",
    "        print(e)\n",
    "number_check1()"
   ]
  },
  {
   "cell_type": "code",
   "execution_count": 27,
   "id": "3ee2d7df",
   "metadata": {},
   "outputs": [
    {
     "name": "stdout",
     "output_type": "stream",
     "text": [
      "Enetr a number : 34\n",
      "The entered number 34 is even .\n"
     ]
    }
   ],
   "source": [
    "# q6\n",
    "def number_check2():\n",
    "    try:\n",
    "        num  = eval(input('Enetr a number : '))\n",
    "        if num%2==0:\n",
    "            print(f'The entered number {num} is even .')\n",
    "        else:\n",
    "            print(f'The entered number {num} is odd .')\n",
    "    except Exception as e:\n",
    "        print(e)\n",
    "number_check2()"
   ]
  },
  {
   "cell_type": "code",
   "execution_count": 29,
   "id": "0e1d5f75",
   "metadata": {},
   "outputs": [
    {
     "name": "stdout",
     "output_type": "stream",
     "text": [
      "Enter the first number : 10\n",
      "Enter the second number : 12\n",
      "12 is greater than 10 .\n"
     ]
    }
   ],
   "source": [
    "# q7\n",
    "num1 = eval(input('Enter the first number : '))\n",
    "num2 = eval(input('Enter the second number : '))\n",
    "if num1>num2:\n",
    "    print(f'{num1} is greater than the {num2} .')\n",
    "else:\n",
    "    print(f'{num2} is greater than {num1} .')"
   ]
  },
  {
   "cell_type": "code",
   "execution_count": 31,
   "id": "33aa226e",
   "metadata": {},
   "outputs": [
    {
     "name": "stdout",
     "output_type": "stream",
     "text": [
      "Enter the first number : 45\n",
      "Enter the second number : 23\n",
      "45 is greater than 23 .\n"
     ]
    }
   ],
   "source": [
    "# q7\n",
    "import random\n",
    "def num_check():\n",
    "    num1 = eval(input('Enter the first number : '))\n",
    "    num2 = eval(input('Enter the second number : '))\n",
    "    if num1>num2:\n",
    "        print(f'{num1} is greater than {num2} .')\n",
    "    else:\n",
    "        print(f'{num2} is greater than {num1} .')\n",
    "num_check()"
   ]
  },
  {
   "cell_type": "code",
   "execution_count": 32,
   "id": "c167b270",
   "metadata": {},
   "outputs": [
    {
     "name": "stdout",
     "output_type": "stream",
     "text": [
      "26 is greater than 11 .\n"
     ]
    }
   ],
   "source": [
    "# q7\n",
    "import random\n",
    "def num_check1():\n",
    "    num1 = random.randint(10,30)\n",
    "    num2 = random.randint(20,40)\n",
    "    if num1>num2:\n",
    "        print(f'{num1} is greater than {num2} .')\n",
    "    else:\n",
    "        print(f'{num2} is greater than {num1} .')\n",
    "num_check1()"
   ]
  },
  {
   "cell_type": "code",
   "execution_count": 34,
   "id": "52082488",
   "metadata": {},
   "outputs": [
    {
     "name": "stdout",
     "output_type": "stream",
     "text": [
      "Enter the first number : 100\n",
      "Enter the second number : 99\n",
      "100 is greater than the 99 .\n"
     ]
    }
   ],
   "source": [
    "# q7\n",
    "def num_check2():\n",
    "    try:\n",
    "        num1 = eval(input('Enter the first number : '))\n",
    "        num2 = eval(input('Enter the second number : '))\n",
    "        if num1>num2:\n",
    "            print(f'{num1} is greater than the {num2} .')\n",
    "        else:\n",
    "            print(f'{num2} is greater than {num1} .')\n",
    "    except Exception as e:\n",
    "        print(e)\n",
    "num_check2()"
   ]
  },
  {
   "cell_type": "code",
   "execution_count": 35,
   "id": "b4e79c4c",
   "metadata": {},
   "outputs": [
    {
     "name": "stdout",
     "output_type": "stream",
     "text": [
      "Enter the first number : 20\n",
      "Enter the second number : 30\n",
      "name 'numb1' is not defined\n"
     ]
    }
   ],
   "source": [
    "# q7\n",
    "def num_check3():\n",
    "    try:\n",
    "        num1 = eval(input('Enter the first number : '))\n",
    "        num2 = eval(input('Enter the second number : '))\n",
    "        if numb1>num2:\n",
    "            print(f'{num1} is greater than the {num2} .')\n",
    "        else:\n",
    "            print(f'{num2} is greater than {num1} .')\n",
    "    except Exception as e:\n",
    "        print(e)\n",
    "num_check3()"
   ]
  },
  {
   "cell_type": "code",
   "execution_count": null,
   "id": "c0eeffed",
   "metadata": {},
   "outputs": [],
   "source": [
    "# q8"
   ]
  }
 ],
 "metadata": {
  "kernelspec": {
   "display_name": "Python 3 (ipykernel)",
   "language": "python",
   "name": "python3"
  },
  "language_info": {
   "codemirror_mode": {
    "name": "ipython",
    "version": 3
   },
   "file_extension": ".py",
   "mimetype": "text/x-python",
   "name": "python",
   "nbconvert_exporter": "python",
   "pygments_lexer": "ipython3",
   "version": "3.9.13"
  }
 },
 "nbformat": 4,
 "nbformat_minor": 5
}
