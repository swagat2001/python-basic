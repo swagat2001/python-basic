{
 "cells": [
  {
   "cell_type": "markdown",
   "id": "08c07dfb",
   "metadata": {},
   "source": [
    "# **statistical operation using numpy**"
   ]
  },
  {
   "cell_type": "code",
   "execution_count": 30,
   "id": "8a57fbde",
   "metadata": {},
   "outputs": [],
   "source": [
    "import numpy as np\n",
    "\n",
    "arr1 = np.array([3, 5, 2, 7, 5, 8, 4, 5, 6])\n",
    "arr2 = np.array([9, 6, 4, 8, 5, 7, 3, 2, 5])"
   ]
  },
  {
   "cell_type": "markdown",
   "id": "5e51db31",
   "metadata": {},
   "source": [
    "**len**"
   ]
  },
  {
   "cell_type": "code",
   "execution_count": 31,
   "id": "091ce547",
   "metadata": {},
   "outputs": [
    {
     "data": {
      "text/plain": [
       "9"
      ]
     },
     "execution_count": 31,
     "metadata": {},
     "output_type": "execute_result"
    }
   ],
   "source": [
    "length = len(arr1)  \n",
    "length"
   ]
  },
  {
   "cell_type": "markdown",
   "id": "e99991a1",
   "metadata": {},
   "source": [
    "**min**"
   ]
  },
  {
   "cell_type": "code",
   "execution_count": 32,
   "id": "f123bdc4",
   "metadata": {},
   "outputs": [
    {
     "data": {
      "text/plain": [
       "2"
      ]
     },
     "execution_count": 32,
     "metadata": {},
     "output_type": "execute_result"
    }
   ],
   "source": [
    "minimum = np.min(arr1)\n",
    "minimum"
   ]
  },
  {
   "cell_type": "markdown",
   "id": "80ddeb46",
   "metadata": {},
   "source": [
    "**sum**"
   ]
  },
  {
   "cell_type": "code",
   "execution_count": 33,
   "id": "73f44c50",
   "metadata": {},
   "outputs": [
    {
     "data": {
      "text/plain": [
       "45"
      ]
     },
     "execution_count": 33,
     "metadata": {},
     "output_type": "execute_result"
    }
   ],
   "source": [
    "total = np.sum(arr1)\n",
    "total"
   ]
  },
  {
   "cell_type": "markdown",
   "id": "85366cbd",
   "metadata": {},
   "source": [
    "**max**"
   ]
  },
  {
   "cell_type": "code",
   "execution_count": 34,
   "id": "5366db01",
   "metadata": {},
   "outputs": [
    {
     "data": {
      "text/plain": [
       "8"
      ]
     },
     "execution_count": 34,
     "metadata": {},
     "output_type": "execute_result"
    }
   ],
   "source": [
    "maximum = np.max(arr1)\n",
    "maximum"
   ]
  },
  {
   "cell_type": "markdown",
   "id": "0a59f7b5",
   "metadata": {},
   "source": [
    "**count**"
   ]
  },
  {
   "cell_type": "code",
   "execution_count": 35,
   "id": "ed662d3e",
   "metadata": {},
   "outputs": [
    {
     "data": {
      "text/plain": [
       "9"
      ]
     },
     "execution_count": 35,
     "metadata": {},
     "output_type": "execute_result"
    }
   ],
   "source": [
    "count = np.count_nonzero(~np.isnan(arr1))  \n",
    "count"
   ]
  },
  {
   "cell_type": "markdown",
   "id": "7875dc1f",
   "metadata": {},
   "source": [
    "**mean**"
   ]
  },
  {
   "cell_type": "code",
   "execution_count": 36,
   "id": "e542b958",
   "metadata": {},
   "outputs": [
    {
     "data": {
      "text/plain": [
       "5.0"
      ]
     },
     "execution_count": 36,
     "metadata": {},
     "output_type": "execute_result"
    }
   ],
   "source": [
    "mean = np.mean(arr1)\n",
    "mean"
   ]
  },
  {
   "cell_type": "markdown",
   "id": "c3c6b9e8",
   "metadata": {},
   "source": [
    "**median**"
   ]
  },
  {
   "cell_type": "code",
   "execution_count": 37,
   "id": "e5f0ff0f",
   "metadata": {},
   "outputs": [
    {
     "data": {
      "text/plain": [
       "5.0"
      ]
     },
     "execution_count": 37,
     "metadata": {},
     "output_type": "execute_result"
    }
   ],
   "source": [
    "median = np.median(arr1)\n",
    "median"
   ]
  },
  {
   "cell_type": "markdown",
   "id": "d95891b3",
   "metadata": {},
   "source": [
    "**mode**"
   ]
  },
  {
   "cell_type": "code",
   "execution_count": 38,
   "id": "88655bb8",
   "metadata": {},
   "outputs": [
    {
     "data": {
      "text/plain": [
       "5"
      ]
     },
     "execution_count": 38,
     "metadata": {},
     "output_type": "execute_result"
    }
   ],
   "source": [
    "values, counts = np.unique(arr1, return_counts=True)\n",
    "mode = values[np.argmax(counts)]\n",
    "mode"
   ]
  },
  {
   "cell_type": "markdown",
   "id": "1701f951",
   "metadata": {},
   "source": [
    "**variance**"
   ]
  },
  {
   "cell_type": "code",
   "execution_count": 39,
   "id": "ed47dca2",
   "metadata": {},
   "outputs": [
    {
     "data": {
      "text/plain": [
       "(3.111111111111111, 3.5)"
      ]
     },
     "execution_count": 39,
     "metadata": {},
     "output_type": "execute_result"
    }
   ],
   "source": [
    "variance = np.var(arr1)  \n",
    "sample_variance = np.var(arr1, ddof=1)  \n",
    "variance,sample_variance"
   ]
  },
  {
   "cell_type": "markdown",
   "id": "e982cc24",
   "metadata": {},
   "source": [
    "**standard deviation**"
   ]
  },
  {
   "cell_type": "code",
   "execution_count": 40,
   "id": "be233eae",
   "metadata": {},
   "outputs": [
    {
     "data": {
      "text/plain": [
       "(1.7638342073763937, 1.8708286933869707)"
      ]
     },
     "execution_count": 40,
     "metadata": {},
     "output_type": "execute_result"
    }
   ],
   "source": [
    "std_dev = np.std(arr1)  \n",
    "sample_std = np.std(arr1, ddof=1)  \n",
    "std_dev,sample_std"
   ]
  },
  {
   "cell_type": "markdown",
   "id": "7dfa90f7",
   "metadata": {},
   "source": [
    "**covariance**"
   ]
  },
  {
   "cell_type": "code",
   "execution_count": 41,
   "id": "3ade885e",
   "metadata": {},
   "outputs": [
    {
     "data": {
      "text/plain": [
       "array([[3.5       , 1.125     ],\n",
       "       [1.125     , 5.27777778]])"
      ]
     },
     "execution_count": 41,
     "metadata": {},
     "output_type": "execute_result"
    }
   ],
   "source": [
    "cov_matrix = np.cov(arr1, arr2) \n",
    "cov_matrix"
   ]
  },
  {
   "cell_type": "markdown",
   "id": "55b38852",
   "metadata": {},
   "source": [
    "**correlation**"
   ]
  },
  {
   "cell_type": "code",
   "execution_count": 42,
   "id": "20051d0d",
   "metadata": {},
   "outputs": [
    {
     "data": {
      "text/plain": [
       "0.26175377283619994"
      ]
     },
     "execution_count": 42,
     "metadata": {},
     "output_type": "execute_result"
    }
   ],
   "source": [
    "correlation = np.corrcoef(arr1, arr2)[0, 1]\n",
    "correlation"
   ]
  },
  {
   "cell_type": "markdown",
   "id": "ba9e8bc5",
   "metadata": {},
   "source": [
    "**percentile**"
   ]
  },
  {
   "cell_type": "code",
   "execution_count": 43,
   "id": "a09703e0",
   "metadata": {},
   "outputs": [
    {
     "data": {
      "text/plain": [
       "4.0"
      ]
     },
     "execution_count": 43,
     "metadata": {},
     "output_type": "execute_result"
    }
   ],
   "source": [
    "percentile_25 = np.percentile(arr1, 25)  \n",
    "percentile_25"
   ]
  },
  {
   "cell_type": "markdown",
   "id": "13e17b76",
   "metadata": {},
   "source": [
    "**quantile**"
   ]
  },
  {
   "cell_type": "code",
   "execution_count": 44,
   "id": "0eb4db88",
   "metadata": {},
   "outputs": [
    {
     "data": {
      "text/plain": [
       "4.0"
      ]
     },
     "execution_count": 44,
     "metadata": {},
     "output_type": "execute_result"
    }
   ],
   "source": [
    "quantile_25 = np.quantile(arr1, 0.25)  \n",
    "quantile_25"
   ]
  }
 ],
 "metadata": {
  "kernelspec": {
   "display_name": "Python 3 (ipykernel)",
   "language": "python",
   "name": "python3"
  },
  "language_info": {
   "codemirror_mode": {
    "name": "ipython",
    "version": 3
   },
   "file_extension": ".py",
   "mimetype": "text/x-python",
   "name": "python",
   "nbconvert_exporter": "python",
   "pygments_lexer": "ipython3",
   "version": "3.9.13"
  }
 },
 "nbformat": 4,
 "nbformat_minor": 5
}
