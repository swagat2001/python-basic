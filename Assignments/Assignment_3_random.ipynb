{
 "cells": [
  {
   "cell_type": "code",
   "execution_count": 3,
   "id": "60df95cd",
   "metadata": {},
   "outputs": [
    {
     "name": "stdout",
     "output_type": "stream",
     "text": [
      "The average of 167, 235, and 314 is 238.67 .\n",
      "The average of 167, 235 and 314 is 238.67\n"
     ]
    }
   ],
   "source": [
    "# q1\n",
    "import random\n",
    "num1 = random.randint(100,200)\n",
    "num2 = random.randint(200,300)\n",
    "num3 = random.randint(300,400)\n",
    "avg1 = (num1 + num2 + num3)/3\n",
    "avg = round(avg1,2)\n",
    "\n",
    "# format\n",
    "print('The average of {}, {}, and {} is {} .'.format(num1, num2, num3,avg))\n",
    "\n",
    "# f string\n",
    "print(f'The average of {num1}, {num2} and {num3} is {avg}')"
   ]
  },
  {
   "cell_type": "code",
   "execution_count": 4,
   "id": "df887271",
   "metadata": {},
   "outputs": [
    {
     "name": "stdout",
     "output_type": "stream",
     "text": [
      "The area of the circle is 1017.88 of radius 18\n",
      "The area of the circle is 1017.88 of radius 18\n"
     ]
    }
   ],
   "source": [
    "# q2\n",
    "import random\n",
    "import math\n",
    "radius = random.randint(10,20)\n",
    "area1 = math.pi*radius*radius\n",
    "area = round(area1,2)\n",
    "\n",
    "# format\n",
    "print('The area of the circle is {} of radius {}'.format(area,radius))\n",
    "\n",
    "# f string\n",
    "print(f'The area of the circle is {area} of radius {radius}')"
   ]
  },
  {
   "cell_type": "code",
   "execution_count": 5,
   "id": "db933e2c",
   "metadata": {},
   "outputs": [
    {
     "name": "stdout",
     "output_type": "stream",
     "text": [
      "The area of the right angle triangle of breadth 16 and height 5 is 40.0\n",
      "The area of the right angle triangle of breadth 16 and height 5 is 40.0\n"
     ]
    }
   ],
   "source": [
    "# q3\n",
    "import random\n",
    "breadth = random.randint(10,20)\n",
    "height = random.randint(5,10)\n",
    "area1 = 0.5*breadth*height\n",
    "area = round(area1,2)\n",
    "\n",
    "# format\n",
    "print('The area of the right angle triangle of breadth {} and height {} is {}'.format(breadth,height,area))\n",
    "\n",
    "# f string\n",
    "print(f'The area of the right angle triangle of breadth {breadth} and height {height} is {area}')"
   ]
  },
  {
   "cell_type": "code",
   "execution_count": 6,
   "id": "f1fb12ab",
   "metadata": {},
   "outputs": [
    {
     "name": "stdout",
     "output_type": "stream",
     "text": [
      "The total bill of bill amount 1086 and tip amount 127 is 1213\n",
      "The total bill of bill amount 1086 and tip amount 127 is 1213\n"
     ]
    }
   ],
   "source": [
    "# q4\n",
    "import random\n",
    "bill_amount = random.randint(1000,1200)\n",
    "tip_amount = random.randint(100,200)\n",
    "net_bill = bill_amount + tip_amount\n",
    "total_bill = round(net_bill,2)\n",
    "\n",
    "# format\n",
    "print('The total bill of bill amount {} and tip amount {} is {}'.format(bill_amount,tip_amount,total_bill))\n",
    "\n",
    "# f string\n",
    "print(f'The total bill of bill amount {bill_amount} and tip amount {tip_amount} is {total_bill}')"
   ]
  },
  {
   "cell_type": "code",
   "execution_count": 7,
   "id": "f1d105c5",
   "metadata": {},
   "outputs": [
    {
     "name": "stdout",
     "output_type": "stream",
     "text": [
      "Area of the rectangle of length 27 and breadth 14 is 378\n",
      "Area of the rectangle of length 27 and breadth 14 is 378\n"
     ]
    }
   ],
   "source": [
    "# q5\n",
    "length = random.randint(20,40)\n",
    "breadth = random.randint(10,20)\n",
    "area1 = length * breadth\n",
    "area = round(area1,2)\n",
    "\n",
    "# format\n",
    "print('Area of the rectangle of length {} and breadth {} is {}'.format(length,breadth,area))\n",
    "\n",
    "# f string\n",
    "print(f'Area of the rectangle of length {length} and breadth {breadth} is {area}')"
   ]
  },
  {
   "cell_type": "code",
   "execution_count": 18,
   "id": "7e718e17",
   "metadata": {},
   "outputs": [
    {
     "name": "stdout",
     "output_type": "stream",
     "text": [
      "194 $ = 16490INR\n",
      "194$=16490INR\n"
     ]
    }
   ],
   "source": [
    "# q6\n",
    "import random\n",
    "dollar = random.randint(100,200)\n",
    "rupees1 = dollar*85\n",
    "rupees = round(rupees1,2)\n",
    "\n",
    "print(f'{dollar} $ = {rupees}INR')\n",
    "print('{}$={}INR'.format(dollar,rupees))"
   ]
  },
  {
   "cell_type": "code",
   "execution_count": 17,
   "id": "3a8bdd9c",
   "metadata": {},
   "outputs": [
    {
     "name": "stdout",
     "output_type": "stream",
     "text": [
      "100 kg = 220.0pounds\n",
      "100 kg=220.0 pounds\n"
     ]
    }
   ],
   "source": [
    "# q7\n",
    "import random\n",
    "weight = random.randint(100,200)\n",
    "pound = weight*2.2\n",
    "pounds = round(pound,2)\n",
    "\n",
    "print(f'{weight} kg = {pounds}pounds')\n",
    "print('{} kg={} pounds'.format(weight,pounds))"
   ]
  },
  {
   "cell_type": "code",
   "execution_count": null,
   "id": "99c8b344",
   "metadata": {},
   "outputs": [],
   "source": []
  }
 ],
 "metadata": {
  "kernelspec": {
   "display_name": "Python 3 (ipykernel)",
   "language": "python",
   "name": "python3"
  },
  "language_info": {
   "codemirror_mode": {
    "name": "ipython",
    "version": 3
   },
   "file_extension": ".py",
   "mimetype": "text/x-python",
   "name": "python",
   "nbconvert_exporter": "python",
   "pygments_lexer": "ipython3",
   "version": "3.9.13"
  }
 },
 "nbformat": 4,
 "nbformat_minor": 5
}
