{
 "cells": [
  {
   "cell_type": "markdown",
   "id": "8859579c",
   "metadata": {},
   "source": [
    "# Assignment 2 using eval input operator"
   ]
  },
  {
   "cell_type": "code",
   "execution_count": 5,
   "id": "eb60c512",
   "metadata": {},
   "outputs": [
    {
     "name": "stdout",
     "output_type": "stream",
     "text": [
      "Enter num1 : 100\n",
      "Enter num2 : 200\n",
      "Enter num3 : 300\n",
      "The average of 100, 200, and 300 is 200.0 .\n",
      "The average of 100, 200 and 300 is 200.0\n"
     ]
    }
   ],
   "source": [
    "# q1\n",
    "num1 = eval(input('Enter num1 : '))\n",
    "num2 = eval(input('Enter num2 : '))\n",
    "num3 = eval(input('Enter num3 : '))\n",
    "avg = (num1 + num2 + num3)/3\n",
    "\n",
    "# format\n",
    "print('The average of {}, {}, and {} is {} .'.format(num1, num2, num3,avg))\n",
    "\n",
    "# f string\n",
    "print(f'The average of {num1}, {num2} and {num3} is {avg}')"
   ]
  },
  {
   "cell_type": "code",
   "execution_count": 7,
   "id": "6671e891",
   "metadata": {},
   "outputs": [
    {
     "name": "stdout",
     "output_type": "stream",
     "text": [
      "Enter the radius of teh circle : 100\n",
      "Enter the exact value of pi : 3.14\n",
      "The area of the circle is 31400.0 of radius 100\n",
      "The area of the circle is 31400.0 of radius 100\n"
     ]
    }
   ],
   "source": [
    "# q2\n",
    "radius = eval(input('Enter the radius of teh circle : '))\n",
    "pi = eval(input('Enter the exact value of pi : '))\n",
    "area = pi*radius*radius\n",
    "\n",
    "# format\n",
    "print('The area of the circle is {} of radius {}'.format(area,radius))\n",
    "\n",
    "# f string\n",
    "print(f'The area of the circle is {area} of radius {radius}')"
   ]
  },
  {
   "cell_type": "code",
   "execution_count": 8,
   "id": "63366459",
   "metadata": {},
   "outputs": [
    {
     "name": "stdout",
     "output_type": "stream",
     "text": [
      "Enter breadth of the right angle triangle : 20\n",
      "Enter height of the right angle triangle : 10\n",
      "The area of the right angle triangle of breadth 20 and height 10 is 100.0\n",
      "The area of the right angle triangle of breadth 20 and height 10 is 100.0\n"
     ]
    }
   ],
   "source": [
    "# q3\n",
    "breadth = eval(input('Enter breadth of the right angle triangle : '))\n",
    "height = eval(input('Enter height of the right angle triangle : '))\n",
    "area = 0.5*breadth*height\n",
    "\n",
    "# format\n",
    "print('The area of the right angle triangle of breadth {} and height {} is {}'.format(breadth,height,area))\n",
    "\n",
    "# f string\n",
    "print(f'The area of the right angle triangle of breadth {breadth} and height {height} is {area}')"
   ]
  },
  {
   "cell_type": "code",
   "execution_count": 9,
   "id": "0e452cac",
   "metadata": {},
   "outputs": [
    {
     "name": "stdout",
     "output_type": "stream",
     "text": [
      "Enter the bill amount : 400\n",
      "Enter the tip amount : 600\n",
      "The total bill of bill amount 400 and tip amount 600 is 1000\n",
      "The total bill of bill amount 400 and tip amount 600 is 1000\n"
     ]
    }
   ],
   "source": [
    "# q4\n",
    "bill_amount = eval(input('Enter the bill amount : '))\n",
    "tip_amount = eval(input('Enter the tip amount : '))\n",
    "total_bill = bill_amount + tip_amount\n",
    "\n",
    "# format\n",
    "print('The total bill of bill amount {} and tip amount {} is {}'.format(bill_amount,tip_amount,total_bill))\n",
    "\n",
    "# f string\n",
    "print(f'The total bill of bill amount {bill_amount} and tip amount {tip_amount} is {total_bill}')"
   ]
  },
  {
   "cell_type": "code",
   "execution_count": 10,
   "id": "4f27b1d1",
   "metadata": {},
   "outputs": [
    {
     "name": "stdout",
     "output_type": "stream",
     "text": [
      "Enter the bill amount : 1000\n",
      "Enter the tip percentage : 10\n",
      "The total bill of bill amount 1000 and tip amount 100.0 is 1100.0\n",
      "The total bill of bill amount 1000 and tip amount 100.0 is 1100.0\n"
     ]
    }
   ],
   "source": [
    "# q4 alternate\n",
    "bill_amount = eval(input('Enter the bill amount : '))\n",
    "tip_percentage = eval(input('Enter the tip percentage : '))\n",
    "tip_amount = (bill_amount*tip_percentage)/100\n",
    "total_bill = bill_amount + tip_amount\n",
    "\n",
    "# format\n",
    "print('The total bill of bill amount {} and tip amount {} is {}'.format(bill_amount,tip_amount,total_bill))\n",
    "\n",
    "# f string\n",
    "print(f'The total bill of bill amount {bill_amount} and tip amount {tip_amount} is {total_bill}')"
   ]
  },
  {
   "cell_type": "code",
   "execution_count": 11,
   "id": "8af824c9",
   "metadata": {},
   "outputs": [
    {
     "name": "stdout",
     "output_type": "stream",
     "text": [
      "Enter length of the rectangle : 20\n",
      "Enter breadth of the rectangle : 10\n",
      "Area of the rectangle of length 20 and breadth 10 is 200\n",
      "Area of the rectangle of length 20 and breadth 10 is 200\n"
     ]
    }
   ],
   "source": [
    "# q5\n",
    "length = eval(input('Enter length of the rectangle : '))\n",
    "breadth = eval(input('Enter breadth of the rectangle : '))\n",
    "\n",
    "area = length * breadth\n",
    "\n",
    "# format\n",
    "print('Area of the rectangle of length {} and breadth {} is {}'.format(length,breadth,area))\n",
    "\n",
    "# f string\n",
    "print(f'Area of the rectangle of length {length} and breadth {breadth} is {area}')"
   ]
  },
  {
   "cell_type": "code",
   "execution_count": null,
   "id": "4121276b",
   "metadata": {},
   "outputs": [],
   "source": []
  }
 ],
 "metadata": {
  "kernelspec": {
   "display_name": "Python 3 (ipykernel)",
   "language": "python",
   "name": "python3"
  },
  "language_info": {
   "codemirror_mode": {
    "name": "ipython",
    "version": 3
   },
   "file_extension": ".py",
   "mimetype": "text/x-python",
   "name": "python",
   "nbconvert_exporter": "python",
   "pygments_lexer": "ipython3",
   "version": "3.9.13"
  }
 },
 "nbformat": 4,
 "nbformat_minor": 5
}
