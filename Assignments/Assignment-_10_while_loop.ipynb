{
 "cells": [
  {
   "cell_type": "markdown",
   "id": "d39c8138",
   "metadata": {},
   "source": [
    "# Assignment - 10(Loops)"
   ]
  },
  {
   "cell_type": "code",
   "execution_count": 2,
   "id": "f9e384ad",
   "metadata": {},
   "outputs": [
    {
     "name": "stdout",
     "output_type": "stream",
     "text": [
      "1 2 3 4 5 "
     ]
    }
   ],
   "source": [
    "# q1\n",
    "i = 1\n",
    "while True:\n",
    "    print(i,end =\" \")\n",
    "    i+=1\n",
    "    if i == 6:\n",
    "        break"
   ]
  },
  {
   "cell_type": "code",
   "execution_count": 3,
   "id": "4628327e",
   "metadata": {},
   "outputs": [
    {
     "name": "stdout",
     "output_type": "stream",
     "text": [
      "good evening\n",
      "good evening\n",
      "good evening\n",
      "good evening\n",
      "good evening\n"
     ]
    }
   ],
   "source": [
    "# q2\n",
    "i = 1\n",
    "while True:\n",
    "    print('good evening')\n",
    "    i+=1\n",
    "    if i == 6:\n",
    "        break"
   ]
  },
  {
   "cell_type": "code",
   "execution_count": 4,
   "id": "ee4a23a2",
   "metadata": {},
   "outputs": [
    {
     "name": "stdout",
     "output_type": "stream",
     "text": [
      "1:good evening\n",
      "2:good evening\n",
      "3:good evening\n",
      "4:good evening\n",
      "5:good evening\n"
     ]
    }
   ],
   "source": [
    "# q3\n",
    "i = 1\n",
    "while True:\n",
    "    print(f'{i}:good evening')\n",
    "    i+=1\n",
    "    if i == 6:\n",
    "        break"
   ]
  },
  {
   "cell_type": "code",
   "execution_count": 5,
   "id": "590a6531",
   "metadata": {},
   "outputs": [
    {
     "name": "stdout",
     "output_type": "stream",
     "text": [
      "The square of 1 is 1\n",
      "The square of 2 is 4\n",
      "The square of 3 is 9\n",
      "The square of 4 is 16\n",
      "The square of 5 is 25\n"
     ]
    }
   ],
   "source": [
    "# q4\n",
    "import math\n",
    "i = 1\n",
    "while True:\n",
    "    sqr = pow(i,2)\n",
    "    print(f'The square of {i} is {sqr}')\n",
    "    i+=1\n",
    "    if i==6:\n",
    "        break"
   ]
  },
  {
   "cell_type": "code",
   "execution_count": 6,
   "id": "ce84ac2a",
   "metadata": {},
   "outputs": [
    {
     "name": "stdout",
     "output_type": "stream",
     "text": [
      "Enter a number to find the square : 10\n",
      "The square of 10 is 100\n",
      "Enter a number to find the square : 9\n",
      "The square of 9 is 81\n",
      "Enter a number to find the square : 2\n",
      "The square of 2 is 4\n",
      "Enter a number to find the square : 3\n",
      "The square of 3 is 9\n",
      "Enter a number to find the square : 4\n",
      "The square of 4 is 16\n"
     ]
    }
   ],
   "source": [
    "# q4\n",
    "import math\n",
    "i = 1\n",
    "while True:\n",
    "    num = eval(input('Enter a number to find the square : '))\n",
    "    sqr = pow(num,2)\n",
    "    print(f'The square of {num} is {sqr}')\n",
    "    i+=1\n",
    "    if i==6:\n",
    "        break"
   ]
  },
  {
   "cell_type": "code",
   "execution_count": 7,
   "id": "38b13643",
   "metadata": {},
   "outputs": [
    {
     "name": "stdout",
     "output_type": "stream",
     "text": [
      "The square of 14 is 196\n",
      "The square of 17 is 289\n",
      "The square of 14 is 196\n",
      "The square of 16 is 256\n",
      "The square of 28 is 784\n"
     ]
    }
   ],
   "source": [
    "# q5\n",
    "import math\n",
    "import random\n",
    "i = 1\n",
    "while True:\n",
    "    num = random.randint(10,100)\n",
    "    sqr = pow(num,2)\n",
    "    print(f'The square of {num} is {sqr}')\n",
    "    i+=1\n",
    "    if i==6:\n",
    "        break"
   ]
  },
  {
   "cell_type": "markdown",
   "id": "48f884cc",
   "metadata": {},
   "source": [
    "**Summation wrapper**"
   ]
  },
  {
   "cell_type": "code",
   "execution_count": 3,
   "id": "97879055",
   "metadata": {},
   "outputs": [
    {
     "name": "stdout",
     "output_type": "stream",
     "text": [
      "55\n"
     ]
    }
   ],
   "source": [
    "# q1\n",
    "i = 1\n",
    "summ = 0\n",
    "while True:\n",
    "    summ = summ+i\n",
    "#     print(summ)\n",
    "    i+=1\n",
    "    if i == 11:\n",
    "        break\n",
    "print(summ)"
   ]
  },
  {
   "cell_type": "code",
   "execution_count": 8,
   "id": "412dc693",
   "metadata": {},
   "outputs": [
    {
     "name": "stdout",
     "output_type": "stream",
     "text": [
      "Enter a number :2\n",
      "Enter a number :4\n",
      "Enter a number :6\n",
      "Enter a number :3\n",
      "Enter a number :7\n",
      "summ of even number is 12\n",
      "summ of odd number is 10\n"
     ]
    }
   ],
   "source": [
    "# q2\n",
    "even = 0\n",
    "odd = 0\n",
    "i = 1\n",
    "while True:\n",
    "    num = eval(input('Enter a number :'))\n",
    "    if num % 2 == 0:\n",
    "        even = even+num\n",
    "    else:\n",
    "        odd = odd+num\n",
    "    i+=1\n",
    "    if i == 6:\n",
    "        break\n",
    "        \n",
    "print(f'summ of even number is {even}')\n",
    "print(f'summ of odd number is {odd}')"
   ]
  },
  {
   "cell_type": "code",
   "execution_count": 10,
   "id": "184eb4f3",
   "metadata": {},
   "outputs": [
    {
     "name": "stdout",
     "output_type": "stream",
     "text": [
      "The random number is 10 .\n",
      "The random number is 3 .\n",
      "The random number is 8 .\n",
      "The random number is 2 .\n",
      "The random number is 3 .\n",
      "summ of even number is 20\n",
      "summ of odd number is 6\n"
     ]
    }
   ],
   "source": [
    "# q3\n",
    "import random\n",
    "even = 0\n",
    "odd = 0\n",
    "i = 1\n",
    "while True:\n",
    "    num = random.randint(1,11)\n",
    "    print(f'The random number is {num} .')\n",
    "    if num % 2 == 0:\n",
    "        even = even+num\n",
    "    else:\n",
    "        odd = odd+num\n",
    "    i+=1\n",
    "    if i == 6:\n",
    "        break\n",
    "        \n",
    "print(f'summ of even number is {even}')\n",
    "print(f'summ of odd number is {odd}')"
   ]
  },
  {
   "cell_type": "markdown",
   "id": "6d69e6fd",
   "metadata": {},
   "source": [
    "**Counter Wrapper**"
   ]
  },
  {
   "cell_type": "code",
   "execution_count": 11,
   "id": "ce4d786f",
   "metadata": {},
   "outputs": [
    {
     "name": "stdout",
     "output_type": "stream",
     "text": [
      "The random number is 90 .\n",
      "The random number is 18 .\n",
      "The random number is 30 .\n",
      "The random number is 23 .\n",
      "The random number is 80 .\n",
      "Number of even number is 4\n",
      "Number of odd number is 1\n"
     ]
    }
   ],
   "source": [
    "# q4\n",
    "import random\n",
    "count_even, count_odd = 0, 0\n",
    "i = 1\n",
    "while True:\n",
    "    num = random.randint(10,100)\n",
    "    print(f'The random number is {num} .')\n",
    "    if num%2==0:\n",
    "        count_even = count_even+1\n",
    "    else:\n",
    "        count_odd = count_odd+1\n",
    "    i+=1\n",
    "    if i==6:\n",
    "        break\n",
    "print(f'Number of even number is {count_even}')\n",
    "print(f'Number of odd number is {count_odd}')"
   ]
  },
  {
   "cell_type": "code",
   "execution_count": 12,
   "id": "b0b02172",
   "metadata": {},
   "outputs": [
    {
     "name": "stdout",
     "output_type": "stream",
     "text": [
      "Enter a number :8\n",
      "You lost the lucky code is 18\n",
      "Enter a number :18\n",
      "You lost the lucky code is 5\n",
      "Enter a number :18\n",
      "You lost the lucky code is 4\n"
     ]
    }
   ],
   "source": [
    "# q5\n",
    "import random\n",
    "i = 1\n",
    "while True:\n",
    "    lucky_code = random.randint(1,20)\n",
    "    num = eval(input('Enter a number :'))\n",
    "    if lucky_code == num:\n",
    "        print('You won')\n",
    "        break\n",
    "    else:\n",
    "        print(f'You lost the lucky code is {lucky_code}')\n",
    "        i+=1\n",
    "        if i == 4:\n",
    "            break\n",
    "    "
   ]
  },
  {
   "cell_type": "code",
   "execution_count": 14,
   "id": "8479effb",
   "metadata": {},
   "outputs": [
    {
     "name": "stdout",
     "output_type": "stream",
     "text": [
      "You have 3 chances left.\n",
      "Enter a number :9\n",
      "You lost the lucky code is 20\n",
      "You have 2 chances left.\n",
      "Enter a number :5\n",
      "You lost the lucky code is 9\n",
      "You have 1 chances left.\n",
      "Enter a number :6\n",
      "You lost the lucky code is 11\n",
      "once all chances are over, try after 24 hours.\n"
     ]
    }
   ],
   "source": [
    "# q6\n",
    "import random\n",
    "i = 1\n",
    "chance = 3\n",
    "while True:\n",
    "    print(f'You have {chance} chances left.')\n",
    "    chance = chance-1\n",
    "    lucky_code = random.randint(1,20)\n",
    "    num = eval(input('Enter a number :'))\n",
    "    if lucky_code == num:\n",
    "        print('You won')\n",
    "        break\n",
    "    else:\n",
    "        print(f'You lost the lucky code is {lucky_code}')\n",
    "        i+=1\n",
    "        if i == 4:\n",
    "            print('once all chances are over, try after 24 hours.')\n",
    "            break\n",
    "    "
   ]
  },
  {
   "cell_type": "markdown",
   "id": "887e04d5",
   "metadata": {},
   "source": [
    "# **Strings**\n",
    "\n",
    "**1. ord**"
   ]
  },
  {
   "cell_type": "code",
   "execution_count": 20,
   "id": "9eb6c27f",
   "metadata": {},
   "outputs": [
    {
     "name": "stdout",
     "output_type": "stream",
     "text": [
      "6\n",
      "p y t h o n "
     ]
    }
   ],
   "source": [
    "# q1\n",
    "text = \"python\"\n",
    "i = 0\n",
    "# print(len(text))\n",
    "while True:\n",
    "    print(text[i],end=\" \")\n",
    "    i+= 1\n",
    "    if i==len(text):\n",
    "        break"
   ]
  },
  {
   "cell_type": "code",
   "execution_count": 35,
   "id": "0a626e64",
   "metadata": {},
   "outputs": [
    {
     "name": "stdout",
     "output_type": "stream",
     "text": [
      "A:65 B:66 C:67 D:68 E:69 F:70 G:71 H:72 I:73 J:74 K:75 L:76 M:77 N:78 O:79 P:80 Q:81 R:82 S:83 T:84 U:85 V:86 W:87 X:88 Y:89 Z:90 "
     ]
    }
   ],
   "source": [
    "# q2\n",
    "import string\n",
    "x = string.ascii_uppercase\n",
    "# print(x)\n",
    "i = 0\n",
    "while True:\n",
    "    print(f'{x[i]}:{ord(x[i])}',end=\" \")\n",
    "#     print(ord(x[i]))\n",
    "    i+=1\n",
    "    if i==len(x):\n",
    "        break"
   ]
  },
  {
   "cell_type": "code",
   "execution_count": 38,
   "id": "7cfc2c44",
   "metadata": {},
   "outputs": [
    {
     "name": "stdout",
     "output_type": "stream",
     "text": [
      "a:97 b:98 c:99 d:100 e:101 f:102 g:103 h:104 i:105 j:106 k:107 l:108 m:109 n:110 o:111 p:112 q:113 r:114 s:115 t:116 u:117 v:118 w:119 x:120 y:121 z:122 "
     ]
    }
   ],
   "source": [
    "# q3\n",
    "import string\n",
    "x = string.ascii_lowercase\n",
    "# print(x)\n",
    "i = 0\n",
    "while True:\n",
    "    print(f'{x[i]}:{ord(x[i])}',end=\" \")\n",
    "    i+=1\n",
    "    if i==len(x):\n",
    "        break"
   ]
  },
  {
   "cell_type": "code",
   "execution_count": 39,
   "id": "6b2ee753",
   "metadata": {},
   "outputs": [
    {
     "name": "stdout",
     "output_type": "stream",
     "text": [
      "!:33 \":34 #:35 $:36 %:37 &:38 ':39 (:40 ):41 *:42 +:43 ,:44 -:45 .:46 /:47 ::58 ;:59 <:60 =:61 >:62 ?:63 @:64 [:91 \\:92 ]:93 ^:94 _:95 `:96 {:123 |:124 }:125 ~:126 "
     ]
    }
   ],
   "source": [
    "# q4\n",
    "import string\n",
    "x = string.punctuation\n",
    "i = 0\n",
    "while True:\n",
    "    print(f'{x[i]}:{ord(x[i])}',end = \" \")\n",
    "    i+=1\n",
    "    if i == len(x):\n",
    "        break"
   ]
  },
  {
   "cell_type": "markdown",
   "id": "3afdb8d3",
   "metadata": {},
   "source": [
    "**2. chr**"
   ]
  },
  {
   "cell_type": "code",
   "execution_count": 41,
   "id": "d6a39071",
   "metadata": {},
   "outputs": [
    {
     "name": "stdout",
     "output_type": "stream",
     "text": [
      "0:\u0000 1:\u0001 2:\u0002 3:\u0003 4:\u0004 5:\u0005 6:\u0006 7:\u0007 8:\b 9:\t 10:\n",
      " 11:\u000b",
      " 12:\f",
      " 13:\r",
      " 14:\u000e 15:\u000f 16:\u0010 17:\u0011 18:\u0012 19:\u0013 20:\u0014 21:\u0015 22:\u0016 23:\u0017 24:\u0018 25:\u0019 26:\u001a 27:\u001b 28:\u001c",
      " 29:\u001d",
      " 30:\u001e",
      " 31:\u001f 32:  33:! 34:\" 35:# 36:$ 37:% 38:& 39:' 40:( 41:) 42:* 43:+ 44:, 45:- 46:. 47:/ 48:0 49:1 50:2 51:3 52:4 53:5 54:6 55:7 56:8 57:9 58:: 59:; 60:< 61:= 62:> 63:? 64:@ 65:A 66:B 67:C 68:D 69:E 70:F 71:G 72:H 73:I 74:J 75:K 76:L 77:M 78:N 79:O 80:P 81:Q 82:R 83:S 84:T 85:U 86:V 87:W 88:X 89:Y 90:Z 91:[ 92:\\ 93:] 94:^ 95:_ 96:` 97:a 98:b 99:c 100:d 101:e 102:f 103:g 104:h 105:i 106:j 107:k 108:l 109:m 110:n 111:o 112:p 113:q 114:r 115:s 116:t 117:u 118:v 119:w 120:x 121:y "
     ]
    }
   ],
   "source": [
    "# q5\n",
    "i = 0\n",
    "while True:\n",
    "    print(f'{i}:{chr(i)}',end = \" \")\n",
    "    i+=1\n",
    "    if i == 122:\n",
    "        break"
   ]
  }
 ],
 "metadata": {
  "kernelspec": {
   "display_name": "Python 3 (ipykernel)",
   "language": "python",
   "name": "python3"
  },
  "language_info": {
   "codemirror_mode": {
    "name": "ipython",
    "version": 3
   },
   "file_extension": ".py",
   "mimetype": "text/x-python",
   "name": "python",
   "nbconvert_exporter": "python",
   "pygments_lexer": "ipython3",
   "version": "3.9.13"
  }
 },
 "nbformat": 4,
 "nbformat_minor": 5
}
