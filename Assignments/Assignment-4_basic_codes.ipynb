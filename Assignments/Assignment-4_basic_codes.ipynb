{
 "cells": [
  {
   "cell_type": "markdown",
   "id": "85cacdb9",
   "metadata": {},
   "source": [
    "# Assignment - 4"
   ]
  },
  {
   "cell_type": "markdown",
   "id": "9d8a2252",
   "metadata": {},
   "source": [
    "**1. Ramesh’s basic salary is input through the keyboard. His dearness allowance is 40% of basic salary, and\n",
    "house rent allowance is 20% of basic salary. Write a program to calculate his gross salary.**"
   ]
  },
  {
   "cell_type": "code",
   "execution_count": 6,
   "id": "e25ba90d",
   "metadata": {},
   "outputs": [
    {
     "name": "stdout",
     "output_type": "stream",
     "text": [
      "Enter the basic salary of Ramesh : 20000\n",
      "His dearness allowance amount is : 8000.0\n",
      "His house rent allowance is :  4000.0\n",
      "Gross salary salary of ramesh is 32000.0\n"
     ]
    }
   ],
   "source": [
    "def salary(basic_salary):\n",
    "    da = (basic_salary*40)/100\n",
    "    print(f'His dearness allowance amount is :',da)\n",
    "    hra = (basic_salary*20)/100\n",
    "    print(f'His house rent allowance is : ',hra)\n",
    "    gross_salary = basic_salary+da+hra\n",
    "    print(f'Gross salary salary of ramesh is {gross_salary}')\n",
    "salary(eval(input('Enter the basic salary of Ramesh : ')))\n",
    "# salary(10000)"
   ]
  },
  {
   "cell_type": "markdown",
   "id": "cfeef719",
   "metadata": {},
   "source": [
    "**2. The distance between two cities (in km.) is input through the keyboard. Write a program to convert and\n",
    "print this distance in meters, feet, inches and centimeters.**"
   ]
  },
  {
   "cell_type": "code",
   "execution_count": 7,
   "id": "22e17bdc",
   "metadata": {},
   "outputs": [
    {
     "name": "stdout",
     "output_type": "stream",
     "text": [
      "Enter the distance between two cities in k.m. : 100\n",
      "100km is equal to 100000meters .\n",
      "100km is equal to 328100feet .\n",
      "100km is equal to 3937000inch .\n",
      "100km is equal to 10000000cm .\n",
      "The 100km is equal to 100000meter, 328100feet, 3937000inch and 10000000c.m. .\n"
     ]
    }
   ],
   "source": [
    "def distance_btn_two_cities(distance):\n",
    "    meter = distance*1000\n",
    "    print(f'{distance}km is equal to {meter}meters .')\n",
    "    feet = distance*3281\n",
    "    print(f'{distance}km is equal to {feet}feet .')\n",
    "    inch = distance*39370\n",
    "    print(f'{distance}km is equal to {inch}inch .')\n",
    "    centimeters = distance*100000\n",
    "    print(f'{distance}km is equal to {centimeters}cm .')\n",
    "    print(f'The {distance}km is equal to {meter}meter, {feet}feet, {inch}inch and {centimeters}c.m. .')\n",
    "distance_btn_two_cities(eval(input('Enter the distance between two cities in k.m. : ')))"
   ]
  },
  {
   "cell_type": "markdown",
   "id": "eb106ea4",
   "metadata": {},
   "source": [
    "**3. If the marks obtained by a student in five different subjects are input through the keyboard, find out the\n",
    "aggregate marks and percentage marks obtained by the student. Assume that the maximum marks that\n",
    "can be obtained by a student in each subject is 100.**"
   ]
  },
  {
   "cell_type": "code",
   "execution_count": 9,
   "id": "102e80d3",
   "metadata": {},
   "outputs": [
    {
     "name": "stdout",
     "output_type": "stream",
     "text": [
      "Enter the maximum marks that can obtained by a student in each subject :100\n",
      "Total mark is equal to :  500\n",
      "Enter the secured mark of subject_1 : 90\n",
      "Enter the secured mark of subject_2 : 89\n",
      "Enter the secured mark of subject_3 : 81\n",
      "Enter the secured mark of subject_4 : 65\n",
      "Enter the secured mark of subject_5 : 75\n",
      "Total aggregate mark secured by the  student is 400\n",
      "The student secured 400 out of 500, which is 80.0% .\n"
     ]
    }
   ],
   "source": [
    "def result():\n",
    "    maximum = eval(input('Enter the maximum marks that can obtained by a student in each subject :'))\n",
    "    total_mark = maximum*5\n",
    "    print(f'Total mark is equal to : ',total_mark)\n",
    "    sub1 = eval(input('Enter the secured mark of subject_1 : '))\n",
    "    sub2 = eval(input('Enter the secured mark of subject_2 : '))\n",
    "    sub3 = eval(input('Enter the secured mark of subject_3 : '))\n",
    "    sub4 = eval(input('Enter the secured mark of subject_4 : '))\n",
    "    sub5 = eval(input('Enter the secured mark of subject_5 : '))\n",
    "    aggregate = sub1+sub2+sub3+sub4+sub5\n",
    "    print(f'Total aggregate mark secured by the  student is',aggregate)\n",
    "    percentage = (aggregate/total_mark)*100\n",
    "    print(f'The student secured {aggregate} out of {total_mark}, which is {percentage}% .')\n",
    "result()"
   ]
  },
  {
   "cell_type": "markdown",
   "id": "da6a20af",
   "metadata": {},
   "source": [
    "**4. Temperature of a city in Fahrenheit degrees is input through the keyboard. Write a program to convert this\n",
    "temperature into Centigrade degrees.**"
   ]
  },
  {
   "cell_type": "code",
   "execution_count": 12,
   "id": "c08e572c",
   "metadata": {},
   "outputs": [
    {
     "name": "stdout",
     "output_type": "stream",
     "text": [
      "Enter temperature in fahrenheit degree : 32\n",
      "32F is equal to 0.0celsius . \n",
      "32F is equal to 273.15kelvin . \n",
      "32F is equal to 0.0celsius and 273.15kelvin. \n"
     ]
    }
   ],
   "source": [
    "def temperature(fahrenheit):\n",
    "    centigrade = (fahrenheit-32)*(5/9)\n",
    "    print(f'{fahrenheit}F is equal to {centigrade}celsius . ')\n",
    "    kelvin = ((fahrenheit - 32) * (5/9)) + 273.15\n",
    "    print(f'{fahrenheit}F is equal to {kelvin}kelvin . ')\n",
    "    print(f'{fahrenheit}F is equal to {centigrade}celsius and {kelvin}kelvin. ')\n",
    "temperature(eval(input('Enter temperature in fahrenheit degree : ')))"
   ]
  },
  {
   "cell_type": "markdown",
   "id": "50f84f59",
   "metadata": {},
   "source": [
    "**5. The length & breadth of a rectangle and radius of a circle are input through the keyboard. Write a program\n",
    "to calculate the area & perimeter of the rectangle, and the area & circumference of the circle.**"
   ]
  },
  {
   "cell_type": "code",
   "execution_count": 14,
   "id": "0bc1d50f",
   "metadata": {},
   "outputs": [
    {
     "name": "stdout",
     "output_type": "stream",
     "text": [
      "Enter length of the rectangle : 10\n",
      "Enter length of the rectangle : 20\n",
      "Area of the rectangle of length 10 and breadth 20 is 200 .\n",
      "Perimeter of the rectangle of length 10 and breadth 20 is 60 .\n",
      "Enter the radius of the circle : 10\n",
      "Area of the circle of radius 10is 314.1592653589793 .\n",
      "circumference of the circle of radius 10is 62.83185307179586 .\n"
     ]
    }
   ],
   "source": [
    "import math\n",
    "def rectangle(length,breadth):\n",
    "    area = length*breadth\n",
    "    print(f'Area of the rectangle of length {length} and breadth {breadth} is {area} .')\n",
    "    perimeter = 2*(length+breadth)\n",
    "    print(f'Perimeter of the rectangle of length {length} and breadth {breadth} is {perimeter} .')\n",
    "def circle(radius):\n",
    "    area = math.pi*radius*radius\n",
    "    print(f'Area of the circle of radius {radius}is {area} .')\n",
    "    circumference = 2*math.pi*radius\n",
    "    print(f'circumference of the circle of radius {radius}is {circumference} .')\n",
    "rectangle(eval(input('Enter length of the rectangle : ')),\n",
    "          eval(input('Enter length of the rectangle : ')))\n",
    "circle(eval(input('Enter the radius of the circle : ')))"
   ]
  },
  {
   "cell_type": "markdown",
   "id": "7e79f86f",
   "metadata": {},
   "source": [
    "**6. Two numbers are input through the keyboard into two locations C and D. Write a program to interchange\n",
    "the contents of C and D.**"
   ]
  },
  {
   "cell_type": "code",
   "execution_count": 19,
   "id": "14f35d28",
   "metadata": {},
   "outputs": [
    {
     "name": "stdout",
     "output_type": "stream",
     "text": [
      "Enter a number for c location : 10\n",
      "Enter a number for d location : 20\n",
      "Initially c = 10 and d = 20\n",
      "After interchange c = 20 and d = 10\n"
     ]
    }
   ],
   "source": [
    "def interchange(c,d):\n",
    "    print(f'Initially c = {c} and d = {d}')\n",
    "    x = c\n",
    "    c = d\n",
    "    d = x\n",
    "    print(f'After interchange c = {c} and d = {d}')\n",
    "interchange(eval(input('Enter a number for c location : ')),\n",
    "            eval(input('Enter a number for d location : ')))"
   ]
  },
  {
   "cell_type": "markdown",
   "id": "4160ae95",
   "metadata": {},
   "source": [
    "**7. If a five-digit number is input through the keyboard, write a program to reverse the number.**"
   ]
  },
  {
   "cell_type": "code",
   "execution_count": 32,
   "id": "7bba8e34",
   "metadata": {},
   "outputs": [
    {
     "name": "stdout",
     "output_type": "stream",
     "text": [
      "Enter a 5 digit number to get its reverse number : 56789\n",
      "Reverse number of 56789 is 98765 .\n"
     ]
    }
   ],
   "source": [
    "def reverse(num):\n",
    "    y = num//10 #(5432)\n",
    "    x = num%10 #1\n",
    "    rev = x*10000 #100000\n",
    "    x = y%10 #2\n",
    "    rev = rev+x*1000 # 10000+2000 =12000\n",
    "    y = y//10 # (543)\n",
    "    x = y%10 #3\n",
    "    rev = rev+x*100 # 12000+300 = 12300\n",
    "    y = y//10 # (54)\n",
    "    x = y%10 # 4\n",
    "    rev = rev + x*10 # 12300+40 = 12340\n",
    "    y = y//10\n",
    "    x = y%10\n",
    "    rev = rev+x\n",
    "    print(f'Reverse number of {num} is {rev} .')\n",
    "reverse(eval(input('Enter a 5 digit number to get its reverse number : ')))"
   ]
  },
  {
   "cell_type": "markdown",
   "id": "7cc3766a",
   "metadata": {},
   "source": [
    "**8. If a four-digit number is input through the keyboard, write a program to obtain the sum of the first and last\n",
    "digit of this number.**"
   ]
  },
  {
   "cell_type": "code",
   "execution_count": 33,
   "id": "e40964ae",
   "metadata": {},
   "outputs": [
    {
     "name": "stdout",
     "output_type": "stream",
     "text": [
      "Enter a 4 digit number : 1234\n",
      "Sum of the first and last digit of the number 1234 is 5\n"
     ]
    }
   ],
   "source": [
    "def fl_add(num):\n",
    "    x = num//1000\n",
    "    y = num%10\n",
    "    add = x+y\n",
    "    print(f'Sum of the first and last digit of the number {num} is {add}')\n",
    "fl_add(eval(input('Enter a 4 digit number : ')))"
   ]
  },
  {
   "cell_type": "markdown",
   "id": "46d49504",
   "metadata": {},
   "source": [
    "**9. In a town, the percentage of men is 52. The percentage of total literacy is 48. If total percentage of literate\n",
    "men is 35 of the total population, write a program to find the total number of illiterate men and women if\n",
    "the population of the town is 80,000.**"
   ]
  },
  {
   "cell_type": "code",
   "execution_count": 1,
   "id": "2fd005de",
   "metadata": {},
   "outputs": [
    {
     "name": "stdout",
     "output_type": "stream",
     "text": [
      "Enter population of the town : 80000\n",
      "Enter the percentage of men : 52\n",
      "Enter the percentage of total literacy : 48\n",
      "Enter the mens literacy percentage of total population: 35\n",
      "Total number of men is 41600.0 .\n",
      "Total number of women is 38400.0 .\n",
      "Total number of litracy is 38400.0 .\n",
      "Total number of men litracy is 28000.0 .\n",
      "Total number of women litracy is 10400.0 .\n"
     ]
    }
   ],
   "source": [
    "def number_of_literate_men_and_women(total_population,percentage_of_men,total_percentage_of_litracy,total_percentage_of_litrate_men): \n",
    "    \n",
    "    \n",
    "    total_men = (total_population*percentage_of_men)/100\n",
    "    print(f'Total number of men is {total_men} .')\n",
    "    total_women = total_population - total_men\n",
    "    print(f'Total number of women is {total_women} .')\n",
    "    \n",
    "    total_number_of_litracy = (total_population*total_percentage_of_litracy)/100\n",
    "    print(f'Total number of litracy is {total_number_of_litracy} .')\n",
    "    \n",
    "    total_litrate_men = (total_population*total_percentage_of_litrate_men)/100\n",
    "    print(f'Total number of men litracy is {total_litrate_men} .')\n",
    "    total_litrate_women = total_number_of_litracy - total_litrate_men\n",
    "    print(f'Total number of women litracy is {total_litrate_women} .')\n",
    "    \n",
    "number_of_literate_men_and_women(total_population = eval(input(\"Enter population of the town : \")),\n",
    "                                 percentage_of_men =eval(input(\"Enter the percentage of men : \")),\n",
    "                                 total_percentage_of_litracy = eval(input('Enter the percentage of total literacy : ')),\n",
    "                                 total_percentage_of_litrate_men = eval(input('Enter the mens literacy percentage of total population: ')))"
   ]
  },
  {
   "cell_type": "markdown",
   "id": "f9b49ce5",
   "metadata": {},
   "source": [
    "**10. A cashier has currency notes of denominations 10, 50 and 100. If the amount to be withdrawn is input\n",
    "through the keyboard in hundreds, find the total number of currency notes of each denomination the\n",
    "cashier will have to give to the withdrawer.**"
   ]
  },
  {
   "cell_type": "code",
   "execution_count": 8,
   "id": "d08c34c3",
   "metadata": {},
   "outputs": [
    {
     "name": "stdout",
     "output_type": "stream",
     "text": [
      "Enter amount you want to withdraw :20\n",
      "Total number of currency is 2 which is 10 rupees notes only .\n"
     ]
    }
   ],
   "source": [
    "amount = eval(input('Enter amount you want to withdraw :'))\n",
    "\n",
    "if amount%10 == 0:\n",
    "    if amount>=100:\n",
    "        number_100 = amount//100\n",
    "        amount = amount - (100*number_100)\n",
    "\n",
    "        number_50 = amount//50\n",
    "        amount = amount - (50*number_50)\n",
    "\n",
    "        number_10 = amount//10\n",
    "        total = number_10 + number_100 + number_50\n",
    "        print(f'Total number of currency note is {total} which contain {number_100} number of 100 rupees, {number_50} number of 50 rupees and {number_10} number of 10 rupess note .')\n",
    "\n",
    "    elif amount>=50:\n",
    "        number_50 = amount//50\n",
    "        amount = amount - (number_50*50)\n",
    "\n",
    "        number_10 = amount//10\n",
    "        total = number_10 + number_50\n",
    "\n",
    "        print(f'Total number of currency note is {total} which contains {number_50} number of 50 rupees and {number_10} number of 10 rupess note .')\n",
    "\n",
    "    elif amount>=10:\n",
    "        number_10 = amount//10\n",
    "        print(f'Total number of currency is {number_10} which is 10 rupees notes only .')\n",
    "\n",
    "    else:\n",
    "        print('Unknown error')\n",
    "else:\n",
    "    print('We have no changes! Enter an amount which is multiple of 10.')"
   ]
  }
 ],
 "metadata": {
  "kernelspec": {
   "display_name": "Python 3 (ipykernel)",
   "language": "python",
   "name": "python3"
  },
  "language_info": {
   "codemirror_mode": {
    "name": "ipython",
    "version": 3
   },
   "file_extension": ".py",
   "mimetype": "text/x-python",
   "name": "python",
   "nbconvert_exporter": "python",
   "pygments_lexer": "ipython3",
   "version": "3.9.13"
  }
 },
 "nbformat": 4,
 "nbformat_minor": 5
}
