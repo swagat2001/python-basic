{
 "cells": [
  {
   "cell_type": "markdown",
   "id": "6f368a62",
   "metadata": {},
   "source": [
    "# Assignment - 9"
   ]
  },
  {
   "cell_type": "markdown",
   "id": "ad873ec8",
   "metadata": {},
   "source": [
    "#### Problem-1(Use conditional statements)\n",
    "\n",
    "Write a program that asks the user to enter a length in centimetres. If the user enters\n",
    "a negative length, the program should tell the user that the entry is invalid. Otherwise,\n",
    "the program should convert the length to inches and print out the result. There are\n",
    "2.54 centimetres in an inch."
   ]
  },
  {
   "cell_type": "code",
   "execution_count": 6,
   "id": "22c16f07",
   "metadata": {},
   "outputs": [
    {
     "name": "stdout",
     "output_type": "stream",
     "text": [
      "Enter length in centimetres: 90\n",
      "90 cm is equal to 35.43 inch\n"
     ]
    }
   ],
   "source": [
    "def problem_1(length):\n",
    "    if length<0:\n",
    "        print('You have enterd an invalid length.')\n",
    "    else:\n",
    "        inch = round(length/2.54,2)\n",
    "        print(f'{length} cm is equal to {inch} inch')\n",
    "        \n",
    "problem_1(length = eval(input('Enter length in centimetres: ')))"
   ]
  },
  {
   "cell_type": "markdown",
   "id": "11a65b7d",
   "metadata": {},
   "source": [
    "#### Problem-2(Use conditional statements)\n",
    "Ask the user for a temperature. Then ask them what units, Celsius or Fahrenheit, the\n",
    "temperature is in. Your program should convert the temperature to the other unit. The\n",
    "conversions are F = 9 5 C +32 and C = 5 9 (F − 32)."
   ]
  },
  {
   "cell_type": "code",
   "execution_count": 7,
   "id": "97e484b9",
   "metadata": {},
   "outputs": [
    {
     "name": "stdout",
     "output_type": "stream",
     "text": [
      "Enter temperture :89\n",
      "Enter the unit(Celsius or Fahrenheit) :Celsius\n",
      "89 celsius is equal to 192.2 fahrenheit .\n"
     ]
    }
   ],
   "source": [
    "def problem_2(temp,unit):\n",
    "    if unit == 'Celsius':\n",
    "        fahrenheit = round((temp * 9/5) + 32,4)\n",
    "        print(f'{temp} celsius is equal to {fahrenheit} fahrenheit .')\n",
    "    elif unit == 'Fahrenheit':\n",
    "        celsius = round((temp - 32) * 5/9,4)\n",
    "        print(f'{temp} fahrenheit is equal to {celsius} celsius .')\n",
    "    else:\n",
    "        print('invalid input.')\n",
    "        \n",
    "problem_2(temp = eval(input('Enter temperture :')),\n",
    "         unit= input('Enter the unit(Celsius or Fahrenheit) :'))"
   ]
  },
  {
   "cell_type": "markdown",
   "id": "f3162d30",
   "metadata": {},
   "source": [
    "#### Problem-3(Use conditional statements)\n",
    "Ask the user to enter a temperature in Celsius. The program should print a\n",
    "message based on the temperature:\n",
    "- If the temperature is less than -273.15, print that the temperature is invalid because it is below absolute zero.\n",
    "- If it is exactly -273.15, print that the temperature is absolute 0.\n",
    "- If the temperature is between -273.15 and 0, print that the temperature is below freezing. \n",
    "- If it is 0, print that the temperature is at the freezing point.\n",
    "- If it is between 0 and 100, print that the temperature is in the normal range. \n",
    "- If it is 100, print that the temperature is at the boiling point.\n",
    "- If it is above 100, print that the temperature is above the boiling point.\n"
   ]
  },
  {
   "cell_type": "code",
   "execution_count": 15,
   "id": "7ba2432c",
   "metadata": {},
   "outputs": [
    {
     "name": "stdout",
     "output_type": "stream",
     "text": [
      "Enter the temperature in celsius :-400\n",
      "-400 : this temperature is invalid because it is below absolute zero.\n"
     ]
    }
   ],
   "source": [
    "def problem_3(celsius):\n",
    "    if celsius<-273.15:\n",
    "        print(f'{celsius} : this temperature is invalid because it is below absolute zero.')\n",
    "    elif celsius == -273.15:\n",
    "        print(f'{celsius} : this temperature is temperature is absolute 0.')\n",
    "    elif celsius > -273.15 and celsius < 0:\n",
    "        print(f'{celsius} : this temperature is below freezing.')\n",
    "    elif celsius == 0:\n",
    "        print(f'{celsius} : this temperature is  is at the freezing point.')\n",
    "#     else:\n",
    "#         print('Invalid')\n",
    "problem_3(celsius = eval(input('Enter the temperature in celsius :')))"
   ]
  },
  {
   "cell_type": "markdown",
   "id": "d5c96c80",
   "metadata": {},
   "source": [
    "#### Problem-4(Use conditional statements)\n",
    "Write a program that asks the user how many credits they have taken. If they have taken 23 or\n",
    "less, print that the student is a freshman. If they have taken between 24 and 53, print that they\n",
    "are asophomore. The range for juniors is 54 to 83, and for seniors it is 84 and over."
   ]
  },
  {
   "cell_type": "code",
   "execution_count": 16,
   "id": "144db2c8",
   "metadata": {},
   "outputs": [
    {
     "name": "stdout",
     "output_type": "stream",
     "text": [
      "Enter your credits that you have taken : 89\n",
      "senior ranges\n"
     ]
    }
   ],
   "source": [
    "def problem_4(credits):\n",
    "    if credits<=23:\n",
    "        print('The student is freshman.')\n",
    "    elif credits<=53:\n",
    "        print('They are  asophomore .')\n",
    "    elif credits<=83:\n",
    "        print('Junior ranges')\n",
    "    else:\n",
    "        print('senior ranges')\n",
    "problem_4(credits = eval(input('Enter your credits that you have taken : ')))"
   ]
  },
  {
   "cell_type": "markdown",
   "id": "3c2225df",
   "metadata": {},
   "source": [
    "#### Problem-5(Use conditional statements)\n",
    "Generate a random number between 1 and 10. Ask the user to guess the number and print a\n",
    "message based on whether they get it right or not."
   ]
  },
  {
   "cell_type": "code",
   "execution_count": 18,
   "id": "13541bba",
   "metadata": {},
   "outputs": [
    {
     "name": "stdout",
     "output_type": "stream",
     "text": [
      "Enter your number : 9\n",
      "You lost.\n"
     ]
    }
   ],
   "source": [
    "import random\n",
    "def problem_5(num):\n",
    "    lucky_num = random.randint(1,10)\n",
    "    if lucky_num == num:\n",
    "        print('You are right.')\n",
    "    else:\n",
    "        print('You lost.')\n",
    "problem_5(num=eval(input('Enter your number : ')))"
   ]
  },
  {
   "cell_type": "markdown",
   "id": "71557c07",
   "metadata": {},
   "source": [
    "#### Problem-6(Use conditional statements)\n",
    "A store charges $12 per item if you buy less than 10 items. If you buy between 10\n",
    "and 99 items, the cost is $10 per item. If you buy 100 or more items, the cost is $ 7\n",
    "per item. Write a program that asks the user how many items they are buying and\n",
    "prints the total cost."
   ]
  },
  {
   "cell_type": "code",
   "execution_count": 24,
   "id": "03a6530f",
   "metadata": {},
   "outputs": [
    {
     "name": "stdout",
     "output_type": "stream",
     "text": [
      "Enter the items that you have buy : 20\n",
      "The total cost for 20 is 200 .\n"
     ]
    }
   ],
   "source": [
    "def problem_6(items):\n",
    "    if items<10:\n",
    "        charge = items*12\n",
    "        print(f'The total cost for {items} is {charge} .')\n",
    "    elif items<99:\n",
    "        charge = items*10\n",
    "        print(f'The total cost for {items} is {charge} .')\n",
    "    else:\n",
    "        charge = items*7\n",
    "        print(f'The total cost for {items} is {charge} .')\n",
    "problem_6(items = eval(input('Enter the items that you have buy : ')))"
   ]
  },
  {
   "cell_type": "markdown",
   "id": "e3acdee4",
   "metadata": {},
   "source": [
    "#### Problem-7(Use conditional statements)\n",
    "Write a program that asks the user for two numbers and prints Close if the\n",
    "numbers are within .001of each other and Not close otherwise."
   ]
  },
  {
   "cell_type": "code",
   "execution_count": 1,
   "id": "ed91652a",
   "metadata": {},
   "outputs": [
    {
     "name": "stdout",
     "output_type": "stream",
     "text": [
      "Enter number1 : 2\n",
      "Enter number2 : 2.000001\n",
      "Numbers are close to each other .\n"
     ]
    }
   ],
   "source": [
    "def problem_7(num1,num2):\n",
    "    diff = abs(num1 - num2)\n",
    "    if diff<0.001:\n",
    "        print('Numbers are close to each other .')\n",
    "    else:\n",
    "        print('Not close to each other .')\n",
    "problem_7(num1 = eval(input('Enter number1 : ')),\n",
    "          num2 = eval(input('Enter number2 : ')))"
   ]
  },
  {
   "cell_type": "markdown",
   "id": "b19ca287",
   "metadata": {},
   "source": [
    "## Problem-8(Use conditional statements)\n",
    "A year is a leap year if it is divisible by 4, except that years divisible by 100 are not leap years unless\n",
    "they are also divisible by 400. Write a program that asks the user for a year and prints out whether\n",
    "it is a leap year or not.\n",
    "\n"
   ]
  },
  {
   "cell_type": "code",
   "execution_count": 3,
   "id": "8839d133",
   "metadata": {},
   "outputs": [
    {
     "name": "stdout",
     "output_type": "stream",
     "text": [
      "Enter a year : 2000\n",
      "2000 is a leap year.\n"
     ]
    }
   ],
   "source": [
    "def problem_8(year):\n",
    "    if (year % 400 == 0) or (year % 4 == 0 and year % 100 != 0):\n",
    "        print(f\"{year} is a leap year.\")\n",
    "    else:\n",
    "        print(f\"{year} is not a leap year.\")\n",
    "problem_8(year = eval(input('Enter a year : ')))"
   ]
  },
  {
   "cell_type": "markdown",
   "id": "8075cbd4",
   "metadata": {},
   "source": [
    "#### Problem-9(Use conditional statements)\n",
    "Write a program that asks the user to enter a number and prints out all the divisors of that\n",
    "number. [Hint: the % operator is used to tell if a number is divisible by something.\n",
    "\n"
   ]
  },
  {
   "cell_type": "code",
   "execution_count": 5,
   "id": "b718ae9f",
   "metadata": {},
   "outputs": [
    {
     "name": "stdout",
     "output_type": "stream",
     "text": [
      "enter a number to get there divisors : 20\n",
      "20,10,5,4,2,1,"
     ]
    }
   ],
   "source": [
    "def problem_9(num):\n",
    "    i = num\n",
    "    while True:\n",
    "        if num%i == 0:\n",
    "            print(i,end = ',')\n",
    "            i-=1\n",
    "            if i == 0:\n",
    "                break\n",
    "            else:\n",
    "                continue\n",
    "        else:\n",
    "            i-=1\n",
    "            if i == 0:\n",
    "                break\n",
    "            else:\n",
    "                continue\n",
    "problem_9(num = eval(input('enter a number to get there divisors : ')))"
   ]
  },
  {
   "cell_type": "markdown",
   "id": "2accc59e",
   "metadata": {},
   "source": [
    "#### Problem-10(Use conditional statements)\n",
    "Write a program that asks the user for an hour between 1 and 12, asks them to\n",
    "enter am or pm, and asks them how many hours into the future they want to go.\n",
    "Print out what the hour will be that many hours into the future, printing am or pm as\n",
    "appropriate. An example is shown below.\n",
    "Enter hour: 8\n",
    "am (1) or pm (2)? 1\n",
    "How many hours ahead? 5\n",
    "New hour: 1 pm"
   ]
  },
  {
   "cell_type": "code",
   "execution_count": 24,
   "id": "12edb74e",
   "metadata": {},
   "outputs": [
    {
     "name": "stdout",
     "output_type": "stream",
     "text": [
      "Enter time : 8\n",
      "Enter am or pm : am\n",
      "Enter hours that you want to go ahead : 4\n",
      "The new hour is 12 am .\n"
     ]
    }
   ],
   "source": [
    "def problem_10(time,am_pm,go):\n",
    "    ahead = time + go\n",
    "    if ahead>12:\n",
    "        ahead1 = abs(12-ahead)\n",
    "        situation = ''\n",
    "        if am_pm == 'am':\n",
    "            situation ='pm'\n",
    "        else:\n",
    "            situation ='am'\n",
    "            \n",
    "        print(f'The new hour is {ahead1} {situation} .')\n",
    "            \n",
    "    else:\n",
    "        print(f'The new hour is {ahead} {am_pm} .')\n",
    "        \n",
    "problem_10(time=eval(input('Enter time : ')),\n",
    "           am_pm=input('Enter am or pm : '),\n",
    "           go = eval(input('Enter hours that you want to go ahead : ')))"
   ]
  }
 ],
 "metadata": {
  "kernelspec": {
   "display_name": "Python 3 (ipykernel)",
   "language": "python",
   "name": "python3"
  },
  "language_info": {
   "codemirror_mode": {
    "name": "ipython",
    "version": 3
   },
   "file_extension": ".py",
   "mimetype": "text/x-python",
   "name": "python",
   "nbconvert_exporter": "python",
   "pygments_lexer": "ipython3",
   "version": "3.9.13"
  }
 },
 "nbformat": 4,
 "nbformat_minor": 5
}
