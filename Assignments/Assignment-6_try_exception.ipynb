{
 "cells": [
  {
   "cell_type": "code",
   "execution_count": 1,
   "id": "b8048758",
   "metadata": {},
   "outputs": [
    {
     "name": "stdout",
     "output_type": "stream",
     "text": [
      "enter the number : 9\n",
      "9 is an odd\n"
     ]
    }
   ],
   "source": [
    "# q1\n",
    "try:\n",
    "    num = eval(input('enter the number : '))\n",
    "    if num%2==0:\n",
    "        print(f'{num} is an even')\n",
    "    else:\n",
    "        print(f'{num} is an odd') \n",
    "except Exception as e:\n",
    "    print('The above is wrong input')\n",
    "    print(e)\n",
    "    num = eval(input('enter the number'))\n",
    "    if num%2==0:\n",
    "        print(f'{num} is an even')\n",
    "    else:\n",
    "        print(f'{num} is an odd') \n",
    "        "
   ]
  },
  {
   "cell_type": "code",
   "execution_count": 2,
   "id": "028a7076",
   "metadata": {},
   "outputs": [
    {
     "name": "stdout",
     "output_type": "stream",
     "text": [
      "enter the number : 9\n",
      "The above is wrong input\n",
      "not all arguments converted during string formatting\n",
      "enter the number : 10\n",
      "10 is an even\n"
     ]
    }
   ],
   "source": [
    "# q1\n",
    "try:\n",
    "    num = input('enter the number : ')\n",
    "    if num%2==0:\n",
    "        print(f'{num} is an even')\n",
    "    else:\n",
    "        print(f'{num} is an odd') \n",
    "except Exception as e:\n",
    "    print('The above is wrong input')\n",
    "    print(e)\n",
    "    num = eval(input('enter the number : '))\n",
    "    if num%2==0:\n",
    "        print(f'{num} is an even')\n",
    "    else:\n",
    "        print(f'{num} is an odd') "
   ]
  },
  {
   "cell_type": "code",
   "execution_count": 5,
   "id": "f0ed7618",
   "metadata": {},
   "outputs": [
    {
     "name": "stdout",
     "output_type": "stream",
     "text": [
      "Enter number_1 : 90\n",
      "Enter number_2 : 9\n",
      "90 is greater than 9\n"
     ]
    }
   ],
   "source": [
    "# q2\n",
    "try:\n",
    "    n1 = eval(input('Enter number_1 : '))\n",
    "    n2 = eval(input('Enter number_2 : '))\n",
    "    if n1 > n2:\n",
    "        print(f'{n1} is greater than {n2}')\n",
    "    else:\n",
    "        print(f'{n2} is greater than {n1}')\n",
    "except Exception as e:\n",
    "    print(e)"
   ]
  },
  {
   "cell_type": "code",
   "execution_count": 6,
   "id": "ed109bb1",
   "metadata": {},
   "outputs": [
    {
     "name": "stdout",
     "output_type": "stream",
     "text": [
      "Enter number_1 : 10\n",
      "Enter number_2 : 90\n",
      "'>' not supported between instances of 'str' and 'int'\n",
      "Enter number_1 : 90\n",
      "Enter number_2 : 100\n",
      "100 is greater than 90\n"
     ]
    }
   ],
   "source": [
    "# q2\n",
    "try:\n",
    "    n1 = input('Enter number_1 : ')\n",
    "    n2 = eval(input('Enter number_2 : '))\n",
    "    if n1 > n2:\n",
    "        print(f'{n1} is greater than {n2}')\n",
    "    else:\n",
    "        print(f'{n2} is greater than {n1}')\n",
    "except Exception as e:\n",
    "    print(e)\n",
    "    n1 = eval(input('Enter number_1 : '))\n",
    "    n2 = eval(input('Enter number_2 : '))\n",
    "    if n1 > n2:\n",
    "        print(f'{n1} is greater than {n2}')\n",
    "    else:\n",
    "        print(f'{n2} is greater than {n1}')"
   ]
  },
  {
   "cell_type": "code",
   "execution_count": 8,
   "id": "290e8dc4",
   "metadata": {},
   "outputs": [
    {
     "name": "stdout",
     "output_type": "stream",
     "text": [
      "Enter your magic number90\n",
      "You lost\n"
     ]
    }
   ],
   "source": [
    "# q3\n",
    "try:\n",
    "    import random\n",
    "    n1 = eval(input('Enter your magic number'))\n",
    "    n2 = random.randint(10,20)\n",
    "    if n1 == n2:\n",
    "        print('You won')\n",
    "    else:\n",
    "        print('You lost')\n",
    "except Exception as e:\n",
    "    print(e)"
   ]
  },
  {
   "cell_type": "code",
   "execution_count": 2,
   "id": "9d8d7044",
   "metadata": {},
   "outputs": [
    {
     "name": "stdout",
     "output_type": "stream",
     "text": [
      "Enter your magic number0\n",
      "name 'random' is not defined\n",
      "Enter your magic number90\n",
      "You lost\n"
     ]
    }
   ],
   "source": [
    "# q3\n",
    "try:\n",
    "    n1 = input('Enter your magic number')\n",
    "    n2 = random.randint(10,20)\n",
    "    if n1 == n2:\n",
    "        print('You won')\n",
    "    else:\n",
    "        print('You lost')\n",
    "except Exception as e:\n",
    "    print(e)\n",
    "    import random\n",
    "    n1 = eval(input('Enter your magic number'))\n",
    "    n2 = random.randint(10,20)\n",
    "    if n1 == n2:\n",
    "        print('You won')\n",
    "    else:\n",
    "        print('You lost')"
   ]
  },
  {
   "cell_type": "code",
   "execution_count": null,
   "id": "2efbf203",
   "metadata": {},
   "outputs": [],
   "source": [
    "# q4\n"
   ]
  }
 ],
 "metadata": {
  "kernelspec": {
   "display_name": "Python 3 (ipykernel)",
   "language": "python",
   "name": "python3"
  },
  "language_info": {
   "codemirror_mode": {
    "name": "ipython",
    "version": 3
   },
   "file_extension": ".py",
   "mimetype": "text/x-python",
   "name": "python",
   "nbconvert_exporter": "python",
   "pygments_lexer": "ipython3",
   "version": "3.9.13"
  }
 },
 "nbformat": 4,
 "nbformat_minor": 5
}
