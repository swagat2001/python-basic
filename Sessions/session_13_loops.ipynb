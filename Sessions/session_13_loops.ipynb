{
 "cells": [
  {
   "cell_type": "markdown",
   "id": "aff816ba",
   "metadata": {},
   "source": [
    "- Block of code repeated multiple times untill a condition met\n",
    "\n",
    "\n",
    "- Function vs loop\n",
    "    - Function is a block of code can use many times\n",
    "    \n",
    "    - But How many times that can specify by loops only\n",
    "    \n",
    "- we started with a simple code\n",
    "\n",
    "\n",
    "- we tried to execute the simple code based on condition\n",
    "\n",
    "\n",
    "- we tried to use the simple code multiple times\n",
    "\n",
    "\n",
    "- we tried to use the simple code multiple time till condition met"
   ]
  },
  {
   "cell_type": "markdown",
   "id": "6ff2dd75",
   "metadata": {},
   "source": [
    "**We have two types of loops**\n",
    "\n",
    "\n",
    "- for loop\n",
    "\n",
    "\n",
    "- while loop\n",
    "\n",
    "\n",
    "- any loop we need 3 things\n",
    "    - 1. what is th estart value : **initial point**\n",
    "    - 2. what is the iteration type : **increment or decrement**\n",
    "    - 3. What is the stop point : **condition to stop** "
   ]
  },
  {
   "cell_type": "code",
   "execution_count": 3,
   "id": "acf79266",
   "metadata": {},
   "outputs": [
    {
     "name": "stdout",
     "output_type": "stream",
     "text": [
      "1\n",
      "2\n",
      "3\n",
      "4\n",
      "1\n",
      "2\n",
      "3\n",
      "4\n"
     ]
    }
   ],
   "source": [
    "# syntax\n",
    "print(1)\n",
    "print(2)\n",
    "print(3)\n",
    "print(4)\n",
    "\n",
    "for i in range(1,5):\n",
    "    print(i)"
   ]
  },
  {
   "cell_type": "markdown",
   "id": "d64d4972",
   "metadata": {},
   "source": [
    "**Case - 1**"
   ]
  },
  {
   "cell_type": "markdown",
   "id": "a06b1433",
   "metadata": {},
   "source": [
    "**range(stop)**\n",
    "\n",
    "- ex: range(3)\n",
    "- start value not mentioned\n",
    "\n",
    "    - start: by default start value=0      \n",
    "    - python index starts with 0\n",
    "    \n",
    "\n",
    "- increment or decrement not mentioned: (It is also called step)\n",
    "    - by default increment by only\n",
    "    \n",
    "    - increment by one    \n",
    "    \n",
    "    - increment by positive one means positive direction\n",
    "    \n",
    "\n",
    "- stop value mentioned\n",
    "\n",
    "    - if it is a positive direction\n",
    "    \n",
    "    - last = stop-1"
   ]
  },
  {
   "cell_type": "code",
   "execution_count": 5,
   "id": "13445e1a",
   "metadata": {},
   "outputs": [
    {
     "name": "stdout",
     "output_type": "stream",
     "text": [
      "0\n",
      "1\n",
      "2\n",
      "3\n",
      "4\n"
     ]
    }
   ],
   "source": [
    "range(5)\n",
    "# start = 0\n",
    "# increment = 1\n",
    "# last = 5-1\n",
    "for i in range(5):\n",
    "    print(i)"
   ]
  },
  {
   "cell_type": "code",
   "execution_count": 8,
   "id": "be515f4c",
   "metadata": {},
   "outputs": [
    {
     "name": "stdout",
     "output_type": "stream",
     "text": [
      "good evening\n",
      "good evening\n",
      "good evening\n",
      "good evening\n"
     ]
    }
   ],
   "source": [
    "for i in range(1,5):\n",
    "    print(\"good evening\")"
   ]
  },
  {
   "cell_type": "code",
   "execution_count": 9,
   "id": "45f587f8",
   "metadata": {},
   "outputs": [
    {
     "name": "stdout",
     "output_type": "stream",
     "text": [
      "good evening\n",
      "good evening\n",
      "good evening\n",
      "good evening\n"
     ]
    }
   ],
   "source": [
    "for i in range(4):\n",
    "    print(\"good evening\")"
   ]
  },
  {
   "cell_type": "code",
   "execution_count": 10,
   "id": "47a55cc2",
   "metadata": {},
   "outputs": [
    {
     "name": "stdout",
     "output_type": "stream",
     "text": [
      "0:good evening\n",
      "1:good evening\n",
      "2:good evening\n",
      "3:good evening\n"
     ]
    }
   ],
   "source": [
    "for i in range(4):\n",
    "    print(f\"{i}:good evening\")"
   ]
  },
  {
   "cell_type": "code",
   "execution_count": 11,
   "id": "b05ba9c8",
   "metadata": {},
   "outputs": [
    {
     "name": "stdout",
     "output_type": "stream",
     "text": [
      "1:good evening\n",
      "2:good evening\n",
      "3:good evening\n",
      "4:good evening\n"
     ]
    }
   ],
   "source": [
    "for i in range(1,5):\n",
    "    print(f\"{i}:good evening\")"
   ]
  },
  {
   "cell_type": "code",
   "execution_count": 16,
   "id": "05dd6463",
   "metadata": {},
   "outputs": [
    {
     "data": {
      "text/plain": [
       "['__doc__',\n",
       " '__loader__',\n",
       " '__name__',\n",
       " '__package__',\n",
       " '__spec__',\n",
       " 'acos',\n",
       " 'acosh',\n",
       " 'asin',\n",
       " 'asinh',\n",
       " 'atan',\n",
       " 'atan2',\n",
       " 'atanh',\n",
       " 'ceil',\n",
       " 'comb',\n",
       " 'copysign',\n",
       " 'cos',\n",
       " 'cosh',\n",
       " 'degrees',\n",
       " 'dist',\n",
       " 'e',\n",
       " 'erf',\n",
       " 'erfc',\n",
       " 'exp',\n",
       " 'expm1',\n",
       " 'fabs',\n",
       " 'factorial',\n",
       " 'floor',\n",
       " 'fmod',\n",
       " 'frexp',\n",
       " 'fsum',\n",
       " 'gamma',\n",
       " 'gcd',\n",
       " 'hypot',\n",
       " 'inf',\n",
       " 'isclose',\n",
       " 'isfinite',\n",
       " 'isinf',\n",
       " 'isnan',\n",
       " 'isqrt',\n",
       " 'lcm',\n",
       " 'ldexp',\n",
       " 'lgamma',\n",
       " 'log',\n",
       " 'log10',\n",
       " 'log1p',\n",
       " 'log2',\n",
       " 'modf',\n",
       " 'nan',\n",
       " 'nextafter',\n",
       " 'perm',\n",
       " 'pi',\n",
       " 'pow',\n",
       " 'prod',\n",
       " 'radians',\n",
       " 'remainder',\n",
       " 'sin',\n",
       " 'sinh',\n",
       " 'sqrt',\n",
       " 'tan',\n",
       " 'tanh',\n",
       " 'tau',\n",
       " 'trunc',\n",
       " 'ulp']"
      ]
     },
     "execution_count": 16,
     "metadata": {},
     "output_type": "execute_result"
    }
   ],
   "source": [
    "import math\n",
    "dir(math)"
   ]
  },
  {
   "cell_type": "code",
   "execution_count": 18,
   "id": "9e5fb945",
   "metadata": {},
   "outputs": [
    {
     "name": "stdout",
     "output_type": "stream",
     "text": [
      "the square of 0 is 0\n",
      "the square of 1 is 1\n",
      "the square of 2 is 4\n",
      "the square of 3 is 9\n",
      "the square of 4 is 16\n",
      "the square of 5 is 25\n"
     ]
    }
   ],
   "source": [
    "# q1\n",
    "import math\n",
    "for i in range(6):\n",
    "    print(f\"The square of {i} is {pow(i,2)}\")"
   ]
  },
  {
   "cell_type": "code",
   "execution_count": 19,
   "id": "d8a2b955",
   "metadata": {},
   "outputs": [
    {
     "name": "stdout",
     "output_type": "stream",
     "text": [
      "enter a number :9\n",
      "The square of 9 is 81.\n",
      "enter a number :1\n",
      "The square of 1 is 1.\n",
      "enter a number :3\n",
      "The square of 3 is 9.\n",
      "enter a number :4\n",
      "The square of 4 is 16.\n",
      "enter a number :5\n",
      "The square of 5 is 25.\n"
     ]
    }
   ],
   "source": [
    "# q2\n",
    "import math\n",
    "for i in range (5):\n",
    "    num = eval(input('enter a number :'))\n",
    "    print(f\"The square of {num} is {pow(num,2)}.\")"
   ]
  },
  {
   "cell_type": "code",
   "execution_count": 21,
   "id": "773e30e9",
   "metadata": {},
   "outputs": [
    {
     "name": "stdout",
     "output_type": "stream",
     "text": [
      "The square of 34 is 1156.\n",
      "The square of 43 is 1849.\n",
      "The square of 43 is 1849.\n",
      "The square of 58 is 3364.\n",
      "The square of 8 is 64.\n"
     ]
    }
   ],
   "source": [
    "# q3\n",
    "import random\n",
    "for i in range(5):\n",
    "    num = random.randint(1,100)\n",
    "    print(f\"The square of {num} is {pow(num,2)}.\")"
   ]
  },
  {
   "cell_type": "markdown",
   "id": "2376fecc",
   "metadata": {},
   "source": [
    "**Case-2: range(start,stop)**\n",
    "\n",
    "- start = start\n",
    "\n",
    "\n",
    "- step not given : positive increment by 1\n",
    "\n",
    "\n",
    "- stop : last= stop-1\n",
    "\n",
    "- ex: range(2,10):\n",
    "\n",
    "    - start = 2\n",
    "    \n",
    "    - stop = 9"
   ]
  },
  {
   "cell_type": "code",
   "execution_count": 22,
   "id": "ff721bcd",
   "metadata": {},
   "outputs": [
    {
     "name": "stdout",
     "output_type": "stream",
     "text": [
      "2\n",
      "3\n",
      "4\n",
      "5\n",
      "6\n",
      "7\n",
      "8\n",
      "9\n"
     ]
    }
   ],
   "source": [
    "for i in range(2,10):\n",
    "    print(i)"
   ]
  },
  {
   "cell_type": "markdown",
   "id": "e2ce0b7a",
   "metadata": {},
   "source": [
    "**Case-3: range(start,stop,step)**\n",
    "\n",
    "- start given : start value\n",
    "\n",
    "- step:\n",
    "    - positive value means increment\n",
    "    \n",
    "    - stop : last=stop-1\n",
    "    \n",
    "    - negative step means decrement\n",
    "    \n",
    "    - stop : last = stop+1\n",
    "    \n",
    "**example: range(2,10,2)**\n",
    "\n",
    "- start: 2, step: 2 last= stop-1: 10-1=9\n",
    "\n",
    "**example: range(2,10,-2)**\n",
    "\n",
    "- start= 2, step = -2, last = stop+1:10+1=11"
   ]
  },
  {
   "cell_type": "code",
   "execution_count": 23,
   "id": "2e4e14c4",
   "metadata": {},
   "outputs": [
    {
     "name": "stdout",
     "output_type": "stream",
     "text": [
      "2 4 6 8 "
     ]
    }
   ],
   "source": [
    "# example-1:\n",
    "# for i in range(2,10,2):\n",
    "#     start = 2\n",
    "#     step = 2 positive\n",
    "#     last = stop-1: 10-1=9\n",
    "\n",
    "for i in range(2,10,2):\n",
    "    print(i,end=' ')"
   ]
  },
  {
   "cell_type": "code",
   "execution_count": null,
   "id": "287e8fd0",
   "metadata": {},
   "outputs": [],
   "source": [
    "rang(2,10,-2)\n",
    "# start = 2\n",
    "# step = -2 negative\n",
    "# last = 10+1 = 11"
   ]
  },
  {
   "cell_type": "code",
   "execution_count": 26,
   "id": "5d2e05f3",
   "metadata": {},
   "outputs": [],
   "source": [
    "for i in range(2,10,-2):\n",
    "    print(i,end = ' ')\n",
    "    \n",
    "# no answer - no error"
   ]
  },
  {
   "cell_type": "code",
   "execution_count": 28,
   "id": "789b47a2",
   "metadata": {},
   "outputs": [],
   "source": [
    "range(10,2,-2)\n",
    "# # start(10)\n",
    "# # step = -2 negative\n",
    "# # last = 2+1 =3"
   ]
  },
  {
   "cell_type": "code",
   "execution_count": 29,
   "id": "a5a09267",
   "metadata": {},
   "outputs": [
    {
     "name": "stdout",
     "output_type": "stream",
     "text": [
      "10 8 6 4 "
     ]
    }
   ],
   "source": [
    "for i in range(10,2,-2):\n",
    "    print(i,end=' ')"
   ]
  },
  {
   "cell_type": "code",
   "execution_count": 32,
   "id": "84008387",
   "metadata": {},
   "outputs": [
    {
     "name": "stdout",
     "output_type": "stream",
     "text": [
      "-10 -8 -6 -4 -2 0 2 "
     ]
    }
   ],
   "source": [
    "for i in range(-10,3,2):\n",
    "    print(i,end=' ')\n",
    "    \n",
    "# start = -10\n",
    "# step = 2 +ve\n",
    "# last = 3-1=2"
   ]
  },
  {
   "cell_type": "code",
   "execution_count": 2,
   "id": "c7207603",
   "metadata": {},
   "outputs": [
    {
     "name": "stdout",
     "output_type": "stream",
     "text": [
      "55\n"
     ]
    }
   ],
   "source": [
    "summ = 0\n",
    "for i in range (1,11):\n",
    "    summ = summ + i\n",
    "#     print(summ)\n",
    "print(summ)"
   ]
  },
  {
   "cell_type": "code",
   "execution_count": 9,
   "id": "8644bf5c",
   "metadata": {},
   "outputs": [
    {
     "name": "stdout",
     "output_type": "stream",
     "text": [
      "Enter90\n",
      "Enter1\n",
      "Enter12\n",
      "Enter8\n",
      "Enter7\n",
      "summ of even number is 110\n",
      "summ of odd number is 8\n"
     ]
    }
   ],
   "source": [
    "even = 0\n",
    "odd = 0\n",
    "for num in range(5):\n",
    "    num = eval(input('Enter a number :'))\n",
    "    if num%2 == 0:\n",
    "        even=even+num\n",
    "    else:\n",
    "        odd = odd+num\n",
    "print(f'summ of even number is {even}')\n",
    "print(f'summ of odd number is {odd}')"
   ]
  },
  {
   "cell_type": "code",
   "execution_count": 12,
   "id": "e5388edb",
   "metadata": {},
   "outputs": [
    {
     "name": "stdout",
     "output_type": "stream",
     "text": [
      "11 is odd number\n",
      "23 is odd number\n",
      "51 is odd number\n",
      "98 is even number\n",
      "52 is even number\n",
      "summ of even number is 150\n",
      "summ of odd number is 85\n"
     ]
    }
   ],
   "source": [
    "import random\n",
    "even,odd = 0,0\n",
    "for num in range(5):\n",
    "    num = random.randint(1,100)\n",
    "    if num%2 == 0:\n",
    "        print(f'{num} is even number')\n",
    "        even=even+num\n",
    "    else:\n",
    "        print(f'{num} is odd number')\n",
    "        odd = odd+num\n",
    "print(f'summ of even number is {even}')\n",
    "print(f'summ of odd number is {odd}')"
   ]
  },
  {
   "cell_type": "markdown",
   "id": "b3de2799",
   "metadata": {},
   "source": [
    "**Counter wrapper**"
   ]
  },
  {
   "cell_type": "markdown",
   "id": "32462169",
   "metadata": {},
   "source": [
    "- similar to summation we have counter also\n",
    "\n",
    "- sum means adding\n",
    "\n",
    "- counter means counting, when we count it's always updated by 1\n",
    "\n",
    "- initial : count = 0\n",
    "\n",
    "- inside code : count = count+1"
   ]
  },
  {
   "cell_type": "code",
   "execution_count": 15,
   "id": "93138c58",
   "metadata": {},
   "outputs": [
    {
     "name": "stdout",
     "output_type": "stream",
     "text": [
      "60 is an even number\n",
      "62 is an even number\n",
      "98 is an even number\n",
      "96 is an even number\n",
      "68 is an even number\n",
      "number of even number is 5\n",
      "number of odd number is 0\n"
     ]
    }
   ],
   "source": [
    "import random\n",
    "count_even,count_odd = 0,0\n",
    "for num in range(5):\n",
    "    num = random.randint(1,100)\n",
    "    if num%2 == 0:\n",
    "        print(f'{num} is an even number')\n",
    "        count_even =  count_even+1\n",
    "    else:\n",
    "        print(f'{num} is an odd number')\n",
    "        count_odd = count_odd + 1\n",
    "print(f'number of even number is {count_even}')\n",
    "print(f'number of odd number is {count_odd}')"
   ]
  },
  {
   "cell_type": "code",
   "execution_count": 16,
   "id": "4ca1b166",
   "metadata": {},
   "outputs": [
    {
     "name": "stdout",
     "output_type": "stream",
     "text": [
      "15 is an odd number\n",
      "36 is an even number\n",
      "81 is an odd number\n",
      "86 is an even number\n",
      "72 is an even number\n",
      "number of even number is 3\n",
      "number of odd number is 2\n"
     ]
    }
   ],
   "source": [
    "import random\n",
    "count_even,count_odd = 0,0\n",
    "for num in range(5):\n",
    "    num = random.randint(1,100)\n",
    "    if num%2 == 0:\n",
    "        print(f'{num} is an even number')\n",
    "        count_even += 1\n",
    "    else:\n",
    "        print(f'{num} is an odd number')\n",
    "        count_odd += 1\n",
    "print(f'number of even number is {count_even}')\n",
    "print(f'number of odd number is {count_odd}')"
   ]
  },
  {
   "cell_type": "code",
   "execution_count": 1,
   "id": "69136a2b",
   "metadata": {},
   "outputs": [
    {
     "name": "stdout",
     "output_type": "stream",
     "text": [
      "Enter a number : 8\n",
      "you lost the lucky code is 15\n",
      "Enter a number : 16\n",
      "you lost the lucky code is 10\n",
      "Enter a number : 11\n",
      "you lost the lucky code is 15\n"
     ]
    }
   ],
   "source": [
    "import random\n",
    "for i in range(3):\n",
    "    lucky_code = random.randint(1,20)\n",
    "    num = eval(input('Enter a number : ')) \n",
    "    if num==lucky_code:\n",
    "        print('You won')\n",
    "        \n",
    "    else:\n",
    "        print(f'you lost the lucky code is {lucky_code}')"
   ]
  },
  {
   "cell_type": "code",
   "execution_count": 1,
   "id": "43e70ef5",
   "metadata": {},
   "outputs": [
    {
     "name": "stdout",
     "output_type": "stream",
     "text": [
      "14\n",
      "Enter a number : 14\n",
      "You won\n"
     ]
    }
   ],
   "source": [
    "import random\n",
    "for i in range(3):\n",
    "    lucky_code = random.randint(1,20)\n",
    "    print(lucky_code)\n",
    "    num = eval(input('Enter a number : '))\n",
    "    if num==lucky_code:\n",
    "        print('You won')\n",
    "        break\n",
    "    else:\n",
    "        print(f'you lost the lucky code is {lucky_code}')"
   ]
  },
  {
   "cell_type": "code",
   "execution_count": 7,
   "id": "a50243a2",
   "metadata": {},
   "outputs": [
    {
     "name": "stdout",
     "output_type": "stream",
     "text": [
      "You have 3 chances left.\n",
      "The lucky code is 2\n",
      "Enter a number : 3\n",
      "you lost the lucky code is 2\n",
      "You have 2 chances left.\n",
      "The lucky code is 1\n",
      "Enter a number : 4\n",
      "you lost the lucky code is 1\n",
      "You have 1 chances left.\n",
      "The lucky code is 12\n",
      "Enter a number : 2\n",
      "you lost the lucky code is 12\n",
      "once all chances are over, try after 24 hours.\n"
     ]
    }
   ],
   "source": [
    "import random\n",
    "chance = 3\n",
    "for i in range(3):\n",
    "    \n",
    "    print(f'You have {chance} chances left.')\n",
    "    \n",
    "    lucky_code = random.randint(1,20)\n",
    "    print(f'The lucky code is {lucky_code}')\n",
    "    num = eval(input('Enter a number : '))\n",
    "    \n",
    "    if num==lucky_code:\n",
    "        print('You won')\n",
    "        break\n",
    "    else:\n",
    "        print(f'you lost the lucky code is {lucky_code}')\n",
    "        chance -=1\n",
    "        if chance == 0:\n",
    "            print('once all chances are over, try after 24 hours.')"
   ]
  },
  {
   "cell_type": "markdown",
   "id": "b54b21b3",
   "metadata": {},
   "source": [
    "**in operator**"
   ]
  },
  {
   "cell_type": "markdown",
   "id": "af689ac0",
   "metadata": {},
   "source": [
    "- range operator\n",
    "    \n",
    "    - math family we need a number\n",
    "    \n",
    "- in operator\n",
    "\n",
    "    - access the element directly"
   ]
  },
  {
   "cell_type": "code",
   "execution_count": 3,
   "id": "c0120a30",
   "metadata": {},
   "outputs": [
    {
     "data": {
      "text/plain": [
       "True"
      ]
     },
     "execution_count": 3,
     "metadata": {},
     "output_type": "execute_result"
    }
   ],
   "source": [
    "'python'\n",
    "\n",
    "'t' in 'python'"
   ]
  },
  {
   "cell_type": "code",
   "execution_count": 4,
   "id": "ba9239e8",
   "metadata": {},
   "outputs": [
    {
     "name": "stdout",
     "output_type": "stream",
     "text": [
      "p\n",
      "y\n",
      "t\n",
      "h\n",
      "o\n",
      "n\n"
     ]
    }
   ],
   "source": [
    "for i in 'python':\n",
    "    print(i)"
   ]
  },
  {
   "cell_type": "code",
   "execution_count": 5,
   "id": "35ced0e1",
   "metadata": {},
   "outputs": [
    {
     "name": "stdout",
     "output_type": "stream",
     "text": [
      "p y t h o n 0\n",
      "1\n",
      "2\n",
      "3\n",
      "4\n",
      "5\n"
     ]
    }
   ],
   "source": [
    "str1 = 'python'\n",
    "for i in str1:\n",
    "    print(i,end=' ')\n",
    "    \n",
    "for i in range(len(str1)):\n",
    "    print(i)"
   ]
  },
  {
   "cell_type": "markdown",
   "id": "7168040c",
   "metadata": {},
   "source": [
    "- range is not working in string\n",
    "\n",
    "- but range(len()) is works in string"
   ]
  },
  {
   "cell_type": "code",
   "execution_count": 6,
   "id": "5f34c0b0",
   "metadata": {},
   "outputs": [
    {
     "data": {
      "text/plain": [
       "False"
      ]
     },
     "execution_count": 6,
     "metadata": {},
     "output_type": "execute_result"
    }
   ],
   "source": [
    "'a'=='A'"
   ]
  },
  {
   "cell_type": "code",
   "execution_count": 7,
   "id": "57163b77",
   "metadata": {},
   "outputs": [
    {
     "data": {
      "text/plain": [
       "True"
      ]
     },
     "execution_count": 7,
     "metadata": {},
     "output_type": "execute_result"
    }
   ],
   "source": [
    "'a'>'A'"
   ]
  },
  {
   "cell_type": "code",
   "execution_count": 8,
   "id": "d181eb72",
   "metadata": {},
   "outputs": [
    {
     "data": {
      "text/plain": [
       "False"
      ]
     },
     "execution_count": 8,
     "metadata": {},
     "output_type": "execute_result"
    }
   ],
   "source": [
    "'a'<'A'"
   ]
  },
  {
   "cell_type": "markdown",
   "id": "60a85ee0",
   "metadata": {},
   "source": [
    "# **Deadly important for interview**"
   ]
  },
  {
   "cell_type": "markdown",
   "id": "84724990",
   "metadata": {},
   "source": [
    "**ASCII**\n",
    "\n",
    "\n",
    "- AMERICAN STANDARD CODE FOR INFORMATION INTERCHANGE"
   ]
  },
  {
   "cell_type": "markdown",
   "id": "82ce88e6",
   "metadata": {},
   "source": [
    "**chr-ord**"
   ]
  },
  {
   "cell_type": "code",
   "execution_count": 9,
   "id": "294be23b",
   "metadata": {},
   "outputs": [
    {
     "data": {
      "text/plain": [
       "97"
      ]
     },
     "execution_count": 9,
     "metadata": {},
     "output_type": "execute_result"
    }
   ],
   "source": [
    "ord('a')"
   ]
  },
  {
   "cell_type": "code",
   "execution_count": 10,
   "id": "e0061fb3",
   "metadata": {},
   "outputs": [
    {
     "data": {
      "text/plain": [
       "65"
      ]
     },
     "execution_count": 10,
     "metadata": {},
     "output_type": "execute_result"
    }
   ],
   "source": [
    "ord('A')"
   ]
  },
  {
   "cell_type": "code",
   "execution_count": 12,
   "id": "004ad043",
   "metadata": {},
   "outputs": [
    {
     "data": {
      "text/plain": [
       "('a', 'A')"
      ]
     },
     "execution_count": 12,
     "metadata": {},
     "output_type": "execute_result"
    }
   ],
   "source": [
    "chr(97),chr(65)"
   ]
  },
  {
   "cell_type": "markdown",
   "id": "235e7311",
   "metadata": {},
   "source": [
    "- **ord** converts character to number\n",
    "\n",
    "- **chr** coverts convert number to character"
   ]
  },
  {
   "cell_type": "code",
   "execution_count": 16,
   "id": "ba71b0cd",
   "metadata": {},
   "outputs": [
    {
     "name": "stdout",
     "output_type": "stream",
     "text": [
      "65\n",
      "90\n"
     ]
    }
   ],
   "source": [
    "# 1\n",
    "for i in 'ABCDEFGHIJKLMNOPQRSTUVWXYZ':\n",
    "          print(i)"
   ]
  },
  {
   "cell_type": "code",
   "execution_count": 18,
   "id": "6751a005",
   "metadata": {},
   "outputs": [
    {
     "name": "stdout",
     "output_type": "stream",
     "text": [
      "A 65,B 66,C 67,D 68,E 69,F 70,G 71,H 72,I 73,J 74,K 75,L 76,M 77,N 78,O 79,P 80,Q 81,R 82,S 83,T 84,U 85,V 86,W 87,X 88,Y 89,Z 90,"
     ]
    }
   ],
   "source": [
    "import string\n",
    "for i in string.ascii_uppercase:\n",
    "    print(i,ord(i),end = ',')"
   ]
  },
  {
   "cell_type": "code",
   "execution_count": 19,
   "id": "1b1bdd63",
   "metadata": {},
   "outputs": [
    {
     "name": "stdout",
     "output_type": "stream",
     "text": [
      "a 97,b 98,c 99,d 100,e 101,f 102,g 103,h 104,i 105,j 106,k 107,l 108,m 109,n 110,o 111,p 112,q 113,r 114,s 115,t 116,u 117,v 118,w 119,x 120,y 121,z 122,"
     ]
    }
   ],
   "source": [
    "import string\n",
    "for i in string.ascii_lowercase:\n",
    "    print(i,ord(i),end = ',')"
   ]
  },
  {
   "cell_type": "code",
   "execution_count": 20,
   "id": "f0c2f705",
   "metadata": {},
   "outputs": [
    {
     "data": {
      "text/plain": [
       "['Formatter',\n",
       " 'Template',\n",
       " '_ChainMap',\n",
       " '__all__',\n",
       " '__builtins__',\n",
       " '__cached__',\n",
       " '__doc__',\n",
       " '__file__',\n",
       " '__loader__',\n",
       " '__name__',\n",
       " '__package__',\n",
       " '__spec__',\n",
       " '_re',\n",
       " '_sentinel_dict',\n",
       " '_string',\n",
       " 'ascii_letters',\n",
       " 'ascii_lowercase',\n",
       " 'ascii_uppercase',\n",
       " 'capwords',\n",
       " 'digits',\n",
       " 'hexdigits',\n",
       " 'octdigits',\n",
       " 'printable',\n",
       " 'punctuation',\n",
       " 'whitespace']"
      ]
     },
     "execution_count": 20,
     "metadata": {},
     "output_type": "execute_result"
    }
   ],
   "source": [
    "dir(string)"
   ]
  },
  {
   "cell_type": "code",
   "execution_count": 21,
   "id": "f68541ca",
   "metadata": {},
   "outputs": [
    {
     "name": "stdout",
     "output_type": "stream",
     "text": [
      "! 33,\" 34,# 35,$ 36,% 37,& 38,' 39,( 40,) 41,* 42,+ 43,, 44,- 45,. 46,/ 47,: 58,; 59,< 60,= 61,> 62,? 63,@ 64,[ 91,\\ 92,] 93,^ 94,_ 95,` 96,{ 123,| 124,} 125,~ 126,"
     ]
    }
   ],
   "source": [
    "for i in string.punctuation:\n",
    "    print(i,ord(i),end = ',')"
   ]
  },
  {
   "cell_type": "code",
   "execution_count": 24,
   "id": "96722b84",
   "metadata": {},
   "outputs": [
    {
     "name": "stdout",
     "output_type": "stream",
     "text": [
      "20:\u0014,21:\u0015,22:\u0016,23:\u0017,24:\u0018,25:\u0019,26:\u001a,27:\u001b,28:\u001c",
      ",29:\u001d",
      ",30:\u001e",
      ",31:\u001f,32: ,33:!,34:\",35:#,36:$,37:%,38:&,39:',40:(,41:),42:*,43:+,44:,,45:-,46:.,47:/,48:0,49:1,50:2,51:3,52:4,53:5,54:6,55:7,56:8,57:9,58::,59:;,60:<,61:=,62:>,63:?,64:@,65:A,66:B,67:C,68:D,69:E,70:F,71:G,72:H,73:I,74:J,75:K,76:L,77:M,78:N,79:O,80:P,81:Q,82:R,83:S,84:T,85:U,86:V,87:W,88:X,89:Y,90:Z,91:[,92:\\,93:],94:^,95:_,96:`,97:a,98:b,99:c,100:d,101:e,102:f,103:g,104:h,105:i,106:j,107:k,108:l,109:m,110:n,111:o,112:p,113:q,114:r,115:s,116:t,117:u,118:v,119:w,120:x,121:y,122:z,123:{,124:|,125:},126:~,127:,128:,129:,130:,131:,132:,133:",
      ",134:,135:,136:,137:,138:,139:,140:,141:,142:,143:,144:,145:,146:,147:,148:,149:,"
     ]
    }
   ],
   "source": [
    "for i in range(20,150):\n",
    "    print(f'{i}:{chr(i)}',end=',')"
   ]
  },
  {
   "cell_type": "code",
   "execution_count": 32,
   "id": "e4412595",
   "metadata": {},
   "outputs": [
    {
     "name": "stdout",
     "output_type": "stream",
     "text": [
      "2821:ଅ,2822:ଆ,2823:ଇ,2824:ଈ,2825:ଉ,2826:ଊ,2827:ଋ,2828:ଌ,2829:଍,2830:଎,2831:ଏ,2832:ଐ,2833:଑,2834:଒,2835:ଓ,2836:ଔ,2837:କ,2838:ଖ,2839:ଗ,2840:ଘ,2841:ଙ,2842:ଚ,2843:ଛ,2844:ଜ,2845:ଝ,2846:ଞ,2847:ଟ,2848:ଠ,2849:ଡ,2850:ଢ,2851:ଣ,2852:ତ,2853:ଥ,2854:ଦ,2855:ଧ,2856:ନ,2857:଩,2858:ପ,2859:ଫ,2860:ବ,2861:ଭ,2862:ମ,2863:ଯ,2864:ର,2865:଱,2866:ଲ,2867:ଳ,2868:଴,2869:ଵ,2870:ଶ,2871:ଷ,2872:ସ,2873:ହ,2874:଺,2875:଻,2876:଼,2877:ଽ,2878:ା,2879:ି,2880:ୀ,2881:ୁ,2882:ୂ,2883:ୃ,2884:ୄ,2885:୅,2886:୆,2887:େ,2888:ୈ,2889:୉,2890:୊,2891:ୋ,2892:ୌ,2893:୍,2894:୎,2895:୏,2896:୐,2897:୑,2898:୒,2899:୓,2900:୔,2901:୕,2902:ୖ,2903:ୗ,2904:୘,2905:୙,2906:୚,2907:୛,2908:ଡ଼,2909:ଢ଼,2910:୞,2911:ୟ,2912:ୠ,2913:ୡ,2914:ୢ,2915:ୣ,2916:୤,2917:୥,2918:୦,2919:୧,2920:୨,2921:୩,2922:୪,2923:୫,2924:୬,2925:୭,2926:୮,2927:୯,2928:୰,2929:ୱ,2930:୲,2931:୳,"
     ]
    }
   ],
   "source": [
    "for i in range(2821,2932):\n",
    "    print(f'{i}:{chr(i)}',end=',')"
   ]
  },
  {
   "cell_type": "code",
   "execution_count": null,
   "id": "cc7ee225",
   "metadata": {},
   "outputs": [],
   "source": []
  }
 ],
 "metadata": {
  "kernelspec": {
   "display_name": "Python 3 (ipykernel)",
   "language": "python",
   "name": "python3"
  },
  "language_info": {
   "codemirror_mode": {
    "name": "ipython",
    "version": 3
   },
   "file_extension": ".py",
   "mimetype": "text/x-python",
   "name": "python",
   "nbconvert_exporter": "python",
   "pygments_lexer": "ipython3",
   "version": "3.9.13"
  }
 },
 "nbformat": 4,
 "nbformat_minor": 5
}
