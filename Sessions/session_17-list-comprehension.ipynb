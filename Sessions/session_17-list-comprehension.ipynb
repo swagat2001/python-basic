{
 "cells": [
  {
   "cell_type": "markdown",
   "id": "f6aaedd2",
   "metadata": {},
   "source": [
    "- list comprehensions means writing a list operations in a single line\n",
    "\n",
    "\n",
    "- when we apply for loop and conditional statement the processing time will be increase\n",
    "\n",
    "\n",
    "- List comprehensions reduce the processing time\n",
    "\n",
    "\n",
    "\n"
   ]
  },
  {
   "cell_type": "markdown",
   "id": "96bc0983",
   "metadata": {},
   "source": [
    "**Case-1:only for loop**"
   ]
  },
  {
   "cell_type": "code",
   "execution_count": 2,
   "id": "755208e8",
   "metadata": {},
   "outputs": [
    {
     "data": {
      "text/plain": [
       "[0, 1, 2, 3, 4, 5, 6, 7, 8, 9]"
      ]
     },
     "execution_count": 2,
     "metadata": {},
     "output_type": "execute_result"
    }
   ],
   "source": [
    "l=[]\n",
    "for i in range(10):\n",
    "    l.append(i)\n",
    "l"
   ]
  },
  {
   "cell_type": "code",
   "execution_count": null,
   "id": "ab626dad",
   "metadata": {},
   "outputs": [],
   "source": [
    "l=[<write your code>]\n",
    "l=[<output><for loop>]\n",
    "\n",
    "# output variable = i\n",
    "# for loop : for i in range(10)"
   ]
  },
  {
   "cell_type": "code",
   "execution_count": 3,
   "id": "1bce71f4",
   "metadata": {},
   "outputs": [
    {
     "data": {
      "text/plain": [
       "[0, 1, 2, 3, 4, 5, 6, 7, 8, 9]"
      ]
     },
     "execution_count": 3,
     "metadata": {},
     "output_type": "execute_result"
    }
   ],
   "source": [
    "l= [i for i in range(10)]\n",
    "l"
   ]
  },
  {
   "cell_type": "code",
   "execution_count": 4,
   "id": "2f956177",
   "metadata": {},
   "outputs": [
    {
     "data": {
      "text/plain": [
       "['Hyd', 'Bengaluru', 'Mumbai', 'Chennai']"
      ]
     },
     "execution_count": 4,
     "metadata": {},
     "output_type": "execute_result"
    }
   ],
   "source": [
    "# q1\n",
    "import string\n",
    "l=['hyd','bengaluru','mumbai','chennai']\n",
    "output = []\n",
    "for i in l:\n",
    "    output.append(i.capitalize())\n",
    "output"
   ]
  },
  {
   "cell_type": "code",
   "execution_count": 20,
   "id": "d924f07d",
   "metadata": {},
   "outputs": [
    {
     "data": {
      "text/plain": [
       "['Hyd', 'Bengaluru', 'Mumbai', 'Chennai']"
      ]
     },
     "execution_count": 20,
     "metadata": {},
     "output_type": "execute_result"
    }
   ],
   "source": [
    "input1 = ['hyd','bengaluru','mumbai','chennai']\n",
    "output = [i.capitalize() for i in input1]\n",
    "output"
   ]
  },
  {
   "cell_type": "code",
   "execution_count": 5,
   "id": "6644e87a",
   "metadata": {},
   "outputs": [
    {
     "data": {
      "text/plain": [
       "['HYD', 'BENGALURU', 'MUMBAI', 'CHENNAI']"
      ]
     },
     "execution_count": 5,
     "metadata": {},
     "output_type": "execute_result"
    }
   ],
   "source": [
    "# q2\n",
    "import string\n",
    "l=['hyd','bengaluru','mumbai','chennai']\n",
    "output = []\n",
    "for i in l:\n",
    "    output.append(i.upper())\n",
    "output"
   ]
  },
  {
   "cell_type": "code",
   "execution_count": 21,
   "id": "cf8813bb",
   "metadata": {},
   "outputs": [
    {
     "data": {
      "text/plain": [
       "['HYD', 'BENGALURU', 'MUMBAI', 'CHENNAI']"
      ]
     },
     "execution_count": 21,
     "metadata": {},
     "output_type": "execute_result"
    }
   ],
   "source": [
    "input1 = ['hyd','bengaluru','mumbai','chennai']\n",
    "output = [i.upper() for i in input1]\n",
    "output"
   ]
  },
  {
   "cell_type": "code",
   "execution_count": 11,
   "id": "0888aa23",
   "metadata": {},
   "outputs": [
    {
     "name": "stdout",
     "output_type": "stream",
     "text": [
      "0\n",
      "10\n",
      "20\n",
      "30\n"
     ]
    }
   ],
   "source": [
    "# q3\n",
    "import string\n",
    "l=['hyd','bengaluru','mumbai','chennai']\n",
    "# output = []\n",
    "for i in l:\n",
    "    output = 10*(l.index(i))\n",
    "    print(output)"
   ]
  },
  {
   "cell_type": "code",
   "execution_count": 22,
   "id": "f9d5606e",
   "metadata": {},
   "outputs": [
    {
     "data": {
      "text/plain": [
       "[0, 10, 20, 30]"
      ]
     },
     "execution_count": 22,
     "metadata": {},
     "output_type": "execute_result"
    }
   ],
   "source": [
    "input1 = ['hyd','bengaluru','mumbai','chennai']\n",
    "output = [input1.index(i)*10 for i in input1]\n",
    "output"
   ]
  },
  {
   "cell_type": "markdown",
   "id": "327b5c73",
   "metadata": {},
   "source": [
    "**Valrus operator**"
   ]
  },
  {
   "cell_type": "code",
   "execution_count": 14,
   "id": "a0d6877e",
   "metadata": {},
   "outputs": [
    {
     "data": {
      "text/plain": [
       "6"
      ]
     },
     "execution_count": 14,
     "metadata": {},
     "output_type": "execute_result"
    }
   ],
   "source": [
    "# q4\n",
    "import string\n",
    "l=['hyd','bengaluru','mumbai','chennai']\n",
    "summ = 0\n",
    "for i in l:\n",
    "    ind = l.index(i)\n",
    "    summ=summ+ind\n",
    "    \n",
    "summ"
   ]
  },
  {
   "cell_type": "code",
   "execution_count": 25,
   "id": "c74687fe",
   "metadata": {},
   "outputs": [
    {
     "data": {
      "text/plain": [
       "[0, 1, 3, 6]"
      ]
     },
     "execution_count": 25,
     "metadata": {},
     "output_type": "execute_result"
    }
   ],
   "source": [
    "# q5\n",
    "l=['hyd','bengaluru','mumbai','chennai']\n",
    "summ = 0\n",
    "l = [summ:=summ+l.index(i) for i in l]\n",
    "l"
   ]
  },
  {
   "cell_type": "code",
   "execution_count": 15,
   "id": "1294d2ef",
   "metadata": {},
   "outputs": [
    {
     "name": "stdout",
     "output_type": "stream",
     "text": [
      "55\n"
     ]
    }
   ],
   "source": [
    "# q5\n",
    "summ = 0\n",
    "for i in range (1,11):\n",
    "    summ= summ+i\n",
    "print(summ)    "
   ]
  },
  {
   "cell_type": "code",
   "execution_count": 24,
   "id": "271cf0f5",
   "metadata": {},
   "outputs": [
    {
     "data": {
      "text/plain": [
       "[1, 3, 6, 10, 15, 21, 28, 36, 45, 55]"
      ]
     },
     "execution_count": 24,
     "metadata": {},
     "output_type": "execute_result"
    }
   ],
   "source": [
    "# q5\n",
    "summ = 0\n",
    "l = [summ:=summ+i for i in range(1,11)]\n",
    "l"
   ]
  },
  {
   "cell_type": "markdown",
   "id": "5d7bf168",
   "metadata": {},
   "source": [
    "**case-2: for-if**"
   ]
  },
  {
   "cell_type": "code",
   "execution_count": null,
   "id": "c4df21ff",
   "metadata": {},
   "outputs": [],
   "source": [
    "case-1: [<output> <foor loop>]\n",
    "case-2: [<output> <foor loop> <if condition>]"
   ]
  },
  {
   "cell_type": "code",
   "execution_count": 29,
   "id": "2c56c294",
   "metadata": {},
   "outputs": [
    {
     "name": "stdout",
     "output_type": "stream",
     "text": [
      "benga#luru\n",
      "chen#nai\n"
     ]
    }
   ],
   "source": [
    "# q5\n",
    "input1 = ['hyd','benga#luru','mumbai','chen#nai'] \n",
    "for i in input1:\n",
    "    if '#' in i:\n",
    "        print(i)"
   ]
  },
  {
   "cell_type": "code",
   "execution_count": 31,
   "id": "a6c42327",
   "metadata": {},
   "outputs": [
    {
     "data": {
      "text/plain": [
       "['benga#luru', 'chen#nai']"
      ]
     },
     "execution_count": 31,
     "metadata": {},
     "output_type": "execute_result"
    }
   ],
   "source": [
    "# q5\n",
    "output =[i for i in input1 if '#' in i]\n",
    "output"
   ]
  },
  {
   "cell_type": "code",
   "execution_count": 32,
   "id": "9080d79c",
   "metadata": {},
   "outputs": [
    {
     "name": "stdout",
     "output_type": "stream",
     "text": [
      "hyd\n",
      "mumbai\n"
     ]
    }
   ],
   "source": [
    "# q6\n",
    "input1 = ['hyd','benga#luru','mumbai','chen#nai'] \n",
    "for i in input1:\n",
    "    if '#' not in i:\n",
    "        print(i)"
   ]
  },
  {
   "cell_type": "code",
   "execution_count": 33,
   "id": "956563fa",
   "metadata": {},
   "outputs": [
    {
     "data": {
      "text/plain": [
       "['hyd', 'mumbai']"
      ]
     },
     "execution_count": 33,
     "metadata": {},
     "output_type": "execute_result"
    }
   ],
   "source": [
    "# q6\n",
    "output =[i for i in input1 if '#' not in i]\n",
    "output"
   ]
  },
  {
   "cell_type": "markdown",
   "id": "8e48516e",
   "metadata": {},
   "source": [
    "**Case-3: for-if-else**"
   ]
  },
  {
   "cell_type": "code",
   "execution_count": null,
   "id": "b7722813",
   "metadata": {},
   "outputs": [],
   "source": [
    "case-1: [<output> <foor loop>]\n",
    "case-2: [<output> <foor loop> <if condition>]\n",
    "case-3: [<if output> <if condition> else <else output> <for loop>]"
   ]
  },
  {
   "cell_type": "code",
   "execution_count": 44,
   "id": "82aea0e3",
   "metadata": {},
   "outputs": [
    {
     "name": "stdout",
     "output_type": "stream",
     "text": [
      "\n",
      "\n",
      "\n",
      "\n",
      "\n",
      "\n",
      "\n",
      "\n",
      "\n"
     ]
    },
    {
     "data": {
      "text/plain": [
       "['1:odd',\n",
       " '2:even',\n",
       " '3:odd',\n",
       " '4:even',\n",
       " '5:odd',\n",
       " '6:even',\n",
       " '7:odd',\n",
       " '8:even',\n",
       " '9:odd',\n",
       " '10:even',\n",
       " '11:odd',\n",
       " '12:even',\n",
       " '13:odd',\n",
       " '14:even',\n",
       " '15:odd',\n",
       " '16:even',\n",
       " '17:odd',\n",
       " '18:even']"
      ]
     },
     "execution_count": 44,
     "metadata": {},
     "output_type": "execute_result"
    }
   ],
   "source": [
    "output = []\n",
    "for i in range(1,19):\n",
    "    if i % 2==0:\n",
    "        output.append(f\"{i}:even\")\n",
    "        print()\n",
    "    else:\n",
    "        output.append(f\"{i}:odd\")\n",
    "output"
   ]
  },
  {
   "cell_type": "code",
   "execution_count": 43,
   "id": "c5e033cf",
   "metadata": {},
   "outputs": [
    {
     "data": {
      "text/plain": [
       "['1:odd',\n",
       " '2:even',\n",
       " '3:odd',\n",
       " '4:even',\n",
       " '5:odd',\n",
       " '6:even',\n",
       " '7:odd',\n",
       " '8:even',\n",
       " '9:odd',\n",
       " '10:even',\n",
       " '11:odd',\n",
       " '12:even',\n",
       " '13:odd',\n",
       " '14:even',\n",
       " '15:odd',\n",
       " '16:even',\n",
       " '17:odd',\n",
       " '18:even']"
      ]
     },
     "execution_count": 43,
     "metadata": {},
     "output_type": "execute_result"
    }
   ],
   "source": [
    "numl = [f'{i}:even' if i%2==0 \\\n",
    "        else f'{i}:odd' \\\n",
    "        for i in range(1,19) ]\n",
    "numl"
   ]
  },
  {
   "cell_type": "markdown",
   "id": "b107e0fe",
   "metadata": {},
   "source": [
    "**case-4: for-if-elif-else**\n",
    "\n",
    "- there is no elif concept in list comprehensions\n",
    "\n",
    "\n",
    "- elif will be write as else+if\n",
    "\n",
    "\n",
    "- elif condition elif output: else, if cond, outout"
   ]
  },
  {
   "cell_type": "code",
   "execution_count": null,
   "id": "c96ed6ea",
   "metadata": {},
   "outputs": [],
   "source": [
    "case-1: [<output> <foor loop>]\n",
    "case-2: [<output> <foor loop> <if condition>]\n",
    "case-3: [<if output> <if condition> else <else output> <for loop>]\n",
    "case-4: [<if output> <if condition> else <elif outpt> <if condition> else <else output> <for loop>]"
   ]
  },
  {
   "cell_type": "code",
   "execution_count": 46,
   "id": "e5b1a18d",
   "metadata": {},
   "outputs": [
    {
     "data": {
      "text/plain": [
       "['50:B grade', '47:C grade', '89:A grade', '92:A grade', '66:B grade']"
      ]
     },
     "execution_count": 46,
     "metadata": {},
     "output_type": "execute_result"
    }
   ],
   "source": [
    "input1 = [50,47,89,92,66]\n",
    "\n",
    "[f'{i}:A grade' if i>=70\\\n",
    "else f'{i}:B grade' if i>=50\\\n",
    "else f'{i}:C grade' for i in input1]"
   ]
  },
  {
   "cell_type": "code",
   "execution_count": 49,
   "id": "c03c0fcc",
   "metadata": {},
   "outputs": [
    {
     "name": "stdout",
     "output_type": "stream",
     "text": [
      "45 is failed\n",
      "76 is passed\n",
      "89 is passed\n",
      "53 is passed\n",
      "67 is passed\n",
      "90 is passed\n",
      "83 is passed\n",
      "49 is failed\n",
      "33 is failed\n",
      "99 is passed\n"
     ]
    }
   ],
   "source": [
    "# a\n",
    "input1 = [45,76,89,53,67,90,83,49,33,99]\n",
    "for i in input1:\n",
    "    if i>= 50:\n",
    "        print(f'{i} is passed')\n",
    "    else:\n",
    "        print(f'{i} is failed')"
   ]
  },
  {
   "cell_type": "code",
   "execution_count": 48,
   "id": "43e8d584",
   "metadata": {},
   "outputs": [
    {
     "data": {
      "text/plain": [
       "['76 is passed',\n",
       " '89 is passed',\n",
       " '53 is passed',\n",
       " '67 is passed',\n",
       " '90 is passed',\n",
       " '83 is passed',\n",
       " '99 is passed']"
      ]
     },
     "execution_count": 48,
     "metadata": {},
     "output_type": "execute_result"
    }
   ],
   "source": [
    "# a\n",
    "passed = [f'{i} is passed' if i>=50 for i in input1]\n",
    "passed"
   ]
  },
  {
   "cell_type": "code",
   "execution_count": 50,
   "id": "5c59d2c6",
   "metadata": {},
   "outputs": [
    {
     "data": {
      "text/plain": [
       "['45:F grade',\n",
       " '76:B grade',\n",
       " '89:A grade',\n",
       " '53:F grade',\n",
       " '67:F grade',\n",
       " '90:A grade',\n",
       " '83:B grade',\n",
       " '49:F grade',\n",
       " '33:F grade',\n",
       " '99:A grade']"
      ]
     },
     "execution_count": 50,
     "metadata": {},
     "output_type": "execute_result"
    }
   ],
   "source": [
    "# b\n",
    "input1 = [45,76,89,53,67,90,83,49,33,99]\n",
    "[f'{i}:A grade' if i>=85\\\n",
    "else f'{i}:B grade' if i>=70\\\n",
    "else f'{i}:C grade' if i>=69\\\n",
    "else f'{i}:F grade' for i in input1]"
   ]
  },
  {
   "cell_type": "code",
   "execution_count": 54,
   "id": "0fcafc2c",
   "metadata": {},
   "outputs": [
    {
     "name": "stdout",
     "output_type": "stream",
     "text": [
      "45:50\n",
      "49:54\n",
      "33:38\n"
     ]
    },
    {
     "data": {
      "text/plain": [
       "['45:50', '49:54', '33:38']"
      ]
     },
     "execution_count": 54,
     "metadata": {},
     "output_type": "execute_result"
    }
   ],
   "source": [
    "# c\n",
    "input1 = [45,76,89,53,67,90,83,49,33,99]\n",
    "for i in input1:\n",
    "    if i<50:\n",
    "        print(f'{i}:{i+5}')\n",
    "\n",
    "grace = [f'{i}:{i+5}' for i in input1 if i<50]\n",
    "grace"
   ]
  },
  {
   "cell_type": "code",
   "execution_count": 57,
   "id": "639aab28",
   "metadata": {},
   "outputs": [],
   "source": [
    "# d\n",
    "input1 = [45,76,89,53,67,90,83,49,33,99]\n",
    "input1.sort()\n",
    "input1"
   ]
  },
  {
   "cell_type": "code",
   "execution_count": null,
   "id": "c87f83fa",
   "metadata": {},
   "outputs": [],
   "source": [
    "# e\n",
    "countt = 0\n",
    "for i in input1:\n",
    "        "
   ]
  }
 ],
 "metadata": {
  "kernelspec": {
   "display_name": "Python 3 (ipykernel)",
   "language": "python",
   "name": "python3"
  },
  "language_info": {
   "codemirror_mode": {
    "name": "ipython",
    "version": 3
   },
   "file_extension": ".py",
   "mimetype": "text/x-python",
   "name": "python",
   "nbconvert_exporter": "python",
   "pygments_lexer": "ipython3",
   "version": "3.9.13"
  }
 },
 "nbformat": 4,
 "nbformat_minor": 5
}
