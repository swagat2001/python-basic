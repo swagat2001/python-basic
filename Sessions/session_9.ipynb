{
 "cells": [
  {
   "cell_type": "code",
   "execution_count": 2,
   "id": "77e41ca8",
   "metadata": {},
   "outputs": [
    {
     "data": {
      "text/plain": [
       "3.141592653589793"
      ]
     },
     "execution_count": 2,
     "metadata": {},
     "output_type": "execute_result"
    }
   ],
   "source": [
    "import math\n",
    "math.pi"
   ]
  },
  {
   "cell_type": "code",
   "execution_count": 6,
   "id": "23ba065c",
   "metadata": {},
   "outputs": [
    {
     "data": {
      "text/plain": [
       "0.89"
      ]
     },
     "execution_count": 6,
     "metadata": {},
     "output_type": "execute_result"
    }
   ],
   "source": [
    "round(math.sin(90),2)"
   ]
  },
  {
   "cell_type": "markdown",
   "id": "a6b4682c",
   "metadata": {},
   "source": [
    "- random\n",
    "\n",
    "- math\n",
    "\n",
    "- string"
   ]
  },
  {
   "cell_type": "markdown",
   "id": "a4963db6",
   "metadata": {},
   "source": [
    "**time**"
   ]
  },
  {
   "cell_type": "code",
   "execution_count": 7,
   "id": "50192cf2",
   "metadata": {},
   "outputs": [
    {
     "name": "stdout",
     "output_type": "stream",
     "text": [
      "hello\n",
      "good evening\n"
     ]
    }
   ],
   "source": [
    "print('hello')\n",
    "print('good evening')"
   ]
  },
  {
   "cell_type": "code",
   "execution_count": 8,
   "id": "07865118",
   "metadata": {},
   "outputs": [
    {
     "name": "stdout",
     "output_type": "stream",
     "text": [
      "hello\n",
      "good evening\n"
     ]
    }
   ],
   "source": [
    "import time \n",
    "print('hello')\n",
    "time.sleep(5)\n",
    "print('good evening')"
   ]
  },
  {
   "cell_type": "code",
   "execution_count": 11,
   "id": "ae732156",
   "metadata": {},
   "outputs": [
    {
     "name": "stdout",
     "output_type": "stream",
     "text": [
      "hello\n",
      "good eve\n",
      "5.005240201950073\n"
     ]
    }
   ],
   "source": [
    "import time\n",
    "start = time.time()\n",
    "print('hello')\n",
    "time.sleep(5)\n",
    "print('good eve')\n",
    "end = time.time()\n",
    "print(end-start)"
   ]
  },
  {
   "cell_type": "code",
   "execution_count": 14,
   "id": "45787eb9",
   "metadata": {},
   "outputs": [
    {
     "data": {
      "text/plain": [
       "['False',\n",
       " 'None',\n",
       " 'True',\n",
       " '__peg_parser__',\n",
       " 'and',\n",
       " 'as',\n",
       " 'assert',\n",
       " 'async',\n",
       " 'await',\n",
       " 'break',\n",
       " 'class',\n",
       " 'continue',\n",
       " 'def',\n",
       " 'del',\n",
       " 'elif',\n",
       " 'else',\n",
       " 'except',\n",
       " 'finally',\n",
       " 'for',\n",
       " 'from',\n",
       " 'global',\n",
       " 'if',\n",
       " 'import',\n",
       " 'in',\n",
       " 'is',\n",
       " 'lambda',\n",
       " 'nonlocal',\n",
       " 'not',\n",
       " 'or',\n",
       " 'pass',\n",
       " 'raise',\n",
       " 'return',\n",
       " 'try',\n",
       " 'while',\n",
       " 'with',\n",
       " 'yield']"
      ]
     },
     "execution_count": 14,
     "metadata": {},
     "output_type": "execute_result"
    }
   ],
   "source": [
    "# package name: keyword\n",
    "# method name : kwlist\n",
    "\n",
    "import keyword\n",
    "dir(keyword)\n",
    "keyword.kwlist"
   ]
  },
  {
   "cell_type": "code",
   "execution_count": 17,
   "id": "ad53451d",
   "metadata": {},
   "outputs": [
    {
     "data": {
      "text/plain": [
       "<module 'random' from 'C:\\\\ProgramData\\\\Anaconda3\\\\lib\\\\random.py'>"
      ]
     },
     "execution_count": 17,
     "metadata": {},
     "output_type": "execute_result"
    }
   ],
   "source": [
    "import random\n",
    "random"
   ]
  },
  {
   "cell_type": "code",
   "execution_count": 18,
   "id": "40306b4c",
   "metadata": {},
   "outputs": [
    {
     "data": {
      "text/plain": [
       "<module 'keyword' from 'C:\\\\ProgramData\\\\Anaconda3\\\\lib\\\\keyword.py'>"
      ]
     },
     "execution_count": 18,
     "metadata": {},
     "output_type": "execute_result"
    }
   ],
   "source": [
    "import keyword\n",
    "keyword"
   ]
  },
  {
   "cell_type": "markdown",
   "id": "c2b9340c",
   "metadata": {},
   "source": [
    "- we uderstood the packages concept\n",
    "\n",
    "\n",
    "- we able to import packages\n",
    "\n",
    "\n",
    "- we able to understand the methods\n",
    "\n",
    "\n",
    "- we able to use those methods also"
   ]
  },
  {
   "cell_type": "markdown",
   "id": "48353d45",
   "metadata": {},
   "source": [
    "**How to install the packages**"
   ]
  },
  {
   "cell_type": "code",
   "execution_count": 1,
   "id": "5c719f29",
   "metadata": {},
   "outputs": [],
   "source": [
    "import cv2"
   ]
  },
  {
   "cell_type": "code",
   "execution_count": 3,
   "id": "ddc8e6bc",
   "metadata": {},
   "outputs": [],
   "source": [
    "import streamlit"
   ]
  },
  {
   "cell_type": "markdown",
   "id": "d90116eb",
   "metadata": {},
   "source": [
    "# No module name cv2\n",
    "\n",
    "- We can instll the package in jupyter notebook\n",
    "\n",
    "\n",
    "- We can instll the package in annaconda comand prompt"
   ]
  },
  {
   "cell_type": "code",
   "execution_count": 6,
   "id": "192a2547",
   "metadata": {},
   "outputs": [],
   "source": [
    "import tensorflow"
   ]
  },
  {
   "cell_type": "code",
   "execution_count": 7,
   "id": "35f3d027",
   "metadata": {},
   "outputs": [],
   "source": [
    "import math"
   ]
  },
  {
   "cell_type": "markdown",
   "id": "4564a4e3",
   "metadata": {},
   "source": [
    "**Note**\n",
    "\n",
    "- while you are installing any package we need internet connection\n",
    "\n",
    "\n",
    "- if internet connection not avialable\n",
    "\n",
    "\n",
    "- if connection is good it will throw **http error**"
   ]
  },
  {
   "cell_type": "code",
   "execution_count": 2,
   "id": "a40c671a",
   "metadata": {},
   "outputs": [
    {
     "ename": "ModuleNotFoundError",
     "evalue": "No module named 'wordcloud'",
     "output_type": "error",
     "traceback": [
      "\u001b[1;31m---------------------------------------------------------------------------\u001b[0m",
      "\u001b[1;31mModuleNotFoundError\u001b[0m                       Traceback (most recent call last)",
      "\u001b[1;32m~\\AppData\\Local\\Temp\\ipykernel_731920\\492858602.py\u001b[0m in \u001b[0;36m<module>\u001b[1;34m\u001b[0m\n\u001b[1;32m----> 1\u001b[1;33m \u001b[1;32mimport\u001b[0m \u001b[0mwordcloud\u001b[0m\u001b[1;33m\u001b[0m\u001b[1;33m\u001b[0m\u001b[0m\n\u001b[0m",
      "\u001b[1;31mModuleNotFoundError\u001b[0m: No module named 'wordcloud'"
     ]
    }
   ],
   "source": [
    "import wordcloud"
   ]
  },
  {
   "cell_type": "code",
   "execution_count": 3,
   "id": "0183a311",
   "metadata": {},
   "outputs": [
    {
     "name": "stdout",
     "output_type": "stream",
     "text": [
      "The addition of 10 and 20 is : 30\n"
     ]
    }
   ],
   "source": [
    "# M-1:\n",
    "n1 = 10\n",
    "n2 = 20\n",
    "add = n1 +n2\n",
    "print(f'The addition of {n1} and {n2} is : {add}')"
   ]
  },
  {
   "cell_type": "code",
   "execution_count": 4,
   "id": "ffec81b2",
   "metadata": {},
   "outputs": [
    {
     "name": "stdout",
     "output_type": "stream",
     "text": [
      "Enter the n1100\n",
      "Enter the n2200\n",
      "The addition of 100 and 200 is : 300\n"
     ]
    }
   ],
   "source": [
    "# M-2: user\n",
    "n1 = eval(input('Enter the n1'))\n",
    "n2 = eval(input('Enter the n2'))\n",
    "add = n1 +n2\n",
    "print(f'The addition of {n1} and {n2} is : {add}')"
   ]
  },
  {
   "cell_type": "code",
   "execution_count": 6,
   "id": "6039efc7",
   "metadata": {},
   "outputs": [
    {
     "name": "stdout",
     "output_type": "stream",
     "text": [
      "The addition of 186 and 227 is : 413\n"
     ]
    }
   ],
   "source": [
    "# M-3: random\n",
    "import random\n",
    "n1 = random.randint(100,200)\n",
    "n2 = random.randint(200,300)\n",
    "add = n1 +n2\n",
    "print(f'The addition of {n1} and {n2} is : {add}')"
   ]
  },
  {
   "cell_type": "code",
   "execution_count": null,
   "id": "961a0d0a",
   "metadata": {},
   "outputs": [],
   "source": []
  },
  {
   "cell_type": "code",
   "execution_count": null,
   "id": "a70e6adf",
   "metadata": {},
   "outputs": [],
   "source": []
  }
 ],
 "metadata": {
  "kernelspec": {
   "display_name": "Python 3 (ipykernel)",
   "language": "python",
   "name": "python3"
  },
  "language_info": {
   "codemirror_mode": {
    "name": "ipython",
    "version": 3
   },
   "file_extension": ".py",
   "mimetype": "text/x-python",
   "name": "python",
   "nbconvert_exporter": "python",
   "pygments_lexer": "ipython3",
   "version": "3.9.13"
  }
 },
 "nbformat": 4,
 "nbformat_minor": 5
}
