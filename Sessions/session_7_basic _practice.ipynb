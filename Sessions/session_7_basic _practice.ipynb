{
 "cells": [
  {
   "cell_type": "markdown",
   "id": "8461b5d5",
   "metadata": {},
   "source": [
    "- we taken the hardcodeed values\n",
    "\n",
    "- then we taken the values from user **input**\n",
    "\n",
    "- we observed the user input values by default string datatype\n",
    "\n",
    "- we did **type casting**\n",
    "\n",
    "- we performed **int**"
   ]
  },
  {
   "cell_type": "code",
   "execution_count": 1,
   "id": "a79e2ca6",
   "metadata": {},
   "outputs": [
    {
     "name": "stdout",
     "output_type": "stream",
     "text": [
      "enter the n1 :10\n",
      "enter the n2 :20\n",
      "enter the n3 :30\n",
      "The average of 10,20 and 30 is : 20.0\n"
     ]
    }
   ],
   "source": [
    "n1 = eval(input('enter the n1 :'))\n",
    "n2 = eval(input('enter the n2 :'))\n",
    "n3 = eval(input('enter the n3 :'))\n",
    "\n",
    "avg = (n1+n2+n3)/3\n",
    "\n",
    "print(f'The average of {n1},{n2} and {n3} is : {avg}')"
   ]
  },
  {
   "cell_type": "code",
   "execution_count": 2,
   "id": "d41571da",
   "metadata": {},
   "outputs": [
    {
     "name": "stdout",
     "output_type": "stream",
     "text": [
      "enter the n1 :10\n",
      "enter the n2 :20\n",
      "30\n"
     ]
    }
   ],
   "source": [
    "n1 = input('enter the n1 :')\n",
    "n2 = input('enter the n2 :')\n",
    "\n",
    "add = eval(n1) +eval(n2)\n",
    "\n",
    "print(add)"
   ]
  },
  {
   "cell_type": "code",
   "execution_count": 3,
   "id": "28cf5928",
   "metadata": {},
   "outputs": [
    {
     "name": "stdout",
     "output_type": "stream",
     "text": [
      "enter the n1 :10\n",
      "enter the n2 :11\n",
      "enter the n3 :17\n",
      "The average of 10,11 and 17 is : 12.666666666666666\n"
     ]
    }
   ],
   "source": [
    "n1 = eval(input('enter the n1 :'))\n",
    "n2 = eval(input('enter the n2 :'))\n",
    "n3 = eval(input('enter the n3 :'))\n",
    "\n",
    "avg = (n1+n2+n3)/3\n",
    "\n",
    "print(f'The average of {n1},{n2} and {n3} is : {avg}')"
   ]
  },
  {
   "cell_type": "markdown",
   "id": "14befadd",
   "metadata": {},
   "source": [
    "**Round**"
   ]
  },
  {
   "cell_type": "code",
   "execution_count": 4,
   "id": "881d4f95",
   "metadata": {},
   "outputs": [
    {
     "data": {
      "text/plain": [
       "13"
      ]
     },
     "execution_count": 4,
     "metadata": {},
     "output_type": "execute_result"
    }
   ],
   "source": [
    "round(12.6666666666666)"
   ]
  },
  {
   "cell_type": "code",
   "execution_count": 5,
   "id": "39fe43fe",
   "metadata": {},
   "outputs": [
    {
     "data": {
      "text/plain": [
       "12.7"
      ]
     },
     "execution_count": 5,
     "metadata": {},
     "output_type": "execute_result"
    }
   ],
   "source": [
    "# round(value,n)\n",
    "round(12.666,1)"
   ]
  },
  {
   "cell_type": "code",
   "execution_count": 6,
   "id": "717fdc09",
   "metadata": {},
   "outputs": [
    {
     "data": {
      "text/plain": [
       "12.67"
      ]
     },
     "execution_count": 6,
     "metadata": {},
     "output_type": "execute_result"
    }
   ],
   "source": [
    "# round(value,n)\n",
    "round(12.6666666,2)"
   ]
  },
  {
   "cell_type": "code",
   "execution_count": 7,
   "id": "ec4ce539",
   "metadata": {},
   "outputs": [
    {
     "data": {
      "text/plain": [
       "12.67"
      ]
     },
     "execution_count": 7,
     "metadata": {},
     "output_type": "execute_result"
    }
   ],
   "source": [
    "n1,n2,n3 = 10,11,17\n",
    "avg = (n1+n2+n3)/3\n",
    "avg1 = round(avg,2)\n",
    "avg1"
   ]
  },
  {
   "cell_type": "code",
   "execution_count": 8,
   "id": "fabe5c59",
   "metadata": {},
   "outputs": [
    {
     "data": {
      "text/plain": [
       "12.67"
      ]
     },
     "execution_count": 8,
     "metadata": {},
     "output_type": "execute_result"
    }
   ],
   "source": [
    "n1,n2,n3 = 10,11,17\n",
    "avg = round((n1+n2+n3)/3,2)\n",
    "avg"
   ]
  },
  {
   "cell_type": "code",
   "execution_count": 9,
   "id": "7de8e697",
   "metadata": {},
   "outputs": [
    {
     "data": {
      "text/plain": [
       "13"
      ]
     },
     "execution_count": 9,
     "metadata": {},
     "output_type": "execute_result"
    }
   ],
   "source": [
    "n1,n2,n3 = 10,11,17\n",
    "avg = round((n1+n2+n3)/3)\n",
    "avg"
   ]
  },
  {
   "cell_type": "code",
   "execution_count": 2,
   "id": "949ce628",
   "metadata": {},
   "outputs": [
    {
     "name": "stdout",
     "output_type": "stream",
     "text": [
      "Enter your name :Swagat\n",
      "Enter your city :bhubaneswar\n",
      "Enter your enroled course name : full stack data science and AI\n",
      "Enter the amount you have payed : 10000\n",
      "Enter your highest qualification degree :M.sc data science\n",
      "Name : Swagat\n",
      "city : bhubaneswar\n",
      "course : full stack data science and AI\n",
      "payment amount : 10000/- only\n",
      "degree : M.sc data science\n"
     ]
    }
   ],
   "source": [
    "name = input('Enter your name :')\n",
    "city = input('Enter your city :')\n",
    "enroled = input('Enter your enroled course name : ')\n",
    "payment_amount = eval(input('Enter the amount you have payed : '))\n",
    "degree = input('Enter your highest qualification degree :')\n",
    "\n",
    "print(f'Name : {name}')\n",
    "print(f'city : {city}')\n",
    "print(f'course : {enroled}')\n",
    "print(f'payment amount : {payment_amount}/- only')\n",
    "print(f'degree : {degree}')"
   ]
  },
  {
   "cell_type": "code",
   "execution_count": 3,
   "id": "8ed807ba",
   "metadata": {},
   "outputs": [
    {
     "name": "stdout",
     "output_type": "stream",
     "text": [
      "son :hey dad\n",
      "dad :hi beta\n",
      "son :whatsapp\n",
      "dad :acha beta I got to know that your results came out\n",
      "son :yes dad\n",
      "dad :then tell me what about\n",
      "son :I will give the marks you provide perc let's play a game\n",
      "dad :sure\n",
      "Enter number for telugu : 87\n",
      "Enter number for hindi : 90\n",
      "Enter number for eng : 98\n",
      "Enter number for s : 90\n",
      "Enter number for math : 100\n",
      "Enter number for s1 : 41\n",
      "dad :84.33333333333334\n"
     ]
    }
   ],
   "source": [
    "son = input('son :')\n",
    "dad = input('dad :')\n",
    "son = input('son :')\n",
    "dad = input('dad :')\n",
    "son = input('son :')\n",
    "dad = input('dad :')\n",
    "son = input('son :')\n",
    "dad = input('dad :')\n",
    "telugu = eval(input('Enter number for telugu : '))\n",
    "hindi = eval(input('Enter number for hindi : '))\n",
    "eng = eval(input('Enter number for eng : '))\n",
    "s = eval(input('Enter number for s : '))\n",
    "math = eval(input('Enter number for math : '))\n",
    "s1 = eval(input('Enter number for s1 : '))\n",
    "percentage = (telugu + hindi + eng + s + math + s1)/600 * 100 \n",
    "print(f'dad :{percentage}')"
   ]
  },
  {
   "cell_type": "code",
   "execution_count": null,
   "id": "c10f7663",
   "metadata": {},
   "outputs": [
    {
     "name": "stdout",
     "output_type": "stream",
     "text": [
      "son :hey dad\n",
      "dad :hi beta\n",
      "son :whats up\n"
     ]
    }
   ],
   "source": [
    "son = input('son :')\n",
    "dad = input('dad :')\n",
    "son = input('son :')\n",
    "dad = input('dad :')\n",
    "son = input('son :')\n",
    "dad = input('dad :')\n",
    "son = input('son :')\n",
    "dad = input('dad :')\n",
    "telugu = eval(input('Telugu marks : '))\n",
    "hindi = eval(input('Hindi marks : '))\n",
    "eng = eval(input('Eng marks : '))\n",
    "s = eval(input('Science marks : '))\n",
    "math = eval(input('Math marks : '))\n",
    "s1 = eval(input('Social marks : '))\n",
    "percentage = (telugu + hindi + eng + s + math + s1)/600 * 100\n",
    "percentage1 = round(percentage)\n",
    "print(f'dad :{percentage1}')"
   ]
  },
  {
   "cell_type": "code",
   "execution_count": null,
   "id": "5b508a36",
   "metadata": {},
   "outputs": [],
   "source": []
  }
 ],
 "metadata": {
  "kernelspec": {
   "display_name": "Python 3 (ipykernel)",
   "language": "python",
   "name": "python3"
  },
  "language_info": {
   "codemirror_mode": {
    "name": "ipython",
    "version": 3
   },
   "file_extension": ".py",
   "mimetype": "text/x-python",
   "name": "python",
   "nbconvert_exporter": "python",
   "pygments_lexer": "ipython3",
   "version": "3.9.13"
  }
 },
 "nbformat": 4,
 "nbformat_minor": 5
}
