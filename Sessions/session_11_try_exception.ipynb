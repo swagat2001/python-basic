{
 "cells": [
  {
   "cell_type": "markdown",
   "id": "82eb343f",
   "metadata": {},
   "source": [
    "# exception handling"
   ]
  },
  {
   "cell_type": "markdown",
   "id": "bfd4628e",
   "metadata": {},
   "source": [
    "**try-except**\n",
    "\n",
    "- try and exception is used for exceptional handling\n",
    "\n",
    "\n",
    "- which means we wants to catch the error without stop the code\n",
    "\n",
    "\n",
    "- python is step by step process\n",
    "\n",
    "\n",
    "- whenever we face any error at any line the code will stop\n",
    "\n",
    "\n",
    "- some times the error is not much important, so we will except our \n",
    "     - excecution should complete with out any halt."
   ]
  },
  {
   "cell_type": "code",
   "execution_count": null,
   "id": "65da71b9",
   "metadata": {},
   "outputs": [],
   "source": [
    "try:\n",
    "    <write your code here>\n",
    "    \n",
    "except:\n",
    "    <catch the error here>"
   ]
  },
  {
   "cell_type": "code",
   "execution_count": null,
   "id": "e4f62597",
   "metadata": {},
   "outputs": [],
   "source": [
    "n1 = eval(input('enter the number1 : '))\n",
    "n2 = eval(input('enter the number2 : '))\n",
    "mul = n1*n2\n",
    "print(f'the addition of {n1} and {n2} is {mul}')"
   ]
  },
  {
   "cell_type": "code",
   "execution_count": 4,
   "id": "f4141bbf",
   "metadata": {},
   "outputs": [
    {
     "name": "stdout",
     "output_type": "stream",
     "text": [
      "enter the number1 : 2\n",
      "enter the number2 : 3\n"
     ]
    },
    {
     "ename": "TypeError",
     "evalue": "can't multiply sequence by non-int of type 'str'",
     "output_type": "error",
     "traceback": [
      "\u001b[1;31m---------------------------------------------------------------------------\u001b[0m",
      "\u001b[1;31mTypeError\u001b[0m                                 Traceback (most recent call last)",
      "\u001b[1;32m~\\AppData\\Local\\Temp\\ipykernel_933156\\1734377089.py\u001b[0m in \u001b[0;36m<module>\u001b[1;34m\u001b[0m\n\u001b[0;32m      1\u001b[0m \u001b[0mn1\u001b[0m \u001b[1;33m=\u001b[0m \u001b[0minput\u001b[0m\u001b[1;33m(\u001b[0m\u001b[1;34m'enter the number1 : '\u001b[0m\u001b[1;33m)\u001b[0m\u001b[1;33m\u001b[0m\u001b[1;33m\u001b[0m\u001b[0m\n\u001b[0;32m      2\u001b[0m \u001b[0mn2\u001b[0m \u001b[1;33m=\u001b[0m \u001b[0minput\u001b[0m\u001b[1;33m(\u001b[0m\u001b[1;34m'enter the number2 : '\u001b[0m\u001b[1;33m)\u001b[0m\u001b[1;33m\u001b[0m\u001b[1;33m\u001b[0m\u001b[0m\n\u001b[1;32m----> 3\u001b[1;33m \u001b[0mmul\u001b[0m \u001b[1;33m=\u001b[0m \u001b[0mn1\u001b[0m\u001b[1;33m*\u001b[0m\u001b[0mn2\u001b[0m\u001b[1;33m\u001b[0m\u001b[1;33m\u001b[0m\u001b[0m\n\u001b[0m\u001b[0;32m      4\u001b[0m \u001b[0mprint\u001b[0m\u001b[1;33m(\u001b[0m\u001b[1;34mf'the addition of {n1} and {n2} is {mul}'\u001b[0m\u001b[1;33m)\u001b[0m\u001b[1;33m\u001b[0m\u001b[1;33m\u001b[0m\u001b[0m\n",
      "\u001b[1;31mTypeError\u001b[0m: can't multiply sequence by non-int of type 'str'"
     ]
    }
   ],
   "source": [
    "n1 = input('enter the number1 : ')\n",
    "n2 = input('enter the number2 : ')\n",
    "mul = n1*n2\n",
    "print(f'the addition of {n1} and {n2} is {mul}')"
   ]
  },
  {
   "cell_type": "code",
   "execution_count": 7,
   "id": "f6235af1",
   "metadata": {},
   "outputs": [
    {
     "ename": "IndentationError",
     "evalue": "unexpected indent (3383005018.py, line 3)",
     "output_type": "error",
     "traceback": [
      "\u001b[1;36m  File \u001b[1;32m\"C:\\Users\\swaga\\AppData\\Local\\Temp\\ipykernel_933156\\3383005018.py\"\u001b[1;36m, line \u001b[1;32m3\u001b[0m\n\u001b[1;33m    mul = n1*n2\u001b[0m\n\u001b[1;37m    ^\u001b[0m\n\u001b[1;31mIndentationError\u001b[0m\u001b[1;31m:\u001b[0m unexpected indent\n"
     ]
    }
   ],
   "source": [
    "n1 = eval(input('enter the number1 : '))\n",
    "n1 = eval(input('enter the number2 : '))\n",
    "    mul = n1*n2\n",
    "print(f'the addition of {n1} and {n2} is {mul}')"
   ]
  },
  {
   "cell_type": "code",
   "execution_count": 8,
   "id": "d43d2d74",
   "metadata": {},
   "outputs": [
    {
     "name": "stdout",
     "output_type": "stream",
     "text": [
      "enter the number1 : 5\n",
      "enter the number2 : 0\n"
     ]
    },
    {
     "ename": "ZeroDivisionError",
     "evalue": "division by zero",
     "output_type": "error",
     "traceback": [
      "\u001b[1;31m---------------------------------------------------------------------------\u001b[0m",
      "\u001b[1;31mZeroDivisionError\u001b[0m                         Traceback (most recent call last)",
      "\u001b[1;32m~\\AppData\\Local\\Temp\\ipykernel_933156\\1691823724.py\u001b[0m in \u001b[0;36m<module>\u001b[1;34m\u001b[0m\n\u001b[0;32m      1\u001b[0m \u001b[0mn1\u001b[0m \u001b[1;33m=\u001b[0m \u001b[0meval\u001b[0m\u001b[1;33m(\u001b[0m\u001b[0minput\u001b[0m\u001b[1;33m(\u001b[0m\u001b[1;34m'enter the number1 : '\u001b[0m\u001b[1;33m)\u001b[0m\u001b[1;33m)\u001b[0m\u001b[1;33m\u001b[0m\u001b[1;33m\u001b[0m\u001b[0m\n\u001b[0;32m      2\u001b[0m \u001b[0mn2\u001b[0m \u001b[1;33m=\u001b[0m \u001b[0meval\u001b[0m\u001b[1;33m(\u001b[0m\u001b[0minput\u001b[0m\u001b[1;33m(\u001b[0m\u001b[1;34m'enter the number2 : '\u001b[0m\u001b[1;33m)\u001b[0m\u001b[1;33m)\u001b[0m\u001b[1;33m\u001b[0m\u001b[1;33m\u001b[0m\u001b[0m\n\u001b[1;32m----> 3\u001b[1;33m \u001b[0mdiv\u001b[0m \u001b[1;33m=\u001b[0m \u001b[0mn1\u001b[0m\u001b[1;33m/\u001b[0m\u001b[0mn2\u001b[0m\u001b[1;33m\u001b[0m\u001b[1;33m\u001b[0m\u001b[0m\n\u001b[0m\u001b[0;32m      4\u001b[0m \u001b[0mprint\u001b[0m\u001b[1;33m(\u001b[0m\u001b[1;34mf'the addition of {n1} and {n2} is {div}'\u001b[0m\u001b[1;33m)\u001b[0m\u001b[1;33m\u001b[0m\u001b[1;33m\u001b[0m\u001b[0m\n",
      "\u001b[1;31mZeroDivisionError\u001b[0m: division by zero"
     ]
    }
   ],
   "source": [
    "n1 = eval(input('enter the number1 : '))\n",
    "n2 = eval(input('enter the number2 : '))\n",
    "div = n1/n2\n",
    "print(f'the addition of {n1} and {n2} is {div}')"
   ]
  },
  {
   "cell_type": "code",
   "execution_count": 1,
   "id": "1a4398fa",
   "metadata": {},
   "outputs": [
    {
     "name": "stdout",
     "output_type": "stream",
     "text": [
      "enter the number1 : 4\n",
      "enter the number2 : 5\n",
      "the addition of 4 and 5 is 5555\n"
     ]
    }
   ],
   "source": [
    "n1 = eval(input('enter the number1 : '))\n",
    "n2 = input('enter the number2 : ')\n",
    "mul = n1*n2\n",
    "print(f'the addition of {n1} and {n2} is {mul}')"
   ]
  },
  {
   "cell_type": "markdown",
   "id": "1c24e829",
   "metadata": {},
   "source": [
    "**Note**\n",
    "\n",
    "\n",
    "- python try-except will not catch **syntax errors**"
   ]
  },
  {
   "cell_type": "markdown",
   "id": "37a42d2a",
   "metadata": {},
   "source": [
    "**case-1 : proper code**"
   ]
  },
  {
   "cell_type": "code",
   "execution_count": null,
   "id": "f595b8d3",
   "metadata": {},
   "outputs": [],
   "source": [
    "n1 = eval(input('enter the number1 : '))\n",
    "n2 = eval(input('enter the number2 : '))\n",
    "div = n1/n2\n",
    "print(f'the division of {n1} and {n2} is {div}')"
   ]
  },
  {
   "cell_type": "code",
   "execution_count": 2,
   "id": "2afe66b7",
   "metadata": {},
   "outputs": [
    {
     "name": "stdout",
     "output_type": "stream",
     "text": [
      "enter the number1 : 80\n",
      "enter the number2 : 4\n",
      "the division of 80 and 4 is 20.0\n"
     ]
    }
   ],
   "source": [
    "try:\n",
    "    n1 = eval(input('enter the number1 : '))\n",
    "    n2 = eval(input('enter the number2 : '))\n",
    "    div = n1/n2\n",
    "    print(f'the division of {n1} and {n2} is {div}')\n",
    "    \n",
    "except Exception as e:\n",
    "    print(e)    "
   ]
  },
  {
   "cell_type": "markdown",
   "id": "6cbf1fcf",
   "metadata": {},
   "source": [
    "**Case-2: type error**"
   ]
  },
  {
   "cell_type": "code",
   "execution_count": 5,
   "id": "51b7d0d3",
   "metadata": {},
   "outputs": [
    {
     "name": "stdout",
     "output_type": "stream",
     "text": [
      "enter the number1 : 80\n",
      "enter the number2 : 8\n",
      "below line error so im not execute below lines\n",
      "im going to exception block\n",
      "hey hey im at exception block\n",
      "unsupported operand type(s) for /: 'str' and 'int'\n",
      "addition of 10 and 20 is 30 \n"
     ]
    }
   ],
   "source": [
    "try:\n",
    "    n1 = input('enter the number1 : ')\n",
    "    n2 = eval(input('enter the number2 : '))\n",
    "    print('below line error so im not execute below lines')\n",
    "    print('im going to exception block')\n",
    "    div = n1/n2\n",
    "    print(f'the division of {n1} and {n2} is {div}')\n",
    "    \n",
    "except Exception as e:\n",
    "    print('hey hey im at exception block')\n",
    "    print(e)\n",
    "    a = 10\n",
    "    b = 20\n",
    "    c = a+b\n",
    "    print(f'addition of {a} and {b} is {c} ')    "
   ]
  },
  {
   "cell_type": "code",
   "execution_count": 7,
   "id": "8e202583",
   "metadata": {},
   "outputs": [
    {
     "name": "stdout",
     "output_type": "stream",
     "text": [
      "enter the number1 : 40\n",
      "enter the number2 : 3\n",
      "The above is wrong statement\n",
      "can't multiply sequence by non-int of type 'str'\n",
      "enter the number1 : 40\n",
      "enter the number2 : 4\n",
      "the multiplication of 40 and 4 is 160\n"
     ]
    }
   ],
   "source": [
    "try:\n",
    "    n1 = input('enter the number1 : ')\n",
    "    n2 = input('enter the number2 : ')\n",
    "    mul = n1*n2\n",
    "    print(f'the addition of {n1} and {n2} is {mul}')\n",
    "except Exception as e:\n",
    "    print('The above is wrong statement')\n",
    "    print(e)\n",
    "    n1 = eval(input('enter the number1 : '))\n",
    "    n2 = eval(input('enter the number2 : '))\n",
    "    mul = n1*n2\n",
    "    print(f'the multiplication of {n1} and {n2} is {mul}')"
   ]
  },
  {
   "cell_type": "code",
   "execution_count": 8,
   "id": "9b35d1f7",
   "metadata": {},
   "outputs": [
    {
     "name": "stdout",
     "output_type": "stream",
     "text": [
      "enter the number1 : 80\n",
      "enter the number2 : 0\n",
      "The above is wrong input\n",
      "division by zero\n"
     ]
    }
   ],
   "source": [
    "try:\n",
    "    n1 = eval(input('enter the number1 : '))\n",
    "    n2 = eval(input('enter the number2 : '))\n",
    "    div = n1/n2\n",
    "    print(f'the addition of {n1} and {n2} is {div}')\n",
    "except Exception as e:\n",
    "    print('The above is wrong input')\n",
    "    print(e)\n",
    "    "
   ]
  },
  {
   "cell_type": "code",
   "execution_count": 9,
   "id": "3160f426",
   "metadata": {},
   "outputs": [
    {
     "ename": "SyntaxError",
     "evalue": "invalid syntax (3457217194.py, line 3)",
     "output_type": "error",
     "traceback": [
      "\u001b[1;36m  File \u001b[1;32m\"C:\\Users\\swaga\\AppData\\Local\\Temp\\ipykernel_952176\\3457217194.py\"\u001b[1;36m, line \u001b[1;32m3\u001b[0m\n\u001b[1;33m    n2 = eval(input('enter the number2 : '))\u001b[0m\n\u001b[1;37m    ^\u001b[0m\n\u001b[1;31mSyntaxError\u001b[0m\u001b[1;31m:\u001b[0m invalid syntax\n"
     ]
    }
   ],
   "source": [
    "try:\n",
    "    n1 = eval(input('enter the number1 : ')\n",
    "    n2 = eval(input('enter the number2 : '))\n",
    "    div = n1/n2\n",
    "    print(f'the addition of {n1} and {n2} is {div}')\n",
    "except Exception as e:\n",
    "    print('The above is wrong input')\n",
    "    print(e)\n",
    "    "
   ]
  },
  {
   "cell_type": "markdown",
   "id": "1906c705",
   "metadata": {},
   "source": [
    "**Now onwards every code write with try except block**"
   ]
  },
  {
   "cell_type": "code",
   "execution_count": 10,
   "id": "cf83ff1e",
   "metadata": {},
   "outputs": [
    {
     "name": "stdout",
     "output_type": "stream",
     "text": [
      "enter the number9\n",
      "num: 9\n"
     ]
    }
   ],
   "source": [
    "num = eval(input('enter the number'))\n",
    "if num:\n",
    "    print('num:', num)"
   ]
  },
  {
   "cell_type": "code",
   "execution_count": 11,
   "id": "32f1f663",
   "metadata": {},
   "outputs": [
    {
     "name": "stdout",
     "output_type": "stream",
     "text": [
      "enter the number9\n",
      "9 is an odd\n"
     ]
    }
   ],
   "source": [
    "num = eval(input('enter the number'))\n",
    "if num%2==0:\n",
    "    print(f'{num} is an even')\n",
    "else:\n",
    "    print(f'{num} is an odd')"
   ]
  },
  {
   "cell_type": "code",
   "execution_count": 12,
   "id": "34663d18",
   "metadata": {},
   "outputs": [
    {
     "name": "stdout",
     "output_type": "stream",
     "text": [
      "enter the number9\n",
      "9 is an odd\n"
     ]
    }
   ],
   "source": [
    "# q1\n",
    "try:\n",
    "    num = eval(input('enter the number : '))\n",
    "    if num%2==0:\n",
    "        print(f'{num} is an even')\n",
    "    else:\n",
    "        print(f'{num} is an odd') \n",
    "except Exception as e:\n",
    "    print('The above is wrong input')\n",
    "    print(e)\n",
    "    num = eval(input('enter the number'))\n",
    "    if num%2==0:\n",
    "        print(f'{num} is an even')\n",
    "    else:\n",
    "        print(f'{num} is an odd') "
   ]
  },
  {
   "cell_type": "code",
   "execution_count": 13,
   "id": "87a3f6ce",
   "metadata": {},
   "outputs": [
    {
     "name": "stdout",
     "output_type": "stream",
     "text": [
      "enter the number9\n",
      "The above is wrong input\n",
      "not all arguments converted during string formatting\n",
      "enter the number9\n",
      "9 is an odd\n"
     ]
    }
   ],
   "source": [
    "# q1\n",
    "try:\n",
    "    num = input('enter the number')\n",
    "    if num%2==0:\n",
    "        print(f'{num} is an even')\n",
    "    else:\n",
    "        print(f'{num} is an odd') \n",
    "except Exception as e:\n",
    "    print('The above is wrong input')\n",
    "    print(e)\n",
    "    num = eval(input('enter the number'))\n",
    "    if num%2==0:\n",
    "        print(f'{num} is an even')\n",
    "    else:\n",
    "        print(f'{num} is an odd') "
   ]
  },
  {
   "cell_type": "code",
   "execution_count": null,
   "id": "15d1bfc6",
   "metadata": {},
   "outputs": [],
   "source": []
  }
 ],
 "metadata": {
  "kernelspec": {
   "display_name": "Python 3 (ipykernel)",
   "language": "python",
   "name": "python3"
  },
  "language_info": {
   "codemirror_mode": {
    "name": "ipython",
    "version": 3
   },
   "file_extension": ".py",
   "mimetype": "text/x-python",
   "name": "python",
   "nbconvert_exporter": "python",
   "pygments_lexer": "ipython3",
   "version": "3.9.13"
  }
 },
 "nbformat": 4,
 "nbformat_minor": 5
}
