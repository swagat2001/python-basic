{
 "cells": [
  {
   "cell_type": "code",
   "execution_count": null,
   "id": "f7a78a41",
   "metadata": {},
   "outputs": [],
   "source": [
    "# Wap ask the user take three numbers and find the average\n",
    "# print : the average \n",
    "\n",
    "\n",
    "\n",
    "# WAP take the radius of a circle calculate area of the circle\n",
    "\n",
    "# radius = 20\n",
    "# pi = 3.14"
   ]
  },
  {
   "cell_type": "code",
   "execution_count": 2,
   "id": "183a0f4f",
   "metadata": {},
   "outputs": [
    {
     "name": "stdout",
     "output_type": "stream",
     "text": [
      "The average of 10,20 and 30 is 20.0\n"
     ]
    }
   ],
   "source": [
    "# q1\n",
    "n1 = 10\n",
    "n2 = 20\n",
    "n3 = 30\n",
    "avg = (n1+n2+n3)/3\n",
    "print(f'The average of {n1},{n2} and {n3} is {avg}')"
   ]
  },
  {
   "cell_type": "code",
   "execution_count": 9,
   "id": "1b99b2cc",
   "metadata": {},
   "outputs": [
    {
     "name": "stdout",
     "output_type": "stream",
     "text": [
      "Having radius 10 the area of the circle is 314.0 \n",
      "Having radius 10 the area of the circle is 314.0\n"
     ]
    }
   ],
   "source": [
    "# q2\n",
    "r = 10\n",
    "pi =3.14\n",
    "area = pi*r*r\n",
    "print(f'Having radius {r} the area of the circle is {area} ')\n",
    "print('Having radius {} the area of the circle is {}'.format(r,area) )"
   ]
  },
  {
   "cell_type": "code",
   "execution_count": 4,
   "id": "7cc4bbfc",
   "metadata": {},
   "outputs": [
    {
     "name": "stdout",
     "output_type": "stream",
     "text": [
      "Having height20 and breadth10 area of the rightangle triangle is 100.0\n"
     ]
    }
   ],
   "source": [
    "# q3\n",
    "h = 20\n",
    "b = 10\n",
    "area = 0.5*h*b\n",
    "print(f'Having height{h} and breadth{b} area of the rightangle triangle is {area}')"
   ]
  },
  {
   "cell_type": "code",
   "execution_count": 5,
   "id": "d028570d",
   "metadata": {},
   "outputs": [
    {
     "name": "stdout",
     "output_type": "stream",
     "text": [
      "Total bill is 600\n"
     ]
    }
   ],
   "source": [
    "# q4\n",
    "bill = 500\n",
    "tip = 100\n",
    "total = bill + tip\n",
    "print(f'Total bill is {total}')"
   ]
  },
  {
   "cell_type": "code",
   "execution_count": 6,
   "id": "41900ede",
   "metadata": {},
   "outputs": [
    {
     "name": "stdout",
     "output_type": "stream",
     "text": [
      "Having length 20 and breadth 10 of a rectangle area is 200\n"
     ]
    }
   ],
   "source": [
    "# q5\n",
    "l = 20\n",
    "b = 10\n",
    "area = l*b\n",
    "print(f'Having length {l} and breadth {b} of a rectangle area is {area}')"
   ]
  },
  {
   "cell_type": "code",
   "execution_count": 11,
   "id": "b9c5c3fd",
   "metadata": {},
   "outputs": [
    {
     "name": "stdout",
     "output_type": "stream",
     "text": [
      "Total bill is 1100.0\n"
     ]
    }
   ],
   "source": [
    "bill_amount = 1000\n",
    "tip_percentage = 10\n",
    "tip_amount = (bill_amount * tip_percentage)/100\n",
    "total_bill = bill_amount + tip_amount\n",
    "print(f'Total bill is {total_bill}')"
   ]
  },
  {
   "cell_type": "code",
   "execution_count": null,
   "id": "976a13b7",
   "metadata": {},
   "outputs": [],
   "source": []
  }
 ],
 "metadata": {
  "kernelspec": {
   "display_name": "Python 3 (ipykernel)",
   "language": "python",
   "name": "python3"
  },
  "language_info": {
   "codemirror_mode": {
    "name": "ipython",
    "version": 3
   },
   "file_extension": ".py",
   "mimetype": "text/x-python",
   "name": "python",
   "nbconvert_exporter": "python",
   "pygments_lexer": "ipython3",
   "version": "3.9.13"
  }
 },
 "nbformat": 4,
 "nbformat_minor": 5
}
