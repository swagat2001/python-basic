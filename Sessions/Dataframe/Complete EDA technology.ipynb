{
 "cells": [
  {
   "cell_type": "markdown",
   "id": "fb89551f",
   "metadata": {},
   "source": [
    "=======================EDA Steps=========================    \n",
    "-------------------Data cleaning and Analysis--------------\n",
    "\n",
    "1. Read the Data\n",
    "2. Create categorical and numerical columns\n",
    "3. Data quick checks  \n",
    "    a.shape  \n",
    "    b.size  \n",
    "    c.len  \n",
    "    d.Head  \n",
    "    e.Tail  \n",
    "    f.info  \n",
    "4. Missing value analysis\n",
    "5. Data quality checks or Data cleaning  \n",
    "    Ex: Some column values has some punctuations column is numerical value but some where cat value available  \n",
    "6. Ctaegorical column analysis  \n",
    "    a. Frequency table  \n",
    "    b. Relative frequency  \n",
    "- write your understanding  \n",
    "7. Numerical column analysis  \n",
    "    a. statistical summary  \n",
    "    b. histogram Data distribution  \n",
    "8. Outlier analysis  \n",
    "    a. Box plot  \n",
    "    b. Treat the outliers  \n",
    "9. bi variate and multi variate analysis  \n",
    "    a. How one column impact another column  \n",
    "    b. correlation  \n",
    "    c. Heatmaps  \n",
    "    \n",
    "-----------------------Featrure Engineering-------------------  \n",
    "10. Encoding : Convert catrgorical to Numerical  \n",
    "    a. label Encoder  \n",
    "    b. OneHotEncoder  \n",
    "11. Scaling:\n",
    "    a. Standardization and  \n",
    "    b. Normalization  \n",
    "12. Transformation (optional)\n",
    "\n",
    "-----------------------Featrure Selection-------------------  \n",
    "13. Selecting the important features for ML model\n",
    "\n",
    "-----------------------Dimension reduction methods-------------------  \n",
    "14. Principle component Analysis  \n",
    "    singular value Decomposition"
   ]
  }
 ],
 "metadata": {
  "kernelspec": {
   "display_name": "Python 3 (ipykernel)",
   "language": "python",
   "name": "python3"
  },
  "language_info": {
   "codemirror_mode": {
    "name": "ipython",
    "version": 3
   },
   "file_extension": ".py",
   "mimetype": "text/x-python",
   "name": "python",
   "nbconvert_exporter": "python",
   "pygments_lexer": "ipython3",
   "version": "3.9.13"
  }
 },
 "nbformat": 4,
 "nbformat_minor": 5
}
