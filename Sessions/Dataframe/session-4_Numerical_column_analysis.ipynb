{
 "cells": [
  {
   "cell_type": "code",
   "execution_count": 1,
   "id": "432ee8b8",
   "metadata": {},
   "outputs": [
    {
     "data": {
      "text/html": [
       "<div>\n",
       "<style scoped>\n",
       "    .dataframe tbody tr th:only-of-type {\n",
       "        vertical-align: middle;\n",
       "    }\n",
       "\n",
       "    .dataframe tbody tr th {\n",
       "        vertical-align: top;\n",
       "    }\n",
       "\n",
       "    .dataframe thead th {\n",
       "        text-align: right;\n",
       "    }\n",
       "</style>\n",
       "<table border=\"1\" class=\"dataframe\">\n",
       "  <thead>\n",
       "    <tr style=\"text-align: right;\">\n",
       "      <th></th>\n",
       "      <th>case_id</th>\n",
       "      <th>continent</th>\n",
       "      <th>education_of_employee</th>\n",
       "      <th>has_job_experience</th>\n",
       "      <th>requires_job_training</th>\n",
       "      <th>no_of_employees</th>\n",
       "      <th>yr_of_estab</th>\n",
       "      <th>region_of_employment</th>\n",
       "      <th>prevailing_wage</th>\n",
       "      <th>unit_of_wage</th>\n",
       "      <th>full_time_position</th>\n",
       "      <th>case_status</th>\n",
       "    </tr>\n",
       "  </thead>\n",
       "  <tbody>\n",
       "    <tr>\n",
       "      <th>0</th>\n",
       "      <td>EZYV01</td>\n",
       "      <td>Asia</td>\n",
       "      <td>High School</td>\n",
       "      <td>N</td>\n",
       "      <td>N</td>\n",
       "      <td>14513</td>\n",
       "      <td>2007</td>\n",
       "      <td>West</td>\n",
       "      <td>592.2029</td>\n",
       "      <td>Hour</td>\n",
       "      <td>Y</td>\n",
       "      <td>Denied</td>\n",
       "    </tr>\n",
       "    <tr>\n",
       "      <th>1</th>\n",
       "      <td>EZYV02</td>\n",
       "      <td>Asia</td>\n",
       "      <td>Master's</td>\n",
       "      <td>Y</td>\n",
       "      <td>N</td>\n",
       "      <td>2412</td>\n",
       "      <td>2002</td>\n",
       "      <td>Northeast</td>\n",
       "      <td>83425.6500</td>\n",
       "      <td>Year</td>\n",
       "      <td>Y</td>\n",
       "      <td>Certified</td>\n",
       "    </tr>\n",
       "    <tr>\n",
       "      <th>2</th>\n",
       "      <td>EZYV03</td>\n",
       "      <td>Asia</td>\n",
       "      <td>Bachelor's</td>\n",
       "      <td>N</td>\n",
       "      <td>Y</td>\n",
       "      <td>44444</td>\n",
       "      <td>2008</td>\n",
       "      <td>West</td>\n",
       "      <td>122996.8600</td>\n",
       "      <td>Year</td>\n",
       "      <td>Y</td>\n",
       "      <td>Denied</td>\n",
       "    </tr>\n",
       "    <tr>\n",
       "      <th>3</th>\n",
       "      <td>EZYV04</td>\n",
       "      <td>Asia</td>\n",
       "      <td>Bachelor's</td>\n",
       "      <td>N</td>\n",
       "      <td>N</td>\n",
       "      <td>98</td>\n",
       "      <td>1897</td>\n",
       "      <td>West</td>\n",
       "      <td>83434.0300</td>\n",
       "      <td>Year</td>\n",
       "      <td>Y</td>\n",
       "      <td>Denied</td>\n",
       "    </tr>\n",
       "    <tr>\n",
       "      <th>4</th>\n",
       "      <td>EZYV05</td>\n",
       "      <td>Africa</td>\n",
       "      <td>Master's</td>\n",
       "      <td>Y</td>\n",
       "      <td>N</td>\n",
       "      <td>1082</td>\n",
       "      <td>2005</td>\n",
       "      <td>South</td>\n",
       "      <td>149907.3900</td>\n",
       "      <td>Year</td>\n",
       "      <td>Y</td>\n",
       "      <td>Certified</td>\n",
       "    </tr>\n",
       "    <tr>\n",
       "      <th>...</th>\n",
       "      <td>...</td>\n",
       "      <td>...</td>\n",
       "      <td>...</td>\n",
       "      <td>...</td>\n",
       "      <td>...</td>\n",
       "      <td>...</td>\n",
       "      <td>...</td>\n",
       "      <td>...</td>\n",
       "      <td>...</td>\n",
       "      <td>...</td>\n",
       "      <td>...</td>\n",
       "      <td>...</td>\n",
       "    </tr>\n",
       "    <tr>\n",
       "      <th>25475</th>\n",
       "      <td>EZYV25476</td>\n",
       "      <td>Asia</td>\n",
       "      <td>Bachelor's</td>\n",
       "      <td>Y</td>\n",
       "      <td>Y</td>\n",
       "      <td>2601</td>\n",
       "      <td>2008</td>\n",
       "      <td>South</td>\n",
       "      <td>77092.5700</td>\n",
       "      <td>Year</td>\n",
       "      <td>Y</td>\n",
       "      <td>Certified</td>\n",
       "    </tr>\n",
       "    <tr>\n",
       "      <th>25476</th>\n",
       "      <td>EZYV25477</td>\n",
       "      <td>Asia</td>\n",
       "      <td>High School</td>\n",
       "      <td>Y</td>\n",
       "      <td>N</td>\n",
       "      <td>3274</td>\n",
       "      <td>2006</td>\n",
       "      <td>Northeast</td>\n",
       "      <td>279174.7900</td>\n",
       "      <td>Year</td>\n",
       "      <td>Y</td>\n",
       "      <td>Certified</td>\n",
       "    </tr>\n",
       "    <tr>\n",
       "      <th>25477</th>\n",
       "      <td>EZYV25478</td>\n",
       "      <td>Asia</td>\n",
       "      <td>Master's</td>\n",
       "      <td>Y</td>\n",
       "      <td>N</td>\n",
       "      <td>1121</td>\n",
       "      <td>1910</td>\n",
       "      <td>South</td>\n",
       "      <td>146298.8500</td>\n",
       "      <td>Year</td>\n",
       "      <td>N</td>\n",
       "      <td>Certified</td>\n",
       "    </tr>\n",
       "    <tr>\n",
       "      <th>25478</th>\n",
       "      <td>EZYV25479</td>\n",
       "      <td>Asia</td>\n",
       "      <td>Master's</td>\n",
       "      <td>Y</td>\n",
       "      <td>Y</td>\n",
       "      <td>1918</td>\n",
       "      <td>1887</td>\n",
       "      <td>West</td>\n",
       "      <td>86154.7700</td>\n",
       "      <td>Year</td>\n",
       "      <td>Y</td>\n",
       "      <td>Certified</td>\n",
       "    </tr>\n",
       "    <tr>\n",
       "      <th>25479</th>\n",
       "      <td>EZYV25480</td>\n",
       "      <td>Asia</td>\n",
       "      <td>Bachelor's</td>\n",
       "      <td>Y</td>\n",
       "      <td>N</td>\n",
       "      <td>3195</td>\n",
       "      <td>1960</td>\n",
       "      <td>Midwest</td>\n",
       "      <td>70876.9100</td>\n",
       "      <td>Year</td>\n",
       "      <td>Y</td>\n",
       "      <td>Certified</td>\n",
       "    </tr>\n",
       "  </tbody>\n",
       "</table>\n",
       "<p>25480 rows × 12 columns</p>\n",
       "</div>"
      ],
      "text/plain": [
       "         case_id continent education_of_employee has_job_experience  \\\n",
       "0         EZYV01      Asia           High School                  N   \n",
       "1         EZYV02      Asia              Master's                  Y   \n",
       "2         EZYV03      Asia            Bachelor's                  N   \n",
       "3         EZYV04      Asia            Bachelor's                  N   \n",
       "4         EZYV05    Africa              Master's                  Y   \n",
       "...          ...       ...                   ...                ...   \n",
       "25475  EZYV25476      Asia            Bachelor's                  Y   \n",
       "25476  EZYV25477      Asia           High School                  Y   \n",
       "25477  EZYV25478      Asia              Master's                  Y   \n",
       "25478  EZYV25479      Asia              Master's                  Y   \n",
       "25479  EZYV25480      Asia            Bachelor's                  Y   \n",
       "\n",
       "      requires_job_training  no_of_employees  yr_of_estab  \\\n",
       "0                         N            14513         2007   \n",
       "1                         N             2412         2002   \n",
       "2                         Y            44444         2008   \n",
       "3                         N               98         1897   \n",
       "4                         N             1082         2005   \n",
       "...                     ...              ...          ...   \n",
       "25475                     Y             2601         2008   \n",
       "25476                     N             3274         2006   \n",
       "25477                     N             1121         1910   \n",
       "25478                     Y             1918         1887   \n",
       "25479                     N             3195         1960   \n",
       "\n",
       "      region_of_employment  prevailing_wage unit_of_wage full_time_position  \\\n",
       "0                     West         592.2029         Hour                  Y   \n",
       "1                Northeast       83425.6500         Year                  Y   \n",
       "2                     West      122996.8600         Year                  Y   \n",
       "3                     West       83434.0300         Year                  Y   \n",
       "4                    South      149907.3900         Year                  Y   \n",
       "...                    ...              ...          ...                ...   \n",
       "25475                South       77092.5700         Year                  Y   \n",
       "25476            Northeast      279174.7900         Year                  Y   \n",
       "25477                South      146298.8500         Year                  N   \n",
       "25478                 West       86154.7700         Year                  Y   \n",
       "25479              Midwest       70876.9100         Year                  Y   \n",
       "\n",
       "      case_status  \n",
       "0          Denied  \n",
       "1       Certified  \n",
       "2          Denied  \n",
       "3          Denied  \n",
       "4       Certified  \n",
       "...           ...  \n",
       "25475   Certified  \n",
       "25476   Certified  \n",
       "25477   Certified  \n",
       "25478   Certified  \n",
       "25479   Certified  \n",
       "\n",
       "[25480 rows x 12 columns]"
      ]
     },
     "execution_count": 1,
     "metadata": {},
     "output_type": "execute_result"
    }
   ],
   "source": [
    "import pandas as pd\n",
    "import numpy as np\n",
    "import seaborn as sns\n",
    "import matplotlib.pyplot as plt\n",
    "\n",
    "visa_df = pd.read_csv('C:\\\\Users\\\\swaga\\\\OneDrive\\\\Documents\\\\datafiles\\\\Visadataset.csv')\n",
    "visa_df"
   ]
  },
  {
   "cell_type": "code",
   "execution_count": 2,
   "id": "7df3f4b9",
   "metadata": {},
   "outputs": [],
   "source": [
    "cat = visa_df.select_dtypes(include='object').columns\n",
    "num = visa_df.select_dtypes(exclude='object').columns"
   ]
  },
  {
   "cell_type": "code",
   "execution_count": 3,
   "id": "6a14b006",
   "metadata": {},
   "outputs": [
    {
     "data": {
      "text/plain": [
       "Index(['no_of_employees', 'yr_of_estab', 'prevailing_wage'], dtype='object')"
      ]
     },
     "execution_count": 3,
     "metadata": {},
     "output_type": "execute_result"
    }
   ],
   "source": [
    "num"
   ]
  },
  {
   "cell_type": "markdown",
   "id": "a2df3c10",
   "metadata": {},
   "source": [
    "- len\n",
    "\n",
    "\n",
    "\n",
    "- max\n",
    "\n",
    "\n",
    "\n",
    "- min\n",
    "\n",
    "\n",
    "\n",
    "- mean\n",
    "\n",
    "\n",
    "\n",
    "- median\n",
    "\n",
    "\n",
    "\n",
    "\n",
    "- 25p\n",
    "\n",
    "\n",
    "\n",
    "- 50p\n",
    "\n",
    "\n",
    "\n",
    "\n",
    "- 75p"
   ]
  },
  {
   "cell_type": "code",
   "execution_count": 4,
   "id": "091e3182",
   "metadata": {},
   "outputs": [
    {
     "data": {
      "text/plain": [
       "0           592.2029\n",
       "1         83425.6500\n",
       "2        122996.8600\n",
       "3         83434.0300\n",
       "4        149907.3900\n",
       "            ...     \n",
       "25475     77092.5700\n",
       "25476    279174.7900\n",
       "25477    146298.8500\n",
       "25478     86154.7700\n",
       "25479     70876.9100\n",
       "Name: prevailing_wage, Length: 25480, dtype: float64"
      ]
     },
     "execution_count": 4,
     "metadata": {},
     "output_type": "execute_result"
    }
   ],
   "source": [
    "wage_data= visa_df['prevailing_wage']\n",
    "wage_data"
   ]
  },
  {
   "cell_type": "code",
   "execution_count": 5,
   "id": "ec1980ee",
   "metadata": {},
   "outputs": [
    {
     "data": {
      "text/plain": [
       "25480"
      ]
     },
     "execution_count": 5,
     "metadata": {},
     "output_type": "execute_result"
    }
   ],
   "source": [
    "len(wage_data)"
   ]
  },
  {
   "cell_type": "code",
   "execution_count": 6,
   "id": "a81854f7",
   "metadata": {},
   "outputs": [],
   "source": [
    "wage_min = round(np.min(wage_data),2)"
   ]
  },
  {
   "cell_type": "code",
   "execution_count": 7,
   "id": "77fbc605",
   "metadata": {},
   "outputs": [],
   "source": [
    "wage_max = round(np.max(wage_data),2)"
   ]
  },
  {
   "cell_type": "code",
   "execution_count": 8,
   "id": "d130574f",
   "metadata": {},
   "outputs": [],
   "source": [
    "wage_mean = round(np.mean(wage_data),2)"
   ]
  },
  {
   "cell_type": "code",
   "execution_count": 9,
   "id": "eac6b079",
   "metadata": {},
   "outputs": [],
   "source": [
    "wage_median = round(np.median(wage_data),2)"
   ]
  },
  {
   "cell_type": "code",
   "execution_count": 10,
   "id": "b0a42e04",
   "metadata": {},
   "outputs": [],
   "source": [
    "wage_25p = round(np.percentile(wage_data,25),2)"
   ]
  },
  {
   "cell_type": "code",
   "execution_count": 11,
   "id": "df1cf5ac",
   "metadata": {},
   "outputs": [],
   "source": [
    "wage_50p = round(np.percentile(wage_data,50))"
   ]
  },
  {
   "cell_type": "code",
   "execution_count": 12,
   "id": "8143479a",
   "metadata": {},
   "outputs": [],
   "source": [
    "wage_75p = round(np.percentile(wage_data,75),2)"
   ]
  },
  {
   "cell_type": "code",
   "execution_count": 13,
   "id": "24f8128e",
   "metadata": {},
   "outputs": [],
   "source": [
    "wage_100p = round(np.percentile(wage_data,100),)"
   ]
  },
  {
   "cell_type": "code",
   "execution_count": 14,
   "id": "e77494f0",
   "metadata": {},
   "outputs": [
    {
     "data": {
      "text/plain": [
       "34015.479999999996"
      ]
     },
     "execution_count": 14,
     "metadata": {},
     "output_type": "execute_result"
    }
   ],
   "source": [
    "np.quantile(wage_data,0.25)"
   ]
  },
  {
   "cell_type": "code",
   "execution_count": 15,
   "id": "2ca13e9b",
   "metadata": {},
   "outputs": [
    {
     "data": {
      "text/plain": [
       "70308.20999999999"
      ]
     },
     "execution_count": 15,
     "metadata": {},
     "output_type": "execute_result"
    }
   ],
   "source": [
    "np.quantile(wage_data,0.50)"
   ]
  },
  {
   "cell_type": "code",
   "execution_count": 16,
   "id": "166962d6",
   "metadata": {},
   "outputs": [
    {
     "data": {
      "text/plain": [
       "107735.51250000001"
      ]
     },
     "execution_count": 16,
     "metadata": {},
     "output_type": "execute_result"
    }
   ],
   "source": [
    "np.quantile(wage_data,0.75)"
   ]
  },
  {
   "cell_type": "code",
   "execution_count": 17,
   "id": "c5dd3033",
   "metadata": {},
   "outputs": [
    {
     "data": {
      "text/plain": [
       "2.1367"
      ]
     },
     "execution_count": 17,
     "metadata": {},
     "output_type": "execute_result"
    }
   ],
   "source": [
    "visa_df['prevailing_wage'].min()"
   ]
  },
  {
   "cell_type": "code",
   "execution_count": 18,
   "id": "c7c5cefb",
   "metadata": {},
   "outputs": [
    {
     "data": {
      "text/plain": [
       "319210.27"
      ]
     },
     "execution_count": 18,
     "metadata": {},
     "output_type": "execute_result"
    }
   ],
   "source": [
    "visa_df['prevailing_wage'].max()"
   ]
  },
  {
   "cell_type": "code",
   "execution_count": 19,
   "id": "c787e241",
   "metadata": {},
   "outputs": [
    {
     "data": {
      "text/plain": [
       "74455.81459209221"
      ]
     },
     "execution_count": 19,
     "metadata": {},
     "output_type": "execute_result"
    }
   ],
   "source": [
    "visa_df['prevailing_wage'].mean()"
   ]
  },
  {
   "cell_type": "code",
   "execution_count": 20,
   "id": "d831cf99",
   "metadata": {},
   "outputs": [
    {
     "data": {
      "text/plain": [
       "70308.20999999999"
      ]
     },
     "execution_count": 20,
     "metadata": {},
     "output_type": "execute_result"
    }
   ],
   "source": [
    "visa_df['prevailing_wage'].median()"
   ]
  },
  {
   "cell_type": "code",
   "execution_count": 21,
   "id": "925d1fa5",
   "metadata": {},
   "outputs": [
    {
     "data": {
      "text/plain": [
       "RangeIndex(start=0, stop=25480, step=1)"
      ]
     },
     "execution_count": 21,
     "metadata": {},
     "output_type": "execute_result"
    }
   ],
   "source": [
    "visa_df['prevailing_wage'].keys()"
   ]
  },
  {
   "cell_type": "code",
   "execution_count": 22,
   "id": "7ac7ed1e",
   "metadata": {},
   "outputs": [
    {
     "ename": "NameError",
     "evalue": "name 'values' is not defined",
     "output_type": "error",
     "traceback": [
      "\u001b[1;31m---------------------------------------------------------------------------\u001b[0m",
      "\u001b[1;31mNameError\u001b[0m                                 Traceback (most recent call last)",
      "\u001b[1;32m~\\AppData\\Local\\Temp\\ipykernel_284836\\200895214.py\u001b[0m in \u001b[0;36m<module>\u001b[1;34m\u001b[0m\n\u001b[0;32m      1\u001b[0m \u001b[0mkey\u001b[0m \u001b[1;33m=\u001b[0m \u001b[1;33m[\u001b[0m\u001b[1;34m'len'\u001b[0m\u001b[1;33m,\u001b[0m\u001b[1;34m'max'\u001b[0m\u001b[1;33m,\u001b[0m\u001b[1;34m'min'\u001b[0m\u001b[1;33m,\u001b[0m\u001b[1;34m'mean'\u001b[0m\u001b[1;33m,\u001b[0m\u001b[1;34m'median'\u001b[0m\u001b[1;33m,\u001b[0m\u001b[1;34m'25p'\u001b[0m\u001b[1;33m,\u001b[0m\u001b[1;34m'50p'\u001b[0m\u001b[1;33m,\u001b[0m\u001b[1;34m'75p'\u001b[0m\u001b[1;33m]\u001b[0m\u001b[1;33m\u001b[0m\u001b[1;33m\u001b[0m\u001b[0m\n\u001b[1;32m----> 2\u001b[1;33m \u001b[0mvalues\u001b[0m\u001b[1;33m\u001b[0m\u001b[1;33m\u001b[0m\u001b[0m\n\u001b[0m",
      "\u001b[1;31mNameError\u001b[0m: name 'values' is not defined"
     ]
    }
   ],
   "source": [
    "key = ['len','max','min','mean','median','25p','50p','75p']\n",
    "values"
   ]
  },
  {
   "cell_type": "code",
   "execution_count": null,
   "id": "440e7e2e",
   "metadata": {},
   "outputs": [],
   "source": [
    "count=len(wage_data)\n",
    "MIN = round(np.min(wage_data),2)\n",
    "MAX = round(np.max(wage_data),2)\n",
    "mean = round(np.mean(wage_data),2)\n",
    "median = round(np.median(wage_data),2)\n",
    "p25 = round(np.percentile(wage_data,25),2)\n",
    "p50 = round(np.percentile(wage_data,50),2)\n",
    "p75 = round(np.percentile(wage_data,75),2)"
   ]
  },
  {
   "cell_type": "code",
   "execution_count": null,
   "id": "3e1ab198",
   "metadata": {},
   "outputs": [],
   "source": [
    "d1 = pd.DataFrame(index = ['count','MIN','MAX','mean','median','p25','p50','p75'])\n",
    "\n",
    "for i in num:\n",
    "    data = visa_df[i]\n",
    "    count=len(data)\n",
    "    MIN = round(np.min(data),2)\n",
    "    MAX = round(np.max(data),2)\n",
    "    mean = round(np.mean(data),2)\n",
    "    median = round(np.median(data),2)\n",
    "    p25 = round(np.percentile(data,25),2)\n",
    "    p50 = round(np.percentile(data,50),2)\n",
    "    p75 = round(np.percentile(data,75),2)\n",
    "    values = [count,MIN,MAX,mean,median,p25,p50,p75]\n",
    "    d1[i] = values\n",
    "d1"
   ]
  },
  {
   "cell_type": "code",
   "execution_count": null,
   "id": "4eaf1c87",
   "metadata": {},
   "outputs": [],
   "source": [
    "data = visa_df['prevailing_wage']\n",
    "count=len(data)\n",
    "MIN = round(np.min(data),2)\n",
    "MAX = round(np.max(data),2)\n",
    "mean = round(np.mean(data),2)\n",
    "median = round(np.median(data),2)\n",
    "p25 = round(np.percentile(data,25),2)\n",
    "p50 = round(np.percentile(data,50),2)\n",
    "p75 = round(np.percentile(data,75),2)\n",
    "\n",
    "values = [count,MIN,MAX,mean,median,p25,p50,p75]\n",
    "index = ['count','MIN','MAX','mean','median','p25','p50','p75']\n",
    "\n",
    "pd.DataFrame(values,index,columns = ['prevailing_wage'])"
   ]
  },
  {
   "cell_type": "code",
   "execution_count": null,
   "id": "c5543b1c",
   "metadata": {},
   "outputs": [],
   "source": [
    "d1 = pd.DataFrame()\n",
    "\n",
    "for i in num:\n",
    "    data = visa_df[i]\n",
    "    count=len(data)\n",
    "    MIN = round(np.min(data),2)\n",
    "    MAX = round(np.max(data),2)\n",
    "    mean = round(np.mean(data),2)\n",
    "    median = round(np.median(data),2)\n",
    "    p25 = round(np.percentile(data,25),2)\n",
    "    p50 = round(np.percentile(data,50),2)\n",
    "    p75 = round(np.percentile(data,75),2)\n",
    "    values = [count,MIN,MAX,mean,median,p25,p50,p75]\n",
    "    d1[i] = values\n",
    "d1"
   ]
  },
  {
   "cell_type": "code",
   "execution_count": null,
   "id": "6cbb05ac",
   "metadata": {},
   "outputs": [],
   "source": [
    "visa_df.describe()"
   ]
  },
  {
   "cell_type": "markdown",
   "id": "9d6bc077",
   "metadata": {},
   "source": [
    "**percentile**\n",
    "\n",
    "- 25percentage of data less than 34015.47\n",
    "\n",
    "\n",
    "- 25percentage data = 25*25480/100 =6370\n",
    "\n",
    "\n",
    "- 6370 memberss has salary less than 34015.47"
   ]
  },
  {
   "cell_type": "code",
   "execution_count": null,
   "id": "5e691a12",
   "metadata": {},
   "outputs": [],
   "source": [
    "wage_data = visa_df['prevailing_wage']\n",
    "p_25 = np.percentile(wage_data,25)\n",
    "p_25"
   ]
  },
  {
   "cell_type": "code",
   "execution_count": null,
   "id": "d88cd09e",
   "metadata": {},
   "outputs": [],
   "source": [
    "con = wage_data<p_25\n",
    "visa_df[con]"
   ]
  },
  {
   "cell_type": "code",
   "execution_count": null,
   "id": "95cfb557",
   "metadata": {},
   "outputs": [],
   "source": [
    "con = wage_data<p_25\n",
    "len(visa_df[con])"
   ]
  },
  {
   "cell_type": "markdown",
   "id": "a015c21c",
   "metadata": {},
   "source": [
    "**Emperical Rule**\n",
    "\n",
    "- "
   ]
  },
  {
   "cell_type": "code",
   "execution_count": null,
   "id": "28f7b101",
   "metadata": {},
   "outputs": [],
   "source": [
    "# step-1:\n",
    "u = wage_data.mean()\n",
    "u"
   ]
  },
  {
   "cell_type": "code",
   "execution_count": null,
   "id": "3cf08e85",
   "metadata": {},
   "outputs": [],
   "source": [
    "# step-2\n",
    "sd = np.std(wage_data)\n",
    "sd"
   ]
  },
  {
   "cell_type": "code",
   "execution_count": null,
   "id": "eff1a58a",
   "metadata": {},
   "outputs": [],
   "source": [
    "lb = u - (1*sd)\n",
    "lb"
   ]
  },
  {
   "cell_type": "code",
   "execution_count": null,
   "id": "2cc60449",
   "metadata": {},
   "outputs": [],
   "source": [
    "ub = u + (1*sd)\n",
    "ub"
   ]
  },
  {
   "cell_type": "code",
   "execution_count": null,
   "id": "e6fe155a",
   "metadata": {},
   "outputs": [],
   "source": [
    "con1 = wage_data>lb\n",
    "con2 = wage_data<ub"
   ]
  },
  {
   "cell_type": "code",
   "execution_count": null,
   "id": "ee298173",
   "metadata": {},
   "outputs": [],
   "source": [
    "con = con1 & con2\n",
    "len(visa_df[con])"
   ]
  },
  {
   "cell_type": "code",
   "execution_count": null,
   "id": "bf63d23e",
   "metadata": {},
   "outputs": [],
   "source": [
    "(68*25480)/100"
   ]
  },
  {
   "cell_type": "code",
   "execution_count": null,
   "id": "edec5b46",
   "metadata": {},
   "outputs": [],
   "source": [
    "u = wage_data.mean()\n",
    "sd = np.std(wage_data)\n",
    "lb = u - (1*sd)\n",
    "ub = u + (1*sd)\n",
    "con1 = wage_data>lb\n",
    "con2 = wage_data<ub\n",
    "con = con1 & con2\n",
    "len(visa_df[con])"
   ]
  },
  {
   "cell_type": "code",
   "execution_count": null,
   "id": "1df1d8de",
   "metadata": {},
   "outputs": [],
   "source": [
    "(68*25480)/100"
   ]
  },
  {
   "cell_type": "markdown",
   "id": "b2042346",
   "metadata": {},
   "source": [
    "**Histogram**"
   ]
  },
  {
   "cell_type": "code",
   "execution_count": 26,
   "id": "16d548c5",
   "metadata": {},
   "outputs": [
    {
     "data": {
      "image/png": "[encoded data removed]",
      "text/plain": [
       "<Figure size 640x480 with 1 Axes>"
      ]
     },
     "metadata": {},
     "output_type": "display_data"
    }
   ],
   "source": [
    "counts,interval,bins = plt.hist(wage_data)"
   ]
  },
  {
   "cell_type": "code",
   "execution_count": 27,
   "id": "f879c3fa",
   "metadata": {},
   "outputs": [
    {
     "data": {
      "text/plain": [
       "array([6038., 5504., 5681., 4551., 2334.,  624.,  373.,  240.,  114.,\n",
       "         21.])"
      ]
     },
     "execution_count": 27,
     "metadata": {},
     "output_type": "execute_result"
    }
   ],
   "source": [
    "counts"
   ]
  },
  {
   "cell_type": "code",
   "execution_count": 28,
   "id": "92df82ed",
   "metadata": {},
   "outputs": [
    {
     "data": {
      "text/plain": [
       "array([2.13670000e+00, 3.19229500e+04, 6.38437634e+04, 9.57645767e+04,\n",
       "       1.27685390e+05, 1.59606203e+05, 1.91527017e+05, 2.23447830e+05,\n",
       "       2.55368643e+05, 2.87289457e+05, 3.19210270e+05])"
      ]
     },
     "execution_count": 28,
     "metadata": {},
     "output_type": "execute_result"
    }
   ],
   "source": [
    "interval"
   ]
  },
  {
   "cell_type": "code",
   "execution_count": 30,
   "id": "2cb221b6",
   "metadata": {},
   "outputs": [],
   "source": [
    "there are 6038 observations betweeen 2.13670000e+00 to 3.19229500e+04\n",
    "there are 5504 observations betweeen 3.19229500e+04 to 6.38437634e+04"
   ]
  },
  {
   "cell_type": "code",
   "execution_count": 32,
   "id": "312685d6",
   "metadata": {},
   "outputs": [
    {
     "data": {
      "text/plain": [
       "False"
      ]
     },
     "execution_count": 32,
     "metadata": {},
     "output_type": "execute_result"
    }
   ],
   "source": [
    "lb = 2.13670000e+00\n",
    "ub = 3.19229500e+04\n",
    "con1 = wage_data>lb\n",
    "con2 = wage_data<ub\n",
    "con = con1 & con2\n",
    "len(visa_df[con]) == 6038"
   ]
  },
  {
   "cell_type": "code",
   "execution_count": 34,
   "id": "77de7308",
   "metadata": {},
   "outputs": [
    {
     "data": {
      "text/plain": [
       "True"
      ]
     },
     "execution_count": 34,
     "metadata": {},
     "output_type": "execute_result"
    }
   ],
   "source": [
    "lb = 2.13670000e+00\n",
    "ub = 3.19229500e+04\n",
    "con1 = wage_data>=lb\n",
    "con2 = wage_data<=ub\n",
    "con = con1 & con2\n",
    "len(visa_df[con]) == 6038"
   ]
  },
  {
   "cell_type": "code",
   "execution_count": 33,
   "id": "9a0e5d43",
   "metadata": {},
   "outputs": [
    {
     "data": {
      "text/plain": [
       "True"
      ]
     },
     "execution_count": 33,
     "metadata": {},
     "output_type": "execute_result"
    }
   ],
   "source": [
    "lb = 3.19229500e+04\n",
    "ub = 6.38437634e+04\n",
    "con1 = wage_data>lb\n",
    "con2 = wage_data<ub\n",
    "con = con1 & con2\n",
    "len(visa_df[con]) == 5504"
   ]
  },
  {
   "cell_type": "code",
   "execution_count": 35,
   "id": "2e5b5b4d",
   "metadata": {},
   "outputs": [
    {
     "data": {
      "image/png": "[encoded data removed]",
      "text/plain": [
       "<Figure size 640x480 with 1 Axes>"
      ]
     },
     "metadata": {},
     "output_type": "display_data"
    }
   ],
   "source": [
    "counts,interval,bins = plt.hist(wage_data,bins = 20)"
   ]
  },
  {
   "cell_type": "code",
   "execution_count": 36,
   "id": "14c4506a",
   "metadata": {},
   "outputs": [
    {
     "data": {
      "image/png": "[encoded data removed]",
      "text/plain": [
       "<Figure size 1500x300 with 3 Axes>"
      ]
     },
     "metadata": {},
     "output_type": "display_data"
    }
   ],
   "source": [
    "plt.figure(figsize=(15,3))\n",
    "plt.subplot(1,3,1)\n",
    "plt.hist(wage_data)\n",
    "plt.subplot(1,3,2)\n",
    "plt.hist(wage_data,bins = 40)\n",
    "plt.subplot(1,3,3)\n",
    "plt.hist(wage_data,bins=100)\n",
    "plt.show()"
   ]
  },
  {
   "cell_type": "code",
   "execution_count": 40,
   "id": "73c24336",
   "metadata": {},
   "outputs": [
    {
     "data": {
      "image/png": "[encoded data removed]",
      "text/plain": [
       "<Figure size 2700x600 with 3 Axes>"
      ]
     },
     "metadata": {},
     "output_type": "display_data"
    }
   ],
   "source": [
    "plt.figure(figsize=(27,6))\n",
    "plt.subplot(1,3,1).hist(wage_data)\n",
    "plt.subplot(1,3,2).hist(wage_data,bins = 40)\n",
    "plt.subplot(1,3,3).hist(wage_data,bins=100)\n",
    "plt.show()"
   ]
  },
  {
   "cell_type": "markdown",
   "id": "9c264169",
   "metadata": {},
   "source": [
    "**sns.histplot**"
   ]
  },
  {
   "cell_type": "code",
   "execution_count": 44,
   "id": "947c27aa",
   "metadata": {},
   "outputs": [
    {
     "data": {
      "text/plain": [
       "<AxesSubplot:xlabel='prevailing_wage', ylabel='Count'>"
      ]
     },
     "execution_count": 44,
     "metadata": {},
     "output_type": "execute_result"
    },
    {
     "data": {
      "image/png": "[encoded data removed]",
      "text/plain": [
       "<Figure size 640x480 with 1 Axes>"
      ]
     },
     "metadata": {},
     "output_type": "display_data"
    }
   ],
   "source": [
    "sns.histplot(wage_data,kde = True)"
   ]
  },
  {
   "cell_type": "code",
   "execution_count": 46,
   "id": "62b9aeee",
   "metadata": {},
   "outputs": [
    {
     "data": {
      "text/plain": [
       "<AxesSubplot:xlabel='prevailing_wage', ylabel='Density'>"
      ]
     },
     "execution_count": 46,
     "metadata": {},
     "output_type": "execute_result"
    },
    {
     "data": {
      "image/png": "[encoded data removed]",
      "text/plain": [
       "<Figure size 640x480 with 1 Axes>"
      ]
     },
     "metadata": {},
     "output_type": "display_data"
    }
   ],
   "source": [
    "import warnings\n",
    "warnings.filterwarnings('ignore')\n",
    "sns.distplot(wage_data)"
   ]
  },
  {
   "cell_type": "code",
   "execution_count": null,
   "id": "bdf5154e",
   "metadata": {},
   "outputs": [],
   "source": []
  }
 ],
 "metadata": {
  "kernelspec": {
   "display_name": "Python 3 (ipykernel)",
   "language": "python",
   "name": "python3"
  },
  "language_info": {
   "codemirror_mode": {
    "name": "ipython",
    "version": 3
   },
   "file_extension": ".py",
   "mimetype": "text/x-python",
   "name": "python",
   "nbconvert_exporter": "python",
   "pygments_lexer": "ipython3",
   "version": "3.9.13"
  }
 },
 "nbformat": 4,
 "nbformat_minor": 5
}
