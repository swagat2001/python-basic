{
 "cells": [
  {
   "cell_type": "markdown",
   "id": "25954990",
   "metadata": {},
   "source": [
    "- Under EDA\n",
    "\n",
    "    - Data analysis\n",
    "    \n",
    "        - Quick checks\n",
    "        \n",
    "        - How to select the columns and data\n",
    "        \n",
    "        - we understood the difference between df vs series vs values\n",
    "        \n",
    "        - Frequency tables\n",
    "        \n",
    "        - Bar chart\n",
    "        \n",
    "        - Pie chart\n",
    "        \n",
    "        - histograms\n",
    "        \n",
    "        - Distribution plots\n",
    "        \n",
    "        - Outliers\n",
    "        \n",
    "        - Deal with Outliers\n",
    "        \n",
    "        - Bi variate analysis\n",
    "        \n",
    "        - multivariate analysis\n",
    "        \n",
    "        - scatter plots\n",
    "        \n",
    "        - correlation\n",
    "        \n",
    "        - heatmaps"
   ]
  },
  {
   "cell_type": "code",
   "execution_count": null,
   "id": "3cae0712",
   "metadata": {},
   "outputs": [],
   "source": []
  }
 ],
 "metadata": {
  "kernelspec": {
   "display_name": "Python 3 (ipykernel)",
   "language": "python",
   "name": "python3"
  },
  "language_info": {
   "codemirror_mode": {
    "name": "ipython",
    "version": 3
   },
   "file_extension": ".py",
   "mimetype": "text/x-python",
   "name": "python",
   "nbconvert_exporter": "python",
   "pygments_lexer": "ipython3",
   "version": "3.9.13"
  }
 },
 "nbformat": 4,
 "nbformat_minor": 5
}
