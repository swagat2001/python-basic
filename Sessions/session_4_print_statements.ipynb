{
 "cells": [
  {
   "cell_type": "markdown",
   "id": "2e1ee629",
   "metadata": {},
   "source": [
    "**Case-1**"
   ]
  },
  {
   "cell_type": "code",
   "execution_count": 2,
   "id": "ec46f124",
   "metadata": {},
   "outputs": [
    {
     "name": "stdout",
     "output_type": "stream",
     "text": [
      "10\n",
      "20\n",
      "30\n"
     ]
    }
   ],
   "source": [
    "print(10)\n",
    "print(20)\n",
    "print(30)"
   ]
  },
  {
   "cell_type": "code",
   "execution_count": 3,
   "id": "79d2ec67",
   "metadata": {},
   "outputs": [
    {
     "data": {
      "text/plain": [
       "30"
      ]
     },
     "execution_count": 3,
     "metadata": {},
     "output_type": "execute_result"
    }
   ],
   "source": [
    "10 \n",
    "20\n",
    "30\n"
   ]
  },
  {
   "cell_type": "markdown",
   "id": "e8f2a8a3",
   "metadata": {},
   "source": [
    "**case-2**"
   ]
  },
  {
   "cell_type": "code",
   "execution_count": 4,
   "id": "009f1d77",
   "metadata": {},
   "outputs": [
    {
     "data": {
      "text/plain": [
       "(10, 20, 30)"
      ]
     },
     "execution_count": 4,
     "metadata": {},
     "output_type": "execute_result"
    }
   ],
   "source": [
    "10,20,30 #tuple"
   ]
  },
  {
   "cell_type": "code",
   "execution_count": 5,
   "id": "70b32405",
   "metadata": {},
   "outputs": [
    {
     "name": "stdout",
     "output_type": "stream",
     "text": [
      "10 20 30\n"
     ]
    }
   ],
   "source": [
    "print(10, 20, 30)"
   ]
  },
  {
   "cell_type": "markdown",
   "id": "7fc8aecb",
   "metadata": {},
   "source": [
    "**case-3**"
   ]
  },
  {
   "cell_type": "code",
   "execution_count": 11,
   "id": "3e49b722",
   "metadata": {},
   "outputs": [
    {
     "name": "stdout",
     "output_type": "stream",
     "text": [
      "10\n",
      "20\n",
      "30\n"
     ]
    }
   ],
   "source": [
    "number1 = 10\n",
    "number2 = 20\n",
    "add = number1+number2\n",
    "print(number1)\n",
    "print(number2)\n",
    "print(add)"
   ]
  },
  {
   "cell_type": "code",
   "execution_count": 12,
   "id": "26614a6b",
   "metadata": {},
   "outputs": [
    {
     "name": "stdout",
     "output_type": "stream",
     "text": [
      "number1: 10\n",
      "number2: 20\n",
      "add: 30\n"
     ]
    }
   ],
   "source": [
    "print('number1:',number1)\n",
    "print('number2:',number2)\n",
    "print('add:',add)"
   ]
  },
  {
   "cell_type": "code",
   "execution_count": 17,
   "id": "d9b7541e",
   "metadata": {},
   "outputs": [
    {
     "name": "stdout",
     "output_type": "stream",
     "text": [
      "the addition of  10 and 20 is 30\n"
     ]
    }
   ],
   "source": [
    "print('the addition of ',number1,'and',number2,'is',add) "
   ]
  },
  {
   "cell_type": "code",
   "execution_count": 20,
   "id": "e746c2bc",
   "metadata": {},
   "outputs": [
    {
     "name": "stdout",
     "output_type": "stream",
     "text": [
      "My name  swagat I came from bhubaneswar I am  24 years old\n"
     ]
    }
   ],
   "source": [
    "name = 'swagat'\n",
    "age = 24\n",
    "city = 'bhubaneswar'\n",
    "print('My name ',name,'I came from',city,'I am ',age,'years old')"
   ]
  },
  {
   "cell_type": "markdown",
   "id": "eb4ab683",
   "metadata": {},
   "source": [
    "**Case-4: format operator**"
   ]
  },
  {
   "cell_type": "code",
   "execution_count": 24,
   "id": "e4efa838",
   "metadata": {},
   "outputs": [
    {
     "name": "stdout",
     "output_type": "stream",
     "text": [
      "The addition number1 and number2 is add\n",
      "The addition {} and {} is {}\n",
      "The addition 10 and 20 is 30\n"
     ]
    }
   ],
   "source": [
    "number1 = 10\n",
    "number2 = 20\n",
    "add = number1+number2\n",
    "print('The addition number1 and number2 is add')\n",
    "print('The addition {} and {} is {}')\n",
    "print('The addition {} and {} is {}'.format(number1,number2,add))"
   ]
  },
  {
   "cell_type": "markdown",
   "id": "2879d0ca",
   "metadata": {},
   "source": [
    "- First fix the statement in your mind\n",
    "- then apply the curly braces wherever you want replace the variables\n",
    "- then use format operator"
   ]
  },
  {
   "cell_type": "code",
   "execution_count": 26,
   "id": "22e68946",
   "metadata": {},
   "outputs": [
    {
     "name": "stdout",
     "output_type": "stream",
     "text": [
      "My name is swagat I came from bhubaneswar I am 24 years old\n"
     ]
    }
   ],
   "source": [
    "name = 'swagat'\n",
    "age = 24\n",
    "city = 'bhubaneswar'\n",
    "print('My name is {} I came from {} I am {} years old'.format(name,city,age))"
   ]
  },
  {
   "cell_type": "markdown",
   "id": "38ce1fca",
   "metadata": {},
   "source": [
    "**Case-5: f string**"
   ]
  },
  {
   "cell_type": "code",
   "execution_count": 27,
   "id": "0c16258c",
   "metadata": {},
   "outputs": [
    {
     "name": "stdout",
     "output_type": "stream",
     "text": [
      "The addition number1 and number2 is add\n",
      "The addition 10 and 20 is 30\n",
      "The addition 10 and 20 is 30\n",
      "The addition 10 and 20 is 30\n"
     ]
    }
   ],
   "source": [
    "number1 = 10\n",
    "number2 = 20\n",
    "add = number1+number2\n",
    "print('The addition number1 and number2 is add')\n",
    "print('The addition',number1,'and',number2,'is',add)\n",
    "print('The addition {} and {} is {}'.format(number1,number2,add))\n",
    "print(f'The addition {number1} and {number2} is {add}')"
   ]
  },
  {
   "cell_type": "code",
   "execution_count": 28,
   "id": "ef3a839c",
   "metadata": {},
   "outputs": [
    {
     "name": "stdout",
     "output_type": "stream",
     "text": [
      "My name is swagat I came from bhubaneswar I am 24 years old\n"
     ]
    }
   ],
   "source": [
    "name = 'swagat'\n",
    "age = 24\n",
    "city = 'bhubaneswar'\n",
    "print(f'My name is {name} I came from {city} I am {age} years old')"
   ]
  },
  {
   "cell_type": "markdown",
   "id": "09028908",
   "metadata": {},
   "source": [
    "**Case-6:  end operator**"
   ]
  },
  {
   "cell_type": "code",
   "execution_count": 29,
   "id": "8fc5542d",
   "metadata": {},
   "outputs": [
    {
     "name": "stdout",
     "output_type": "stream",
     "text": [
      "hello\n",
      "Good evening\n"
     ]
    }
   ],
   "source": [
    "print('hello')\n",
    "print('Good evening')"
   ]
  },
  {
   "cell_type": "markdown",
   "id": "008843fc",
   "metadata": {},
   "source": [
    "- two print statements we can combine using **end** "
   ]
  },
  {
   "cell_type": "code",
   "execution_count": 31,
   "id": "11ef2f87",
   "metadata": {},
   "outputs": [
    {
     "name": "stdout",
     "output_type": "stream",
     "text": [
      "hello good evening\n"
     ]
    }
   ],
   "source": [
    "print('hello',end=' ')\n",
    "print('good evening')"
   ]
  },
  {
   "cell_type": "code",
   "execution_count": 32,
   "id": "9719db53",
   "metadata": {},
   "outputs": [
    {
     "name": "stdout",
     "output_type": "stream",
     "text": [
      "good---->evening\n"
     ]
    }
   ],
   "source": [
    "print('good',end='---->')\n",
    "print('evening')"
   ]
  },
  {
   "cell_type": "code",
   "execution_count": 34,
   "id": "dc0e2119",
   "metadata": {},
   "outputs": [
    {
     "name": "stdout",
     "output_type": "stream",
     "text": [
      "10 20\n",
      "30\n"
     ]
    }
   ],
   "source": [
    "print(10,end =' ')\n",
    "print(20)\n",
    "print(30)"
   ]
  },
  {
   "cell_type": "code",
   "execution_count": 36,
   "id": "fc596508",
   "metadata": {},
   "outputs": [
    {
     "name": "stdout",
     "output_type": "stream",
     "text": [
      "10 20 30\n"
     ]
    }
   ],
   "source": [
    "print(10,end =' ')\n",
    "print(20,end =' ')\n",
    "print(30)"
   ]
  },
  {
   "cell_type": "markdown",
   "id": "72ed34d1",
   "metadata": {},
   "source": [
    "**Case-7: separate operator**"
   ]
  },
  {
   "cell_type": "code",
   "execution_count": 39,
   "id": "2ec43e8c",
   "metadata": {},
   "outputs": [
    {
     "name": "stdout",
     "output_type": "stream",
     "text": [
      "10 20 30\n"
     ]
    }
   ],
   "source": [
    "print(10,20,30)"
   ]
  },
  {
   "cell_type": "code",
   "execution_count": 42,
   "id": "9c187e9f",
   "metadata": {},
   "outputs": [
    {
     "name": "stdout",
     "output_type": "stream",
     "text": [
      "10---> 20---> 30\n"
     ]
    }
   ],
   "source": [
    "print(10,20,30,sep ='---> ')\n",
    "# print(20,sep='---> ')\n",
    "# print(30)"
   ]
  },
  {
   "cell_type": "code",
   "execution_count": null,
   "id": "b11654d4",
   "metadata": {},
   "outputs": [],
   "source": []
  }
 ],
 "metadata": {
  "kernelspec": {
   "display_name": "Python 3 (ipykernel)",
   "language": "python",
   "name": "python3"
  },
  "language_info": {
   "codemirror_mode": {
    "name": "ipython",
    "version": 3
   },
   "file_extension": ".py",
   "mimetype": "text/x-python",
   "name": "python",
   "nbconvert_exporter": "python",
   "pygments_lexer": "ipython3",
   "version": "3.9.13"
  }
 },
 "nbformat": 4,
 "nbformat_minor": 5
}
