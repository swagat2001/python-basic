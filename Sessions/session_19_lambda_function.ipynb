{
 "cells": [
  {
   "cell_type": "markdown",
   "id": "3ffc2b0f",
   "metadata": {},
   "source": [
    "**Lambda Function**"
   ]
  },
  {
   "cell_type": "code",
   "execution_count": null,
   "id": "ec557a94",
   "metadata": {},
   "outputs": [],
   "source": [
    "- case-1: [<output> <for loop>]  \n",
    "- case-2: [<if output> <if conditions> <for loop>]  \n",
    "- case-3: [<if output> <if conditions> else <else output> <for loop>]  \n",
    "- case-4: [<if output> <if conditions> else <if out> <if condition> else <else output> <for loop>]  "
   ]
  },
  {
   "cell_type": "markdown",
   "id": "a9157ba1",
   "metadata": {},
   "source": [
    "**lambda functions**\n",
    "\n",
    "\n",
    "- lambda  functions gives an idea to write a function in a single line\n",
    "\n",
    "\n",
    "- it is also a function\n",
    "\n",
    "\n",
    "- it also has some arguments and output\n",
    "\n",
    "\n",
    "\n",
    "\n",
    "**pattern-1: Function with one arguments**"
   ]
  },
  {
   "cell_type": "code",
   "execution_count": 1,
   "id": "3b28d304",
   "metadata": {},
   "outputs": [
    {
     "data": {
      "text/plain": [
       "100"
      ]
     },
     "execution_count": 1,
     "metadata": {},
     "output_type": "execute_result"
    }
   ],
   "source": [
    "def mul(a):\n",
    "    return(a*a)\n",
    "\n",
    "mul(10)"
   ]
  },
  {
   "cell_type": "code",
   "execution_count": null,
   "id": "16b77266",
   "metadata": {},
   "outputs": [],
   "source": [
    "# syntax\n",
    "# <function name > = lambda <arg name > : <return output>\n",
    "# function name = mul\n",
    "# arg name = a\n",
    "# return output = a*a"
   ]
  },
  {
   "cell_type": "code",
   "execution_count": 8,
   "id": "20ec114c",
   "metadata": {},
   "outputs": [
    {
     "data": {
      "text/plain": [
       "900"
      ]
     },
     "execution_count": 8,
     "metadata": {},
     "output_type": "execute_result"
    }
   ],
   "source": [
    "mul = lambda a : a*a\n",
    "mul(30)"
   ]
  },
  {
   "cell_type": "code",
   "execution_count": 9,
   "id": "7a5b6144",
   "metadata": {},
   "outputs": [
    {
     "data": {
      "text/plain": [
       "1000"
      ]
     },
     "execution_count": 9,
     "metadata": {},
     "output_type": "execute_result"
    }
   ],
   "source": [
    "cube = lambda a:a*a*a\n",
    "cube(10)"
   ]
  },
  {
   "cell_type": "code",
   "execution_count": 10,
   "id": "ff55c7e9",
   "metadata": {},
   "outputs": [
    {
     "data": {
      "text/plain": [
       "30"
      ]
     },
     "execution_count": 10,
     "metadata": {},
     "output_type": "execute_result"
    }
   ],
   "source": [
    "add = lambda a,b : a+b\n",
    "add(10,20)"
   ]
  },
  {
   "cell_type": "code",
   "execution_count": 14,
   "id": "6b3064f7",
   "metadata": {},
   "outputs": [
    {
     "data": {
      "text/plain": [
       "20.67"
      ]
     },
     "execution_count": 14,
     "metadata": {},
     "output_type": "execute_result"
    }
   ],
   "source": [
    "avg = lambda a,b,c : round((a+b+c)/3,2)\n",
    "avg(10,20,32)"
   ]
  },
  {
   "cell_type": "code",
   "execution_count": 16,
   "id": "9e3407ee",
   "metadata": {},
   "outputs": [
    {
     "data": {
      "text/plain": [
       "12.33"
      ]
     },
     "execution_count": 16,
     "metadata": {},
     "output_type": "execute_result"
    }
   ],
   "source": [
    "avg = lambda a,b,c = 7 : round((a+b+c)/3,2)\n",
    "avg(10,20)"
   ]
  },
  {
   "cell_type": "markdown",
   "id": "072a4506",
   "metadata": {},
   "source": [
    "**pattern - 3: if and else**"
   ]
  },
  {
   "cell_type": "code",
   "execution_count": 18,
   "id": "ba68bbdb",
   "metadata": {},
   "outputs": [
    {
     "data": {
      "text/plain": [
       "29"
      ]
     },
     "execution_count": 18,
     "metadata": {},
     "output_type": "execute_result"
    }
   ],
   "source": [
    "def greater(x,y):\n",
    "    if x>y:\n",
    "        return (x)\n",
    "    else:\n",
    "        return(y)\n",
    "greater(19,29)"
   ]
  },
  {
   "cell_type": "code",
   "execution_count": null,
   "id": "32b2172a",
   "metadata": {},
   "outputs": [],
   "source": [
    "# <function name > = lambda <arg1>,<arg2> : <if out> <if condition> else <esle output>"
   ]
  },
  {
   "cell_type": "code",
   "execution_count": 20,
   "id": "dafc09ed",
   "metadata": {},
   "outputs": [
    {
     "data": {
      "text/plain": [
       "90"
      ]
     },
     "execution_count": 20,
     "metadata": {},
     "output_type": "execute_result"
    }
   ],
   "source": [
    "great = lambda x,y : x if x>y else y\n",
    "great(90,28)"
   ]
  },
  {
   "cell_type": "markdown",
   "id": "d7750ed0",
   "metadata": {},
   "source": [
    "**patern-5: using lists**"
   ]
  },
  {
   "cell_type": "code",
   "execution_count": 21,
   "id": "05804196",
   "metadata": {},
   "outputs": [
    {
     "data": {
      "text/plain": [
       "['Hyd', 'Mumbai', 'Pune', 'Chenai', 'Bangalore']"
      ]
     },
     "execution_count": 21,
     "metadata": {},
     "output_type": "execute_result"
    }
   ],
   "source": [
    "l = ['hyd','mumbai','pune','chenai','bangalore']\n",
    "out = []\n",
    "for i in l:\n",
    "    out.append(i.capitalize())\n",
    "out"
   ]
  },
  {
   "cell_type": "code",
   "execution_count": 22,
   "id": "16dd9cf2",
   "metadata": {},
   "outputs": [
    {
     "data": {
      "text/plain": [
       "<function __main__.<lambda>(i)>"
      ]
     },
     "execution_count": 22,
     "metadata": {},
     "output_type": "execute_result"
    }
   ],
   "source": [
    "# step-1 : \n",
    "# lambda <variable>: <output>\n",
    "lambda i:i.capitalize()"
   ]
  },
  {
   "cell_type": "code",
   "execution_count": 23,
   "id": "ca09829c",
   "metadata": {},
   "outputs": [
    {
     "data": {
      "text/plain": [
       "(<function __main__.<lambda>(i)>,\n",
       " ['hyd', 'mumbai', 'pune', 'chenai', 'bangalore'])"
      ]
     },
     "execution_count": 23,
     "metadata": {},
     "output_type": "execute_result"
    }
   ],
   "source": [
    "# step-2:\n",
    "# # lambda <variable>: <output>,<list>\n",
    "l = ['hyd','mumbai','pune','chenai','bangalore']\n",
    "lambda i:i.capitalize(),l"
   ]
  },
  {
   "cell_type": "markdown",
   "id": "f9b15ea1",
   "metadata": {},
   "source": [
    "**map**"
   ]
  },
  {
   "cell_type": "code",
   "execution_count": 24,
   "id": "8d3085e2",
   "metadata": {},
   "outputs": [
    {
     "data": {
      "text/plain": [
       "<map at 0x1ef6ae02310>"
      ]
     },
     "execution_count": 24,
     "metadata": {},
     "output_type": "execute_result"
    }
   ],
   "source": [
    "# step-3:\n",
    "# map( lambda <variable>: <output>,<list>)\n",
    "l = ['hyd','mumbai','pune','chenai','bangalore']\n",
    "map(lambda i:i.capitalize(),l)"
   ]
  },
  {
   "cell_type": "code",
   "execution_count": 25,
   "id": "a3edc989",
   "metadata": {},
   "outputs": [
    {
     "data": {
      "text/plain": [
       "['Hyd', 'Mumbai', 'Pune', 'Chenai', 'Bangalore']"
      ]
     },
     "execution_count": 25,
     "metadata": {},
     "output_type": "execute_result"
    }
   ],
   "source": [
    "# step-4:\n",
    "# list(map( lambda <variable>: <output>,<list>))\n",
    "l = ['hyd','mumbai','pune','chenai','bangalore']\n",
    "list(map(lambda i:i.capitalize(),l))"
   ]
  },
  {
   "cell_type": "code",
   "execution_count": 30,
   "id": "2982ba64",
   "metadata": {},
   "outputs": [
    {
     "data": {
      "text/plain": [
       "<function __main__.<lambda>(i)>"
      ]
     },
     "execution_count": 30,
     "metadata": {},
     "output_type": "execute_result"
    }
   ],
   "source": [
    "li = ['odisha','bhubaneswar','balasore','cuttack']\n",
    "lambda i:i.capitalize()"
   ]
  },
  {
   "cell_type": "code",
   "execution_count": 31,
   "id": "24ae8f3c",
   "metadata": {},
   "outputs": [
    {
     "data": {
      "text/plain": [
       "(<function __main__.<lambda>(i)>,\n",
       " ['odisha', 'bhubaneswar', 'balasore', 'cuttack'])"
      ]
     },
     "execution_count": 31,
     "metadata": {},
     "output_type": "execute_result"
    }
   ],
   "source": [
    "li = ['odisha','bhubaneswar','balasore','cuttack']\n",
    "lambda i:i.capitalize(),li"
   ]
  },
  {
   "cell_type": "code",
   "execution_count": 32,
   "id": "964fef76",
   "metadata": {},
   "outputs": [
    {
     "data": {
      "text/plain": [
       "<map at 0x1ef6b24db80>"
      ]
     },
     "execution_count": 32,
     "metadata": {},
     "output_type": "execute_result"
    }
   ],
   "source": [
    "li = ['odisha','bhubaneswar','balasore','cuttack']\n",
    "map(lambda i:i.capitalize(),li)"
   ]
  },
  {
   "cell_type": "code",
   "execution_count": 34,
   "id": "93f178f0",
   "metadata": {},
   "outputs": [
    {
     "data": {
      "text/plain": [
       "['Odisha', 'Bhubaneswar', 'Balasore', 'Cuttack']"
      ]
     },
     "execution_count": 34,
     "metadata": {},
     "output_type": "execute_result"
    }
   ],
   "source": [
    "li = ['odisha','bhubaneswar','balasore','cuttack']\n",
    "list(map(lambda i:i.capitalize(),li))"
   ]
  },
  {
   "cell_type": "code",
   "execution_count": 35,
   "id": "e2ab9788",
   "metadata": {},
   "outputs": [
    {
     "data": {
      "text/plain": [
       "['HYD', 'BANGALORE', 'MUMBAI', 'CHENAI']"
      ]
     },
     "execution_count": 35,
     "metadata": {},
     "output_type": "execute_result"
    }
   ],
   "source": [
    "l=['hyd','bangalore','mumbai','chenai',]\n",
    "list(map(lambda i:i.upper(),l))"
   ]
  },
  {
   "cell_type": "code",
   "execution_count": 43,
   "id": "73915219",
   "metadata": {},
   "outputs": [
    {
     "data": {
      "text/plain": [
       "[0, 10, 20, 30]"
      ]
     },
     "execution_count": 43,
     "metadata": {},
     "output_type": "execute_result"
    }
   ],
   "source": [
    "l=['hyd','bangalore','mumbai','chenai',]\n",
    "list(map(lambda i:10*l.index(i),l))"
   ]
  },
  {
   "cell_type": "code",
   "execution_count": 54,
   "id": "cedaf939",
   "metadata": {},
   "outputs": [
    {
     "ename": "TypeError",
     "evalue": "can only concatenate str (not \"int\") to str",
     "output_type": "error",
     "traceback": [
      "\u001b[1;31m---------------------------------------------------------------------------\u001b[0m",
      "\u001b[1;31mTypeError\u001b[0m                                 Traceback (most recent call last)",
      "\u001b[1;32m~\\AppData\\Local\\Temp\\ipykernel_94004\\3534960665.py\u001b[0m in \u001b[0;36m<module>\u001b[1;34m\u001b[0m\n\u001b[0;32m      1\u001b[0m \u001b[0ml\u001b[0m\u001b[1;33m=\u001b[0m\u001b[1;33m[\u001b[0m\u001b[1;34m'hyd'\u001b[0m\u001b[1;33m,\u001b[0m\u001b[1;34m'bangalore'\u001b[0m\u001b[1;33m,\u001b[0m\u001b[1;34m'mumbai'\u001b[0m\u001b[1;33m,\u001b[0m\u001b[1;34m'chenai'\u001b[0m\u001b[1;33m,\u001b[0m\u001b[1;33m]\u001b[0m\u001b[1;33m\u001b[0m\u001b[1;33m\u001b[0m\u001b[0m\n\u001b[0;32m      2\u001b[0m \u001b[0mi\u001b[0m \u001b[1;33m=\u001b[0m \u001b[1;36m0\u001b[0m\u001b[1;33m\u001b[0m\u001b[1;33m\u001b[0m\u001b[0m\n\u001b[1;32m----> 3\u001b[1;33m \u001b[0mlist\u001b[0m\u001b[1;33m(\u001b[0m\u001b[0mmap\u001b[0m\u001b[1;33m(\u001b[0m\u001b[1;32mlambda\u001b[0m \u001b[0mi\u001b[0m\u001b[1;33m:\u001b[0m\u001b[0mi\u001b[0m\u001b[1;33m+\u001b[0m\u001b[0ml\u001b[0m\u001b[1;33m.\u001b[0m\u001b[0mindex\u001b[0m\u001b[1;33m(\u001b[0m\u001b[0mi\u001b[0m\u001b[1;33m)\u001b[0m\u001b[1;33m,\u001b[0m\u001b[0ml\u001b[0m\u001b[1;33m)\u001b[0m\u001b[1;33m)\u001b[0m\u001b[1;33m\u001b[0m\u001b[1;33m\u001b[0m\u001b[0m\n\u001b[0m\u001b[0;32m      4\u001b[0m \u001b[1;33m\u001b[0m\u001b[0m\n\u001b[0;32m      5\u001b[0m \u001b[1;33m\u001b[0m\u001b[0m\n",
      "\u001b[1;32m~\\AppData\\Local\\Temp\\ipykernel_94004\\3534960665.py\u001b[0m in \u001b[0;36m<lambda>\u001b[1;34m(i)\u001b[0m\n\u001b[0;32m      1\u001b[0m \u001b[0ml\u001b[0m\u001b[1;33m=\u001b[0m\u001b[1;33m[\u001b[0m\u001b[1;34m'hyd'\u001b[0m\u001b[1;33m,\u001b[0m\u001b[1;34m'bangalore'\u001b[0m\u001b[1;33m,\u001b[0m\u001b[1;34m'mumbai'\u001b[0m\u001b[1;33m,\u001b[0m\u001b[1;34m'chenai'\u001b[0m\u001b[1;33m,\u001b[0m\u001b[1;33m]\u001b[0m\u001b[1;33m\u001b[0m\u001b[1;33m\u001b[0m\u001b[0m\n\u001b[0;32m      2\u001b[0m \u001b[0mi\u001b[0m \u001b[1;33m=\u001b[0m \u001b[1;36m0\u001b[0m\u001b[1;33m\u001b[0m\u001b[1;33m\u001b[0m\u001b[0m\n\u001b[1;32m----> 3\u001b[1;33m \u001b[0mlist\u001b[0m\u001b[1;33m(\u001b[0m\u001b[0mmap\u001b[0m\u001b[1;33m(\u001b[0m\u001b[1;32mlambda\u001b[0m \u001b[0mi\u001b[0m\u001b[1;33m:\u001b[0m\u001b[0mi\u001b[0m\u001b[1;33m+\u001b[0m\u001b[0ml\u001b[0m\u001b[1;33m.\u001b[0m\u001b[0mindex\u001b[0m\u001b[1;33m(\u001b[0m\u001b[0mi\u001b[0m\u001b[1;33m)\u001b[0m\u001b[1;33m,\u001b[0m\u001b[0ml\u001b[0m\u001b[1;33m)\u001b[0m\u001b[1;33m)\u001b[0m\u001b[1;33m\u001b[0m\u001b[1;33m\u001b[0m\u001b[0m\n\u001b[0m\u001b[0;32m      4\u001b[0m \u001b[1;33m\u001b[0m\u001b[0m\n\u001b[0;32m      5\u001b[0m \u001b[1;33m\u001b[0m\u001b[0m\n",
      "\u001b[1;31mTypeError\u001b[0m: can only concatenate str (not \"int\") to str"
     ]
    }
   ],
   "source": [
    "l=['hyd','bangalore','mumbai','chenai',]\n",
    "i = \n",
    "list(map(lambda i:i+l.index(i),l))\n",
    "\n",
    "\n"
   ]
  },
  {
   "cell_type": "code",
   "execution_count": 60,
   "id": "0ba49fab",
   "metadata": {},
   "outputs": [
    {
     "data": {
      "text/plain": [
       "['bang#alore', 'chen#nai']"
      ]
     },
     "execution_count": 60,
     "metadata": {},
     "output_type": "execute_result"
    }
   ],
   "source": [
    "l=['hyd','bang#alore','mumbai','chen#nai',]\n",
    "output = []\n",
    "for i in l:\n",
    "    if '#' in i:\n",
    "        output.append(i)  \n",
    "output"
   ]
  },
  {
   "cell_type": "code",
   "execution_count": 59,
   "id": "d46e9db1",
   "metadata": {},
   "outputs": [
    {
     "data": {
      "text/plain": [
       "[False, True, False, True]"
      ]
     },
     "execution_count": 59,
     "metadata": {},
     "output_type": "execute_result"
    }
   ],
   "source": [
    "list(map(lambda i :'#' in i,l))"
   ]
  },
  {
   "cell_type": "markdown",
   "id": "2d118eea",
   "metadata": {},
   "source": [
    "**filter**\n",
    "\n",
    "- instead of map apply the filter\n",
    "\n",
    "\n",
    "- filter will extract the true values"
   ]
  },
  {
   "cell_type": "code",
   "execution_count": 61,
   "id": "295a8578",
   "metadata": {},
   "outputs": [
    {
     "data": {
      "text/plain": [
       "['bang#alore', 'chen#nai']"
      ]
     },
     "execution_count": 61,
     "metadata": {},
     "output_type": "execute_result"
    }
   ],
   "source": [
    "list(filter(lambda i :'#' in i,l))"
   ]
  },
  {
   "cell_type": "code",
   "execution_count": 63,
   "id": "be22a2ab",
   "metadata": {},
   "outputs": [
    {
     "data": {
      "text/plain": [
       "55"
      ]
     },
     "execution_count": 63,
     "metadata": {},
     "output_type": "execute_result"
    }
   ],
   "source": [
    "out = 0\n",
    "for i in range (1,11):\n",
    "    out = out+i\n",
    "out  \n"
   ]
  },
  {
   "cell_type": "code",
   "execution_count": 68,
   "id": "0b72c989",
   "metadata": {},
   "outputs": [
    {
     "data": {
      "text/plain": [
       "55"
      ]
     },
     "execution_count": 68,
     "metadata": {},
     "output_type": "execute_result"
    }
   ],
   "source": [
    "summ = 0\n",
    "[summ:=summ+i for i in range(1,11)][-1]"
   ]
  },
  {
   "cell_type": "markdown",
   "id": "4498ba0c",
   "metadata": {},
   "source": [
    "**Reduce**\n",
    "\n",
    "\n",
    "- reduce is a method under function tools\n",
    "\n",
    "\n",
    "- it takkes list as input\n",
    "\n",
    "\n",
    "- means sum of list\n",
    "\n",
    "\n",
    "- if you want to perform math operation(min,max,sum) go with reduce"
   ]
  },
  {
   "cell_type": "code",
   "execution_count": 72,
   "id": "50b76f8c",
   "metadata": {},
   "outputs": [
    {
     "data": {
      "text/plain": [
       "60"
      ]
     },
     "execution_count": 72,
     "metadata": {},
     "output_type": "execute_result"
    }
   ],
   "source": [
    "from random import *\n",
    "s = randint(1,100)\n",
    "s"
   ]
  },
  {
   "cell_type": "code",
   "execution_count": null,
   "id": "89c812cd",
   "metadata": {},
   "outputs": [],
   "source": [
    "from functiontool import reduce\n",
    "\n",
    "lambda summ,i : summ+i\n",
    "lambda summ,i : summ+i,list\n",
    "reduce(lambda summ+i: summ+i,list)"
   ]
  },
  {
   "cell_type": "code",
   "execution_count": 78,
   "id": "274a1430",
   "metadata": {},
   "outputs": [
    {
     "data": {
      "text/plain": [
       "150"
      ]
     },
     "execution_count": 78,
     "metadata": {},
     "output_type": "execute_result"
    }
   ],
   "source": [
    "from functools import reduce\n",
    "list1 = [10,20,30,40,50]\n",
    "reduce(lambda summ,i : summ+i,list1)"
   ]
  },
  {
   "cell_type": "code",
   "execution_count": 80,
   "id": "81e08289",
   "metadata": {},
   "outputs": [
    {
     "data": {
      "text/plain": [
       "155"
      ]
     },
     "execution_count": 80,
     "metadata": {},
     "output_type": "execute_result"
    }
   ],
   "source": [
    "lambda summ,i : summ+i\n",
    "lambda summ,i : summ+i, list1 # 0\n",
    "lambda summ,i : summ+i,list1,100 #starts with 100\n",
    "\n",
    "reduce(lambda summ,i : summ+i, range(1,11),100)"
   ]
  },
  {
   "cell_type": "code",
   "execution_count": null,
   "id": "ec822174",
   "metadata": {},
   "outputs": [],
   "source": []
  }
 ],
 "metadata": {
  "kernelspec": {
   "display_name": "Python 3 (ipykernel)",
   "language": "python",
   "name": "python3"
  },
  "language_info": {
   "codemirror_mode": {
    "name": "ipython",
    "version": 3
   },
   "file_extension": ".py",
   "mimetype": "text/x-python",
   "name": "python",
   "nbconvert_exporter": "python",
   "pygments_lexer": "ipython3",
   "version": "3.9.13"
  }
 },
 "nbformat": 4,
 "nbformat_minor": 5
}
