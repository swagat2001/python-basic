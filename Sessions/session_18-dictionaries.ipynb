{
 "cells": [
  {
   "cell_type": "code",
   "execution_count": 5,
   "id": "16d13c51",
   "metadata": {},
   "outputs": [
    {
     "name": "stdout",
     "output_type": "stream",
     "text": [
      "Ramesh age is: 20\n",
      "suresh age is: 22\n",
      "mahesh age is: 24\n"
     ]
    }
   ],
   "source": [
    "names = ['Ramesh','suresh','mahesh']\n",
    "age = [20,22,24]\n",
    "\n",
    "for i in range(len(names)):\n",
    "    print(f'{names[i]} age is: {age[i]}')"
   ]
  },
  {
   "cell_type": "code",
   "execution_count": 6,
   "id": "1e95d17a",
   "metadata": {},
   "outputs": [
    {
     "data": {
      "text/plain": [
       "[21, 41, 45]"
      ]
     },
     "execution_count": 6,
     "metadata": {},
     "output_type": "execute_result"
    }
   ],
   "source": [
    "l1 =[10,20,22]\n",
    "l2 = [11,21,23]\n",
    "l = []\n",
    "for i in range(len(l1)):\n",
    "    l.append(l1[i]+l2[i])\n",
    "l"
   ]
  },
  {
   "cell_type": "code",
   "execution_count": 16,
   "id": "c40c69b6",
   "metadata": {},
   "outputs": [
    {
     "data": {
      "text/plain": [
       "[21, 41, 45, 32, 42]"
      ]
     },
     "execution_count": 16,
     "metadata": {},
     "output_type": "execute_result"
    }
   ],
   "source": [
    "l1 =[10,20,22,32,42]\n",
    "l2 = [11,21,23]\n",
    "min_len = min(len(l1),len(l2))\n",
    "l = []\n",
    "if len(l1)>len(l2):\n",
    "    for i in range(len(l1)):\n",
    "        if i<len(l2):\n",
    "            l.append((l1[i]+l2[i]))\n",
    "        else:\n",
    "            l.append(l1[i])\n",
    "#     for i in range(min_len):\n",
    "#         l.append(l1[i]+l2[i])\n",
    "#         l.extend(l1[min_len:])\n",
    "        \n",
    "l"
   ]
  },
  {
   "cell_type": "code",
   "execution_count": 22,
   "id": "a2127e01",
   "metadata": {},
   "outputs": [
    {
     "name": "stdout",
     "output_type": "stream",
     "text": [
      "3:x1,10:y1\n",
      "5:x2,20:y2\n"
     ]
    }
   ],
   "source": [
    "import math\n",
    "v1 = (3,5)\n",
    "v2 = (10,20)\n",
    "\n",
    "dist = math.sqrt(pow((v2[0]-v1[0]),2) + pow((v2[1]-v1[1]),2))\n",
    "dist\n",
    "\n",
    "for i in range(len(v1)):\n",
    "    print(f'{v1[i]}:x{i+1},{v2[i]}:y{i+1}')\n"
   ]
  },
  {
   "cell_type": "code",
   "execution_count": 23,
   "id": "4bdc8966",
   "metadata": {},
   "outputs": [
    {
     "data": {
      "text/plain": [
       "16.55294535724685"
      ]
     },
     "execution_count": 23,
     "metadata": {},
     "output_type": "execute_result"
    }
   ],
   "source": [
    "import numpy as np\n",
    "x1,y1 = v1[0],v1[1]\n",
    "x2,y2 = v2[0],v2[1]\n",
    "\n",
    "sub1 = x2-x1\n",
    "sub2 = y2-y1\n",
    "\n",
    "add = np.square(sub1)+np.square(sub2)\n",
    "np.sqrt(add)"
   ]
  },
  {
   "cell_type": "code",
   "execution_count": 25,
   "id": "ff95bc45",
   "metadata": {},
   "outputs": [
    {
     "name": "stdout",
     "output_type": "stream",
     "text": [
      "3.0 2.0\n"
     ]
    }
   ],
   "source": [
    "# x2-5x+6\n",
    "import math\n",
    "a,b,c=1,-5,6\n",
    "v1 = pow(b,2) - 4*a*c\n",
    "v2 = math.sqrt(v1)\n",
    "nr1,nr2 = -1*b + v2,-1*b-v2\n",
    "dr = 2*a\n",
    "root1,root2 = nr1/dr,nr2/dr\n",
    "print(root1,root2)"
   ]
  },
  {
   "cell_type": "markdown",
   "id": "8f853a5e",
   "metadata": {},
   "source": [
    "**zip**"
   ]
  },
  {
   "cell_type": "code",
   "execution_count": 27,
   "id": "4c8171b9",
   "metadata": {},
   "outputs": [
    {
     "name": "stdout",
     "output_type": "stream",
     "text": [
      "Ramesh age is: 20\n",
      "suresh age is: 22\n",
      "mahesh age is: 24\n"
     ]
    }
   ],
   "source": [
    "names = ['Ramesh','suresh','mahesh']\n",
    "age = [20,22,24]\n",
    "\n",
    "for i,j in zip(names,age):\n",
    "    print(f'{i} age is: {j}')"
   ]
  },
  {
   "cell_type": "markdown",
   "id": "a31bc21d",
   "metadata": {},
   "source": [
    "**Dictionary**"
   ]
  },
  {
   "cell_type": "markdown",
   "id": "c93eff92",
   "metadata": {},
   "source": [
    "- dictionary is a key:value pair\n",
    "\n",
    "\n",
    "- whenever any values are coming together then think about dictionary\n",
    "\n",
    "\n",
    "- dictionary is in curly braces with pair {key:value}\n",
    "\n",
    "\n",
    "- in above example : {'Ramesh':20,'Suresh':22,'Mahesh':24}\n",
    "\n",
    "\n",
    "- **keys always plays a vital role**"
   ]
  },
  {
   "cell_type": "code",
   "execution_count": 28,
   "id": "061a8144",
   "metadata": {},
   "outputs": [
    {
     "data": {
      "text/plain": [
       "['__class__',\n",
       " '__class_getitem__',\n",
       " '__contains__',\n",
       " '__delattr__',\n",
       " '__delitem__',\n",
       " '__dir__',\n",
       " '__doc__',\n",
       " '__eq__',\n",
       " '__format__',\n",
       " '__ge__',\n",
       " '__getattribute__',\n",
       " '__getitem__',\n",
       " '__gt__',\n",
       " '__hash__',\n",
       " '__init__',\n",
       " '__init_subclass__',\n",
       " '__ior__',\n",
       " '__iter__',\n",
       " '__le__',\n",
       " '__len__',\n",
       " '__lt__',\n",
       " '__ne__',\n",
       " '__new__',\n",
       " '__or__',\n",
       " '__reduce__',\n",
       " '__reduce_ex__',\n",
       " '__repr__',\n",
       " '__reversed__',\n",
       " '__ror__',\n",
       " '__setattr__',\n",
       " '__setitem__',\n",
       " '__sizeof__',\n",
       " '__str__',\n",
       " '__subclasshook__',\n",
       " 'clear',\n",
       " 'copy',\n",
       " 'fromkeys',\n",
       " 'get',\n",
       " 'items',\n",
       " 'keys',\n",
       " 'pop',\n",
       " 'popitem',\n",
       " 'setdefault',\n",
       " 'update',\n",
       " 'values']"
      ]
     },
     "execution_count": 28,
     "metadata": {},
     "output_type": "execute_result"
    }
   ],
   "source": [
    "dict1 = {'Ramesh':20,'Suresh':22,'Mahesh':24}\n",
    "dir(dict1)"
   ]
  },
  {
   "cell_type": "code",
   "execution_count": 29,
   "id": "1c30605f",
   "metadata": {},
   "outputs": [
    {
     "data": {
      "text/plain": [
       "dict"
      ]
     },
     "execution_count": 29,
     "metadata": {},
     "output_type": "execute_result"
    }
   ],
   "source": [
    "dict1 = {'Ramesh':20,'Suresh':22,'Mahesh':24}\n",
    "type(dict1)"
   ]
  },
  {
   "cell_type": "code",
   "execution_count": 31,
   "id": "aea94570",
   "metadata": {},
   "outputs": [
    {
     "data": {
      "text/plain": [
       "{20: 'Ramesh', 22: 'Suresh', 24: 'Mahesh'}"
      ]
     },
     "execution_count": 31,
     "metadata": {},
     "output_type": "execute_result"
    }
   ],
   "source": [
    "dict2 = {20:'Ramesh',22:'Suresh',24:'Mahesh'}\n",
    "dict2"
   ]
  },
  {
   "cell_type": "code",
   "execution_count": 34,
   "id": "738759c4",
   "metadata": {},
   "outputs": [
    {
     "ename": "TypeError",
     "evalue": "unhashable type: 'list'",
     "output_type": "error",
     "traceback": [
      "\u001b[1;31m---------------------------------------------------------------------------\u001b[0m",
      "\u001b[1;31mTypeError\u001b[0m                                 Traceback (most recent call last)",
      "\u001b[1;32m~\\AppData\\Local\\Temp\\ipykernel_513904\\3710853258.py\u001b[0m in \u001b[0;36m<module>\u001b[1;34m\u001b[0m\n\u001b[1;32m----> 1\u001b[1;33m \u001b[0mdict1\u001b[0m \u001b[1;33m=\u001b[0m \u001b[1;33m{\u001b[0m\u001b[1;33m[\u001b[0m\u001b[1;34m'Ramesh'\u001b[0m\u001b[1;33m]\u001b[0m\u001b[1;33m:\u001b[0m\u001b[1;36m20\u001b[0m\u001b[1;33m,\u001b[0m\u001b[1;34m'Suresh'\u001b[0m\u001b[1;33m:\u001b[0m\u001b[1;36m22\u001b[0m\u001b[1;33m,\u001b[0m\u001b[1;34m'Mahesh'\u001b[0m\u001b[1;33m:\u001b[0m\u001b[1;36m24\u001b[0m\u001b[1;33m}\u001b[0m\u001b[1;33m\u001b[0m\u001b[1;33m\u001b[0m\u001b[0m\n\u001b[0m\u001b[0;32m      2\u001b[0m \u001b[0mdict1\u001b[0m\u001b[1;33m\u001b[0m\u001b[1;33m\u001b[0m\u001b[0m\n",
      "\u001b[1;31mTypeError\u001b[0m: unhashable type: 'list'"
     ]
    }
   ],
   "source": [
    "dict1 = {['Ramesh']:20,'Suresh':22,'Mahesh':24}\n",
    "dict1"
   ]
  },
  {
   "cell_type": "code",
   "execution_count": 37,
   "id": "d11ab651",
   "metadata": {},
   "outputs": [
    {
     "data": {
      "text/plain": [
       "{'Ramesh': 20, 'Suresh': 22, 'Mahesh': 24}"
      ]
     },
     "execution_count": 37,
     "metadata": {},
     "output_type": "execute_result"
    }
   ],
   "source": [
    "dict1 = {('Ramesh'):20,('Suresh'):22,('Mahesh'):24}\n",
    "dict1"
   ]
  },
  {
   "cell_type": "code",
   "execution_count": 38,
   "id": "ce36d6d4",
   "metadata": {},
   "outputs": [
    {
     "data": {
      "text/plain": [
       "{'20': 'Ramesh', '22': 'Suresh', '24': 'Mahesh'}"
      ]
     },
     "execution_count": 38,
     "metadata": {},
     "output_type": "execute_result"
    }
   ],
   "source": [
    "dict3 = {'20':'Ramesh','22':'Suresh','24':'Mahesh'}\n",
    "dict3"
   ]
  },
  {
   "cell_type": "code",
   "execution_count": 39,
   "id": "20ce3fe3",
   "metadata": {},
   "outputs": [
    {
     "data": {
      "text/plain": [
       "{}"
      ]
     },
     "execution_count": 39,
     "metadata": {},
     "output_type": "execute_result"
    }
   ],
   "source": [
    "divc={}\n",
    "divc"
   ]
  },
  {
   "cell_type": "code",
   "execution_count": 40,
   "id": "97cbad69",
   "metadata": {},
   "outputs": [
    {
     "ename": "TypeError",
     "evalue": "unhashable type: 'dict'",
     "output_type": "error",
     "traceback": [
      "\u001b[1;31m---------------------------------------------------------------------------\u001b[0m",
      "\u001b[1;31mTypeError\u001b[0m                                 Traceback (most recent call last)",
      "\u001b[1;32m~\\AppData\\Local\\Temp\\ipykernel_513904\\2233936808.py\u001b[0m in \u001b[0;36m<module>\u001b[1;34m\u001b[0m\n\u001b[1;32m----> 1\u001b[1;33m \u001b[0mdivc\u001b[0m\u001b[1;33m=\u001b[0m\u001b[1;33m{\u001b[0m\u001b[1;33m{\u001b[0m\u001b[1;34m'Ramesh'\u001b[0m\u001b[1;33m:\u001b[0m\u001b[1;36m20\u001b[0m\u001b[1;33m}\u001b[0m\u001b[1;33m:\u001b[0m\u001b[1;36m21\u001b[0m\u001b[1;33m}\u001b[0m\u001b[1;33m\u001b[0m\u001b[1;33m\u001b[0m\u001b[0m\n\u001b[0m\u001b[0;32m      2\u001b[0m \u001b[0mdivc\u001b[0m\u001b[1;33m\u001b[0m\u001b[1;33m\u001b[0m\u001b[0m\n",
      "\u001b[1;31mTypeError\u001b[0m: unhashable type: 'dict'"
     ]
    }
   ],
   "source": [
    "divc={{'Ramesh':20}:21}\n",
    "divc"
   ]
  },
  {
   "cell_type": "code",
   "execution_count": 41,
   "id": "46870827",
   "metadata": {},
   "outputs": [
    {
     "data": {
      "text/plain": [
       "{20: 20, 22: 22, 24: 24}"
      ]
     },
     "execution_count": 41,
     "metadata": {},
     "output_type": "execute_result"
    }
   ],
   "source": [
    "dict4 = {20:20,22:22,24:24}\n",
    "dict4"
   ]
  },
  {
   "cell_type": "code",
   "execution_count": 1,
   "id": "256c5dbc",
   "metadata": {},
   "outputs": [
    {
     "data": {
      "text/plain": [
       "{'Ramesh': 20}"
      ]
     },
     "execution_count": 1,
     "metadata": {},
     "output_type": "execute_result"
    }
   ],
   "source": [
    "divc={'Ramesh':20}\n",
    "divc"
   ]
  },
  {
   "cell_type": "markdown",
   "id": "b14d62c4",
   "metadata": {},
   "source": [
    "**min**"
   ]
  },
  {
   "cell_type": "code",
   "execution_count": 2,
   "id": "09fe352b",
   "metadata": {},
   "outputs": [],
   "source": [
    "dict1 = {'Ramesh':20,'Suresh':22,'Mahesh':24}"
   ]
  },
  {
   "cell_type": "code",
   "execution_count": 3,
   "id": "29b1bf44",
   "metadata": {},
   "outputs": [
    {
     "data": {
      "text/plain": [
       "'Mahesh'"
      ]
     },
     "execution_count": 3,
     "metadata": {},
     "output_type": "execute_result"
    }
   ],
   "source": [
    "min(dict1)"
   ]
  },
  {
   "cell_type": "code",
   "execution_count": 4,
   "id": "97e4f4da",
   "metadata": {},
   "outputs": [
    {
     "data": {
      "text/plain": [
       "'Suresh'"
      ]
     },
     "execution_count": 4,
     "metadata": {},
     "output_type": "execute_result"
    }
   ],
   "source": [
    "max(dict1)"
   ]
  },
  {
   "cell_type": "code",
   "execution_count": 5,
   "id": "36ca66e8",
   "metadata": {},
   "outputs": [
    {
     "data": {
      "text/plain": [
       "3"
      ]
     },
     "execution_count": 5,
     "metadata": {},
     "output_type": "execute_result"
    }
   ],
   "source": [
    "len(dict1)"
   ]
  },
  {
   "cell_type": "code",
   "execution_count": 6,
   "id": "def9cd93",
   "metadata": {},
   "outputs": [
    {
     "ename": "TypeError",
     "evalue": "unsupported operand type(s) for +: 'int' and 'str'",
     "output_type": "error",
     "traceback": [
      "\u001b[1;31m---------------------------------------------------------------------------\u001b[0m",
      "\u001b[1;31mTypeError\u001b[0m                                 Traceback (most recent call last)",
      "\u001b[1;32m~\\AppData\\Local\\Temp\\ipykernel_523176\\1188585216.py\u001b[0m in \u001b[0;36m<module>\u001b[1;34m\u001b[0m\n\u001b[1;32m----> 1\u001b[1;33m \u001b[0msum\u001b[0m\u001b[1;33m(\u001b[0m\u001b[0mdict1\u001b[0m\u001b[1;33m)\u001b[0m\u001b[1;33m\u001b[0m\u001b[1;33m\u001b[0m\u001b[0m\n\u001b[0m",
      "\u001b[1;31mTypeError\u001b[0m: unsupported operand type(s) for +: 'int' and 'str'"
     ]
    }
   ],
   "source": [
    "sum(dict1)"
   ]
  },
  {
   "cell_type": "code",
   "execution_count": 7,
   "id": "cf384dd4",
   "metadata": {},
   "outputs": [
    {
     "data": {
      "text/plain": [
       "['Mahesh', 'Ramesh', 'Suresh']"
      ]
     },
     "execution_count": 7,
     "metadata": {},
     "output_type": "execute_result"
    }
   ],
   "source": [
    "sorted(dict1)"
   ]
  },
  {
   "cell_type": "code",
   "execution_count": 9,
   "id": "2085c848",
   "metadata": {},
   "outputs": [
    {
     "data": {
      "text/plain": [
       "['Mahesh', 'Suresh', 'Ramesh']"
      ]
     },
     "execution_count": 9,
     "metadata": {},
     "output_type": "execute_result"
    }
   ],
   "source": [
    "list(reversed(dict1))"
   ]
  },
  {
   "cell_type": "code",
   "execution_count": 11,
   "id": "8c970fd8",
   "metadata": {},
   "outputs": [
    {
     "ename": "TypeError",
     "evalue": "unsupported operand type(s) for +: 'dict' and 'dict'",
     "output_type": "error",
     "traceback": [
      "\u001b[1;31m---------------------------------------------------------------------------\u001b[0m",
      "\u001b[1;31mTypeError\u001b[0m                                 Traceback (most recent call last)",
      "\u001b[1;32m~\\AppData\\Local\\Temp\\ipykernel_523176\\2474009989.py\u001b[0m in \u001b[0;36m<module>\u001b[1;34m\u001b[0m\n\u001b[1;32m----> 1\u001b[1;33m \u001b[0mdict1\u001b[0m\u001b[1;33m+\u001b[0m\u001b[0mdivc\u001b[0m\u001b[1;33m\u001b[0m\u001b[1;33m\u001b[0m\u001b[0m\n\u001b[0m",
      "\u001b[1;31mTypeError\u001b[0m: unsupported operand type(s) for +: 'dict' and 'dict'"
     ]
    }
   ],
   "source": [
    "dict1+divc"
   ]
  },
  {
   "cell_type": "markdown",
   "id": "f653cf23",
   "metadata": {},
   "source": [
    "'clear',\n",
    " 'copy',\n",
    " 'fromkeys',\n",
    " 'get',\n",
    " 'items',\n",
    " 'keys',\n",
    " 'pop',\n",
    " 'popitem',\n",
    " 'setdefault',\n",
    " 'update',\n",
    " 'values'"
   ]
  },
  {
   "cell_type": "code",
   "execution_count": 13,
   "id": "198425b9",
   "metadata": {},
   "outputs": [
    {
     "data": {
      "text/plain": [
       "{}"
      ]
     },
     "execution_count": 13,
     "metadata": {},
     "output_type": "execute_result"
    }
   ],
   "source": [
    "dict1.clear()\n",
    "dict1"
   ]
  },
  {
   "cell_type": "code",
   "execution_count": 79,
   "id": "0f719270",
   "metadata": {},
   "outputs": [
    {
     "data": {
      "text/plain": [
       "{'Ramesh': 20, 'Suresh': 22, 'Mahesh': 24}"
      ]
     },
     "execution_count": 79,
     "metadata": {},
     "output_type": "execute_result"
    }
   ],
   "source": [
    "dict1 = {'Ramesh':20,'Suresh':22,'Mahesh':24}\n",
    "dct = dict1.copy()\n",
    "dct"
   ]
  },
  {
   "cell_type": "code",
   "execution_count": 55,
   "id": "69919413",
   "metadata": {},
   "outputs": [
    {
     "data": {
      "text/plain": [
       "20"
      ]
     },
     "execution_count": 55,
     "metadata": {},
     "output_type": "execute_result"
    }
   ],
   "source": [
    "dict1.get('Ramesh')"
   ]
  },
  {
   "cell_type": "code",
   "execution_count": 56,
   "id": "c094f174",
   "metadata": {},
   "outputs": [
    {
     "data": {
      "text/plain": [
       "dict_items([('Ramesh', 20), ('Suresh', 22), ('Mahesh', 24)])"
      ]
     },
     "execution_count": 56,
     "metadata": {},
     "output_type": "execute_result"
    }
   ],
   "source": [
    "dict1.items()"
   ]
  },
  {
   "cell_type": "code",
   "execution_count": 57,
   "id": "78d4b169",
   "metadata": {},
   "outputs": [
    {
     "data": {
      "text/plain": [
       "dict_keys(['Ramesh', 'Suresh', 'Mahesh'])"
      ]
     },
     "execution_count": 57,
     "metadata": {},
     "output_type": "execute_result"
    }
   ],
   "source": [
    "dict1.keys()"
   ]
  },
  {
   "cell_type": "code",
   "execution_count": 77,
   "id": "615bbfba",
   "metadata": {},
   "outputs": [
    {
     "data": {
      "text/plain": [
       "{'Ramesh': 90, 'Suresh': 22, 'sukesh': 99}"
      ]
     },
     "execution_count": 77,
     "metadata": {},
     "output_type": "execute_result"
    }
   ],
   "source": [
    "dict2 = {'Ramesh':20,'Suresh':22,'Mahesh':24,'Ramesh':90,'sukesh':99}\n",
    "dict2.pop('Mahesh')\n",
    "dict2"
   ]
  },
  {
   "cell_type": "code",
   "execution_count": 81,
   "id": "ec8f71de",
   "metadata": {},
   "outputs": [
    {
     "data": {
      "text/plain": [
       "{'Ramesh': 90, 'Suresh': 22, 'Mahesh': 24}"
      ]
     },
     "execution_count": 81,
     "metadata": {},
     "output_type": "execute_result"
    }
   ],
   "source": [
    "dicto = {'Ramesh':20,'Suresh':22,'Mahesh':24,'Ramesh':90,'sukesh':99}\n",
    "dicto.popitem()\n",
    "dicto"
   ]
  },
  {
   "cell_type": "code",
   "execution_count": 83,
   "id": "5caf74d5",
   "metadata": {},
   "outputs": [
    {
     "data": {
      "text/plain": [
       "{'Ramesh': 20, 'Suresh': 22, 'Mahesh': 24, 'sirish': 76}"
      ]
     },
     "execution_count": 83,
     "metadata": {},
     "output_type": "execute_result"
    }
   ],
   "source": [
    "dict1 = {'Ramesh':20,'Suresh':22,'Mahesh':24}\n",
    "dictt = {'sirish':76}\n",
    "dict1.update(dictt)\n",
    "dict1"
   ]
  },
  {
   "cell_type": "code",
   "execution_count": 84,
   "id": "19b8749a",
   "metadata": {},
   "outputs": [
    {
     "data": {
      "text/plain": [
       "{'Ramesh': 90, 'Suresh': 22, 'Mahesh': 24, 'sukesh': 99, 'satish': None}"
      ]
     },
     "execution_count": 84,
     "metadata": {},
     "output_type": "execute_result"
    }
   ],
   "source": [
    "dicto = {'Ramesh':20,'Suresh':22,'Mahesh':24,'Ramesh':90,'sukesh':99}\n",
    "dicto.setdefault('satish')\n",
    "dicto"
   ]
  },
  {
   "cell_type": "code",
   "execution_count": 74,
   "id": "9826248d",
   "metadata": {},
   "outputs": [
    {
     "data": {
      "text/plain": [
       "{'Ramesh': 90, 'Suresh': 22, 'Mahesh': 24, 'sukesh': 99}"
      ]
     },
     "execution_count": 74,
     "metadata": {},
     "output_type": "execute_result"
    }
   ],
   "source": [
    "dicto = {'Ramesh':20,'Suresh':22,'Mahesh':24,'Ramesh':90,'sukesh':99}\n",
    "dicto.values()\n",
    "dicto"
   ]
  },
  {
   "cell_type": "code",
   "execution_count": 76,
   "id": "c73b62b4",
   "metadata": {},
   "outputs": [
    {
     "data": {
      "text/plain": [
       "dict_items([('Ramesh', 90), ('Suresh', 22), ('Mahesh', 24), ('sukesh', 99)])"
      ]
     },
     "execution_count": 76,
     "metadata": {},
     "output_type": "execute_result"
    }
   ],
   "source": [
    "dicto = {'Ramesh':20,'Suresh':22,'Mahesh':24,'Ramesh':90,'sukesh':99}\n",
    "dicto.fromkeys()\n",
    "# dicto.items()"
   ]
  },
  {
   "cell_type": "markdown",
   "id": "8fa5473a",
   "metadata": {},
   "source": [
    "**How to add values in empty**\n",
    "\n",
    "- strings\n",
    "\n",
    "\n",
    "- list\n",
    "\n",
    "\n",
    "- dictionary"
   ]
  },
  {
   "cell_type": "code",
   "execution_count": 85,
   "id": "ccd63aa1",
   "metadata": {},
   "outputs": [
    {
     "data": {
      "text/plain": [
       "'A'"
      ]
     },
     "execution_count": 85,
     "metadata": {},
     "output_type": "execute_result"
    }
   ],
   "source": [
    "s=''\n",
    "s = s+'A'\n",
    "s"
   ]
  },
  {
   "cell_type": "code",
   "execution_count": 86,
   "id": "00371479",
   "metadata": {},
   "outputs": [
    {
     "data": {
      "text/plain": [
       "[10]"
      ]
     },
     "execution_count": 86,
     "metadata": {},
     "output_type": "execute_result"
    }
   ],
   "source": [
    "l = []\n",
    "l.append(10)\n",
    "l"
   ]
  },
  {
   "cell_type": "code",
   "execution_count": 88,
   "id": "43819742",
   "metadata": {},
   "outputs": [
    {
     "data": {
      "text/plain": [
       "{'Ramesh': 20, 'suresh': 90}"
      ]
     },
     "execution_count": 88,
     "metadata": {},
     "output_type": "execute_result"
    }
   ],
   "source": [
    "d = {}\n",
    "d['Ramesh'] = 20\n",
    "d['suresh'] = 90\n",
    "d"
   ]
  },
  {
   "cell_type": "markdown",
   "id": "d1b9be56",
   "metadata": {},
   "source": [
    "**index**"
   ]
  },
  {
   "cell_type": "code",
   "execution_count": 26,
   "id": "eb4d81db",
   "metadata": {},
   "outputs": [
    {
     "ename": "KeyError",
     "evalue": "0",
     "output_type": "error",
     "traceback": [
      "\u001b[1;31m---------------------------------------------------------------------------\u001b[0m",
      "\u001b[1;31mKeyError\u001b[0m                                  Traceback (most recent call last)",
      "\u001b[1;32m~\\AppData\\Local\\Temp\\ipykernel_523176\\1252539167.py\u001b[0m in \u001b[0;36m<module>\u001b[1;34m\u001b[0m\n\u001b[0;32m      1\u001b[0m \u001b[0mdict1\u001b[0m \u001b[1;33m=\u001b[0m \u001b[1;33m{\u001b[0m\u001b[1;34m'Ramesh'\u001b[0m\u001b[1;33m:\u001b[0m\u001b[1;36m20\u001b[0m\u001b[1;33m,\u001b[0m\u001b[1;34m'Suresh'\u001b[0m\u001b[1;33m:\u001b[0m\u001b[1;36m22\u001b[0m\u001b[1;33m,\u001b[0m\u001b[1;34m'Mahesh'\u001b[0m\u001b[1;33m:\u001b[0m\u001b[1;36m24\u001b[0m\u001b[1;33m}\u001b[0m\u001b[1;33m\u001b[0m\u001b[1;33m\u001b[0m\u001b[0m\n\u001b[1;32m----> 2\u001b[1;33m \u001b[0mdict1\u001b[0m\u001b[1;33m[\u001b[0m\u001b[1;36m0\u001b[0m\u001b[1;33m]\u001b[0m\u001b[1;33m\u001b[0m\u001b[1;33m\u001b[0m\u001b[0m\n\u001b[0m",
      "\u001b[1;31mKeyError\u001b[0m: 0"
     ]
    }
   ],
   "source": [
    "dict1 = {'Ramesh':20,'Suresh':22,'Mahesh':24}\n",
    "dict1[0]"
   ]
  },
  {
   "cell_type": "code",
   "execution_count": 27,
   "id": "b3fc0076",
   "metadata": {},
   "outputs": [
    {
     "data": {
      "text/plain": [
       "20"
      ]
     },
     "execution_count": 27,
     "metadata": {},
     "output_type": "execute_result"
    }
   ],
   "source": [
    "dict1 = {'Ramesh':20,'Suresh':22,'Mahesh':24}\n",
    "dict1['Ramesh']"
   ]
  },
  {
   "cell_type": "code",
   "execution_count": 33,
   "id": "9cd54eb4",
   "metadata": {},
   "outputs": [
    {
     "name": "stdout",
     "output_type": "stream",
     "text": [
      "Ramesh age is 20.\n",
      "Suresh age is 22.\n",
      "Mahesh age is 24.\n"
     ]
    }
   ],
   "source": [
    "for i in dict1:\n",
    "    print(f'{i} age is {dict1[i]}.')"
   ]
  },
  {
   "cell_type": "code",
   "execution_count": 35,
   "id": "10529126",
   "metadata": {},
   "outputs": [
    {
     "data": {
      "text/plain": [
       "'Mango'"
      ]
     },
     "execution_count": 35,
     "metadata": {},
     "output_type": "execute_result"
    }
   ],
   "source": [
    "d = {'fruits':['Apple','Banana','Mango']}\n",
    "d['fruits'][2]"
   ]
  },
  {
   "cell_type": "code",
   "execution_count": 38,
   "id": "a86de008",
   "metadata": {},
   "outputs": [
    {
     "data": {
      "text/plain": [
       "'cherry'"
      ]
     },
     "execution_count": 38,
     "metadata": {},
     "output_type": "execute_result"
    }
   ],
   "source": [
    "d = {'fruits':[{'items':['Apple','cherry']}]}\n",
    "d['fruits'][0]['items'][1]"
   ]
  },
  {
   "cell_type": "code",
   "execution_count": 40,
   "id": "cfd67e2c",
   "metadata": {},
   "outputs": [
    {
     "data": {
      "text/plain": [
       "{'Vicky'}"
      ]
     },
     "execution_count": 40,
     "metadata": {},
     "output_type": "execute_result"
    }
   ],
   "source": [
    "d = {'Fruits':{'orange':{'Nagpur':{'MH':{'shivaji':{'shambaji':{'chava':{'Vicky'}}}}}}}}\n",
    "d['Fruits']['orange']['Nagpur']['MH']['shivaji']['shambaji']['chava']"
   ]
  },
  {
   "cell_type": "code",
   "execution_count": 41,
   "id": "3cb93276",
   "metadata": {},
   "outputs": [],
   "source": [
    "d = {'Fruits':\n",
    "     {'orange':\n",
    "      {'Nagpur':\n",
    "       {'MH':\n",
    "        {'shivaji':\n",
    "         {'shambaji':\n",
    "          {'chava':\n",
    "           {'Vicky'\n",
    "           }\n",
    "          }\n",
    "         }\n",
    "        }\n",
    "       }\n",
    "      }\n",
    "     }\n",
    "    }"
   ]
  },
  {
   "cell_type": "code",
   "execution_count": null,
   "id": "d2932f03",
   "metadata": {},
   "outputs": [],
   "source": []
  }
 ],
 "metadata": {
  "kernelspec": {
   "display_name": "Python 3 (ipykernel)",
   "language": "python",
   "name": "python3"
  },
  "language_info": {
   "codemirror_mode": {
    "name": "ipython",
    "version": 3
   },
   "file_extension": ".py",
   "mimetype": "text/x-python",
   "name": "python",
   "nbconvert_exporter": "python",
   "pygments_lexer": "ipython3",
   "version": "3.9.13"
  }
 },
 "nbformat": 4,
 "nbformat_minor": 5
}
