{
 "cells": [
  {
   "cell_type": "markdown",
   "id": "dc7d2203",
   "metadata": {},
   "source": [
    "- list comprehensions means writing a list operations in a single line\n",
    "\n",
    "\n",
    "- when we apply for loop and conditional statement the processing time will be increase\n",
    "\n",
    "\n",
    "- List comprehensions reduce the processing time\n",
    "\n",
    "\n",
    "\n"
   ]
  },
  {
   "cell_type": "markdown",
   "id": "4ff829bc",
   "metadata": {},
   "source": [
    "**Case-1:only for loop**"
   ]
  },
  {
   "cell_type": "code",
   "execution_count": 2,
   "id": "b5cd1d1d",
   "metadata": {},
   "outputs": [
    {
     "data": {
      "text/plain": [
       "[0, 1, 2, 3, 4, 5, 6, 7, 8, 9]"
      ]
     },
     "execution_count": 2,
     "metadata": {},
     "output_type": "execute_result"
    }
   ],
   "source": [
    "l=[]\n",
    "for i in range(10):\n",
    "    l.append(i)\n",
    "l"
   ]
  },
  {
   "cell_type": "code",
   "execution_count": null,
   "id": "e4fa3559",
   "metadata": {},
   "outputs": [],
   "source": [
    "l=[<write your code>]\n",
    "l=[<output><for loop>]\n",
    "\n",
    "# output variable = i\n",
    "# for loop : for i in range(10)"
   ]
  },
  {
   "cell_type": "code",
   "execution_count": 3,
   "id": "8491d3da",
   "metadata": {},
   "outputs": [
    {
     "data": {
      "text/plain": [
       "[0, 1, 2, 3, 4, 5, 6, 7, 8, 9]"
      ]
     },
     "execution_count": 3,
     "metadata": {},
     "output_type": "execute_result"
    }
   ],
   "source": [
    "l= [i for i in range(10)]\n",
    "l"
   ]
  },
  {
   "cell_type": "code",
   "execution_count": 4,
   "id": "5b8e99ca",
   "metadata": {},
   "outputs": [
    {
     "data": {
      "text/plain": [
       "['Hyd', 'Bengaluru', 'Mumbai', 'Chennai']"
      ]
     },
     "execution_count": 4,
     "metadata": {},
     "output_type": "execute_result"
    }
   ],
   "source": [
    "# q1\n",
    "import string\n",
    "l=['hyd','bengaluru','mumbai','chennai']\n",
    "output = []\n",
    "for i in l:\n",
    "    output.append(i.capitalize())\n",
    "output"
   ]
  },
  {
   "cell_type": "code",
   "execution_count": 20,
   "id": "6e7bbceb",
   "metadata": {},
   "outputs": [
    {
     "data": {
      "text/plain": [
       "['Hyd', 'Bengaluru', 'Mumbai', 'Chennai']"
      ]
     },
     "execution_count": 20,
     "metadata": {},
     "output_type": "execute_result"
    }
   ],
   "source": [
    "input1 = ['hyd','bengaluru','mumbai','chennai']\n",
    "output = [i.capitalize() for i in input1]\n",
    "output"
   ]
  },
  {
   "cell_type": "code",
   "execution_count": 5,
   "id": "aca0ef50",
   "metadata": {},
   "outputs": [
    {
     "data": {
      "text/plain": [
       "['HYD', 'BENGALURU', 'MUMBAI', 'CHENNAI']"
      ]
     },
     "execution_count": 5,
     "metadata": {},
     "output_type": "execute_result"
    }
   ],
   "source": [
    "# q2\n",
    "import string\n",
    "l=['hyd','bengaluru','mumbai','chennai']\n",
    "output = []\n",
    "for i in l:\n",
    "    output.append(i.upper())\n",
    "output"
   ]
  },
  {
   "cell_type": "code",
   "execution_count": 21,
   "id": "defee9b6",
   "metadata": {},
   "outputs": [
    {
     "data": {
      "text/plain": [
       "['HYD', 'BENGALURU', 'MUMBAI', 'CHENNAI']"
      ]
     },
     "execution_count": 21,
     "metadata": {},
     "output_type": "execute_result"
    }
   ],
   "source": [
    "input1 = ['hyd','bengaluru','mumbai','chennai']\n",
    "output = [i.upper() for i in input1]\n",
    "output"
   ]
  },
  {
   "cell_type": "code",
   "execution_count": 11,
   "id": "2a202e09",
   "metadata": {},
   "outputs": [
    {
     "name": "stdout",
     "output_type": "stream",
     "text": [
      "0\n",
      "10\n",
      "20\n",
      "30\n"
     ]
    }
   ],
   "source": [
    "# q3\n",
    "import string\n",
    "l=['hyd','bengaluru','mumbai','chennai']\n",
    "# output = []\n",
    "for i in l:\n",
    "    output = 10*(l.index(i))\n",
    "    print(output)"
   ]
  },
  {
   "cell_type": "code",
   "execution_count": 22,
   "id": "5be694ad",
   "metadata": {},
   "outputs": [
    {
     "data": {
      "text/plain": [
       "[0, 10, 20, 30]"
      ]
     },
     "execution_count": 22,
     "metadata": {},
     "output_type": "execute_result"
    }
   ],
   "source": [
    "input1 = ['hyd','bengaluru','mumbai','chennai']\n",
    "output = [input1.index(i)*10 for i in input1]\n",
    "output"
   ]
  },
  {
   "cell_type": "markdown",
   "id": "02780afc",
   "metadata": {},
   "source": [
    "**Valrus operator**"
   ]
  },
  {
   "cell_type": "code",
   "execution_count": 14,
   "id": "1baff3e1",
   "metadata": {},
   "outputs": [
    {
     "data": {
      "text/plain": [
       "6"
      ]
     },
     "execution_count": 14,
     "metadata": {},
     "output_type": "execute_result"
    }
   ],
   "source": [
    "# q4\n",
    "import string\n",
    "l=['hyd','bengaluru','mumbai','chennai']\n",
    "summ = 0\n",
    "for i in l:\n",
    "    ind = l.index(i)\n",
    "    summ=summ+ind\n",
    "    \n",
    "summ"
   ]
  },
  {
   "cell_type": "code",
   "execution_count": 25,
   "id": "362db73a",
   "metadata": {},
   "outputs": [
    {
     "data": {
      "text/plain": [
       "[0, 1, 3, 6]"
      ]
     },
     "execution_count": 25,
     "metadata": {},
     "output_type": "execute_result"
    }
   ],
   "source": [
    "# q5\n",
    "l=['hyd','bengaluru','mumbai','chennai']\n",
    "summ = 0\n",
    "l = [summ:=summ+l.index(i) for i in l]\n",
    "l"
   ]
  },
  {
   "cell_type": "code",
   "execution_count": 15,
   "id": "fbb6eb12",
   "metadata": {},
   "outputs": [
    {
     "name": "stdout",
     "output_type": "stream",
     "text": [
      "55\n"
     ]
    }
   ],
   "source": [
    "# q5\n",
    "summ = 0\n",
    "for i in range (1,11):\n",
    "    summ= summ+i\n",
    "print(summ)    "
   ]
  },
  {
   "cell_type": "code",
   "execution_count": 24,
   "id": "3d1738fe",
   "metadata": {},
   "outputs": [
    {
     "data": {
      "text/plain": [
       "[1, 3, 6, 10, 15, 21, 28, 36, 45, 55]"
      ]
     },
     "execution_count": 24,
     "metadata": {},
     "output_type": "execute_result"
    }
   ],
   "source": [
    "# q5\n",
    "summ = 0\n",
    "l = [summ:=summ+i for i in range(1,11)]\n",
    "l"
   ]
  },
  {
   "cell_type": "markdown",
   "id": "fbc48508",
   "metadata": {},
   "source": [
    "**case-2: for-if**"
   ]
  },
  {
   "cell_type": "code",
   "execution_count": null,
   "id": "3441bdcd",
   "metadata": {},
   "outputs": [],
   "source": [
    "case-1: [<output> <foor loop>]\n",
    "case-2: [<output> <foor loop> <if condition>]"
   ]
  },
  {
   "cell_type": "code",
   "execution_count": 29,
   "id": "76574fbe",
   "metadata": {},
   "outputs": [
    {
     "name": "stdout",
     "output_type": "stream",
     "text": [
      "benga#luru\n",
      "chen#nai\n"
     ]
    }
   ],
   "source": [
    "# q5\n",
    "input1 = ['hyd','benga#luru','mumbai','chen#nai'] \n",
    "for i in input1:\n",
    "    if '#' in i:\n",
    "        print(i)"
   ]
  },
  {
   "cell_type": "code",
   "execution_count": 31,
   "id": "1756ff62",
   "metadata": {},
   "outputs": [
    {
     "data": {
      "text/plain": [
       "['benga#luru', 'chen#nai']"
      ]
     },
     "execution_count": 31,
     "metadata": {},
     "output_type": "execute_result"
    }
   ],
   "source": [
    "# q5\n",
    "output =[i for i in input1 if '#' in i]\n",
    "output"
   ]
  },
  {
   "cell_type": "code",
   "execution_count": 32,
   "id": "108ee9f9",
   "metadata": {},
   "outputs": [
    {
     "name": "stdout",
     "output_type": "stream",
     "text": [
      "hyd\n",
      "mumbai\n"
     ]
    }
   ],
   "source": [
    "# q6\n",
    "input1 = ['hyd','benga#luru','mumbai','chen#nai'] \n",
    "for i in input1:\n",
    "    if '#' not in i:\n",
    "        print(i)"
   ]
  },
  {
   "cell_type": "code",
   "execution_count": 33,
   "id": "c6269003",
   "metadata": {},
   "outputs": [
    {
     "data": {
      "text/plain": [
       "['hyd', 'mumbai']"
      ]
     },
     "execution_count": 33,
     "metadata": {},
     "output_type": "execute_result"
    }
   ],
   "source": [
    "# q6\n",
    "output =[i for i in input1 if '#' not in i]\n",
    "output"
   ]
  },
  {
   "cell_type": "markdown",
   "id": "b895252a",
   "metadata": {},
   "source": [
    "**Case-3: for-if-else**"
   ]
  },
  {
   "cell_type": "code",
   "execution_count": null,
   "id": "879ef2fd",
   "metadata": {},
   "outputs": [],
   "source": [
    "case-1: [<output> <foor loop>]\n",
    "case-2: [<output> <foor loop> <if condition>]\n",
    "case-3: [<if output> <if condition> else <else output> <for loop>]"
   ]
  },
  {
   "cell_type": "code",
   "execution_count": 41,
   "id": "2560ae45",
   "metadata": {},
   "outputs": [
    {
     "name": "stdout",
     "output_type": "stream",
     "text": [
      "\n",
      "\n",
      "\n",
      "\n",
      "\n",
      "\n",
      "\n",
      "\n",
      "\n"
     ]
    },
    {
     "data": {
      "text/plain": [
       "[1, 2, 3, 4, 5, 6, 7, 8, 9, 10, 11, 12, 13, 14, 15, 16, 17, 18]"
      ]
     },
     "execution_count": 41,
     "metadata": {},
     "output_type": "execute_result"
    }
   ],
   "source": [
    "output = []\n",
    "for i in range(1,19):\n",
    "    if i % 2==0:\n",
    "        output.append(i)\n",
    "        print()\n",
    "    else:\n",
    "        output.append(i)\n",
    "output"
   ]
  },
  {
   "cell_type": "code",
   "execution_count": 42,
   "id": "b25c40d9",
   "metadata": {},
   "outputs": [
    {
     "data": {
      "text/plain": [
       "[None,\n",
       " None,\n",
       " None,\n",
       " None,\n",
       " None,\n",
       " None,\n",
       " None,\n",
       " None,\n",
       " None,\n",
       " None,\n",
       " None,\n",
       " None,\n",
       " None,\n",
       " None,\n",
       " None,\n",
       " None,\n",
       " None,\n",
       " None]"
      ]
     },
     "execution_count": 42,
     "metadata": {},
     "output_type": "execute_result"
    }
   ],
   "source": [
    "output=[]\n",
    "numl = [f'{i}:even' if i%2==0 else odd.append(i) for i in range(1,19) ]\n",
    "numl"
   ]
  },
  {
   "cell_type": "code",
   "execution_count": null,
   "id": "9883df9f",
   "metadata": {},
   "outputs": [],
   "source": []
  }
 ],
 "metadata": {
  "kernelspec": {
   "display_name": "Python 3 (ipykernel)",
   "language": "python",
   "name": "python3"
  },
  "language_info": {
   "codemirror_mode": {
    "name": "ipython",
    "version": 3
   },
   "file_extension": ".py",
   "mimetype": "text/x-python",
   "name": "python",
   "nbconvert_exporter": "python",
   "pygments_lexer": "ipython3",
   "version": "3.9.13"
  }
 },
 "nbformat": 4,
 "nbformat_minor": 5
}
