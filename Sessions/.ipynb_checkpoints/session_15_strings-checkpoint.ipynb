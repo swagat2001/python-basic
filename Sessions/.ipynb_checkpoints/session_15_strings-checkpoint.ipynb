{
 "cells": [
  {
   "cell_type": "markdown",
   "id": "93cb361d",
   "metadata": {},
   "source": [
    "**Strings**\n",
    "\n",
    "\n",
    "#################Basic pythons#############\n",
    "\n",
    "- python variables \n",
    "\n",
    "- python data typpes\n",
    "\n",
    "- type casting\n",
    "\n",
    "- print\n",
    "\n",
    "- eval input\n",
    "\n",
    "- basic codes\n",
    "\n",
    "- conditional statements\n",
    "\n",
    "- try-except handling\n",
    "\n",
    "- functions\n",
    "\n",
    "- loops\n",
    "\n",
    "\n",
    "##############python intermediate core python##############\n",
    "\n",
    "- strings\n",
    "\n",
    "- lists\n",
    "\n",
    "- tuples\n",
    "\n",
    "- sets\n",
    "\n",
    "- dictionary\n",
    "\n",
    "- lambda functions\n",
    "\n",
    "- file handling\n"
   ]
  },
  {
   "cell_type": "markdown",
   "id": "37a4218d",
   "metadata": {},
   "source": [
    "**Note**\n",
    "\n",
    "- initialization or representation\n",
    "\n",
    "\n",
    "- type \n",
    "\n",
    "\n",
    "- inbuilt functions\n",
    "\n",
    "    - length\n",
    "\n",
    "    - sum\n",
    "\n",
    "    - max\n",
    "\n",
    "    - min\n",
    "\n",
    "    - reversed\n",
    "\n",
    "    - sorted\n",
    "    \n",
    "    \n",
    "- concatenation\n",
    "\n",
    "\n",
    "- index\n",
    "\n",
    "\n",
    "- mutable vs immutable\n",
    "\n",
    "\n",
    "- slicing\n",
    "\n",
    "\n",
    "- methods"
   ]
  },
  {
   "cell_type": "markdown",
   "id": "8e8d33b3",
   "metadata": {},
   "source": [
    "**1.Representations**"
   ]
  },
  {
   "cell_type": "code",
   "execution_count": 1,
   "id": "523b91ac",
   "metadata": {},
   "outputs": [],
   "source": [
    "name ='python'"
   ]
  },
  {
   "cell_type": "code",
   "execution_count": 3,
   "id": "9af4b44a",
   "metadata": {},
   "outputs": [],
   "source": [
    "name1=\"python\""
   ]
  },
  {
   "cell_type": "code",
   "execution_count": 4,
   "id": "dbca64d5",
   "metadata": {},
   "outputs": [
    {
     "data": {
      "text/plain": [
       "'python'"
      ]
     },
     "execution_count": 4,
     "metadata": {},
     "output_type": "execute_result"
    }
   ],
   "source": [
    "name1"
   ]
  },
  {
   "cell_type": "code",
   "execution_count": 5,
   "id": "818c8e30",
   "metadata": {},
   "outputs": [
    {
     "data": {
      "text/plain": [
       "'Hello I like python'"
      ]
     },
     "execution_count": 5,
     "metadata": {},
     "output_type": "execute_result"
    }
   ],
   "source": [
    "\"Hello I like python\""
   ]
  },
  {
   "cell_type": "code",
   "execution_count": 6,
   "id": "b30eaad3",
   "metadata": {},
   "outputs": [
    {
     "data": {
      "text/plain": [
       "'Hello I like python'"
      ]
     },
     "execution_count": 6,
     "metadata": {},
     "output_type": "execute_result"
    }
   ],
   "source": [
    "'''Hello I like python'''"
   ]
  },
  {
   "cell_type": "code",
   "execution_count": 7,
   "id": "f3680f75",
   "metadata": {},
   "outputs": [
    {
     "data": {
      "text/plain": [
       "'Hello I like python'"
      ]
     },
     "execution_count": 7,
     "metadata": {},
     "output_type": "execute_result"
    }
   ],
   "source": [
    "'Hello I like python'"
   ]
  },
  {
   "cell_type": "markdown",
   "id": "f4e389ad",
   "metadata": {},
   "source": [
    "**doc string**"
   ]
  },
  {
   "cell_type": "markdown",
   "id": "ebb77b17",
   "metadata": {},
   "source": [
    "- triple used as doc string \n",
    "\n",
    "- in vs code or pycharm we will write the information using triple quotes"
   ]
  },
  {
   "cell_type": "markdown",
   "id": "6c072215",
   "metadata": {},
   "source": [
    "**type**"
   ]
  },
  {
   "cell_type": "code",
   "execution_count": 8,
   "id": "4d27b047",
   "metadata": {},
   "outputs": [],
   "source": [
    "name = 'python'"
   ]
  },
  {
   "cell_type": "code",
   "execution_count": 9,
   "id": "c4811bbd",
   "metadata": {},
   "outputs": [
    {
     "data": {
      "text/plain": [
       "str"
      ]
     },
     "execution_count": 9,
     "metadata": {},
     "output_type": "execute_result"
    }
   ],
   "source": [
    "type(name)"
   ]
  },
  {
   "cell_type": "code",
   "execution_count": 10,
   "id": "4ae6c65c",
   "metadata": {},
   "outputs": [
    {
     "ename": "NameError",
     "evalue": "name 'python' is not defined",
     "output_type": "error",
     "traceback": [
      "\u001b[1;31m---------------------------------------------------------------------------\u001b[0m",
      "\u001b[1;31mNameError\u001b[0m                                 Traceback (most recent call last)",
      "\u001b[1;32m~\\AppData\\Local\\Temp\\ipykernel_76552\\1955527080.py\u001b[0m in \u001b[0;36m<module>\u001b[1;34m\u001b[0m\n\u001b[1;32m----> 1\u001b[1;33m \u001b[0meval\u001b[0m\u001b[1;33m(\u001b[0m\u001b[0mname\u001b[0m\u001b[1;33m)\u001b[0m\u001b[1;33m\u001b[0m\u001b[1;33m\u001b[0m\u001b[0m\n\u001b[0m",
      "\u001b[1;32m<string>\u001b[0m in \u001b[0;36m<module>\u001b[1;34m\u001b[0m\n",
      "\u001b[1;31mNameError\u001b[0m: name 'python' is not defined"
     ]
    }
   ],
   "source": [
    "eval(name)"
   ]
  },
  {
   "cell_type": "code",
   "execution_count": 11,
   "id": "9219c006",
   "metadata": {},
   "outputs": [
    {
     "name": "stdout",
     "output_type": "stream",
     "text": [
      "pythonswagat\n"
     ]
    },
    {
     "data": {
      "text/plain": [
       "'swagat'"
      ]
     },
     "execution_count": 11,
     "metadata": {},
     "output_type": "execute_result"
    }
   ],
   "source": [
    "input(name)"
   ]
  },
  {
   "cell_type": "code",
   "execution_count": 12,
   "id": "81549e4f",
   "metadata": {},
   "outputs": [
    {
     "name": "stdout",
     "output_type": "stream",
     "text": [
      "python\n"
     ]
    }
   ],
   "source": [
    "print(name)"
   ]
  },
  {
   "cell_type": "code",
   "execution_count": 19,
   "id": "794b71cf",
   "metadata": {},
   "outputs": [
    {
     "data": {
      "text/plain": [
       "str"
      ]
     },
     "execution_count": 19,
     "metadata": {},
     "output_type": "execute_result"
    }
   ],
   "source": [
    "type(name)"
   ]
  },
  {
   "cell_type": "code",
   "execution_count": 13,
   "id": "aad794b6",
   "metadata": {},
   "outputs": [
    {
     "data": {
      "text/plain": [
       "6"
      ]
     },
     "execution_count": 13,
     "metadata": {},
     "output_type": "execute_result"
    }
   ],
   "source": [
    "len(name)"
   ]
  },
  {
   "cell_type": "code",
   "execution_count": 14,
   "id": "143181ce",
   "metadata": {},
   "outputs": [
    {
     "data": {
      "text/plain": [
       "'h'"
      ]
     },
     "execution_count": 14,
     "metadata": {},
     "output_type": "execute_result"
    }
   ],
   "source": [
    "min(name)"
   ]
  },
  {
   "cell_type": "code",
   "execution_count": 21,
   "id": "14fe678a",
   "metadata": {},
   "outputs": [
    {
     "data": {
      "text/plain": [
       "(112, 121, 116, 104, 111, 110)"
      ]
     },
     "execution_count": 21,
     "metadata": {},
     "output_type": "execute_result"
    }
   ],
   "source": [
    "ord('p'),ord('y'),ord('t'),ord('h'),ord('o'),ord('n')"
   ]
  },
  {
   "cell_type": "code",
   "execution_count": 15,
   "id": "d72ada41",
   "metadata": {},
   "outputs": [
    {
     "data": {
      "text/plain": [
       "'y'"
      ]
     },
     "execution_count": 15,
     "metadata": {},
     "output_type": "execute_result"
    }
   ],
   "source": [
    "max(name)"
   ]
  },
  {
   "cell_type": "code",
   "execution_count": 16,
   "id": "6bcad6a7",
   "metadata": {},
   "outputs": [
    {
     "ename": "TypeError",
     "evalue": "unsupported operand type(s) for +: 'int' and 'str'",
     "output_type": "error",
     "traceback": [
      "\u001b[1;31m---------------------------------------------------------------------------\u001b[0m",
      "\u001b[1;31mTypeError\u001b[0m                                 Traceback (most recent call last)",
      "\u001b[1;32m~\\AppData\\Local\\Temp\\ipykernel_76552\\644013756.py\u001b[0m in \u001b[0;36m<module>\u001b[1;34m\u001b[0m\n\u001b[1;32m----> 1\u001b[1;33m \u001b[0msum\u001b[0m\u001b[1;33m(\u001b[0m\u001b[0mname\u001b[0m\u001b[1;33m)\u001b[0m\u001b[1;33m\u001b[0m\u001b[1;33m\u001b[0m\u001b[0m\n\u001b[0m",
      "\u001b[1;31mTypeError\u001b[0m: unsupported operand type(s) for +: 'int' and 'str'"
     ]
    }
   ],
   "source": [
    "sum(name)"
   ]
  },
  {
   "cell_type": "code",
   "execution_count": 17,
   "id": "f5948c14",
   "metadata": {},
   "outputs": [
    {
     "data": {
      "text/plain": [
       "<reversed at 0x22ee5628040>"
      ]
     },
     "execution_count": 17,
     "metadata": {},
     "output_type": "execute_result"
    }
   ],
   "source": [
    "reversed(name)"
   ]
  },
  {
   "cell_type": "code",
   "execution_count": 18,
   "id": "3dea4ab0",
   "metadata": {},
   "outputs": [
    {
     "data": {
      "text/plain": [
       "['h', 'n', 'o', 'p', 't', 'y']"
      ]
     },
     "execution_count": 18,
     "metadata": {},
     "output_type": "execute_result"
    }
   ],
   "source": [
    "sorted(name)"
   ]
  },
  {
   "cell_type": "code",
   "execution_count": 22,
   "id": "cb260da5",
   "metadata": {},
   "outputs": [
    {
     "data": {
      "text/plain": [
       "60"
      ]
     },
     "execution_count": 22,
     "metadata": {},
     "output_type": "execute_result"
    }
   ],
   "source": [
    "list = [10,20,30]\n",
    "sum(list)"
   ]
  },
  {
   "cell_type": "code",
   "execution_count": 23,
   "id": "19392d00",
   "metadata": {},
   "outputs": [],
   "source": [
    "# iteration ==== anything that can be print by using loop\n",
    "\n",
    "# strings are iterable\n",
    "\n",
    "# we can access the elements of a string using for loop"
   ]
  },
  {
   "cell_type": "code",
   "execution_count": 24,
   "id": "24a7d3dc",
   "metadata": {},
   "outputs": [
    {
     "data": {
      "text/plain": [
       "['y', 't', 'p', 'o', 'n', 'h']"
      ]
     },
     "execution_count": 24,
     "metadata": {},
     "output_type": "execute_result"
    }
   ],
   "source": [
    "sorted(name,reverse=True)"
   ]
  },
  {
   "cell_type": "markdown",
   "id": "878c0487",
   "metadata": {},
   "source": [
    "**Note**\n",
    "\n",
    "\n",
    "- by default sorted will give ascending order because reverse = false\n",
    "\n",
    "- now change reverse = true to get in decending order"
   ]
  },
  {
   "cell_type": "code",
   "execution_count": 25,
   "id": "3e44e639",
   "metadata": {},
   "outputs": [
    {
     "data": {
      "text/plain": [
       "0j"
      ]
     },
     "execution_count": 25,
     "metadata": {},
     "output_type": "execute_result"
    }
   ],
   "source": [
    "complex()  #a+bj"
   ]
  },
  {
   "cell_type": "code",
   "execution_count": 26,
   "id": "ac5038e6",
   "metadata": {},
   "outputs": [
    {
     "data": {
      "text/plain": [
       "(3+5j)"
      ]
     },
     "execution_count": 26,
     "metadata": {},
     "output_type": "execute_result"
    }
   ],
   "source": [
    "complex(3,5)"
   ]
  },
  {
   "cell_type": "code",
   "execution_count": 27,
   "id": "a8f7564b",
   "metadata": {},
   "outputs": [
    {
     "data": {
      "text/plain": [
       "complex"
      ]
     },
     "execution_count": 27,
     "metadata": {},
     "output_type": "execute_result"
    }
   ],
   "source": [
    "complex()"
   ]
  },
  {
   "cell_type": "code",
   "execution_count": null,
   "id": "6952239f",
   "metadata": {},
   "outputs": [],
   "source": [
    "sorted()"
   ]
  },
  {
   "cell_type": "code",
   "execution_count": 33,
   "id": "2df2fc6e",
   "metadata": {},
   "outputs": [
    {
     "name": "stdout",
     "output_type": "stream",
     "text": [
      "50\n"
     ]
    }
   ],
   "source": [
    "def add(a,b):\n",
    "    print(a+b)\n",
    "# add(a=20,b=30)\n",
    "# add(a=20,30)\n",
    "# add(20,30)\n",
    "add(20,b=30)"
   ]
  },
  {
   "cell_type": "code",
   "execution_count": 34,
   "id": "a334c246",
   "metadata": {},
   "outputs": [
    {
     "ename": "TypeError",
     "evalue": "sorted expected 1 argument, got 0",
     "output_type": "error",
     "traceback": [
      "\u001b[1;31m---------------------------------------------------------------------------\u001b[0m",
      "\u001b[1;31mTypeError\u001b[0m                                 Traceback (most recent call last)",
      "\u001b[1;32m~\\AppData\\Local\\Temp\\ipykernel_76552\\2769653331.py\u001b[0m in \u001b[0;36m<module>\u001b[1;34m\u001b[0m\n\u001b[1;32m----> 1\u001b[1;33m \u001b[0msorted\u001b[0m\u001b[1;33m(\u001b[0m\u001b[0miterable\u001b[0m\u001b[1;33m=\u001b[0m\u001b[1;34m'python'\u001b[0m\u001b[1;33m)\u001b[0m\u001b[1;33m\u001b[0m\u001b[1;33m\u001b[0m\u001b[0m\n\u001b[0m",
      "\u001b[1;31mTypeError\u001b[0m: sorted expected 1 argument, got 0"
     ]
    }
   ],
   "source": [
    "sorted(iterable='python') #"
   ]
  },
  {
   "cell_type": "code",
   "execution_count": 35,
   "id": "c1c27007",
   "metadata": {},
   "outputs": [
    {
     "ename": "TypeError",
     "evalue": "sorted expected 1 argument, got 2",
     "output_type": "error",
     "traceback": [
      "\u001b[1;31m---------------------------------------------------------------------------\u001b[0m",
      "\u001b[1;31mTypeError\u001b[0m                                 Traceback (most recent call last)",
      "\u001b[1;32m~\\AppData\\Local\\Temp\\ipykernel_76552\\3008762673.py\u001b[0m in \u001b[0;36m<module>\u001b[1;34m\u001b[0m\n\u001b[1;32m----> 1\u001b[1;33m \u001b[0msorted\u001b[0m\u001b[1;33m(\u001b[0m\u001b[1;34m'python'\u001b[0m\u001b[1;33m,\u001b[0m\u001b[1;32mTrue\u001b[0m\u001b[1;33m)\u001b[0m\u001b[1;33m\u001b[0m\u001b[1;33m\u001b[0m\u001b[0m\n\u001b[0m",
      "\u001b[1;31mTypeError\u001b[0m: sorted expected 1 argument, got 2"
     ]
    }
   ],
   "source": [
    "sorted('python',True)"
   ]
  },
  {
   "cell_type": "code",
   "execution_count": 36,
   "id": "64814257",
   "metadata": {},
   "outputs": [
    {
     "ename": "TypeError",
     "evalue": "sorted expected 1 argument, got 0",
     "output_type": "error",
     "traceback": [
      "\u001b[1;31m---------------------------------------------------------------------------\u001b[0m",
      "\u001b[1;31mTypeError\u001b[0m                                 Traceback (most recent call last)",
      "\u001b[1;32m~\\AppData\\Local\\Temp\\ipykernel_76552\\413563844.py\u001b[0m in \u001b[0;36m<module>\u001b[1;34m\u001b[0m\n\u001b[0;32m      2\u001b[0m \u001b[1;31m# sorted(iter'python')\u001b[0m\u001b[1;33m\u001b[0m\u001b[1;33m\u001b[0m\u001b[0m\n\u001b[0;32m      3\u001b[0m \u001b[1;33m\u001b[0m\u001b[0m\n\u001b[1;32m----> 4\u001b[1;33m \u001b[0msorted\u001b[0m\u001b[1;33m(\u001b[0m\u001b[0miterable\u001b[0m\u001b[1;33m=\u001b[0m\u001b[1;34m'python'\u001b[0m\u001b[1;33m,\u001b[0m\u001b[0mreverse\u001b[0m\u001b[1;33m=\u001b[0m\u001b[1;32mTrue\u001b[0m\u001b[1;33m)\u001b[0m\u001b[1;33m\u001b[0m\u001b[1;33m\u001b[0m\u001b[0m\n\u001b[0m",
      "\u001b[1;31mTypeError\u001b[0m: sorted expected 1 argument, got 0"
     ]
    }
   ],
   "source": [
    "# sorted('python') # works\n",
    "# sorted('python',reverse=True)\n",
    "# sorted(iterable='python')\n",
    "sorted(iterable='python',reverse=True) #fail\n",
    "\n",
    "\n",
    "# Don't provide iterable \n",
    "#  definately provide reverse\n",
    "# "
   ]
  },
  {
   "cell_type": "markdown",
   "id": "aefd59a2",
   "metadata": {},
   "source": [
    "**Note**\n",
    "\n",
    "- '/' indicate positional argument details\n",
    "\n",
    "- before slash (left hand side) or don't give argumet name \n",
    "\n",
    "- after slash (right hand side) give the argument name "
   ]
  },
  {
   "cell_type": "code",
   "execution_count": 37,
   "id": "b7505a28",
   "metadata": {},
   "outputs": [],
   "source": [
    "def greet(name,/):\n",
    "    print(f'Hello {name} good evening')"
   ]
  },
  {
   "cell_type": "code",
   "execution_count": 38,
   "id": "c27bb0bc",
   "metadata": {},
   "outputs": [
    {
     "name": "stdout",
     "output_type": "stream",
     "text": [
      "Hello omkar sir good evening\n"
     ]
    }
   ],
   "source": [
    "greet('omkar sir')"
   ]
  },
  {
   "cell_type": "code",
   "execution_count": 39,
   "id": "d8041cc3",
   "metadata": {},
   "outputs": [
    {
     "ename": "TypeError",
     "evalue": "greet() got some positional-only arguments passed as keyword arguments: 'name'",
     "output_type": "error",
     "traceback": [
      "\u001b[1;31m---------------------------------------------------------------------------\u001b[0m",
      "\u001b[1;31mTypeError\u001b[0m                                 Traceback (most recent call last)",
      "\u001b[1;32m~\\AppData\\Local\\Temp\\ipykernel_76552\\3548582648.py\u001b[0m in \u001b[0;36m<module>\u001b[1;34m\u001b[0m\n\u001b[1;32m----> 1\u001b[1;33m \u001b[0mgreet\u001b[0m\u001b[1;33m(\u001b[0m\u001b[0mname\u001b[0m \u001b[1;33m=\u001b[0m \u001b[1;34m'omkar sir'\u001b[0m\u001b[1;33m)\u001b[0m\u001b[1;33m\u001b[0m\u001b[1;33m\u001b[0m\u001b[0m\n\u001b[0m",
      "\u001b[1;31mTypeError\u001b[0m: greet() got some positional-only arguments passed as keyword arguments: 'name'"
     ]
    }
   ],
   "source": [
    "greet(name = 'omkar sir')"
   ]
  },
  {
   "cell_type": "code",
   "execution_count": 40,
   "id": "011f8eed",
   "metadata": {},
   "outputs": [],
   "source": [
    "def greet1(name):\n",
    "    print(f'Hello {name} good evening')"
   ]
  },
  {
   "cell_type": "code",
   "execution_count": 41,
   "id": "11dbf54d",
   "metadata": {},
   "outputs": [
    {
     "name": "stdout",
     "output_type": "stream",
     "text": [
      "Hello omkar sir good evening\n"
     ]
    }
   ],
   "source": [
    "greet1('omkar sir')"
   ]
  },
  {
   "cell_type": "code",
   "execution_count": 42,
   "id": "7a9ab82d",
   "metadata": {},
   "outputs": [
    {
     "name": "stdout",
     "output_type": "stream",
     "text": [
      "Hello omkar sir good evening\n"
     ]
    }
   ],
   "source": [
    "greet1(name = 'omkar sir')"
   ]
  },
  {
   "cell_type": "code",
   "execution_count": 3,
   "id": "1a76cdba",
   "metadata": {},
   "outputs": [
    {
     "name": "stdout",
     "output_type": "stream",
     "text": [
      "50\n"
     ]
    }
   ],
   "source": [
    "def add1(a,/,b):\n",
    "    print(a+b)\n",
    "add1(20,30)"
   ]
  },
  {
   "cell_type": "code",
   "execution_count": 2,
   "id": "366774f0",
   "metadata": {},
   "outputs": [
    {
     "ename": "TypeError",
     "evalue": "add1() takes 1 positional argument but 2 were given",
     "output_type": "error",
     "traceback": [
      "\u001b[1;31m---------------------------------------------------------------------------\u001b[0m",
      "\u001b[1;31mTypeError\u001b[0m                                 Traceback (most recent call last)",
      "\u001b[1;32m~\\AppData\\Local\\Temp\\ipykernel_19972\\650331084.py\u001b[0m in \u001b[0;36m<module>\u001b[1;34m\u001b[0m\n\u001b[0;32m      1\u001b[0m \u001b[1;32mdef\u001b[0m \u001b[0madd1\u001b[0m\u001b[1;33m(\u001b[0m\u001b[0ma\u001b[0m\u001b[1;33m,\u001b[0m\u001b[1;33m/\u001b[0m\u001b[1;33m,\u001b[0m\u001b[1;33m*\u001b[0m\u001b[1;33m,\u001b[0m\u001b[0mb\u001b[0m\u001b[1;33m)\u001b[0m\u001b[1;33m:\u001b[0m\u001b[1;33m\u001b[0m\u001b[1;33m\u001b[0m\u001b[0m\n\u001b[0;32m      2\u001b[0m     \u001b[0mprint\u001b[0m\u001b[1;33m(\u001b[0m\u001b[0ma\u001b[0m\u001b[1;33m+\u001b[0m\u001b[0mb\u001b[0m\u001b[1;33m)\u001b[0m\u001b[1;33m\u001b[0m\u001b[1;33m\u001b[0m\u001b[0m\n\u001b[1;32m----> 3\u001b[1;33m \u001b[0madd1\u001b[0m\u001b[1;33m(\u001b[0m\u001b[1;36m20\u001b[0m\u001b[1;33m,\u001b[0m\u001b[1;36m30\u001b[0m\u001b[1;33m)\u001b[0m\u001b[1;33m\u001b[0m\u001b[1;33m\u001b[0m\u001b[0m\n\u001b[0m",
      "\u001b[1;31mTypeError\u001b[0m: add1() takes 1 positional argument but 2 were given"
     ]
    }
   ],
   "source": [
    "def add1(a,/,*,b):\n",
    "    print(a+b)\n",
    "add1(20,30)"
   ]
  },
  {
   "cell_type": "markdown",
   "id": "c8fd1b99",
   "metadata": {},
   "source": [
    "**reversed**"
   ]
  },
  {
   "cell_type": "code",
   "execution_count": 2,
   "id": "f908aaae",
   "metadata": {},
   "outputs": [],
   "source": [
    "name = 'python'"
   ]
  },
  {
   "cell_type": "code",
   "execution_count": 3,
   "id": "e54add25",
   "metadata": {},
   "outputs": [
    {
     "data": {
      "text/plain": [
       "<reversed at 0x1da3c505a60>"
      ]
     },
     "execution_count": 3,
     "metadata": {},
     "output_type": "execute_result"
    }
   ],
   "source": [
    "reversed(name)"
   ]
  },
  {
   "cell_type": "markdown",
   "id": "2a1d2a0d",
   "metadata": {},
   "source": [
    "**method-1**"
   ]
  },
  {
   "cell_type": "code",
   "execution_count": 6,
   "id": "25052da3",
   "metadata": {},
   "outputs": [
    {
     "name": "stdout",
     "output_type": "stream",
     "text": [
      "n o h t y p "
     ]
    }
   ],
   "source": [
    "for i in reversed(name):\n",
    "    print(i,end=\" \")\n",
    "\n",
    "# "
   ]
  },
  {
   "cell_type": "markdown",
   "id": "d79df259",
   "metadata": {},
   "source": [
    "**method-2**"
   ]
  },
  {
   "cell_type": "code",
   "execution_count": 10,
   "id": "edcd2e24",
   "metadata": {},
   "outputs": [
    {
     "data": {
      "text/plain": [
       "['n', 'o', 'h', 't', 'y', 'p']"
      ]
     },
     "execution_count": 10,
     "metadata": {},
     "output_type": "execute_result"
    }
   ],
   "source": [
    "str1 = reversed(name)\n",
    "list(str1)\n",
    "# str1"
   ]
  },
  {
   "cell_type": "markdown",
   "id": "d1463215",
   "metadata": {},
   "source": [
    "- output at address> ==== > life\n",
    "\n",
    "- output at adress type caste list\n",
    "\n",
    "- any function()\n",
    "    \n",
    "- any function inside brackets shift+tab docstring\n",
    "    \n",
    "- packages methods behaviour own function"
   ]
  },
  {
   "cell_type": "markdown",
   "id": "912f728d",
   "metadata": {},
   "source": [
    "**concatenation**"
   ]
  },
  {
   "cell_type": "code",
   "execution_count": 16,
   "id": "ac37e533",
   "metadata": {},
   "outputs": [
    {
     "data": {
      "text/plain": [
       "'helloevening'"
      ]
     },
     "execution_count": 16,
     "metadata": {},
     "output_type": "execute_result"
    }
   ],
   "source": [
    "str1 = 'hello'\n",
    "str2 = 'evening'\n",
    "str1+str2"
   ]
  },
  {
   "cell_type": "code",
   "execution_count": 17,
   "id": "980ddc30",
   "metadata": {},
   "outputs": [
    {
     "data": {
      "text/plain": [
       "'hello evening'"
      ]
     },
     "execution_count": 17,
     "metadata": {},
     "output_type": "execute_result"
    }
   ],
   "source": [
    "str1 = 'hello'\n",
    "str2 = ' evening'\n",
    "str1+str2"
   ]
  },
  {
   "cell_type": "code",
   "execution_count": 20,
   "id": "3f9be9b1",
   "metadata": {},
   "outputs": [
    {
     "data": {
      "text/plain": [
       "'hello evening'"
      ]
     },
     "execution_count": 20,
     "metadata": {},
     "output_type": "execute_result"
    }
   ],
   "source": [
    "str1 = 'hello'\n",
    "str2 = 'evening'\n",
    "str1+' '+str2"
   ]
  },
  {
   "cell_type": "code",
   "execution_count": 21,
   "id": "f1dcf504",
   "metadata": {},
   "outputs": [
    {
     "data": {
      "text/plain": [
       "'hello evening'"
      ]
     },
     "execution_count": 21,
     "metadata": {},
     "output_type": "execute_result"
    }
   ],
   "source": [
    "str1 = 'hello'\n",
    "str2 = 'evening'\n",
    "str3 =' '\n",
    "str1+str3+str2"
   ]
  },
  {
   "cell_type": "code",
   "execution_count": 13,
   "id": "afcb90e3",
   "metadata": {},
   "outputs": [
    {
     "ename": "TypeError",
     "evalue": "unsupported operand type(s) for -: 'str' and 'str'",
     "output_type": "error",
     "traceback": [
      "\u001b[1;31m---------------------------------------------------------------------------\u001b[0m",
      "\u001b[1;31mTypeError\u001b[0m                                 Traceback (most recent call last)",
      "\u001b[1;32m~\\AppData\\Local\\Temp\\ipykernel_115912\\533321809.py\u001b[0m in \u001b[0;36m<module>\u001b[1;34m\u001b[0m\n\u001b[1;32m----> 1\u001b[1;33m \u001b[0mstr1\u001b[0m\u001b[1;33m-\u001b[0m\u001b[0mstr2\u001b[0m\u001b[1;33m\u001b[0m\u001b[1;33m\u001b[0m\u001b[0m\n\u001b[0m",
      "\u001b[1;31mTypeError\u001b[0m: unsupported operand type(s) for -: 'str' and 'str'"
     ]
    }
   ],
   "source": [
    "str1-str2"
   ]
  },
  {
   "cell_type": "code",
   "execution_count": 14,
   "id": "76fa62fb",
   "metadata": {},
   "outputs": [
    {
     "ename": "TypeError",
     "evalue": "can't multiply sequence by non-int of type 'str'",
     "output_type": "error",
     "traceback": [
      "\u001b[1;31m---------------------------------------------------------------------------\u001b[0m",
      "\u001b[1;31mTypeError\u001b[0m                                 Traceback (most recent call last)",
      "\u001b[1;32m~\\AppData\\Local\\Temp\\ipykernel_115912\\4199405932.py\u001b[0m in \u001b[0;36m<module>\u001b[1;34m\u001b[0m\n\u001b[1;32m----> 1\u001b[1;33m \u001b[0mstr1\u001b[0m\u001b[1;33m*\u001b[0m\u001b[0mstr2\u001b[0m\u001b[1;33m\u001b[0m\u001b[1;33m\u001b[0m\u001b[0m\n\u001b[0m",
      "\u001b[1;31mTypeError\u001b[0m: can't multiply sequence by non-int of type 'str'"
     ]
    }
   ],
   "source": [
    "str1*str2"
   ]
  },
  {
   "cell_type": "code",
   "execution_count": 15,
   "id": "2a70a539",
   "metadata": {},
   "outputs": [
    {
     "ename": "TypeError",
     "evalue": "unsupported operand type(s) for /: 'str' and 'str'",
     "output_type": "error",
     "traceback": [
      "\u001b[1;31m---------------------------------------------------------------------------\u001b[0m",
      "\u001b[1;31mTypeError\u001b[0m                                 Traceback (most recent call last)",
      "\u001b[1;32m~\\AppData\\Local\\Temp\\ipykernel_115912\\3996127809.py\u001b[0m in \u001b[0;36m<module>\u001b[1;34m\u001b[0m\n\u001b[1;32m----> 1\u001b[1;33m \u001b[0mstr1\u001b[0m\u001b[1;33m/\u001b[0m\u001b[0mstr2\u001b[0m\u001b[1;33m\u001b[0m\u001b[1;33m\u001b[0m\u001b[0m\n\u001b[0m",
      "\u001b[1;31mTypeError\u001b[0m: unsupported operand type(s) for /: 'str' and 'str'"
     ]
    }
   ],
   "source": [
    "str1/str2"
   ]
  },
  {
   "cell_type": "markdown",
   "id": "a1843bb2",
   "metadata": {},
   "source": [
    "**index**\n",
    "\n",
    "- index is used to access the strings"
   ]
  },
  {
   "cell_type": "code",
   "execution_count": null,
   "id": "2347d469",
   "metadata": {},
   "outputs": [],
   "source": [
    "-6   -5    -4     -3     -2     -1\n",
    "p     y     t      h      o      n\n",
    "0     1     2      3      4      5"
   ]
  },
  {
   "cell_type": "code",
   "execution_count": 22,
   "id": "1a2cb649",
   "metadata": {},
   "outputs": [
    {
     "data": {
      "text/plain": [
       "('p', 'p')"
      ]
     },
     "execution_count": 22,
     "metadata": {},
     "output_type": "execute_result"
    }
   ],
   "source": [
    "name = 'python'\n",
    "name[0],name[-6]"
   ]
  },
  {
   "cell_type": "code",
   "execution_count": 23,
   "id": "aecadd38",
   "metadata": {},
   "outputs": [
    {
     "data": {
      "text/plain": [
       "('y', 'y')"
      ]
     },
     "execution_count": 23,
     "metadata": {},
     "output_type": "execute_result"
    }
   ],
   "source": [
    "name[1],name[-5]"
   ]
  },
  {
   "cell_type": "code",
   "execution_count": 24,
   "id": "5f4f0c74",
   "metadata": {},
   "outputs": [
    {
     "data": {
      "text/plain": [
       "('t', 't')"
      ]
     },
     "execution_count": 24,
     "metadata": {},
     "output_type": "execute_result"
    }
   ],
   "source": [
    "name[2],name[-4]"
   ]
  },
  {
   "cell_type": "code",
   "execution_count": 25,
   "id": "8a9c2814",
   "metadata": {},
   "outputs": [
    {
     "data": {
      "text/plain": [
       "('h', 'h')"
      ]
     },
     "execution_count": 25,
     "metadata": {},
     "output_type": "execute_result"
    }
   ],
   "source": [
    "name[3],name[-3]"
   ]
  },
  {
   "cell_type": "code",
   "execution_count": 26,
   "id": "59d6c1fd",
   "metadata": {},
   "outputs": [
    {
     "data": {
      "text/plain": [
       "('o', 'o')"
      ]
     },
     "execution_count": 26,
     "metadata": {},
     "output_type": "execute_result"
    }
   ],
   "source": [
    "name[4],name[-2]"
   ]
  },
  {
   "cell_type": "code",
   "execution_count": 27,
   "id": "7181a328",
   "metadata": {},
   "outputs": [
    {
     "data": {
      "text/plain": [
       "('n', 'n')"
      ]
     },
     "execution_count": 27,
     "metadata": {},
     "output_type": "execute_result"
    }
   ],
   "source": [
    "name[5],name[-1]"
   ]
  },
  {
   "cell_type": "code",
   "execution_count": 30,
   "id": "b522f6bb",
   "metadata": {},
   "outputs": [
    {
     "name": "stdout",
     "output_type": "stream",
     "text": [
      "0 p\n",
      "1 y\n",
      "2 t\n",
      "3 h\n",
      "4 o\n",
      "5 n\n"
     ]
    }
   ],
   "source": [
    "for i in range(6):\n",
    "    print(i,name[i])"
   ]
  },
  {
   "cell_type": "code",
   "execution_count": 34,
   "id": "186ec29b",
   "metadata": {},
   "outputs": [
    {
     "name": "stdout",
     "output_type": "stream",
     "text": [
      "0:h\n",
      "1:a\n",
      "2:i\n",
      "3: \n",
      "4:h\n",
      "5:o\n",
      "6:w\n",
      "7: \n",
      "8:a\n",
      "9:r\n",
      "10:e\n",
      "11: \n",
      "12:y\n",
      "13:o\n",
      "14:u\n"
     ]
    }
   ],
   "source": [
    "name = 'hai how are you'\n",
    "n = len(name)\n",
    "for i in range(n):\n",
    "    print(f'{i}:{name[i]}')"
   ]
  },
  {
   "cell_type": "code",
   "execution_count": 35,
   "id": "ab5ee15c",
   "metadata": {},
   "outputs": [
    {
     "name": "stdout",
     "output_type": "stream",
     "text": [
      "The positive index of p is: 0\n",
      "The positive index of y is: 1\n",
      "The positive index of t is: 2\n",
      "The positive index of h is: 3\n",
      "The positive index of o is: 4\n",
      "The positive index of n is: 5\n"
     ]
    }
   ],
   "source": [
    "# -6   -5    -4     -3     -2     -1\n",
    "#  p    y     t      h      o      n\n",
    "#  0    1     2      3      4      5\n",
    "\n",
    "name = 'python'\n",
    "for i in range(len(name)):\n",
    "    print(f'The positive index of {name[i]} is: {i}')"
   ]
  },
  {
   "cell_type": "code",
   "execution_count": 48,
   "id": "725376a5",
   "metadata": {},
   "outputs": [
    {
     "name": "stdout",
     "output_type": "stream",
     "text": [
      "The postive index is 0 and the negative index is -6 for p\n",
      "The postive index is 1 and the negative index is -5 for y\n",
      "The postive index is 2 and the negative index is -4 for t\n",
      "The postive index is 3 and the negative index is -3 for h\n",
      "The postive index is 4 and the negative index is -2 for o\n",
      "The postive index is 5 and the negative index is -1 for n\n"
     ]
    }
   ],
   "source": [
    "name = 'python'\n",
    "# print(list(name))\n",
    "for i in range(len(name)):\n",
    "    print(f'The postive index is {i} and the negative index is {i-6} for {name[i]}')"
   ]
  },
  {
   "cell_type": "code",
   "execution_count": 67,
   "id": "d2e4055a",
   "metadata": {},
   "outputs": [
    {
     "name": "stdout",
     "output_type": "stream",
     "text": [
      "11\n"
     ]
    }
   ],
   "source": [
    "# \n",
    "str1 = 'ola ola ola'\n",
    "count=0\n",
    "for i in range(len(str1)):\n",
    "#     print(str1[i],end =\" \")\n",
    "    if 'a' in str1:\n",
    "        count= count+1\n",
    "print(count)\n",
    "        "
   ]
  },
  {
   "cell_type": "code",
   "execution_count": 66,
   "id": "64ed4bde",
   "metadata": {},
   "outputs": [
    {
     "name": "stdout",
     "output_type": "stream",
     "text": [
      "3\n"
     ]
    }
   ],
   "source": [
    "# \n",
    "str1 = 'ola ola ola'\n",
    "count=0\n",
    "for i in (str1):\n",
    "#     print(str1[i],end =\" \")\n",
    "    if i=='a':\n",
    "        count= count+1\n",
    "print(count)\n",
    "        "
   ]
  },
  {
   "cell_type": "code",
   "execution_count": 76,
   "id": "914b9cb7",
   "metadata": {},
   "outputs": [
    {
     "name": "stdout",
     "output_type": "stream",
     "text": [
      "18\n"
     ]
    }
   ],
   "source": [
    "str1 = 'ola ola ola'\n",
    "summ=0\n",
    "for i in range(len(str1)):\n",
    "#     print(i,str1[i])\n",
    "    if str1[i]=='a':\n",
    "        summ = summ+i\n",
    "print(summ)"
   ]
  },
  {
   "cell_type": "code",
   "execution_count": 81,
   "id": "bc526641",
   "metadata": {},
   "outputs": [
    {
     "name": "stdout",
     "output_type": "stream",
     "text": [
      "7\n"
     ]
    }
   ],
   "source": [
    "str1 = 'hai how are you'\n",
    "vowels = 'aeiou'\n",
    "countt=0\n",
    "for i in (str1):\n",
    "#     print(str1[i],end =\" \")\n",
    "    if i in vowels:\n",
    "        countt= countt+1\n",
    "print(countt)"
   ]
  },
  {
   "cell_type": "code",
   "execution_count": 3,
   "id": "4f347379",
   "metadata": {},
   "outputs": [
    {
     "name": "stdout",
     "output_type": "stream",
     "text": [
      "11\n"
     ]
    }
   ],
   "source": [
    "str2 = 'ola ola ola'\n",
    "count = 0\n",
    "for i in range(len(str2)):\n",
    "    if 'a' in str2 :\n",
    "        count+=1\n",
    "print(count)"
   ]
  },
  {
   "cell_type": "markdown",
   "id": "e9d2b2ad",
   "metadata": {},
   "source": [
    "**mutable-immutable**\n",
    "- mutable change the character using indexing\n",
    "\n",
    "- immutable means not able to change the character using indexing"
   ]
  },
  {
   "cell_type": "code",
   "execution_count": null,
   "id": "c45bf4aa",
   "metadata": {},
   "outputs": [],
   "source": [
    "'welcome' ==== > 'weLcome'"
   ]
  },
  {
   "cell_type": "code",
   "execution_count": 2,
   "id": "5535121f",
   "metadata": {},
   "outputs": [
    {
     "ename": "TypeError",
     "evalue": "'str' object does not support item assignment",
     "output_type": "error",
     "traceback": [
      "\u001b[1;31m---------------------------------------------------------------------------\u001b[0m",
      "\u001b[1;31mTypeError\u001b[0m                                 Traceback (most recent call last)",
      "\u001b[1;32m~\\AppData\\Local\\Temp\\ipykernel_46228\\2284153791.py\u001b[0m in \u001b[0;36m<module>\u001b[1;34m\u001b[0m\n\u001b[0;32m      1\u001b[0m \u001b[0ms\u001b[0m \u001b[1;33m=\u001b[0m \u001b[1;34m'welcome'\u001b[0m\u001b[1;33m\u001b[0m\u001b[1;33m\u001b[0m\u001b[0m\n\u001b[1;32m----> 2\u001b[1;33m \u001b[0ms\u001b[0m\u001b[1;33m[\u001b[0m\u001b[1;36m2\u001b[0m\u001b[1;33m]\u001b[0m \u001b[1;33m=\u001b[0m \u001b[1;34m'L'\u001b[0m\u001b[1;33m\u001b[0m\u001b[1;33m\u001b[0m\u001b[0m\n\u001b[0m",
      "\u001b[1;31mTypeError\u001b[0m: 'str' object does not support item assignment"
     ]
    }
   ],
   "source": [
    "s = 'welcome'\n",
    "s[2] = 'L'"
   ]
  },
  {
   "cell_type": "markdown",
   "id": "5e1f78a0",
   "metadata": {},
   "source": [
    "**Note: strings are immutable in nature**"
   ]
  },
  {
   "cell_type": "code",
   "execution_count": 4,
   "id": "0e46c99e",
   "metadata": {},
   "outputs": [
    {
     "data": {
      "text/plain": [
       "[10, 20, 300, 40]"
      ]
     },
     "execution_count": 4,
     "metadata": {},
     "output_type": "execute_result"
    }
   ],
   "source": [
    "list1 = [10,20,30,40]\n",
    "list1[2]=300\n",
    "list1"
   ]
  },
  {
   "cell_type": "markdown",
   "id": "234c0548",
   "metadata": {},
   "source": [
    "**slice**\n",
    "\n",
    "- split the string\n",
    "\n",
    "- it is similar analogy with range in for loop"
   ]
  },
  {
   "cell_type": "code",
   "execution_count": 6,
   "id": "6fceb27d",
   "metadata": {},
   "outputs": [],
   "source": [
    "-15  -14   -13   -12  -11   -10   -9   -8   -7   -6   -5   -4   -3   -2   -1\n",
    "h      a    i          h     o     w         a    r    e         y    o    u\n",
    "0      1    2     3    4     5     6   7    8    9    10   11   12   13   14"
   ]
  },
  {
   "cell_type": "code",
   "execution_count": 7,
   "id": "cf4d73cf",
   "metadata": {},
   "outputs": [
    {
     "data": {
      "text/plain": [
       "'hai how are you'"
      ]
     },
     "execution_count": 7,
     "metadata": {},
     "output_type": "execute_result"
    }
   ],
   "source": [
    "str1 = 'hai how are you'\n",
    "str1"
   ]
  },
  {
   "cell_type": "code",
   "execution_count": 8,
   "id": "5b815257",
   "metadata": {},
   "outputs": [
    {
     "data": {
      "text/plain": [
       "15"
      ]
     },
     "execution_count": 8,
     "metadata": {},
     "output_type": "execute_result"
    }
   ],
   "source": [
    "len(str1)"
   ]
  },
  {
   "cell_type": "markdown",
   "id": "8958493f",
   "metadata": {},
   "source": [
    "$case-1$"
   ]
  },
  {
   "cell_type": "code",
   "execution_count": 9,
   "id": "35492a71",
   "metadata": {},
   "outputs": [],
   "source": [
    "# always remember acess = []  str[start:stop:step]\n",
    "#                 function = () range(start,stop,step)"
   ]
  },
  {
   "cell_type": "markdown",
   "id": "2a602080",
   "metadata": {},
   "source": [
    "$case-1$\n",
    "\n",
    "\n",
    "- str1[:stop]\n",
    "\n",
    "\n",
    "- by default start with zero\n",
    "\n",
    "\n",
    "- step not mentioned by default positive direction with increment by 1\n",
    "\n",
    "\n",
    "- last = stop-1"
   ]
  },
  {
   "cell_type": "code",
   "execution_count": 13,
   "id": "e643dbf2",
   "metadata": {},
   "outputs": [
    {
     "data": {
      "text/plain": [
       "'hai how ar'"
      ]
     },
     "execution_count": 13,
     "metadata": {},
     "output_type": "execute_result"
    }
   ],
   "source": [
    "# -15  -14   -13   -12  -11   -10   -9   -8   -7   -6   -5   -4   -3   -2   -1\n",
    "# h      a    i          h     o     w         a    r    e         y    o    u\n",
    "# 0      1    2     3    4     5     6   7    8    9    10   11   12   13   14\n",
    "\n",
    "str1 = 'hai how are you'\n",
    "str1[:10]"
   ]
  },
  {
   "cell_type": "markdown",
   "id": "73e8eea2",
   "metadata": {},
   "source": [
    "$case-2$\n",
    "\n",
    "\n",
    "- str1[start:]\n",
    "\n",
    "\n",
    "- start means start\n",
    "\n",
    "\n",
    "- stop not provide means up to end"
   ]
  },
  {
   "cell_type": "code",
   "execution_count": 14,
   "id": "9b026259",
   "metadata": {},
   "outputs": [
    {
     "data": {
      "text/plain": [
       "'e you'"
      ]
     },
     "execution_count": 14,
     "metadata": {},
     "output_type": "execute_result"
    }
   ],
   "source": [
    "# -15  -14   -13   -12  -11   -10   -9   -8   -7   -6   -5   -4   -3   -2   -1\n",
    "# h      a    i          h     o     w         a    r    e         y    o    u\n",
    "# 0      1    2     3    4     5     6   7    8    9    10   11   12   13   14\n",
    "\n",
    "str1 = 'hai how are you'\n",
    "str1[10:]"
   ]
  },
  {
   "cell_type": "markdown",
   "id": "e5e41a0e",
   "metadata": {},
   "source": [
    "$case-3$\n",
    "\n",
    "\n",
    "- str1[start:stop]\n",
    "\n",
    "\n",
    "- start means start\n",
    "\n",
    "\n",
    "- step not given by default pos direction increment by one\n",
    "\n",
    "\n",
    "- last = stop - 1"
   ]
  },
  {
   "cell_type": "code",
   "execution_count": 15,
   "id": "148edec9",
   "metadata": {},
   "outputs": [
    {
     "data": {
      "text/plain": [
       "'how are'"
      ]
     },
     "execution_count": 15,
     "metadata": {},
     "output_type": "execute_result"
    }
   ],
   "source": [
    "# -15  -14   -13   -12  -11   -10   -9   -8   -7   -6   -5   -4   -3   -2   -1\n",
    "# h      a    i          h     o     w         a    r    e         y    o    u\n",
    "# 0      1    2     3    4     5     6   7    8    9    10   11   12   13   14\n",
    "\n",
    "str1 = 'hai how are you'\n",
    "str1[4:11]"
   ]
  },
  {
   "cell_type": "code",
   "execution_count": 16,
   "id": "ffccd6b4",
   "metadata": {},
   "outputs": [
    {
     "data": {
      "text/plain": [
       "'how are you'"
      ]
     },
     "execution_count": 16,
     "metadata": {},
     "output_type": "execute_result"
    }
   ],
   "source": [
    "# special case -1\n",
    "str1[4:20]"
   ]
  },
  {
   "cell_type": "code",
   "execution_count": 17,
   "id": "c88a448d",
   "metadata": {},
   "outputs": [
    {
     "data": {
      "text/plain": [
       "'hai how are you'"
      ]
     },
     "execution_count": 17,
     "metadata": {},
     "output_type": "execute_result"
    }
   ],
   "source": [
    "# special case - 2\n",
    "str1[:]"
   ]
  },
  {
   "cell_type": "markdown",
   "id": "16046543",
   "metadata": {},
   "source": [
    "$case-4$\n",
    "\n",
    "\n",
    "- str1[start:stop:step]\n",
    "\n",
    "\n",
    "- start means start\n",
    "\n",
    "\n",
    "- when step positive direction\n",
    "\n",
    "    - last = stop-1\n",
    "    \n",
    "    \n",
    "- when step negative direction\n",
    "\n",
    "    - lat = stop+1"
   ]
  },
  {
   "cell_type": "code",
   "execution_count": 18,
   "id": "7576abf2",
   "metadata": {},
   "outputs": [
    {
     "data": {
      "text/plain": [
       "'ihwae'"
      ]
     },
     "execution_count": 18,
     "metadata": {},
     "output_type": "execute_result"
    }
   ],
   "source": [
    "# -15  -14   -13   -12  -11   -10   -9   -8   -7   -6   -5   -4   -3   -2   -1\n",
    "# h      a    i          h     o     w         a    r    e         y    o    u\n",
    "# 0      1    2     3    4     5     6   7    8    9    10   11   12   13   14\n",
    "\n",
    "str1 = 'hai how are you'\n",
    "str1[2:12:2]\n",
    "\n",
    "# step = 2 ==== postive last = 12-1 =11"
   ]
  },
  {
   "cell_type": "code",
   "execution_count": 19,
   "id": "00184349",
   "metadata": {},
   "outputs": [
    {
     "data": {
      "text/plain": [
       "''"
      ]
     },
     "execution_count": 19,
     "metadata": {},
     "output_type": "execute_result"
    }
   ],
   "source": [
    "# -15  -14   -13   -12  -11   -10   -9   -8   -7   -6   -5   -4   -3   -2   -1\n",
    "# h      a    i          h     o     w         a    r    e         y    o    u\n",
    "# 0      1    2     3    4     5     6   7    8    9    10   11   12   13   14\n",
    "\n",
    "str1 = 'hai how are you'\n",
    "str1[2:12:-2]\n",
    "\n",
    "# step = -2 ==== negative last = 12+1 =13"
   ]
  },
  {
   "cell_type": "code",
   "execution_count": 20,
   "id": "7a14d0c0",
   "metadata": {},
   "outputs": [
    {
     "data": {
      "text/plain": [
       "'yeawh'"
      ]
     },
     "execution_count": 20,
     "metadata": {},
     "output_type": "execute_result"
    }
   ],
   "source": [
    "# -15  -14   -13   -12  -11   -10   -9   -8   -7   -6   -5   -4   -3   -2   -1\n",
    "# h      a    i          h     o     w         a    r    e         y    o    u\n",
    "# 0      1    2     3    4     5     6   7    8    9    10   11   12   13   14\n",
    "\n",
    "str1 = 'hai how are you'\n",
    "str1[12:-12:-2]\n",
    "\n",
    "# start =12 step = 2 ====> negative last = -12+1 =-11"
   ]
  },
  {
   "cell_type": "code",
   "execution_count": 21,
   "id": "34bbdc06",
   "metadata": {},
   "outputs": [
    {
     "data": {
      "text/plain": [
       "''"
      ]
     },
     "execution_count": 21,
     "metadata": {},
     "output_type": "execute_result"
    }
   ],
   "source": [
    "# -15  -14   -13   -12  -11   -10   -9   -8   -7   -6   -5   -4   -3   -2   -1\n",
    "# h      a    i          h     o     w         a    r    e         y    o    u\n",
    "# 0      1    2     3    4     5     6   7    8    9    10   11   12   13   14\n",
    "\n",
    "str1 = 'hai how are you'\n",
    "str1[-12:12:-2]"
   ]
  },
  {
   "cell_type": "code",
   "execution_count": 22,
   "id": "20ee1691",
   "metadata": {},
   "outputs": [
    {
     "data": {
      "text/plain": [
       "' o r '"
      ]
     },
     "execution_count": 22,
     "metadata": {},
     "output_type": "execute_result"
    }
   ],
   "source": [
    "# -15  -14   -13   -12  -11   -10   -9   -8   -7   -6   -5   -4   -3   -2   -1\n",
    "# h      a    i          h     o     w         a    r    e         y    o    u\n",
    "# 0      1    2     3    4     5     6   7    8    9    10   11   12   13   14\n",
    "\n",
    "str1 = 'hai how are you'\n",
    "str1[-12:12:2]"
   ]
  },
  {
   "cell_type": "code",
   "execution_count": 24,
   "id": "fb081b00",
   "metadata": {},
   "outputs": [
    {
     "data": {
      "text/plain": [
       "'uoy era woh iah'"
      ]
     },
     "execution_count": 24,
     "metadata": {},
     "output_type": "execute_result"
    }
   ],
   "source": [
    "# str1[3:14:3] # w\n",
    "# str1[3:14:-3] # f \n",
    "# str1[3:-14:3]\n",
    "# str1[-3:14:3]\n",
    "# str1[3:-14:-3]\n",
    "# str1[-3:14:-3]\n",
    "# str1[-3:-14:3]\n",
    "# str1[14:3:3]\n",
    "# str1[14:3:-3]\n",
    "# str1[14:-3:3]\n",
    "str1[::-1]"
   ]
  },
  {
   "cell_type": "markdown",
   "id": "506bbbfc",
   "metadata": {},
   "source": [
    "- representations\n",
    "\n",
    "\n",
    "- type\n",
    "\n",
    "\n",
    "- inbuilt functions\n",
    "     - len(), max(), sum(), reversed(), sorted()\n",
    "     \n",
    "     \n",
    "- concate\n",
    "\n",
    "\n",
    "- index for range and in\n",
    "\n",
    "\n",
    "- mutable vs immutable\n",
    "\n",
    "\n",
    "- slice\n",
    "\n",
    "**task- for range**"
   ]
  },
  {
   "cell_type": "markdown",
   "id": "31c87e8b",
   "metadata": {},
   "source": [
    "**Methods**"
   ]
  },
  {
   "cell_type": "code",
   "execution_count": 25,
   "id": "a755c117",
   "metadata": {},
   "outputs": [
    {
     "data": {
      "text/plain": [
       "['__add__',\n",
       " '__class__',\n",
       " '__contains__',\n",
       " '__delattr__',\n",
       " '__dir__',\n",
       " '__doc__',\n",
       " '__eq__',\n",
       " '__format__',\n",
       " '__ge__',\n",
       " '__getattribute__',\n",
       " '__getitem__',\n",
       " '__getnewargs__',\n",
       " '__gt__',\n",
       " '__hash__',\n",
       " '__init__',\n",
       " '__init_subclass__',\n",
       " '__iter__',\n",
       " '__le__',\n",
       " '__len__',\n",
       " '__lt__',\n",
       " '__mod__',\n",
       " '__mul__',\n",
       " '__ne__',\n",
       " '__new__',\n",
       " '__reduce__',\n",
       " '__reduce_ex__',\n",
       " '__repr__',\n",
       " '__rmod__',\n",
       " '__rmul__',\n",
       " '__setattr__',\n",
       " '__sizeof__',\n",
       " '__str__',\n",
       " '__subclasshook__',\n",
       " 'capitalize',\n",
       " 'casefold',\n",
       " 'center',\n",
       " 'count',\n",
       " 'encode',\n",
       " 'endswith',\n",
       " 'expandtabs',\n",
       " 'find',\n",
       " 'format',\n",
       " 'format_map',\n",
       " 'index',\n",
       " 'isalnum',\n",
       " 'isalpha',\n",
       " 'isascii',\n",
       " 'isdecimal',\n",
       " 'isdigit',\n",
       " 'isidentifier',\n",
       " 'islower',\n",
       " 'isnumeric',\n",
       " 'isprintable',\n",
       " 'isspace',\n",
       " 'istitle',\n",
       " 'isupper',\n",
       " 'join',\n",
       " 'ljust',\n",
       " 'lower',\n",
       " 'lstrip',\n",
       " 'maketrans',\n",
       " 'partition',\n",
       " 'removeprefix',\n",
       " 'removesuffix',\n",
       " 'replace',\n",
       " 'rfind',\n",
       " 'rindex',\n",
       " 'rjust',\n",
       " 'rpartition',\n",
       " 'rsplit',\n",
       " 'rstrip',\n",
       " 'split',\n",
       " 'splitlines',\n",
       " 'startswith',\n",
       " 'strip',\n",
       " 'swapcase',\n",
       " 'title',\n",
       " 'translate',\n",
       " 'upper',\n",
       " 'zfill']"
      ]
     },
     "execution_count": 25,
     "metadata": {},
     "output_type": "execute_result"
    }
   ],
   "source": [
    "str1 = 'python'\n",
    "dir(str1)"
   ]
  },
  {
   "cell_type": "markdown",
   "id": "b1cee33a",
   "metadata": {},
   "source": [
    "**methods vs inbuilt functions**\n",
    "\n"
   ]
  },
  {
   "cell_type": "code",
   "execution_count": 33,
   "id": "9e038aea",
   "metadata": {},
   "outputs": [],
   "source": [
    "str1 = 'hai how are you'\n",
    "len(str1)\n",
    "min(str1)\n",
    "max(str1)\n",
    "############# FAIL Representation ##############\n",
    "upper(str1) #Fail\n",
    "############## correct Representation ##########\n",
    "str1.upper()"
   ]
  },
  {
   "cell_type": "markdown",
   "id": "c47ce855",
   "metadata": {},
   "source": [
    "**upper**"
   ]
  },
  {
   "cell_type": "code",
   "execution_count": 34,
   "id": "9bf44b70",
   "metadata": {},
   "outputs": [
    {
     "data": {
      "text/plain": [
       "'HAI HOW ARE YOU'"
      ]
     },
     "execution_count": 34,
     "metadata": {},
     "output_type": "execute_result"
    }
   ],
   "source": [
    "str1 = 'hai how are you'\n",
    "str1.upper()"
   ]
  },
  {
   "cell_type": "code",
   "execution_count": 35,
   "id": "f52edd8b",
   "metadata": {},
   "outputs": [
    {
     "data": {
      "text/plain": [
       "'hai how are you'"
      ]
     },
     "execution_count": 35,
     "metadata": {},
     "output_type": "execute_result"
    }
   ],
   "source": [
    "str1 = 'hai how are you'\n",
    "str1.lower()"
   ]
  },
  {
   "cell_type": "code",
   "execution_count": 36,
   "id": "bc184f0b",
   "metadata": {},
   "outputs": [
    {
     "data": {
      "text/plain": [
       "'Hai how are you'"
      ]
     },
     "execution_count": 36,
     "metadata": {},
     "output_type": "execute_result"
    }
   ],
   "source": [
    "str1 = 'hai how are you'\n",
    "str1.capitalize()"
   ]
  },
  {
   "cell_type": "code",
   "execution_count": 54,
   "id": "70cf2743",
   "metadata": {},
   "outputs": [
    {
     "data": {
      "text/plain": [
       "'**hai how are you***'"
      ]
     },
     "execution_count": 54,
     "metadata": {},
     "output_type": "execute_result"
    }
   ],
   "source": [
    "str1 = 'hai how are you'\n",
    "str1.center(20,'*')"
   ]
  },
  {
   "cell_type": "code",
   "execution_count": 58,
   "id": "daba80bd",
   "metadata": {},
   "outputs": [
    {
     "data": {
      "text/plain": [
       "3"
      ]
     },
     "execution_count": 58,
     "metadata": {},
     "output_type": "execute_result"
    }
   ],
   "source": [
    "str1 = 'ola ola ola'\n",
    "count = 0\n",
    "for i in str1:\n",
    "    if i == 'a':\n",
    "        count = count+1\n",
    "count\n",
    "# str1.count('a')"
   ]
  },
  {
   "cell_type": "code",
   "execution_count": 1,
   "id": "803d2089",
   "metadata": {},
   "outputs": [
    {
     "data": {
      "text/plain": [
       "3"
      ]
     },
     "execution_count": 1,
     "metadata": {},
     "output_type": "execute_result"
    }
   ],
   "source": [
    "str1 = 'ola ola ola'\n",
    "str1.count('ola')"
   ]
  },
  {
   "cell_type": "code",
   "execution_count": 61,
   "id": "07ba23df",
   "metadata": {},
   "outputs": [
    {
     "data": {
      "text/plain": [
       "1"
      ]
     },
     "execution_count": 61,
     "metadata": {},
     "output_type": "execute_result"
    }
   ],
   "source": [
    "# -11  -10   -9   -8   -7   -6   -5   -4   -3   -2    -1\n",
    "# o     l     a         o    l    a         o    l     a\n",
    "# 0     1     2    3    4    5    6    7    8    9    10\n",
    "\n",
    "str1.count('a',3,10)\n",
    "# start = start\n",
    "# last = stop-1"
   ]
  },
  {
   "cell_type": "code",
   "execution_count": 62,
   "id": "0f449b85",
   "metadata": {},
   "outputs": [
    {
     "data": {
      "text/plain": [
       "0"
      ]
     },
     "execution_count": 62,
     "metadata": {},
     "output_type": "execute_result"
    }
   ],
   "source": [
    "str1.count('a',-1,-9) # There is no negative dire"
   ]
  },
  {
   "cell_type": "code",
   "execution_count": 63,
   "id": "c5dd03ac",
   "metadata": {},
   "outputs": [
    {
     "data": {
      "text/plain": [
       "2"
      ]
     },
     "execution_count": 63,
     "metadata": {},
     "output_type": "execute_result"
    }
   ],
   "source": [
    "str1.count('a',-9,-1) # There is no negative dire"
   ]
  },
  {
   "cell_type": "code",
   "execution_count": 2,
   "id": "b3bb8342",
   "metadata": {},
   "outputs": [
    {
     "data": {
      "text/plain": [
       "False"
      ]
     },
     "execution_count": 2,
     "metadata": {},
     "output_type": "execute_result"
    }
   ],
   "source": [
    "str1 = 'nareshIt'\n",
    "str1.isupper()"
   ]
  },
  {
   "cell_type": "code",
   "execution_count": 3,
   "id": "db2d604a",
   "metadata": {},
   "outputs": [
    {
     "data": {
      "text/plain": [
       "False"
      ]
     },
     "execution_count": 3,
     "metadata": {},
     "output_type": "execute_result"
    }
   ],
   "source": [
    "str1 = 'nareshIt'\n",
    "str1.islower()"
   ]
  },
  {
   "cell_type": "code",
   "execution_count": 6,
   "id": "ff9b47ef",
   "metadata": {},
   "outputs": [
    {
     "data": {
      "text/plain": [
       "['__add__',\n",
       " '__class__',\n",
       " '__contains__',\n",
       " '__delattr__',\n",
       " '__dir__',\n",
       " '__doc__',\n",
       " '__eq__',\n",
       " '__format__',\n",
       " '__ge__',\n",
       " '__getattribute__',\n",
       " '__getitem__',\n",
       " '__getnewargs__',\n",
       " '__gt__',\n",
       " '__hash__',\n",
       " '__init__',\n",
       " '__init_subclass__',\n",
       " '__iter__',\n",
       " '__le__',\n",
       " '__len__',\n",
       " '__lt__',\n",
       " '__mod__',\n",
       " '__mul__',\n",
       " '__ne__',\n",
       " '__new__',\n",
       " '__reduce__',\n",
       " '__reduce_ex__',\n",
       " '__repr__',\n",
       " '__rmod__',\n",
       " '__rmul__',\n",
       " '__setattr__',\n",
       " '__sizeof__',\n",
       " '__str__',\n",
       " '__subclasshook__',\n",
       " 'capitalize',\n",
       " 'casefold',\n",
       " 'center',\n",
       " 'count',\n",
       " 'encode',\n",
       " 'endswith',\n",
       " 'expandtabs',\n",
       " 'find',\n",
       " 'format',\n",
       " 'format_map',\n",
       " 'index',\n",
       " 'isalnum',\n",
       " 'isalpha',\n",
       " 'isascii',\n",
       " 'isdecimal',\n",
       " 'isdigit',\n",
       " 'isidentifier',\n",
       " 'islower',\n",
       " 'isnumeric',\n",
       " 'isprintable',\n",
       " 'isspace',\n",
       " 'istitle',\n",
       " 'isupper',\n",
       " 'join',\n",
       " 'ljust',\n",
       " 'lower',\n",
       " 'lstrip',\n",
       " 'maketrans',\n",
       " 'partition',\n",
       " 'removeprefix',\n",
       " 'removesuffix',\n",
       " 'replace',\n",
       " 'rfind',\n",
       " 'rindex',\n",
       " 'rjust',\n",
       " 'rpartition',\n",
       " 'rsplit',\n",
       " 'rstrip',\n",
       " 'split',\n",
       " 'splitlines',\n",
       " 'startswith',\n",
       " 'strip',\n",
       " 'swapcase',\n",
       " 'title',\n",
       " 'translate',\n",
       " 'upper',\n",
       " 'zfill']"
      ]
     },
     "execution_count": 6,
     "metadata": {},
     "output_type": "execute_result"
    }
   ],
   "source": [
    "dir(str1)"
   ]
  },
  {
   "cell_type": "code",
   "execution_count": 9,
   "id": "e8621402",
   "metadata": {},
   "outputs": [
    {
     "data": {
      "text/plain": [
       "True"
      ]
     },
     "execution_count": 9,
     "metadata": {},
     "output_type": "execute_result"
    }
   ],
   "source": [
    "str2 = 'NareshIt2'\n",
    "str2.isalnum()"
   ]
  },
  {
   "cell_type": "code",
   "execution_count": 11,
   "id": "add41af5",
   "metadata": {},
   "outputs": [
    {
     "data": {
      "text/plain": [
       "True"
      ]
     },
     "execution_count": 11,
     "metadata": {},
     "output_type": "execute_result"
    }
   ],
   "source": [
    "str1.isalpha()"
   ]
  },
  {
   "cell_type": "code",
   "execution_count": 12,
   "id": "36c098d4",
   "metadata": {},
   "outputs": [
    {
     "data": {
      "text/plain": [
       "True"
      ]
     },
     "execution_count": 12,
     "metadata": {},
     "output_type": "execute_result"
    }
   ],
   "source": [
    "str1.isascii()"
   ]
  },
  {
   "cell_type": "code",
   "execution_count": 14,
   "id": "46c21185",
   "metadata": {},
   "outputs": [
    {
     "data": {
      "text/plain": [
       "True"
      ]
     },
     "execution_count": 14,
     "metadata": {},
     "output_type": "execute_result"
    }
   ],
   "source": [
    "str2.isascii()"
   ]
  },
  {
   "cell_type": "code",
   "execution_count": 15,
   "id": "7a80b95d",
   "metadata": {},
   "outputs": [
    {
     "data": {
      "text/plain": [
       "True"
      ]
     },
     "execution_count": 15,
     "metadata": {},
     "output_type": "execute_result"
    }
   ],
   "source": [
    "str3 = 'NareshIt2@-'\n",
    "str3.isascii()"
   ]
  },
  {
   "cell_type": "code",
   "execution_count": 16,
   "id": "a2b5bbd1",
   "metadata": {},
   "outputs": [
    {
     "data": {
      "text/plain": [
       "False"
      ]
     },
     "execution_count": 16,
     "metadata": {},
     "output_type": "execute_result"
    }
   ],
   "source": [
    "str1.isdecimal()"
   ]
  },
  {
   "cell_type": "code",
   "execution_count": 17,
   "id": "2d2fa5ea",
   "metadata": {},
   "outputs": [
    {
     "data": {
      "text/plain": [
       "False"
      ]
     },
     "execution_count": 17,
     "metadata": {},
     "output_type": "execute_result"
    }
   ],
   "source": [
    "str2.isdecimal()"
   ]
  },
  {
   "cell_type": "code",
   "execution_count": 18,
   "id": "a8e8fa43",
   "metadata": {},
   "outputs": [
    {
     "data": {
      "text/plain": [
       "False"
      ]
     },
     "execution_count": 18,
     "metadata": {},
     "output_type": "execute_result"
    }
   ],
   "source": [
    "str3.isdecimal()"
   ]
  },
  {
   "cell_type": "code",
   "execution_count": 21,
   "id": "fc8cb4ab",
   "metadata": {},
   "outputs": [
    {
     "data": {
      "text/plain": [
       "True"
      ]
     },
     "execution_count": 21,
     "metadata": {},
     "output_type": "execute_result"
    }
   ],
   "source": [
    "str4 = '9810'\n",
    "str4.isdecimal()"
   ]
  },
  {
   "cell_type": "code",
   "execution_count": 22,
   "id": "948849d5",
   "metadata": {},
   "outputs": [
    {
     "data": {
      "text/plain": [
       "False"
      ]
     },
     "execution_count": 22,
     "metadata": {},
     "output_type": "execute_result"
    }
   ],
   "source": [
    "str1.isdigit()"
   ]
  },
  {
   "cell_type": "code",
   "execution_count": 23,
   "id": "1f6da8f6",
   "metadata": {},
   "outputs": [
    {
     "data": {
      "text/plain": [
       "False"
      ]
     },
     "execution_count": 23,
     "metadata": {},
     "output_type": "execute_result"
    }
   ],
   "source": [
    "str2.isdigit()"
   ]
  },
  {
   "cell_type": "code",
   "execution_count": 24,
   "id": "36bc3481",
   "metadata": {},
   "outputs": [
    {
     "data": {
      "text/plain": [
       "True"
      ]
     },
     "execution_count": 24,
     "metadata": {},
     "output_type": "execute_result"
    }
   ],
   "source": [
    "str4.isdigit()"
   ]
  },
  {
   "cell_type": "code",
   "execution_count": 25,
   "id": "2ea10f4d",
   "metadata": {},
   "outputs": [
    {
     "data": {
      "text/plain": [
       "True"
      ]
     },
     "execution_count": 25,
     "metadata": {},
     "output_type": "execute_result"
    }
   ],
   "source": [
    "str1.isidentifier()"
   ]
  },
  {
   "cell_type": "code",
   "execution_count": 26,
   "id": "236a5724",
   "metadata": {},
   "outputs": [
    {
     "data": {
      "text/plain": [
       "True"
      ]
     },
     "execution_count": 26,
     "metadata": {},
     "output_type": "execute_result"
    }
   ],
   "source": [
    "str2.isidentifier()"
   ]
  },
  {
   "cell_type": "code",
   "execution_count": 27,
   "id": "d62a2fed",
   "metadata": {},
   "outputs": [
    {
     "data": {
      "text/plain": [
       "False"
      ]
     },
     "execution_count": 27,
     "metadata": {},
     "output_type": "execute_result"
    }
   ],
   "source": [
    "str4.isidentifier()"
   ]
  },
  {
   "cell_type": "code",
   "execution_count": 28,
   "id": "1ceb88f9",
   "metadata": {},
   "outputs": [
    {
     "data": {
      "text/plain": [
       "False"
      ]
     },
     "execution_count": 28,
     "metadata": {},
     "output_type": "execute_result"
    }
   ],
   "source": [
    "str3.isidentifier()"
   ]
  },
  {
   "cell_type": "code",
   "execution_count": 29,
   "id": "7a593409",
   "metadata": {},
   "outputs": [
    {
     "data": {
      "text/plain": [
       "False"
      ]
     },
     "execution_count": 29,
     "metadata": {},
     "output_type": "execute_result"
    }
   ],
   "source": [
    "str1.islower()"
   ]
  },
  {
   "cell_type": "code",
   "execution_count": 30,
   "id": "8cc0832c",
   "metadata": {},
   "outputs": [
    {
     "data": {
      "text/plain": [
       "True"
      ]
     },
     "execution_count": 30,
     "metadata": {},
     "output_type": "execute_result"
    }
   ],
   "source": [
    "str5 = 'nareshit'\n",
    "str5.islower()"
   ]
  },
  {
   "cell_type": "code",
   "execution_count": 31,
   "id": "cb6c6c63",
   "metadata": {},
   "outputs": [
    {
     "data": {
      "text/plain": [
       "False"
      ]
     },
     "execution_count": 31,
     "metadata": {},
     "output_type": "execute_result"
    }
   ],
   "source": [
    "str1.isnumeric()"
   ]
  },
  {
   "cell_type": "code",
   "execution_count": 32,
   "id": "6194ff83",
   "metadata": {},
   "outputs": [
    {
     "data": {
      "text/plain": [
       "False"
      ]
     },
     "execution_count": 32,
     "metadata": {},
     "output_type": "execute_result"
    }
   ],
   "source": [
    "str3.isnumeric()"
   ]
  },
  {
   "cell_type": "code",
   "execution_count": 33,
   "id": "c8a529df",
   "metadata": {},
   "outputs": [
    {
     "data": {
      "text/plain": [
       "True"
      ]
     },
     "execution_count": 33,
     "metadata": {},
     "output_type": "execute_result"
    }
   ],
   "source": [
    "str4.isnumeric()"
   ]
  },
  {
   "cell_type": "code",
   "execution_count": 34,
   "id": "dc48ffbb",
   "metadata": {},
   "outputs": [
    {
     "data": {
      "text/plain": [
       "True"
      ]
     },
     "execution_count": 34,
     "metadata": {},
     "output_type": "execute_result"
    }
   ],
   "source": [
    "str1.isprintable()"
   ]
  },
  {
   "cell_type": "code",
   "execution_count": 35,
   "id": "5668ac2b",
   "metadata": {},
   "outputs": [
    {
     "data": {
      "text/plain": [
       "True"
      ]
     },
     "execution_count": 35,
     "metadata": {},
     "output_type": "execute_result"
    }
   ],
   "source": [
    "str2.isprintable()"
   ]
  },
  {
   "cell_type": "code",
   "execution_count": 36,
   "id": "0d63a891",
   "metadata": {},
   "outputs": [
    {
     "data": {
      "text/plain": [
       "True"
      ]
     },
     "execution_count": 36,
     "metadata": {},
     "output_type": "execute_result"
    }
   ],
   "source": [
    "str3.isprintable()"
   ]
  },
  {
   "cell_type": "code",
   "execution_count": 37,
   "id": "bb4bea82",
   "metadata": {},
   "outputs": [
    {
     "data": {
      "text/plain": [
       "True"
      ]
     },
     "execution_count": 37,
     "metadata": {},
     "output_type": "execute_result"
    }
   ],
   "source": [
    "str4.isprintable()"
   ]
  },
  {
   "cell_type": "code",
   "execution_count": 38,
   "id": "24925023",
   "metadata": {},
   "outputs": [
    {
     "data": {
      "text/plain": [
       "True"
      ]
     },
     "execution_count": 38,
     "metadata": {},
     "output_type": "execute_result"
    }
   ],
   "source": [
    "str5.isprintable()"
   ]
  },
  {
   "cell_type": "code",
   "execution_count": 39,
   "id": "ccadc091",
   "metadata": {},
   "outputs": [
    {
     "data": {
      "text/plain": [
       "False"
      ]
     },
     "execution_count": 39,
     "metadata": {},
     "output_type": "execute_result"
    }
   ],
   "source": [
    "str1.isspace()\n"
   ]
  },
  {
   "cell_type": "code",
   "execution_count": 40,
   "id": "47be4467",
   "metadata": {},
   "outputs": [
    {
     "data": {
      "text/plain": [
       "True"
      ]
     },
     "execution_count": 40,
     "metadata": {},
     "output_type": "execute_result"
    }
   ],
   "source": [
    "strs = '  '\n",
    "strs.isspace()"
   ]
  },
  {
   "cell_type": "code",
   "execution_count": 41,
   "id": "bb0ccdbd",
   "metadata": {},
   "outputs": [
    {
     "data": {
      "text/plain": [
       "False"
      ]
     },
     "execution_count": 41,
     "metadata": {},
     "output_type": "execute_result"
    }
   ],
   "source": [
    "str6 = 'Naresh IT'\n",
    "str6.isspace()"
   ]
  },
  {
   "cell_type": "code",
   "execution_count": 42,
   "id": "fd4da3c8",
   "metadata": {},
   "outputs": [
    {
     "data": {
      "text/plain": [
       "False"
      ]
     },
     "execution_count": 42,
     "metadata": {},
     "output_type": "execute_result"
    }
   ],
   "source": [
    "str1.istitle()"
   ]
  },
  {
   "cell_type": "code",
   "execution_count": 43,
   "id": "f16c8536",
   "metadata": {},
   "outputs": [
    {
     "data": {
      "text/plain": [
       "False"
      ]
     },
     "execution_count": 43,
     "metadata": {},
     "output_type": "execute_result"
    }
   ],
   "source": [
    "strt = 'NARESH IT'\n",
    "strt.istitle()"
   ]
  },
  {
   "cell_type": "code",
   "execution_count": 44,
   "id": "84c8e4e4",
   "metadata": {},
   "outputs": [
    {
     "data": {
      "text/plain": [
       "False"
      ]
     },
     "execution_count": 44,
     "metadata": {},
     "output_type": "execute_result"
    }
   ],
   "source": [
    "str6.istitle()"
   ]
  },
  {
   "cell_type": "code",
   "execution_count": 45,
   "id": "14271748",
   "metadata": {},
   "outputs": [
    {
     "data": {
      "text/plain": [
       "True"
      ]
     },
     "execution_count": 45,
     "metadata": {},
     "output_type": "execute_result"
    }
   ],
   "source": [
    "str7 = 'Naresh It'\n",
    "str7.istitle()"
   ]
  },
  {
   "cell_type": "code",
   "execution_count": 46,
   "id": "f00686dc",
   "metadata": {},
   "outputs": [
    {
     "data": {
      "text/plain": [
       "False"
      ]
     },
     "execution_count": 46,
     "metadata": {},
     "output_type": "execute_result"
    }
   ],
   "source": [
    "str1.isupper()"
   ]
  },
  {
   "cell_type": "code",
   "execution_count": 47,
   "id": "47478b48",
   "metadata": {},
   "outputs": [
    {
     "data": {
      "text/plain": [
       "True"
      ]
     },
     "execution_count": 47,
     "metadata": {},
     "output_type": "execute_result"
    }
   ],
   "source": [
    "strt.isupper()"
   ]
  },
  {
   "cell_type": "code",
   "execution_count": null,
   "id": "14ba01df",
   "metadata": {},
   "outputs": [],
   "source": [
    "str1.is"
   ]
  }
 ],
 "metadata": {
  "kernelspec": {
   "display_name": "Python 3 (ipykernel)",
   "language": "python",
   "name": "python3"
  },
  "language_info": {
   "codemirror_mode": {
    "name": "ipython",
    "version": 3
   },
   "file_extension": ".py",
   "mimetype": "text/x-python",
   "name": "python",
   "nbconvert_exporter": "python",
   "pygments_lexer": "ipython3",
   "version": "3.9.13"
  }
 },
 "nbformat": 4,
 "nbformat_minor": 5
}
