{
 "cells": [
  {
   "cell_type": "code",
   "execution_count": 2,
   "id": "7d08cff5",
   "metadata": {},
   "outputs": [
    {
     "name": "stdout",
     "output_type": "stream",
     "text": [
      "Enter your income :100000\n",
      "Enter the tax percentage : 10\n"
     ]
    },
    {
     "data": {
      "text/plain": [
       "10000.0"
      ]
     },
     "execution_count": 2,
     "metadata": {},
     "output_type": "execute_result"
    }
   ],
   "source": [
    "# Tax calculation code\n",
    "income = eval(input('Enter your income :'))\n",
    "tax_per = eval(input('Enter the tax percentage : '))\n",
    "tax_amount = income*tax_per/100\n",
    "tax_amount"
   ]
  },
  {
   "cell_type": "markdown",
   "id": "4ba50a74",
   "metadata": {},
   "source": [
    "- Function means reuse of the code\n",
    "\n",
    "\n",
    "- If same piece of the code wants to use multiple times\n",
    "\n",
    "\n",
    "- we can create a function wrapper for that piece of code\n",
    "\n",
    "\n",
    "- then we can call the function for our task\n",
    "\n",
    "\n"
   ]
  },
  {
   "cell_type": "markdown",
   "id": "aabebaf2",
   "metadata": {},
   "source": [
    "- functions with out arguments\n",
    "\n",
    "\n",
    "- functions with arguments\n",
    "\n",
    "\n",
    "- functions default arguments\n",
    "\n",
    "\n",
    "- local variable vs global variable\n",
    "\n",
    "\n",
    "- functions with return statement\n",
    "\n",
    "\n",
    "- functions inside functions\n",
    "\n",
    "\n",
    "- kwargs (keyword arguments)"
   ]
  },
  {
   "cell_type": "markdown",
   "id": "d60fdc9f",
   "metadata": {},
   "source": [
    "**1- Functions with out arguments**"
   ]
  },
  {
   "cell_type": "code",
   "execution_count": null,
   "id": "bbcefa62",
   "metadata": {},
   "outputs": [],
   "source": [
    "syntax:\n",
    "    \n",
    "    \n",
    "def <function name>(): # defination (keyword as it is in green word)\n",
    "    <start write your code here>\n",
    "    "
   ]
  },
  {
   "cell_type": "code",
   "execution_count": 3,
   "id": "d1996a6e",
   "metadata": {},
   "outputs": [],
   "source": [
    "def greet():\n",
    "    print('good evening')"
   ]
  },
  {
   "cell_type": "code",
   "execution_count": 4,
   "id": "55182f92",
   "metadata": {},
   "outputs": [
    {
     "name": "stdout",
     "output_type": "stream",
     "text": [
      "good evening\n"
     ]
    }
   ],
   "source": [
    "greet()"
   ]
  },
  {
   "cell_type": "code",
   "execution_count": 5,
   "id": "2146a4ca",
   "metadata": {},
   "outputs": [
    {
     "name": "stdout",
     "output_type": "stream",
     "text": [
      "Enter the number1 : 20\n",
      "Enter the number2 : 30\n",
      "The addition of 20 and 30 is: 50\n"
     ]
    }
   ],
   "source": [
    "n1=eval(input('Enter the number1 : '))\n",
    "n2=eval(input('Enter the number2 : '))\n",
    "add = n1+n2\n",
    "print(f'The addition of {n1} and {n2} is: {add}')"
   ]
  },
  {
   "cell_type": "code",
   "execution_count": 6,
   "id": "22bc23dd",
   "metadata": {},
   "outputs": [],
   "source": [
    "def addition():\n",
    "    n1=eval(input('Enter the number1 : '))\n",
    "    n2=eval(input('Enter the number2 : '))\n",
    "    add = n1+n2\n",
    "    print(f'The addition of {n1} and {n2} is: {add}')"
   ]
  },
  {
   "cell_type": "code",
   "execution_count": 7,
   "id": "d5540dfe",
   "metadata": {},
   "outputs": [
    {
     "name": "stdout",
     "output_type": "stream",
     "text": [
      "Enter the number1 : 90\n",
      "Enter the number2 : 89\n",
      "The addition of 90 and 89 is: 179\n"
     ]
    }
   ],
   "source": [
    "addition()"
   ]
  },
  {
   "cell_type": "code",
   "execution_count": 9,
   "id": "9cc10181",
   "metadata": {},
   "outputs": [
    {
     "name": "stdout",
     "output_type": "stream",
     "text": [
      "Enter the number1 : 80\n",
      "Enter the number2 : 100\n",
      "The addition of 80 and 100 is: 180\n"
     ]
    }
   ],
   "source": [
    "def addition():\n",
    "    n1=eval(input('Enter the number1 : '))\n",
    "    n2=eval(input('Enter the number2 : '))\n",
    "    add = n1+n2\n",
    "    print(f'The addition of {n1} and {n2} is: {add}')\n",
    "addition()"
   ]
  },
  {
   "cell_type": "code",
   "execution_count": 10,
   "id": "3a0ee55a",
   "metadata": {},
   "outputs": [],
   "source": [
    "def addition1():\n",
    "    n1=eval(input('Enter the number1 : '))\n",
    "    n2=eval(input('Enter the number2 : '))\n",
    "    add = n1111+n2\n",
    "    print(f'The addition of {n1} and {n2} is: {add}')\n",
    "# addition1()"
   ]
  },
  {
   "cell_type": "code",
   "execution_count": 11,
   "id": "795b555a",
   "metadata": {},
   "outputs": [
    {
     "name": "stdout",
     "output_type": "stream",
     "text": [
      "Enter the number1 : 90\n",
      "Enter the number2 : 9\n"
     ]
    },
    {
     "ename": "NameError",
     "evalue": "name 'n1111' is not defined",
     "output_type": "error",
     "traceback": [
      "\u001b[1;31m---------------------------------------------------------------------------\u001b[0m",
      "\u001b[1;31mNameError\u001b[0m                                 Traceback (most recent call last)",
      "\u001b[1;32m~\\AppData\\Local\\Temp\\ipykernel_1230832\\1779030100.py\u001b[0m in \u001b[0;36m<module>\u001b[1;34m\u001b[0m\n\u001b[1;32m----> 1\u001b[1;33m \u001b[0maddition1\u001b[0m\u001b[1;33m(\u001b[0m\u001b[1;33m)\u001b[0m\u001b[1;33m\u001b[0m\u001b[1;33m\u001b[0m\u001b[0m\n\u001b[0m",
      "\u001b[1;32m~\\AppData\\Local\\Temp\\ipykernel_1230832\\3276716977.py\u001b[0m in \u001b[0;36maddition1\u001b[1;34m()\u001b[0m\n\u001b[0;32m      2\u001b[0m     \u001b[0mn1\u001b[0m\u001b[1;33m=\u001b[0m\u001b[0meval\u001b[0m\u001b[1;33m(\u001b[0m\u001b[0minput\u001b[0m\u001b[1;33m(\u001b[0m\u001b[1;34m'Enter the number1 : '\u001b[0m\u001b[1;33m)\u001b[0m\u001b[1;33m)\u001b[0m\u001b[1;33m\u001b[0m\u001b[1;33m\u001b[0m\u001b[0m\n\u001b[0;32m      3\u001b[0m     \u001b[0mn2\u001b[0m\u001b[1;33m=\u001b[0m\u001b[0meval\u001b[0m\u001b[1;33m(\u001b[0m\u001b[0minput\u001b[0m\u001b[1;33m(\u001b[0m\u001b[1;34m'Enter the number2 : '\u001b[0m\u001b[1;33m)\u001b[0m\u001b[1;33m)\u001b[0m\u001b[1;33m\u001b[0m\u001b[1;33m\u001b[0m\u001b[0m\n\u001b[1;32m----> 4\u001b[1;33m     \u001b[0madd\u001b[0m \u001b[1;33m=\u001b[0m \u001b[0mn1111\u001b[0m\u001b[1;33m+\u001b[0m\u001b[0mn2\u001b[0m\u001b[1;33m\u001b[0m\u001b[1;33m\u001b[0m\u001b[0m\n\u001b[0m\u001b[0;32m      5\u001b[0m     \u001b[0mprint\u001b[0m\u001b[1;33m(\u001b[0m\u001b[1;34mf'The addition of {n1} and {n2} is: {add}'\u001b[0m\u001b[1;33m)\u001b[0m\u001b[1;33m\u001b[0m\u001b[1;33m\u001b[0m\u001b[0m\n\u001b[0;32m      6\u001b[0m \u001b[1;31m# addition1()\u001b[0m\u001b[1;33m\u001b[0m\u001b[1;33m\u001b[0m\u001b[0m\n",
      "\u001b[1;31mNameError\u001b[0m: name 'n1111' is not defined"
     ]
    }
   ],
   "source": [
    "addition1()\n"
   ]
  },
  {
   "cell_type": "markdown",
   "id": "6037ac43",
   "metadata": {},
   "source": [
    "- function name follows same variable name rules\n",
    "\n",
    "\n",
    "- function name shouldnot be any variable names\n",
    "\n",
    "\n",
    "- function name should not be any package name\n",
    "\n",
    "\n",
    "- function name should not be your file name\n",
    "\n",
    "\n",
    "- when we define function, we will not able to identify error is there or not\n",
    "\n",
    "\n",
    "- In order to check the code working part first we need to call the function"
   ]
  },
  {
   "cell_type": "code",
   "execution_count": 17,
   "id": "1f6d54b8",
   "metadata": {},
   "outputs": [],
   "source": [
    "try:\n",
    "    def addition2():\n",
    "        n1=eval(input('Enter the number1 : '))\n",
    "        n2=eval(input('Enter the number2 : '))\n",
    "        add = n1111+n2\n",
    "        print(f'The addition of {n1} and {n2} is: {add}')\n",
    "    # addition1()\n",
    "except Exception as e:\n",
    "    print(e)"
   ]
  },
  {
   "cell_type": "code",
   "execution_count": 18,
   "id": "d7b9771a",
   "metadata": {},
   "outputs": [
    {
     "name": "stdout",
     "output_type": "stream",
     "text": [
      "Enter the number1 : 90\n",
      "Enter the number2 : 9\n"
     ]
    },
    {
     "ename": "NameError",
     "evalue": "name 'n1111' is not defined",
     "output_type": "error",
     "traceback": [
      "\u001b[1;31m---------------------------------------------------------------------------\u001b[0m",
      "\u001b[1;31mNameError\u001b[0m                                 Traceback (most recent call last)",
      "\u001b[1;32m~\\AppData\\Local\\Temp\\ipykernel_1230832\\174716992.py\u001b[0m in \u001b[0;36m<module>\u001b[1;34m\u001b[0m\n\u001b[1;32m----> 1\u001b[1;33m \u001b[0maddition2\u001b[0m\u001b[1;33m(\u001b[0m\u001b[1;33m)\u001b[0m\u001b[1;33m\u001b[0m\u001b[1;33m\u001b[0m\u001b[0m\n\u001b[0m",
      "\u001b[1;32m~\\AppData\\Local\\Temp\\ipykernel_1230832\\1158436311.py\u001b[0m in \u001b[0;36maddition2\u001b[1;34m()\u001b[0m\n\u001b[0;32m      3\u001b[0m         \u001b[0mn1\u001b[0m\u001b[1;33m=\u001b[0m\u001b[0meval\u001b[0m\u001b[1;33m(\u001b[0m\u001b[0minput\u001b[0m\u001b[1;33m(\u001b[0m\u001b[1;34m'Enter the number1 : '\u001b[0m\u001b[1;33m)\u001b[0m\u001b[1;33m)\u001b[0m\u001b[1;33m\u001b[0m\u001b[1;33m\u001b[0m\u001b[0m\n\u001b[0;32m      4\u001b[0m         \u001b[0mn2\u001b[0m\u001b[1;33m=\u001b[0m\u001b[0meval\u001b[0m\u001b[1;33m(\u001b[0m\u001b[0minput\u001b[0m\u001b[1;33m(\u001b[0m\u001b[1;34m'Enter the number2 : '\u001b[0m\u001b[1;33m)\u001b[0m\u001b[1;33m)\u001b[0m\u001b[1;33m\u001b[0m\u001b[1;33m\u001b[0m\u001b[0m\n\u001b[1;32m----> 5\u001b[1;33m         \u001b[0madd\u001b[0m \u001b[1;33m=\u001b[0m \u001b[0mn1111\u001b[0m\u001b[1;33m+\u001b[0m\u001b[0mn2\u001b[0m\u001b[1;33m\u001b[0m\u001b[1;33m\u001b[0m\u001b[0m\n\u001b[0m\u001b[0;32m      6\u001b[0m         \u001b[0mprint\u001b[0m\u001b[1;33m(\u001b[0m\u001b[1;34mf'The addition of {n1} and {n2} is: {add}'\u001b[0m\u001b[1;33m)\u001b[0m\u001b[1;33m\u001b[0m\u001b[1;33m\u001b[0m\u001b[0m\n\u001b[0;32m      7\u001b[0m     \u001b[1;31m# addition1()\u001b[0m\u001b[1;33m\u001b[0m\u001b[1;33m\u001b[0m\u001b[0m\n",
      "\u001b[1;31mNameError\u001b[0m: name 'n1111' is not defined"
     ]
    }
   ],
   "source": [
    "addition2()"
   ]
  },
  {
   "cell_type": "code",
   "execution_count": 22,
   "id": "dbc52573",
   "metadata": {},
   "outputs": [],
   "source": [
    "def addition3():\n",
    "    try:\n",
    "        n1=eval(input('Enter the number1 : '))\n",
    "        n2=eval(input('Enter the number2 : '))\n",
    "        add = n1111+n2\n",
    "        print(f'The addition of {n1} and {n2} is: {add}')\n",
    "    # addition1()\n",
    "    except Exception as e:\n",
    "        print(e)\n",
    "        n1=eval(input('Enter the number1 : '))\n",
    "        n2=eval(input('Enter the number2 : '))\n",
    "        add = n1+n2\n",
    "        print(f'The addition of {n1} and {n2} is: {add}')"
   ]
  },
  {
   "cell_type": "code",
   "execution_count": 23,
   "id": "ec66c6b2",
   "metadata": {},
   "outputs": [
    {
     "name": "stdout",
     "output_type": "stream",
     "text": [
      "Enter the number1 : 90\n",
      "Enter the number2 : 9\n",
      "name 'n1111' is not defined\n",
      "Enter the number1 : 90\n",
      "Enter the number2 : 9\n",
      "The addition of 90 and 9 is: 99\n"
     ]
    }
   ],
   "source": [
    "addition3()\n"
   ]
  },
  {
   "cell_type": "markdown",
   "id": "4a081bab",
   "metadata": {},
   "source": [
    "- try and exception is working inside the function\n",
    "\n",
    "\n",
    "- function isnot working inside try and except"
   ]
  },
  {
   "cell_type": "code",
   "execution_count": null,
   "id": "b63b0f77",
   "metadata": {},
   "outputs": [],
   "source": []
  },
  {
   "cell_type": "code",
   "execution_count": null,
   "id": "8851babd",
   "metadata": {},
   "outputs": [],
   "source": []
  },
  {
   "cell_type": "code",
   "execution_count": null,
   "id": "4f4188f9",
   "metadata": {},
   "outputs": [],
   "source": []
  },
  {
   "cell_type": "code",
   "execution_count": null,
   "id": "95964d86",
   "metadata": {},
   "outputs": [],
   "source": []
  },
  {
   "cell_type": "code",
   "execution_count": null,
   "id": "234fd43b",
   "metadata": {},
   "outputs": [],
   "source": []
  },
  {
   "cell_type": "code",
   "execution_count": null,
   "id": "a59e23af",
   "metadata": {},
   "outputs": [],
   "source": []
  },
  {
   "cell_type": "markdown",
   "id": "2e85a8bc",
   "metadata": {},
   "source": [
    "- the above all functions are examples of **function with out arguments**\n",
    "\n",
    "\n",
    "- means when we define the function we are not providing any arguments inside the bracket\n"
   ]
  },
  {
   "cell_type": "markdown",
   "id": "b35ea39e",
   "metadata": {},
   "source": [
    "**2- Function with arguments**\n",
    "\n",
    "- in the function how many variables are there : 3(n1,n2,add)\n",
    "\n",
    "\n",
    "- in the function how many input variables are there : 2(n1, n2)\n",
    "\n",
    "\n",
    "- in the function how many output variables :1(add)\n",
    "\n",
    "\n",
    "- **don't touch output variables**"
   ]
  },
  {
   "cell_type": "code",
   "execution_count": 27,
   "id": "4c500aad",
   "metadata": {},
   "outputs": [
    {
     "name": "stdout",
     "output_type": "stream",
     "text": [
      "enter n110\n",
      "enter n2220\n",
      "230\n"
     ]
    }
   ],
   "source": [
    "def addition11():\n",
    "    n1 =eval(input('enter n1'))\n",
    "    n2 =eval(input('enter n2'))\n",
    "    add = n1+n2\n",
    "    print(add)\n",
    "addition11()"
   ]
  },
  {
   "cell_type": "code",
   "execution_count": 28,
   "id": "7c089141",
   "metadata": {},
   "outputs": [],
   "source": [
    "def addition12(n1,n2):\n",
    "    add = n1+n2\n",
    "    print(add)"
   ]
  },
  {
   "cell_type": "code",
   "execution_count": 29,
   "id": "ee8c7b1c",
   "metadata": {},
   "outputs": [
    {
     "name": "stdout",
     "output_type": "stream",
     "text": [
      "70\n"
     ]
    }
   ],
   "source": [
    "addition12(30,40)"
   ]
  },
  {
   "cell_type": "code",
   "execution_count": 36,
   "id": "937b9310",
   "metadata": {},
   "outputs": [],
   "source": [
    "def average11(n1,n2,n3):\n",
    "    avg = round((n1+n2+n3)/3,2)\n",
    "    print(avg)"
   ]
  },
  {
   "cell_type": "code",
   "execution_count": 37,
   "id": "93ce7e8b",
   "metadata": {},
   "outputs": [
    {
     "name": "stdout",
     "output_type": "stream",
     "text": [
      "20.33\n"
     ]
    }
   ],
   "source": [
    "average11(10,20,31)"
   ]
  },
  {
   "cell_type": "code",
   "execution_count": 1,
   "id": "02b28fe3",
   "metadata": {},
   "outputs": [],
   "source": [
    "def add(n1,n2):\n",
    "    summ = n1+n2\n",
    "    print(summ)"
   ]
  },
  {
   "cell_type": "code",
   "execution_count": 2,
   "id": "fc1a54f6",
   "metadata": {},
   "outputs": [
    {
     "name": "stdout",
     "output_type": "stream",
     "text": [
      "enter n1 : 90\n",
      "enter n2 : 80\n",
      "170\n"
     ]
    }
   ],
   "source": [
    "add(eval(input('enter n1 : ')),\n",
    "    eval(input('enter n2 : ')))"
   ]
  },
  {
   "cell_type": "code",
   "execution_count": 3,
   "id": "6fd2be13",
   "metadata": {},
   "outputs": [
    {
     "name": "stdout",
     "output_type": "stream",
     "text": [
      "116.67\n"
     ]
    }
   ],
   "source": [
    "def average2(n1):\n",
    "    n2 = 100\n",
    "    n3 = 200\n",
    "    summ = round((n1+n2+n3)/3,2)\n",
    "    print(summ)\n",
    "    \n",
    "average2(50)"
   ]
  },
  {
   "cell_type": "code",
   "execution_count": 5,
   "id": "ec2529a0",
   "metadata": {},
   "outputs": [
    {
     "name": "stdout",
     "output_type": "stream",
     "text": [
      "106.67\n"
     ]
    }
   ],
   "source": [
    "def average3():\n",
    "    n1 = 20\n",
    "    n2 = 100\n",
    "    n3 = 200\n",
    "    summ = round((n1+n2+n3)/3,2)\n",
    "    print(summ)\n",
    "    \n",
    "average3()"
   ]
  },
  {
   "cell_type": "markdown",
   "id": "2b79c37b",
   "metadata": {},
   "source": [
    "**Default arguments**\n",
    "\n",
    "- we can fix one argument value throughout the code\n",
    "\n",
    "\n",
    "- generally tax labs are fixed so we can keep tax_percentage as  default argument"
   ]
  },
  {
   "cell_type": "code",
   "execution_count": 15,
   "id": "f79b22da",
   "metadata": {},
   "outputs": [
    {
     "name": "stdout",
     "output_type": "stream",
     "text": [
      "enter your income : 100000\n",
      "Enter the tax per : 10\n",
      "The tax amount for 100000 is: 10000.0\n"
     ]
    }
   ],
   "source": [
    "def tax_cal():\n",
    "    income = eval(input('enter your income : '))\n",
    "    tax_per = eval(input('Enter the tax per : '))\n",
    "    tax_amount = income*tax_per/100\n",
    "    print(f'The tax amount for {income} is: {tax_amount}')\n",
    "tax_cal()"
   ]
  },
  {
   "cell_type": "code",
   "execution_count": 17,
   "id": "d1ed34ee",
   "metadata": {},
   "outputs": [
    {
     "name": "stdout",
     "output_type": "stream",
     "text": [
      "enter your income : 100000\n",
      "Enter the tax per : 10\n",
      "The tax amount for 100000 is: 10000.0\n"
     ]
    }
   ],
   "source": [
    "def tax_cal1(income,tax_per):\n",
    "    tax_amount = income*tax_per/100\n",
    "    print(f'The tax amount for {income} is: {tax_amount}')\n",
    "tax_cal1(income = eval(input('enter your income : ')),\n",
    "        tax_per = eval(input('Enter the tax per : ')))"
   ]
  },
  {
   "cell_type": "code",
   "execution_count": 18,
   "id": "8ece99a6",
   "metadata": {},
   "outputs": [
    {
     "name": "stdout",
     "output_type": "stream",
     "text": [
      "The tax amount for 2000 is: 400.0\n"
     ]
    }
   ],
   "source": [
    "def tax_cal2(income,tax_per):\n",
    "    tax_amount = income*tax_per/100\n",
    "    print(f'The tax amount for {income} is: {tax_amount}')\n",
    "tax_cal2(2000,20)"
   ]
  },
  {
   "cell_type": "code",
   "execution_count": 19,
   "id": "dbee10e5",
   "metadata": {},
   "outputs": [
    {
     "name": "stdout",
     "output_type": "stream",
     "text": [
      "The tax amount for 2000 is: 400.0\n"
     ]
    }
   ],
   "source": [
    "def tax_cal3(income,tax_per=20): # default argument (fixing the values)\n",
    "    tax_amount = income*tax_per/100\n",
    "    print(f'The tax amount for {income} is: {tax_amount}')\n",
    "tax_cal3(2000)"
   ]
  },
  {
   "cell_type": "code",
   "execution_count": 20,
   "id": "25d48b60",
   "metadata": {},
   "outputs": [
    {
     "name": "stdout",
     "output_type": "stream",
     "text": [
      "income: 2000\n",
      "tax_per: 5\n",
      "The tax amount for 2000 is: 100.0\n"
     ]
    }
   ],
   "source": [
    "def tax_cal4(income,tax_per=5):\n",
    "    print('income:',income)\n",
    "    print('tax_per:',tax_per)\n",
    "    tax_amount = income*tax_per/100\n",
    "    print(f'The tax amount for {income} is: {tax_amount}')\n",
    "tax_cal4(2000)\n",
    "\n",
    "# here tax_per is deafault argument"
   ]
  },
  {
   "cell_type": "code",
   "execution_count": 21,
   "id": "e7e07437",
   "metadata": {},
   "outputs": [
    {
     "name": "stdout",
     "output_type": "stream",
     "text": [
      "Addition is : 1000\n"
     ]
    }
   ],
   "source": [
    "def add11(n1,n2,n3=500):\n",
    "    summ= n1+n2+n3\n",
    "    print(f'Addition is :',summ)\n",
    "add11(100,400)"
   ]
  },
  {
   "cell_type": "code",
   "execution_count": 23,
   "id": "f76c8266",
   "metadata": {},
   "outputs": [
    {
     "ename": "SyntaxError",
     "evalue": "non-default argument follows default argument (3807139031.py, line 1)",
     "output_type": "error",
     "traceback": [
      "\u001b[1;36m  File \u001b[1;32m\"C:\\Users\\swaga\\AppData\\Local\\Temp\\ipykernel_35000\\3807139031.py\"\u001b[1;36m, line \u001b[1;32m1\u001b[0m\n\u001b[1;33m    def add12(n1,n2=100,n3):\u001b[0m\n\u001b[1;37m                          ^\u001b[0m\n\u001b[1;31mSyntaxError\u001b[0m\u001b[1;31m:\u001b[0m non-default argument follows default argument\n"
     ]
    }
   ],
   "source": [
    "def add12(n1,n2=100,n3):\n",
    "    print('n1:'n1)\n",
    "    print('n2:'n2)\n",
    "    print('n3:'n3)\n",
    "    summ = n1+n2+n3\n",
    "    print(f'the addition is {summ}')\n",
    "add12(100,,300)"
   ]
  },
  {
   "cell_type": "code",
   "execution_count": 25,
   "id": "a10e21ad",
   "metadata": {},
   "outputs": [
    {
     "name": "stdout",
     "output_type": "stream",
     "text": [
      "n1: 100\n",
      "n2: 100\n",
      "n3: 300\n",
      "the addition is 500\n"
     ]
    }
   ],
   "source": [
    "def add13(n1,n3,n2=100):\n",
    "    print('n1:',n1)\n",
    "    print('n2:',n2)\n",
    "    print('n3:',n3)\n",
    "    summ = n1+n2+n3\n",
    "    print(f'the addition is {summ}')\n",
    "add13(100,300)"
   ]
  },
  {
   "cell_type": "markdown",
   "id": "3ec3b417",
   "metadata": {},
   "source": [
    "**Note**\n",
    "\n",
    "- Default argument should be at last"
   ]
  },
  {
   "cell_type": "code",
   "execution_count": 27,
   "id": "8bad9fe3",
   "metadata": {},
   "outputs": [
    {
     "name": "stdout",
     "output_type": "stream",
     "text": [
      "n1: 100\n",
      "n2: 100\n",
      "n3: 200\n",
      "the addition is 400\n"
     ]
    }
   ],
   "source": [
    "def add12(n1,n2=100,n3=200):\n",
    "    print('n1:',n1)\n",
    "    print('n2:',n2)\n",
    "    print('n3:',n3)\n",
    "    summ = n1+n2+n3\n",
    "    print(f'the addition is {summ}')\n",
    "add12(100)"
   ]
  },
  {
   "cell_type": "code",
   "execution_count": 29,
   "id": "57c44702",
   "metadata": {},
   "outputs": [],
   "source": [
    "add(n1,n2,n3=100) # w\n",
    "add(n1,n2=100,n3) # f\n",
    "add(n1=100,n2,n3) # f\n",
    "add(n1=100,n2,n3=200) # f\n",
    "add(n1=100,n2=200,n3) # f\n",
    "add(n1,n2=100,n3=200) # w\n",
    "add(n1=100,n2=200,n3=300) # w"
   ]
  },
  {
   "cell_type": "markdown",
   "id": "70c5049a",
   "metadata": {},
   "source": [
    "**Overwrite the default value**"
   ]
  },
  {
   "cell_type": "code",
   "execution_count": 30,
   "id": "fbeaa37c",
   "metadata": {},
   "outputs": [
    {
     "name": "stdout",
     "output_type": "stream",
     "text": [
      "income: 2000\n",
      "tax_per: 10\n",
      "The tax amount for 2000 is: 200.0\n"
     ]
    }
   ],
   "source": [
    "def tax_cal11(income,tax_per=5):\n",
    "    print('income:',income)\n",
    "    print('tax_per:',tax_per)\n",
    "    tax_amount = income*tax_per/100\n",
    "    print(f'The tax amount for {income} is: {tax_amount}')\n",
    "tax_cal11(2000,10)\n",
    "\n",
    "# here tax_per is deafault argument"
   ]
  },
  {
   "cell_type": "markdown",
   "id": "c433e03a",
   "metadata": {},
   "source": [
    "- Here first we are defining the function\n",
    "\n",
    "\n",
    "    - while defining tax_per is 5\n",
    "    \n",
    "    \n",
    "- second we are calling the function\n",
    "\n",
    "\n",
    "    - whille calling the tax_per is 10\n",
    "    \n",
    "    \n",
    "- python is sequential process, always it consider the latest value"
   ]
  },
  {
   "cell_type": "markdown",
   "id": "619f04d5",
   "metadata": {},
   "source": [
    "**Case-1**"
   ]
  },
  {
   "cell_type": "code",
   "execution_count": 40,
   "id": "2a7ad67c",
   "metadata": {},
   "outputs": [
    {
     "name": "stdout",
     "output_type": "stream",
     "text": [
      "n1: 100\n",
      "n2: 300\n",
      "n3: 200\n",
      "the addition is 600\n"
     ]
    }
   ],
   "source": [
    "def add14(n1,n3,n2=100):\n",
    "    print('n1:',n1)\n",
    "    print('n2:',n2)\n",
    "    print('n3:',n3)\n",
    "    summ = n1+n2+n3\n",
    "    print(f'the addition is {summ}')\n",
    "add14(100,200,300)"
   ]
  },
  {
   "cell_type": "markdown",
   "id": "87781fef",
   "metadata": {},
   "source": [
    "**Case-2**"
   ]
  },
  {
   "cell_type": "code",
   "execution_count": 41,
   "id": "380592bb",
   "metadata": {},
   "outputs": [
    {
     "name": "stdout",
     "output_type": "stream",
     "text": [
      "n1: 100\n",
      "n2: 400\n",
      "n3: 300\n",
      "the addition is 800\n"
     ]
    }
   ],
   "source": [
    "def add15(n1,n3,n2=100):\n",
    "    n2 = 400\n",
    "    print('n1:',n1)\n",
    "    print('n2:',n2)\n",
    "    print('n3:',n3)\n",
    "    summ = n1+n2+n3\n",
    "    print(f'the addition is {summ}')\n",
    "add15(100,300)"
   ]
  },
  {
   "cell_type": "code",
   "execution_count": 42,
   "id": "d13457f4",
   "metadata": {},
   "outputs": [
    {
     "name": "stdout",
     "output_type": "stream",
     "text": [
      "n1: 100\n",
      "n2: 400\n",
      "n3: 200\n",
      "the addition is 700\n"
     ]
    }
   ],
   "source": [
    "def add16(n1,n3,n2=100): #define the function (step-1)\n",
    "    n2 = 400              # step-3 (as it is the last value it will be executed\n",
    "    print('n1:',n1)\n",
    "    print('n2:',n2)\n",
    "    print('n3:',n3)\n",
    "    summ = n1+n2+n3\n",
    "    print(f'the addition is {summ}')\n",
    "add16(100,200,300) # call the function (step-2)"
   ]
  },
  {
   "cell_type": "markdown",
   "id": "4a9df0ee",
   "metadata": {},
   "source": [
    "- step-1 : define the function :n3=100\n",
    "\n",
    "\n",
    "- step-2: call the function :n3=300\n",
    "\n",
    "\n",
    "- step-3: running the function : n3=400\n",
    "\n",
    "\n",
    "- so the latest value is 400"
   ]
  },
  {
   "cell_type": "code",
   "execution_count": 43,
   "id": "e7d141ab",
   "metadata": {},
   "outputs": [
    {
     "name": "stdout",
     "output_type": "stream",
     "text": [
      "n1: 100\n",
      "n2: 400\n",
      "n3: 200\n",
      "the addition is 700\n"
     ]
    }
   ],
   "source": [
    "n3 = 600 \n",
    "def add17(n1,n3,n2=100): #define the function\n",
    "    n2 = 400\n",
    "    print('n1:',n1)\n",
    "    print('n2:',n2)\n",
    "    print('n3:',n3)\n",
    "    summ = n1+n2+n3\n",
    "    print(f'the addition is {summ}')\n",
    "add17(100,200,300) # call the function"
   ]
  },
  {
   "cell_type": "markdown",
   "id": "3b60e775",
   "metadata": {},
   "source": [
    "**Case-3**"
   ]
  },
  {
   "cell_type": "code",
   "execution_count": 44,
   "id": "b6078d3b",
   "metadata": {},
   "outputs": [
    {
     "name": "stdout",
     "output_type": "stream",
     "text": [
      "n1: 100\n",
      "n2: 200\n",
      "n3: 500\n",
      "the addition is 800\n"
     ]
    }
   ],
   "source": [
    "n3 = 600 \n",
    "def add18(n1,n2): #define the function\n",
    "    print('n1:',n1)\n",
    "    print('n2:',n2)\n",
    "    print('n3:',n3)\n",
    "    summ = n1+n2+n3\n",
    "    print(f'the addition is {summ}')\n",
    "n3 = 500\n",
    "add18(100,200) # call the function"
   ]
  },
  {
   "cell_type": "code",
   "execution_count": 47,
   "id": "db0b7812",
   "metadata": {},
   "outputs": [
    {
     "name": "stdout",
     "output_type": "stream",
     "text": [
      "n11: 100\n",
      "n22: 200\n",
      "n33: 300\n",
      "the addition is 600\n"
     ]
    }
   ],
   "source": [
    "def add19(n11,n22): #define the function\n",
    "    print('n11:',n11)\n",
    "    print('n22:',n22)\n",
    "    print('n33:',n33)\n",
    "    summ = n11+n22+n33\n",
    "    print(f'the addition is {summ}')\n",
    "add19(100,200) # call the function\n",
    "n33 = 300"
   ]
  },
  {
   "cell_type": "code",
   "execution_count": 48,
   "id": "17b401c0",
   "metadata": {},
   "outputs": [
    {
     "name": "stdout",
     "output_type": "stream",
     "text": [
      "n11: 100\n",
      "n22: 200\n",
      "n33: 300\n",
      "the addition is 600\n"
     ]
    }
   ],
   "source": [
    "def add22(n11,n22): #define the function\n",
    "    print('n11:',n11)\n",
    "    print('n22:',n22)\n",
    "    print('n33:',n33)\n",
    "    summ = n11+n22+n33\n",
    "    print(f'the addition is {summ}')\n",
    "n33 = 300\n",
    "add22(100,200) # call the function\n"
   ]
  },
  {
   "cell_type": "code",
   "execution_count": 49,
   "id": "a6a4a15c",
   "metadata": {},
   "outputs": [
    {
     "name": "stdout",
     "output_type": "stream",
     "text": [
      "n111: 100\n",
      "n222: 200\n"
     ]
    },
    {
     "ename": "UnboundLocalError",
     "evalue": "local variable 'n333' referenced before assignment",
     "output_type": "error",
     "traceback": [
      "\u001b[1;31m---------------------------------------------------------------------------\u001b[0m",
      "\u001b[1;31mUnboundLocalError\u001b[0m                         Traceback (most recent call last)",
      "\u001b[1;32m~\\AppData\\Local\\Temp\\ipykernel_35000\\761270810.py\u001b[0m in \u001b[0;36m<module>\u001b[1;34m\u001b[0m\n\u001b[0;32m      7\u001b[0m     \u001b[0mprint\u001b[0m\u001b[1;33m(\u001b[0m\u001b[1;34mf'the addition is {summ}'\u001b[0m\u001b[1;33m)\u001b[0m\u001b[1;33m\u001b[0m\u001b[1;33m\u001b[0m\u001b[0m\n\u001b[0;32m      8\u001b[0m \u001b[1;33m\u001b[0m\u001b[0m\n\u001b[1;32m----> 9\u001b[1;33m \u001b[0madd22\u001b[0m\u001b[1;33m(\u001b[0m\u001b[1;36m100\u001b[0m\u001b[1;33m,\u001b[0m\u001b[1;36m200\u001b[0m\u001b[1;33m)\u001b[0m \u001b[1;31m# call the function\u001b[0m\u001b[1;33m\u001b[0m\u001b[1;33m\u001b[0m\u001b[0m\n\u001b[0m\u001b[0;32m     10\u001b[0m \u001b[1;31m# define the function step-1 ==== define the function\u001b[0m\u001b[1;33m\u001b[0m\u001b[1;33m\u001b[0m\u001b[0m\n\u001b[0;32m     11\u001b[0m \u001b[1;31m# calling the function step-2 ====\u001b[0m\u001b[1;33m\u001b[0m\u001b[1;33m\u001b[0m\u001b[0m\n",
      "\u001b[1;32m~\\AppData\\Local\\Temp\\ipykernel_35000\\761270810.py\u001b[0m in \u001b[0;36madd22\u001b[1;34m(n111, n222)\u001b[0m\n\u001b[0;32m      2\u001b[0m     \u001b[0mprint\u001b[0m\u001b[1;33m(\u001b[0m\u001b[1;34m'n111:'\u001b[0m\u001b[1;33m,\u001b[0m\u001b[0mn111\u001b[0m\u001b[1;33m)\u001b[0m\u001b[1;33m\u001b[0m\u001b[1;33m\u001b[0m\u001b[0m\n\u001b[0;32m      3\u001b[0m     \u001b[0mprint\u001b[0m\u001b[1;33m(\u001b[0m\u001b[1;34m'n222:'\u001b[0m\u001b[1;33m,\u001b[0m\u001b[0mn222\u001b[0m\u001b[1;33m)\u001b[0m\u001b[1;33m\u001b[0m\u001b[1;33m\u001b[0m\u001b[0m\n\u001b[1;32m----> 4\u001b[1;33m     \u001b[0mprint\u001b[0m\u001b[1;33m(\u001b[0m\u001b[1;34m'n333:'\u001b[0m\u001b[1;33m,\u001b[0m\u001b[0mn333\u001b[0m\u001b[1;33m)\u001b[0m\u001b[1;33m\u001b[0m\u001b[1;33m\u001b[0m\u001b[0m\n\u001b[0m\u001b[0;32m      5\u001b[0m     \u001b[0msumm\u001b[0m \u001b[1;33m=\u001b[0m \u001b[0mn111\u001b[0m\u001b[1;33m+\u001b[0m\u001b[0mn222\u001b[0m\u001b[1;33m+\u001b[0m\u001b[0mn333\u001b[0m\u001b[1;33m\u001b[0m\u001b[1;33m\u001b[0m\u001b[0m\n\u001b[0;32m      6\u001b[0m     \u001b[0mn333\u001b[0m \u001b[1;33m=\u001b[0m \u001b[1;36m300\u001b[0m\u001b[1;33m\u001b[0m\u001b[1;33m\u001b[0m\u001b[0m\n",
      "\u001b[1;31mUnboundLocalError\u001b[0m: local variable 'n333' referenced before assignment"
     ]
    }
   ],
   "source": [
    "def add22(n111,n222): #define the function\n",
    "    print('n111:',n111)\n",
    "    print('n222:',n222)\n",
    "    print('n333:',n333)\n",
    "    summ = n111+n222+n333\n",
    "    n333 = 300\n",
    "    print(f'the addition is {summ}')\n",
    "\n",
    "add22(100,200) # call the function\n",
    "# define the function step-1 ==== define the function\n",
    "# calling the function step-2 ==== \n",
    "# run the function"
   ]
  },
  {
   "cell_type": "code",
   "execution_count": 50,
   "id": "27d53648",
   "metadata": {},
   "outputs": [
    {
     "name": "stdout",
     "output_type": "stream",
     "text": [
      "1100\n"
     ]
    }
   ],
   "source": [
    "n3333=200\n",
    "def addition1(n1111,n2222,n3333=300):\n",
    "    summ = n1111+n2222+n3333\n",
    "    print(summ)\n",
    "n3333=700\n",
    "addition1(100,200,800)\n",
    "\n",
    "# n3333=200 === >300====== >700=====>800(latest calculated)"
   ]
  },
  {
   "cell_type": "code",
   "execution_count": 4,
   "id": "4456805f",
   "metadata": {},
   "outputs": [
    {
     "ename": "TypeError",
     "evalue": "ADD() missing 1 required positional argument: 'n3'",
     "output_type": "error",
     "traceback": [
      "\u001b[1;31m---------------------------------------------------------------------------\u001b[0m",
      "\u001b[1;31mTypeError\u001b[0m                                 Traceback (most recent call last)",
      "\u001b[1;32m~\\AppData\\Local\\Temp\\ipykernel_173944\\2410992862.py\u001b[0m in \u001b[0;36m<module>\u001b[1;34m\u001b[0m\n\u001b[0;32m      3\u001b[0m     \u001b[0msumm\u001b[0m \u001b[1;33m=\u001b[0m \u001b[0mn1\u001b[0m\u001b[1;33m+\u001b[0m\u001b[0mn2\u001b[0m\u001b[1;33m+\u001b[0m\u001b[0mn3\u001b[0m\u001b[1;33m\u001b[0m\u001b[1;33m\u001b[0m\u001b[0m\n\u001b[0;32m      4\u001b[0m     \u001b[0mprint\u001b[0m\u001b[1;33m(\u001b[0m\u001b[1;34mf'The sum of {n1},{n2} and {n3} is {summ}'\u001b[0m\u001b[1;33m)\u001b[0m\u001b[1;33m\u001b[0m\u001b[1;33m\u001b[0m\u001b[0m\n\u001b[1;32m----> 5\u001b[1;33m \u001b[0mADD\u001b[0m\u001b[1;33m(\u001b[0m\u001b[1;36m100\u001b[0m\u001b[1;33m,\u001b[0m\u001b[1;36m200\u001b[0m\u001b[1;33m)\u001b[0m\u001b[1;33m\u001b[0m\u001b[1;33m\u001b[0m\u001b[0m\n\u001b[0m",
      "\u001b[1;31mTypeError\u001b[0m: ADD() missing 1 required positional argument: 'n3'"
     ]
    }
   ],
   "source": [
    "n3 = 600\n",
    "def ADD(n1,n2,n3):\n",
    "    summ = n1+n2+n3\n",
    "    print(f'The sum of {n1},{n2} and {n3} is {summ}')\n",
    "ADD(100,200)"
   ]
  },
  {
   "cell_type": "code",
   "execution_count": 5,
   "id": "8766eaf4",
   "metadata": {},
   "outputs": [
    {
     "name": "stdout",
     "output_type": "stream",
     "text": [
      "The sum of 100,200 and 800 is 1100\n"
     ]
    }
   ],
   "source": [
    "n3 = 600\n",
    "def ADD(n1,n2,n3):\n",
    "    n3= 800\n",
    "    summ = n1+n2+n3\n",
    "    print(f'The sum of {n1},{n2} and {n3} is {summ}')\n",
    "ADD(100,200,700)\n",
    "\n",
    "# n3 = 600\n",
    "# define n3 = 600\n",
    "# calling = 700\n",
    "# running = 800 "
   ]
  },
  {
   "cell_type": "code",
   "execution_count": 6,
   "id": "ac51f186",
   "metadata": {},
   "outputs": [
    {
     "name": "stdout",
     "output_type": "stream",
     "text": [
      "The sum of 100,200 and 800 is 1100\n"
     ]
    }
   ],
   "source": [
    "n3 = 600\n",
    "def ADD(n1,n2,n3):\n",
    "    n3= 800\n",
    "    summ = n1+n2+n3\n",
    "    print(f'The sum of {n1},{n2} and {n3} is {summ}')\n",
    "n3 = 400\n",
    "ADD(100,200,700)\n",
    "\n",
    "# n3 = 600\n",
    "# define n3 = 600\n",
    "# calling = 700\n",
    "# running = 800 "
   ]
  },
  {
   "cell_type": "code",
   "execution_count": null,
   "id": "0ce4a34d",
   "metadata": {},
   "outputs": [],
   "source": [
    "def ADD(n1,n2,n3):\n",
    "    summ = n1+n2+n3\n",
    "    n3= 800\n",
    "    print(f'The sum of {n1},{n2} and {n3} is {summ}')\n",
    "ADD(100,200,700)\n",
    "\n",
    "# n3 = \n",
    "# define n3 = 600\n",
    "# calling = 700\n",
    "# running = 800 "
   ]
  },
  {
   "cell_type": "markdown",
   "id": "eccaa121",
   "metadata": {},
   "source": [
    "**Global Variable - Local variable**"
   ]
  },
  {
   "cell_type": "markdown",
   "id": "8f0f7ccb",
   "metadata": {},
   "source": [
    "- global variable means outside the function\n",
    "\n",
    "\n",
    "    - global means it can use anywhere at anytime\n",
    "        \n",
    "    - which means global variable can use outside the function and inside the function\n",
    "    \n",
    "    \n",
    "    \n",
    "- local variable means the variables used inside the function only\n",
    "\n",
    "\n",
    "    - it can not use outside the function\n",
    "    "
   ]
  },
  {
   "cell_type": "code",
   "execution_count": 5,
   "id": "09c16e7e",
   "metadata": {},
   "outputs": [
    {
     "name": "stdout",
     "output_type": "stream",
     "text": [
      "2100\n"
     ]
    },
    {
     "ename": "NameError",
     "evalue": "name 'value' is not defined",
     "output_type": "error",
     "traceback": [
      "\u001b[1;31m---------------------------------------------------------------------------\u001b[0m",
      "\u001b[1;31mNameError\u001b[0m                                 Traceback (most recent call last)",
      "\u001b[1;32m~\\AppData\\Local\\Temp\\ipykernel_199012\\1429352993.py\u001b[0m in \u001b[0;36m<module>\u001b[1;34m\u001b[0m\n\u001b[0;32m      5\u001b[0m     \u001b[0mprint\u001b[0m\u001b[1;33m(\u001b[0m\u001b[0mvalue\u001b[0m\u001b[1;33m)\u001b[0m\u001b[1;33m\u001b[0m\u001b[1;33m\u001b[0m\u001b[0m\n\u001b[0;32m      6\u001b[0m \u001b[0msumm\u001b[0m\u001b[1;33m(\u001b[0m\u001b[1;33m)\u001b[0m\u001b[1;33m\u001b[0m\u001b[1;33m\u001b[0m\u001b[0m\n\u001b[1;32m----> 7\u001b[1;33m \u001b[0mprint\u001b[0m\u001b[1;33m(\u001b[0m\u001b[1;34m'add:'\u001b[0m\u001b[1;33m,\u001b[0m\u001b[0mvalue\u001b[0m\u001b[1;33m)\u001b[0m\u001b[1;33m\u001b[0m\u001b[1;33m\u001b[0m\u001b[0m\n\u001b[0m",
      "\u001b[1;31mNameError\u001b[0m: name 'value' is not defined"
     ]
    }
   ],
   "source": [
    "number1 = 100\n",
    "number2 = 200\n",
    "def summ():\n",
    "    value = number1+number2*10\n",
    "    print(value)\n",
    "summ()\n",
    "print('add:',value)"
   ]
  },
  {
   "cell_type": "markdown",
   "id": "d3527d45",
   "metadata": {},
   "source": [
    "- global variables are pan India star. (Release all over the india)\n",
    "\n",
    "\n",
    "- local variables are local star. (Release only on the localities)"
   ]
  },
  {
   "cell_type": "code",
   "execution_count": 6,
   "id": "1ba0c855",
   "metadata": {},
   "outputs": [
    {
     "name": "stdout",
     "output_type": "stream",
     "text": [
      "100000\n"
     ]
    }
   ],
   "source": [
    "salary = 0\n",
    "def math1():\n",
    "    age = 20\n",
    "    salary = age*5000\n",
    "    print(salary)\n",
    "\n",
    "math1()"
   ]
  },
  {
   "cell_type": "code",
   "execution_count": null,
   "id": "bb2e376c",
   "metadata": {},
   "outputs": [],
   "source": [
    "salary"
   ]
  },
  {
   "cell_type": "markdown",
   "id": "a210f9a5",
   "metadata": {},
   "source": [
    "**How to use local variables outside the functions(imp in interview)**"
   ]
  },
  {
   "cell_type": "code",
   "execution_count": 9,
   "id": "c2de22e5",
   "metadata": {},
   "outputs": [
    {
     "name": "stdout",
     "output_type": "stream",
     "text": [
      "100000\n"
     ]
    }
   ],
   "source": [
    "salary = 0\n",
    "def math1():\n",
    "    global salary\n",
    "    age = 20\n",
    "    salary = age*5000\n",
    "    print(salary)\n",
    "\n",
    "math1()\n",
    "# salary"
   ]
  },
  {
   "cell_type": "code",
   "execution_count": 10,
   "id": "e1ae6d9d",
   "metadata": {},
   "outputs": [
    {
     "data": {
      "text/plain": [
       "100000"
      ]
     },
     "execution_count": 10,
     "metadata": {},
     "output_type": "execute_result"
    }
   ],
   "source": [
    "salary"
   ]
  },
  {
   "cell_type": "code",
   "execution_count": 11,
   "id": "4699507b",
   "metadata": {},
   "outputs": [],
   "source": [
    "def Avg(n1,n2,n3):\n",
    "    ADDD = n1+n2+n3\n",
    "    AVERAGE = (n1+n2+n3)/3\n",
    "Avg(100,200,300)"
   ]
  },
  {
   "cell_type": "code",
   "execution_count": 12,
   "id": "cbb7c46e",
   "metadata": {},
   "outputs": [
    {
     "ename": "NameError",
     "evalue": "name 'AVERAGE' is not defined",
     "output_type": "error",
     "traceback": [
      "\u001b[1;31m---------------------------------------------------------------------------\u001b[0m",
      "\u001b[1;31mNameError\u001b[0m                                 Traceback (most recent call last)",
      "\u001b[1;32m~\\AppData\\Local\\Temp\\ipykernel_199012\\2926019260.py\u001b[0m in \u001b[0;36m<module>\u001b[1;34m\u001b[0m\n\u001b[1;32m----> 1\u001b[1;33m \u001b[0mAVERAGE\u001b[0m\u001b[1;33m\u001b[0m\u001b[1;33m\u001b[0m\u001b[0m\n\u001b[0m",
      "\u001b[1;31mNameError\u001b[0m: name 'AVERAGE' is not defined"
     ]
    }
   ],
   "source": [
    "AVERAGE"
   ]
  },
  {
   "cell_type": "code",
   "execution_count": 13,
   "id": "6a42f870",
   "metadata": {},
   "outputs": [
    {
     "ename": "NameError",
     "evalue": "name 'ADDD' is not defined",
     "output_type": "error",
     "traceback": [
      "\u001b[1;31m---------------------------------------------------------------------------\u001b[0m",
      "\u001b[1;31mNameError\u001b[0m                                 Traceback (most recent call last)",
      "\u001b[1;32m~\\AppData\\Local\\Temp\\ipykernel_199012\\4064868941.py\u001b[0m in \u001b[0;36m<module>\u001b[1;34m\u001b[0m\n\u001b[1;32m----> 1\u001b[1;33m \u001b[0mADDD\u001b[0m\u001b[1;33m\u001b[0m\u001b[1;33m\u001b[0m\u001b[0m\n\u001b[0m",
      "\u001b[1;31mNameError\u001b[0m: name 'ADDD' is not defined"
     ]
    }
   ],
   "source": [
    "ADDD"
   ]
  },
  {
   "cell_type": "code",
   "execution_count": 14,
   "id": "53498829",
   "metadata": {},
   "outputs": [],
   "source": [
    "def Avg(n1,n2,n3):\n",
    "    global ADDD,AVERAGE\n",
    "    ADDD = n1+n2+n3\n",
    "    AVERAGE = (n1+n2+n3)/3\n",
    "Avg(100,200,300)"
   ]
  },
  {
   "cell_type": "code",
   "execution_count": 15,
   "id": "e48d9578",
   "metadata": {},
   "outputs": [
    {
     "data": {
      "text/plain": [
       "600"
      ]
     },
     "execution_count": 15,
     "metadata": {},
     "output_type": "execute_result"
    }
   ],
   "source": [
    "ADDD"
   ]
  },
  {
   "cell_type": "code",
   "execution_count": 16,
   "id": "5b6a716a",
   "metadata": {},
   "outputs": [
    {
     "data": {
      "text/plain": [
       "200.0"
      ]
     },
     "execution_count": 16,
     "metadata": {},
     "output_type": "execute_result"
    }
   ],
   "source": [
    "AVERAGE"
   ]
  },
  {
   "cell_type": "markdown",
   "id": "f9e20101",
   "metadata": {},
   "source": [
    "**Unbound local error**\n",
    "\n",
    "- if we use local variable without initialize then we will get **unbound local error**"
   ]
  },
  {
   "cell_type": "code",
   "execution_count": 18,
   "id": "f9d6e348",
   "metadata": {},
   "outputs": [
    {
     "ename": "UnboundLocalError",
     "evalue": "local variable 's' referenced before assignment",
     "output_type": "error",
     "traceback": [
      "\u001b[1;31m---------------------------------------------------------------------------\u001b[0m",
      "\u001b[1;31mUnboundLocalError\u001b[0m                         Traceback (most recent call last)",
      "\u001b[1;32m~\\AppData\\Local\\Temp\\ipykernel_199012\\689296620.py\u001b[0m in \u001b[0;36m<module>\u001b[1;34m\u001b[0m\n\u001b[0;32m      3\u001b[0m     \u001b[0ms\u001b[0m \u001b[1;33m=\u001b[0m \u001b[0ms\u001b[0m\u001b[1;33m+\u001b[0m\u001b[1;36m10\u001b[0m\u001b[1;33m\u001b[0m\u001b[1;33m\u001b[0m\u001b[0m\n\u001b[0;32m      4\u001b[0m     \u001b[0mprint\u001b[0m\u001b[1;33m(\u001b[0m\u001b[0ms\u001b[0m\u001b[1;33m)\u001b[0m\u001b[1;33m\u001b[0m\u001b[1;33m\u001b[0m\u001b[0m\n\u001b[1;32m----> 5\u001b[1;33m \u001b[0mmath2\u001b[0m\u001b[1;33m(\u001b[0m\u001b[1;33m)\u001b[0m\u001b[1;33m\u001b[0m\u001b[1;33m\u001b[0m\u001b[0m\n\u001b[0m",
      "\u001b[1;32m~\\AppData\\Local\\Temp\\ipykernel_199012\\689296620.py\u001b[0m in \u001b[0;36mmath2\u001b[1;34m()\u001b[0m\n\u001b[0;32m      1\u001b[0m \u001b[0ms\u001b[0m\u001b[1;33m=\u001b[0m\u001b[1;36m0\u001b[0m\u001b[1;33m\u001b[0m\u001b[1;33m\u001b[0m\u001b[0m\n\u001b[0;32m      2\u001b[0m \u001b[1;32mdef\u001b[0m \u001b[0mmath2\u001b[0m\u001b[1;33m(\u001b[0m\u001b[1;33m)\u001b[0m\u001b[1;33m:\u001b[0m\u001b[1;33m\u001b[0m\u001b[1;33m\u001b[0m\u001b[0m\n\u001b[1;32m----> 3\u001b[1;33m     \u001b[0ms\u001b[0m \u001b[1;33m=\u001b[0m \u001b[0ms\u001b[0m\u001b[1;33m+\u001b[0m\u001b[1;36m10\u001b[0m\u001b[1;33m\u001b[0m\u001b[1;33m\u001b[0m\u001b[0m\n\u001b[0m\u001b[0;32m      4\u001b[0m     \u001b[0mprint\u001b[0m\u001b[1;33m(\u001b[0m\u001b[0ms\u001b[0m\u001b[1;33m)\u001b[0m\u001b[1;33m\u001b[0m\u001b[1;33m\u001b[0m\u001b[0m\n\u001b[0;32m      5\u001b[0m \u001b[0mmath2\u001b[0m\u001b[1;33m(\u001b[0m\u001b[1;33m)\u001b[0m\u001b[1;33m\u001b[0m\u001b[1;33m\u001b[0m\u001b[0m\n",
      "\u001b[1;31mUnboundLocalError\u001b[0m: local variable 's' referenced before assignment"
     ]
    }
   ],
   "source": [
    "s=0\n",
    "def math2():\n",
    "    s = s+10\n",
    "    print(s)\n",
    "math2()"
   ]
  },
  {
   "cell_type": "code",
   "execution_count": 20,
   "id": "f7ae921e",
   "metadata": {},
   "outputs": [],
   "source": [
    "########### Error: name error ###########\n",
    "def greet():\n",
    "    v1 = age*10\n",
    "    print(v1)\n",
    "greet()\n",
    "\n",
    "############ Error: unbound local ##########\n",
    "def greet():\n",
    "    age = age*10\n",
    "    print(age)\n",
    "greet()"
   ]
  },
  {
   "cell_type": "code",
   "execution_count": 21,
   "id": "a56a4c71",
   "metadata": {},
   "outputs": [
    {
     "name": "stdout",
     "output_type": "stream",
     "text": [
      "100\n"
     ]
    }
   ],
   "source": [
    "# name error solve\n",
    "age =10\n",
    "def greet():\n",
    "    v1 = age*10\n",
    "    print(v1)\n",
    "greet()"
   ]
  },
  {
   "cell_type": "code",
   "execution_count": 22,
   "id": "45740192",
   "metadata": {},
   "outputs": [
    {
     "ename": "UnboundLocalError",
     "evalue": "local variable 'age' referenced before assignment",
     "output_type": "error",
     "traceback": [
      "\u001b[1;31m---------------------------------------------------------------------------\u001b[0m",
      "\u001b[1;31mUnboundLocalError\u001b[0m                         Traceback (most recent call last)",
      "\u001b[1;32m~\\AppData\\Local\\Temp\\ipykernel_199012\\764790524.py\u001b[0m in \u001b[0;36m<module>\u001b[1;34m\u001b[0m\n\u001b[0;32m      3\u001b[0m     \u001b[0mage\u001b[0m \u001b[1;33m=\u001b[0m \u001b[0mage\u001b[0m\u001b[1;33m*\u001b[0m\u001b[1;36m10\u001b[0m\u001b[1;33m\u001b[0m\u001b[1;33m\u001b[0m\u001b[0m\n\u001b[0;32m      4\u001b[0m     \u001b[0mprint\u001b[0m\u001b[1;33m(\u001b[0m\u001b[0mage\u001b[0m\u001b[1;33m)\u001b[0m\u001b[1;33m\u001b[0m\u001b[1;33m\u001b[0m\u001b[0m\n\u001b[1;32m----> 5\u001b[1;33m \u001b[0mgreet2\u001b[0m\u001b[1;33m(\u001b[0m\u001b[1;33m)\u001b[0m\u001b[1;33m\u001b[0m\u001b[1;33m\u001b[0m\u001b[0m\n\u001b[0m",
      "\u001b[1;32m~\\AppData\\Local\\Temp\\ipykernel_199012\\764790524.py\u001b[0m in \u001b[0;36mgreet2\u001b[1;34m()\u001b[0m\n\u001b[0;32m      1\u001b[0m \u001b[0mage\u001b[0m \u001b[1;33m=\u001b[0m\u001b[1;36m10\u001b[0m\u001b[1;33m\u001b[0m\u001b[1;33m\u001b[0m\u001b[0m\n\u001b[0;32m      2\u001b[0m \u001b[1;32mdef\u001b[0m \u001b[0mgreet2\u001b[0m\u001b[1;33m(\u001b[0m\u001b[1;33m)\u001b[0m\u001b[1;33m:\u001b[0m\u001b[1;33m\u001b[0m\u001b[1;33m\u001b[0m\u001b[0m\n\u001b[1;32m----> 3\u001b[1;33m     \u001b[0mage\u001b[0m \u001b[1;33m=\u001b[0m \u001b[0mage\u001b[0m\u001b[1;33m*\u001b[0m\u001b[1;36m10\u001b[0m\u001b[1;33m\u001b[0m\u001b[1;33m\u001b[0m\u001b[0m\n\u001b[0m\u001b[0;32m      4\u001b[0m     \u001b[0mprint\u001b[0m\u001b[1;33m(\u001b[0m\u001b[0mage\u001b[0m\u001b[1;33m)\u001b[0m\u001b[1;33m\u001b[0m\u001b[1;33m\u001b[0m\u001b[0m\n\u001b[0;32m      5\u001b[0m \u001b[0mgreet2\u001b[0m\u001b[1;33m(\u001b[0m\u001b[1;33m)\u001b[0m\u001b[1;33m\u001b[0m\u001b[1;33m\u001b[0m\u001b[0m\n",
      "\u001b[1;31mUnboundLocalError\u001b[0m: local variable 'age' referenced before assignment"
     ]
    }
   ],
   "source": [
    "age =10\n",
    "def greet2():\n",
    "    age = age*10\n",
    "    print(age)\n",
    "greet2()"
   ]
  },
  {
   "cell_type": "code",
   "execution_count": 23,
   "id": "f56b6f9c",
   "metadata": {},
   "outputs": [
    {
     "name": "stdout",
     "output_type": "stream",
     "text": [
      "100\n"
     ]
    }
   ],
   "source": [
    "age2 = 10\n",
    "def greet3():\n",
    "    age = age2*10\n",
    "    print(age)\n",
    "greet()"
   ]
  },
  {
   "cell_type": "markdown",
   "id": "1dd90307",
   "metadata": {},
   "source": [
    "- Function with arguments\n",
    "\n",
    "\n",
    "- Function with out arguments\n",
    "\n",
    "\n",
    "- Functions default arguments\n",
    "\n",
    "\n",
    "- Global vs Local variables"
   ]
  },
  {
   "cell_type": "code",
   "execution_count": null,
   "id": "f34c378e",
   "metadata": {},
   "outputs": [],
   "source": [
    "    "
   ]
  }
 ],
 "metadata": {
  "kernelspec": {
   "display_name": "Python 3 (ipykernel)",
   "language": "python",
   "name": "python3"
  },
  "language_info": {
   "codemirror_mode": {
    "name": "ipython",
    "version": 3
   },
   "file_extension": ".py",
   "mimetype": "text/x-python",
   "name": "python",
   "nbconvert_exporter": "python",
   "pygments_lexer": "ipython3",
   "version": "3.9.13"
  }
 },
 "nbformat": 4,
 "nbformat_minor": 5
}
