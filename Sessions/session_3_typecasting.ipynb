{
 "cells": [
  {
   "cell_type": "markdown",
   "id": "d0c09e0e",
   "metadata": {},
   "source": [
    "**String to other datatypes**"
   ]
  },
  {
   "cell_type": "code",
   "execution_count": 6,
   "id": "f5823c16",
   "metadata": {},
   "outputs": [
    {
     "ename": "ValueError",
     "evalue": "could not convert string to float: 'python'",
     "output_type": "error",
     "traceback": [
      "\u001b[1;31m---------------------------------------------------------------------------\u001b[0m",
      "\u001b[1;31mValueError\u001b[0m                                Traceback (most recent call last)",
      "\u001b[1;32m~\\AppData\\Local\\Temp\\ipykernel_340676\\1183057483.py\u001b[0m in \u001b[0;36m<module>\u001b[1;34m\u001b[0m\n\u001b[0;32m      1\u001b[0m \u001b[0mstr1\u001b[0m \u001b[1;33m=\u001b[0m \u001b[1;34m'python'\u001b[0m\u001b[1;33m\u001b[0m\u001b[1;33m\u001b[0m\u001b[0m\n\u001b[1;32m----> 2\u001b[1;33m \u001b[0mfloat\u001b[0m\u001b[1;33m(\u001b[0m\u001b[0mstr1\u001b[0m\u001b[1;33m)\u001b[0m\u001b[1;33m\u001b[0m\u001b[1;33m\u001b[0m\u001b[0m\n\u001b[0m",
      "\u001b[1;31mValueError\u001b[0m: could not convert string to float: 'python'"
     ]
    }
   ],
   "source": [
    "str1 = 'python'\n",
    "float(str1)"
   ]
  },
  {
   "cell_type": "code",
   "execution_count": 2,
   "id": "6ab0e428",
   "metadata": {},
   "outputs": [
    {
     "data": {
      "text/plain": [
       "True"
      ]
     },
     "execution_count": 2,
     "metadata": {},
     "output_type": "execute_result"
    }
   ],
   "source": [
    "bool('python')"
   ]
  },
  {
   "cell_type": "code",
   "execution_count": null,
   "id": "d27cca75",
   "metadata": {},
   "outputs": [],
   "source": [
    "int('python')  #fail\n",
    "float('python') #fail\n",
    "bool('pyhon')  #works true"
   ]
  },
  {
   "cell_type": "code",
   "execution_count": 3,
   "id": "bae0a76a",
   "metadata": {},
   "outputs": [
    {
     "data": {
      "text/plain": [
       "10"
      ]
     },
     "execution_count": 3,
     "metadata": {},
     "output_type": "execute_result"
    }
   ],
   "source": [
    "str2 = '10'\n",
    "int(str2)"
   ]
  },
  {
   "cell_type": "code",
   "execution_count": 4,
   "id": "ae54a19e",
   "metadata": {},
   "outputs": [
    {
     "data": {
      "text/plain": [
       "10.0"
      ]
     },
     "execution_count": 4,
     "metadata": {},
     "output_type": "execute_result"
    }
   ],
   "source": [
    "float('10')#10.0\n"
   ]
  },
  {
   "cell_type": "code",
   "execution_count": 5,
   "id": "c111b4fe",
   "metadata": {},
   "outputs": [
    {
     "data": {
      "text/plain": [
       "True"
      ]
     },
     "execution_count": 5,
     "metadata": {},
     "output_type": "execute_result"
    }
   ],
   "source": [
    "bool('10')"
   ]
  },
  {
   "cell_type": "code",
   "execution_count": null,
   "id": "4c05a41d",
   "metadata": {},
   "outputs": [],
   "source": [
    "int('10') #10 works\n",
    "float('10') #10.0 works\n",
    "bool('10') #True works"
   ]
  },
  {
   "cell_type": "code",
   "execution_count": 9,
   "id": "794d6bec",
   "metadata": {},
   "outputs": [
    {
     "ename": "ValueError",
     "evalue": "invalid literal for int() with base 10: '10.5'",
     "output_type": "error",
     "traceback": [
      "\u001b[1;31m---------------------------------------------------------------------------\u001b[0m",
      "\u001b[1;31mValueError\u001b[0m                                Traceback (most recent call last)",
      "\u001b[1;32m~\\AppData\\Local\\Temp\\ipykernel_340676\\3987186825.py\u001b[0m in \u001b[0;36m<module>\u001b[1;34m\u001b[0m\n\u001b[1;32m----> 1\u001b[1;33m \u001b[0mint\u001b[0m\u001b[1;33m(\u001b[0m\u001b[1;34m'10.5'\u001b[0m\u001b[1;33m)\u001b[0m \u001b[1;31m#10 wroong fail\u001b[0m\u001b[1;33m\u001b[0m\u001b[1;33m\u001b[0m\u001b[0m\n\u001b[0m\u001b[0;32m      2\u001b[0m \u001b[0mfloat\u001b[0m\u001b[1;33m(\u001b[0m\u001b[1;34m'10.5'\u001b[0m\u001b[1;33m)\u001b[0m \u001b[1;31m#10.5 works\u001b[0m\u001b[1;33m\u001b[0m\u001b[1;33m\u001b[0m\u001b[0m\n\u001b[0;32m      3\u001b[0m \u001b[0mbool\u001b[0m\u001b[1;33m(\u001b[0m\u001b[1;34m'10.5'\u001b[0m\u001b[1;33m)\u001b[0m \u001b[1;31m#True works\u001b[0m\u001b[1;33m\u001b[0m\u001b[1;33m\u001b[0m\u001b[0m\n",
      "\u001b[1;31mValueError\u001b[0m: invalid literal for int() with base 10: '10.5'"
     ]
    }
   ],
   "source": [
    "int('10.5') #10 wroong fail\n",
    "float('10.5') #10.5 works\n",
    "bool('10.5') #True works"
   ]
  },
  {
   "cell_type": "code",
   "execution_count": 10,
   "id": "39132680",
   "metadata": {},
   "outputs": [
    {
     "data": {
      "text/plain": [
       "True"
      ]
     },
     "execution_count": 10,
     "metadata": {},
     "output_type": "execute_result"
    }
   ],
   "source": [
    "# int('10.5') #10 wroong fail\n",
    "float('10.5') #10.5 works\n",
    "bool('10.5') #True works"
   ]
  },
  {
   "cell_type": "code",
   "execution_count": 11,
   "id": "8ea956a6",
   "metadata": {},
   "outputs": [
    {
     "data": {
      "text/plain": [
       "10"
      ]
     },
     "execution_count": 11,
     "metadata": {},
     "output_type": "execute_result"
    }
   ],
   "source": [
    "int('10') #works\n",
    "int('10.5') #fail\n",
    "\n",
    "float('10') # works\n",
    "float('10.5') # works\n",
    "#float is the boss"
   ]
  },
  {
   "cell_type": "markdown",
   "id": "d8d4292a",
   "metadata": {},
   "source": [
    "- float is the boss\n",
    "\n",
    "\n",
    "- int conversion of **float value which represented as string('10.5')** will fail"
   ]
  },
  {
   "cell_type": "code",
   "execution_count": null,
   "id": "a8ed2c7f",
   "metadata": {},
   "outputs": [],
   "source": [
    "int('apple')\n",
    "float('apple')\n",
    "bool('apple')\n",
    "int('10')\n",
    "float('10')\n",
    "bool('10')\n",
    "int('10.5')\n",
    "float('10.5')\n",
    "bool('10.5')"
   ]
  },
  {
   "cell_type": "code",
   "execution_count": 12,
   "id": "d73c42fa",
   "metadata": {},
   "outputs": [
    {
     "data": {
      "text/plain": [
       "1"
      ]
     },
     "execution_count": 12,
     "metadata": {},
     "output_type": "execute_result"
    }
   ],
   "source": [
    "len('0')"
   ]
  },
  {
   "cell_type": "code",
   "execution_count": 13,
   "id": "9ea82591",
   "metadata": {},
   "outputs": [
    {
     "data": {
      "text/plain": [
       "0"
      ]
     },
     "execution_count": 13,
     "metadata": {},
     "output_type": "execute_result"
    }
   ],
   "source": [
    "len('')"
   ]
  },
  {
   "cell_type": "code",
   "execution_count": 14,
   "id": "90a9b722",
   "metadata": {},
   "outputs": [
    {
     "data": {
      "text/plain": [
       "2"
      ]
     },
     "execution_count": 14,
     "metadata": {},
     "output_type": "execute_result"
    }
   ],
   "source": [
    "len('01')"
   ]
  },
  {
   "cell_type": "code",
   "execution_count": 15,
   "id": "3ee3e919",
   "metadata": {},
   "outputs": [
    {
     "data": {
      "text/plain": [
       "3"
      ]
     },
     "execution_count": 15,
     "metadata": {},
     "output_type": "execute_result"
    }
   ],
   "source": [
    "len('off')"
   ]
  },
  {
   "cell_type": "code",
   "execution_count": null,
   "id": "f91f6e83",
   "metadata": {},
   "outputs": [],
   "source": [
    "float(10)\n",
    "str(10)\n",
    "bool(10)\n",
    "bool(0)\n",
    "int(10.5)\n",
    "str(10.5)\n"
   ]
  },
  {
   "cell_type": "code",
   "execution_count": 16,
   "id": "019cbb3d",
   "metadata": {},
   "outputs": [
    {
     "data": {
      "text/plain": [
       "10"
      ]
     },
     "execution_count": 16,
     "metadata": {},
     "output_type": "execute_result"
    }
   ],
   "source": [
    "int(10.9)"
   ]
  },
  {
   "cell_type": "code",
   "execution_count": null,
   "id": "623485fe",
   "metadata": {},
   "outputs": [],
   "source": []
  }
 ],
 "metadata": {
  "kernelspec": {
   "display_name": "Python 3 (ipykernel)",
   "language": "python",
   "name": "python3"
  },
  "language_info": {
   "codemirror_mode": {
    "name": "ipython",
    "version": 3
   },
   "file_extension": ".py",
   "mimetype": "text/x-python",
   "name": "python",
   "nbconvert_exporter": "python",
   "pygments_lexer": "ipython3",
   "version": "3.9.13"
  }
 },
 "nbformat": 4,
 "nbformat_minor": 5
}
