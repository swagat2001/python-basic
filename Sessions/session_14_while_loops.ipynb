{
 "cells": [
  {
   "cell_type": "markdown",
   "id": "4de2f73b",
   "metadata": {},
   "source": [
    "## while loop\n",
    "\n",
    "- while loop is similar to for loop only\n",
    "\n",
    "\n",
    "- but while loop iterate infinite times till the condition met\n",
    "\n",
    "\n",
    "- in for loop range we have 3 indicators start, stop, step\n",
    "\n",
    "    - where stop indicates how many times the loop should run\n",
    "    \n",
    "    \n",
    "- but in while loop we can implement stop also\n",
    "\n",
    "\n",
    "- we can iterate till condition meet"
   ]
  },
  {
   "cell_type": "markdown",
   "id": "e581e9e2",
   "metadata": {},
   "source": [
    "- any loop we need 3 things\n",
    "\n",
    "- 1st: intialization\n",
    "\n",
    "- 2nd : condition\n",
    "\n",
    "- 3rd: increment or decrement\n",
    "\n",
    "\n",
    "\n",
    "**Note**\n",
    "\n",
    "- in for loop all 3 are in single line\n",
    "\n",
    "    - for i in range(start,stop,step)\n",
    "    \n",
    "- but in while loop all three are in three lines\n",
    "\n",
    "- intial point\n",
    "\n",
    "- while <condition>:\n",
    "    < any python code >\n",
    "    increment or decrement"
   ]
  },
  {
   "cell_type": "code",
   "execution_count": 1,
   "id": "7a25842a",
   "metadata": {},
   "outputs": [],
   "source": [
    "# initial point\n",
    "# while <condition>:\n",
    "#     <python code ===========>\n",
    "#      increment or decrement"
   ]
  },
  {
   "cell_type": "code",
   "execution_count": 2,
   "id": "a5150b23",
   "metadata": {},
   "outputs": [
    {
     "name": "stdout",
     "output_type": "stream",
     "text": [
      "1 2 3 4 5 6 7 8 9 "
     ]
    }
   ],
   "source": [
    "for i in range(1,10):\n",
    "    print(i,end=' ')"
   ]
  },
  {
   "cell_type": "code",
   "execution_count": 5,
   "id": "fc3c5d16",
   "metadata": {},
   "outputs": [
    {
     "name": "stdout",
     "output_type": "stream",
     "text": [
      "1 2 3 4 5 6 7 8 9 "
     ]
    }
   ],
   "source": [
    "i = 1\n",
    "while i<10:\n",
    "    print(i,end=' ')\n",
    "    i= i+1\n",
    "# step-1: i=1 ==> while 1<10 (T) == > print(1) ==> i = 1+1 =2\n",
    "# step-2: i=2 ==> while 2<10 (T) == > print(2) ==> i = 2+1 =3\n",
    "# .\n",
    "# .\n",
    "# .\n",
    "# step-9: i=9 ==> while 9<10 (T) == > print(9) ==> i = 9+1 =10\n",
    "# step-10: i=10 ==> while 10<10 (F) stop here\n"
   ]
  },
  {
   "cell_type": "code",
   "execution_count": 6,
   "id": "cc261381",
   "metadata": {},
   "outputs": [
    {
     "name": "stdout",
     "output_type": "stream",
     "text": [
      "1 2 3 4 5 6 7 8 9 10 "
     ]
    }
   ],
   "source": [
    "# 1\n",
    "i = 1\n",
    "while i<=10:\n",
    "    print(i,end=' ')\n",
    "    i= i+1"
   ]
  },
  {
   "cell_type": "code",
   "execution_count": 7,
   "id": "6f341f2f",
   "metadata": {},
   "outputs": [
    {
     "name": "stdout",
     "output_type": "stream",
     "text": [
      "10 9 8 7 6 5 4 3 2 1 "
     ]
    }
   ],
   "source": [
    "# 2\n",
    "i = 10\n",
    "while i>=1:\n",
    "    print(i,end=' ')\n",
    "    i= i-1"
   ]
  },
  {
   "cell_type": "code",
   "execution_count": 8,
   "id": "3eab8a12",
   "metadata": {},
   "outputs": [
    {
     "name": "stdout",
     "output_type": "stream",
     "text": [
      "-1 -2 -3 -4 -5 -6 -7 -8 -9 -10 "
     ]
    }
   ],
   "source": [
    "# 3\n",
    "i = -1\n",
    "while i>=-10:\n",
    "    print(i,end=' ')\n",
    "    i= i-1"
   ]
  },
  {
   "cell_type": "code",
   "execution_count": 9,
   "id": "d1a9910e",
   "metadata": {},
   "outputs": [
    {
     "name": "stdout",
     "output_type": "stream",
     "text": [
      "-10 -9 -8 -7 -6 -5 -4 -3 -2 -1 "
     ]
    }
   ],
   "source": [
    "# 4\n",
    "i = -10\n",
    "while i<=-1:\n",
    "    print(i,end=' ')\n",
    "    i= i+1"
   ]
  },
  {
   "cell_type": "code",
   "execution_count": 10,
   "id": "d99d7295",
   "metadata": {},
   "outputs": [
    {
     "name": "stdout",
     "output_type": "stream",
     "text": [
      "10 9 8 7 6 5 4 3 2 "
     ]
    }
   ],
   "source": [
    "# 2\n",
    "i = 10\n",
    "while True:\n",
    "    print(i,end=' ')\n",
    "    i= i-1\n",
    "    if i == 1:\n",
    "        break"
   ]
  },
  {
   "cell_type": "code",
   "execution_count": 15,
   "id": "b186a211",
   "metadata": {},
   "outputs": [
    {
     "name": "stdout",
     "output_type": "stream",
     "text": [
      "-1 -2 -3 -4 -5 -6 -7 -8 -9 -10 "
     ]
    }
   ],
   "source": [
    "# 3\n",
    "i = -1\n",
    "while True:\n",
    "    print(i,end=' ')\n",
    "    i= i-1\n",
    "    if i==-11:\n",
    "        break"
   ]
  },
  {
   "cell_type": "code",
   "execution_count": 16,
   "id": "73bfcdc0",
   "metadata": {},
   "outputs": [
    {
     "name": "stdout",
     "output_type": "stream",
     "text": [
      "-10 -9 -8 -7 -6 -5 -4 -3 -2 -1 "
     ]
    }
   ],
   "source": [
    "# 4\n",
    "i = -10\n",
    "while True:\n",
    "    print(i,end=' ')\n",
    "    i= i+1\n",
    "    if i == 0:\n",
    "        break"
   ]
  },
  {
   "cell_type": "markdown",
   "id": "95372df8",
   "metadata": {},
   "source": [
    "**While loop practices**"
   ]
  },
  {
   "cell_type": "code",
   "execution_count": 1,
   "id": "368496f1",
   "metadata": {},
   "outputs": [
    {
     "name": "stdout",
     "output_type": "stream",
     "text": [
      "Good Evening\n",
      "Good Evening\n",
      "Good Evening\n",
      "Good Evening\n",
      "Good Evening\n"
     ]
    }
   ],
   "source": [
    "# for i in range(1,5):\n",
    "#     print(\"good evening\")\n",
    "\n",
    "i = 1\n",
    "while True:\n",
    "    print('Good Evening')\n",
    "    i+=1\n",
    "    if i == 6:\n",
    "        break"
   ]
  },
  {
   "cell_type": "code",
   "execution_count": 2,
   "id": "591e669e",
   "metadata": {},
   "outputs": [],
   "source": [
    "# # q2\n",
    "# import math\n",
    "# for i in range(6):\n",
    "#     print(f\"The square of {i} is {pow(i,2)}\")\n",
    "\n",
    "import math\n",
    "i = 1\n",
    "while True:\n",
    "    print(f'The square of {i} is {pow(i,2)} .')"
   ]
  },
  {
   "cell_type": "code",
   "execution_count": null,
   "id": "41407c3f",
   "metadata": {},
   "outputs": [],
   "source": []
  },
  {
   "cell_type": "code",
   "execution_count": null,
   "id": "eb67d2ea",
   "metadata": {},
   "outputs": [],
   "source": []
  }
 ],
 "metadata": {
  "kernelspec": {
   "display_name": "Python 3 (ipykernel)",
   "language": "python",
   "name": "python3"
  },
  "language_info": {
   "codemirror_mode": {
    "name": "ipython",
    "version": 3
   },
   "file_extension": ".py",
   "mimetype": "text/x-python",
   "name": "python",
   "nbconvert_exporter": "python",
   "pygments_lexer": "ipython3",
   "version": "3.9.13"
  }
 },
 "nbformat": 4,
 "nbformat_minor": 5
}
