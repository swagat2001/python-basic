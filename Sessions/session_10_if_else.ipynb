{
 "cells": [
  {
   "cell_type": "markdown",
   "id": "db6eddf4",
   "metadata": {},
   "source": [
    "- we \n",
    "\n",
    "\n",
    "- if \n",
    "\n",
    "\n",
    "- if-else\n",
    "\n",
    "\n",
    "- if elif else"
   ]
  },
  {
   "cell_type": "markdown",
   "id": "a095038d",
   "metadata": {},
   "source": [
    "**Case-1 : if**"
   ]
  },
  {
   "cell_type": "code",
   "execution_count": 1,
   "id": "be52c72d",
   "metadata": {},
   "outputs": [],
   "source": [
    "# if <condition>:\n",
    "    # start write your code\n",
    "    # code\n",
    "    # code\n",
    "    "
   ]
  },
  {
   "cell_type": "code",
   "execution_count": 2,
   "id": "927dab9b",
   "metadata": {},
   "outputs": [
    {
     "name": "stdout",
     "output_type": "stream",
     "text": [
      "hello\n"
     ]
    }
   ],
   "source": [
    "print('hello')"
   ]
  },
  {
   "cell_type": "code",
   "execution_count": 4,
   "id": "8617dd3a",
   "metadata": {},
   "outputs": [
    {
     "data": {
      "text/plain": [
       "True"
      ]
     },
     "execution_count": 4,
     "metadata": {},
     "output_type": "execute_result"
    }
   ],
   "source": [
    "100>10"
   ]
  },
  {
   "cell_type": "code",
   "execution_count": 6,
   "id": "46c08734",
   "metadata": {},
   "outputs": [
    {
     "data": {
      "text/plain": [
       "False"
      ]
     },
     "execution_count": 6,
     "metadata": {},
     "output_type": "execute_result"
    }
   ],
   "source": [
    "100<10"
   ]
  },
  {
   "cell_type": "code",
   "execution_count": 7,
   "id": "23aa493a",
   "metadata": {},
   "outputs": [
    {
     "data": {
      "text/plain": [
       "False"
      ]
     },
     "execution_count": 7,
     "metadata": {},
     "output_type": "execute_result"
    }
   ],
   "source": [
    "100==10"
   ]
  },
  {
   "cell_type": "markdown",
   "id": "5b3dedb5",
   "metadata": {},
   "source": [
    "**Note**\n",
    "\n",
    "- single equal means assignment\n",
    "\n",
    "\n",
    "- double equal means condition"
   ]
  },
  {
   "cell_type": "code",
   "execution_count": 8,
   "id": "6a2d4704",
   "metadata": {},
   "outputs": [
    {
     "name": "stdout",
     "output_type": "stream",
     "text": [
      "False\n",
      "True\n",
      "False\n",
      "True\n",
      "False\n",
      "True\n"
     ]
    }
   ],
   "source": [
    "num = 10\n",
    "print(num>100)\n",
    "print(num<100)\n",
    "print(num>=100)\n",
    "print(num<=100)\n",
    "print(num==100)\n",
    "print(num!=100)"
   ]
  },
  {
   "cell_type": "code",
   "execution_count": 10,
   "id": "6253b5ee",
   "metadata": {},
   "outputs": [
    {
     "data": {
      "text/plain": [
       "False"
      ]
     },
     "execution_count": 10,
     "metadata": {},
     "output_type": "execute_result"
    }
   ],
   "source": [
    "n1 = 100\n",
    "n2 = 200\n",
    "n1>n2 and n1<n2  # T and T ===> T"
   ]
  },
  {
   "cell_type": "code",
   "execution_count": 11,
   "id": "99dbb47f",
   "metadata": {},
   "outputs": [
    {
     "data": {
      "text/plain": [
       "True"
      ]
     },
     "execution_count": 11,
     "metadata": {},
     "output_type": "execute_result"
    }
   ],
   "source": [
    "n1 = 100\n",
    "n2 = 200\n",
    "n1>n2 or n1<n2 # F or T ===> T"
   ]
  },
  {
   "cell_type": "code",
   "execution_count": 12,
   "id": "1fda737e",
   "metadata": {},
   "outputs": [
    {
     "name": "stdout",
     "output_type": "stream",
     "text": [
      "Hello\n"
     ]
    }
   ],
   "source": [
    "if 100>10:\n",
    "    print('Hello')\n",
    "#  step-1 : if 100>10 : if true\n",
    "# step-2 : hello"
   ]
  },
  {
   "cell_type": "code",
   "execution_count": 14,
   "id": "2c798fcb",
   "metadata": {},
   "outputs": [],
   "source": [
    "if 100<10:\n",
    "    print('Hello')\n",
    "#  step-1 : if 100>10 : if false"
   ]
  },
  {
   "cell_type": "markdown",
   "id": "aebad9fd",
   "metadata": {},
   "source": [
    "**Mistake-1: Indentation error**"
   ]
  },
  {
   "cell_type": "code",
   "execution_count": 15,
   "id": "18e47a2b",
   "metadata": {},
   "outputs": [],
   "source": [
    "# if 100>10:\n",
    "#     print('Hiiii')\n",
    "# else:\n",
    "#     print('Bye')"
   ]
  },
  {
   "cell_type": "code",
   "execution_count": 16,
   "id": "d061ea6d",
   "metadata": {},
   "outputs": [
    {
     "ename": "IndentationError",
     "evalue": "expected an indented block (2267860612.py, line 2)",
     "output_type": "error",
     "traceback": [
      "\u001b[1;36m  File \u001b[1;32m\"C:\\Users\\swaga\\AppData\\Local\\Temp\\ipykernel_755416\\2267860612.py\"\u001b[1;36m, line \u001b[1;32m2\u001b[0m\n\u001b[1;33m    print(.hello)\u001b[0m\n\u001b[1;37m    ^\u001b[0m\n\u001b[1;31mIndentationError\u001b[0m\u001b[1;31m:\u001b[0m expected an indented block\n"
     ]
    }
   ],
   "source": [
    "if (100>10):\n",
    "print(.hello)"
   ]
  },
  {
   "cell_type": "markdown",
   "id": "4c7bbf84",
   "metadata": {},
   "source": [
    "**Mistake-2:**"
   ]
  },
  {
   "cell_type": "code",
   "execution_count": 20,
   "id": "66d49b2d",
   "metadata": {},
   "outputs": [
    {
     "ename": "IndentationError",
     "evalue": "unindent does not match any outer indentation level (<tokenize>, line 6)",
     "output_type": "error",
     "traceback": [
      "\u001b[1;36m  File \u001b[1;32m\"<tokenize>\"\u001b[1;36m, line \u001b[1;32m6\u001b[0m\n\u001b[1;33m    print(add)\u001b[0m\n\u001b[1;37m    ^\u001b[0m\n\u001b[1;31mIndentationError\u001b[0m\u001b[1;31m:\u001b[0m unindent does not match any outer indentation level\n"
     ]
    }
   ],
   "source": [
    "if 100>10:\n",
    "    print('hello')\n",
    "    a = 10\n",
    "      b = 20\n",
    "    add = a+b\n",
    "   print(add)"
   ]
  },
  {
   "cell_type": "code",
   "execution_count": 21,
   "id": "37cd7ab5",
   "metadata": {},
   "outputs": [
    {
     "name": "stdout",
     "output_type": "stream",
     "text": [
      "hello\n",
      "30\n"
     ]
    }
   ],
   "source": [
    "if 100>10:\n",
    "    print('hello')\n",
    "    a = 10\n",
    "    b = 20\n",
    "    add = a+b\n",
    "    print(add)"
   ]
  },
  {
   "cell_type": "markdown",
   "id": "4b002443",
   "metadata": {},
   "source": [
    "**Mistake-3**"
   ]
  },
  {
   "cell_type": "code",
   "execution_count": 22,
   "id": "d4b1dbfe",
   "metadata": {},
   "outputs": [
    {
     "ename": "SyntaxError",
     "evalue": "invalid syntax (4081822489.py, line 1)",
     "output_type": "error",
     "traceback": [
      "\u001b[1;36m  File \u001b[1;32m\"C:\\Users\\swaga\\AppData\\Local\\Temp\\ipykernel_755416\\4081822489.py\"\u001b[1;36m, line \u001b[1;32m1\u001b[0m\n\u001b[1;33m    if 100>10\u001b[0m\n\u001b[1;37m             ^\u001b[0m\n\u001b[1;31mSyntaxError\u001b[0m\u001b[1;31m:\u001b[0m invalid syntax\n"
     ]
    }
   ],
   "source": [
    "if 100>10\n",
    "    print('hello')"
   ]
  },
  {
   "cell_type": "markdown",
   "id": "7be2ccdc",
   "metadata": {},
   "source": [
    "**Mistake-4**"
   ]
  },
  {
   "cell_type": "code",
   "execution_count": 23,
   "id": "4fd8ad08",
   "metadata": {},
   "outputs": [
    {
     "ename": "SyntaxError",
     "evalue": "invalid syntax (4258461535.py, line 1)",
     "output_type": "error",
     "traceback": [
      "\u001b[1;36m  File \u001b[1;32m\"C:\\Users\\swaga\\AppData\\Local\\Temp\\ipykernel_755416\\4258461535.py\"\u001b[1;36m, line \u001b[1;32m1\u001b[0m\n\u001b[1;33m    if :\u001b[0m\n\u001b[1;37m       ^\u001b[0m\n\u001b[1;31mSyntaxError\u001b[0m\u001b[1;31m:\u001b[0m invalid syntax\n"
     ]
    }
   ],
   "source": [
    "if :\n",
    "    print('hello')"
   ]
  },
  {
   "cell_type": "code",
   "execution_count": 26,
   "id": "c9fbee6a",
   "metadata": {},
   "outputs": [
    {
     "name": "stdout",
     "output_type": "stream",
     "text": [
      "im inif condition\n",
      "im a True condition\n",
      "then its good\n"
     ]
    }
   ],
   "source": [
    "if 100>10:\n",
    "    print('im inif condition')\n",
    "    print('im a True condition')\n",
    "    print(\"then its good\")"
   ]
  },
  {
   "cell_type": "code",
   "execution_count": 27,
   "id": "bc401d6c",
   "metadata": {},
   "outputs": [
    {
     "name": "stdout",
     "output_type": "stream",
     "text": [
      "im inif condition\n",
      "im a True condition\n",
      "then its good\n",
      "im out of if condition\n"
     ]
    }
   ],
   "source": [
    "if 100>10:\n",
    "    print('im inif condition')\n",
    "    print('im a True condition')\n",
    "    print(\"then its good\")\n",
    "#######################################\n",
    "print('im out of if condition')"
   ]
  },
  {
   "cell_type": "code",
   "execution_count": 28,
   "id": "bb8a3289",
   "metadata": {},
   "outputs": [
    {
     "name": "stdout",
     "output_type": "stream",
     "text": [
      "1\n",
      "2\n",
      "hello\n",
      "im inif condition\n",
      "im a True condition\n",
      "then its good\n",
      "im out of if condition\n"
     ]
    }
   ],
   "source": [
    "print(1)\n",
    "print(2)\n",
    "print('hello')\n",
    "##################\n",
    "if 100>10:\n",
    "    print('im inif condition')\n",
    "    print('im a True condition')\n",
    "    print(\"then its good\")\n",
    "#######################################\n",
    "print('im out of if condition')"
   ]
  },
  {
   "cell_type": "code",
   "execution_count": 29,
   "id": "717b31c4",
   "metadata": {},
   "outputs": [
    {
     "name": "stdout",
     "output_type": "stream",
     "text": [
      "1\n",
      "2\n",
      "hello\n",
      "im out of if condition\n"
     ]
    }
   ],
   "source": [
    "print(1)\n",
    "print(2)\n",
    "print('hello')\n",
    "##################\n",
    "if 100<10:  # false condition\n",
    "    print('im inif condition')\n",
    "    print('im a True condition')\n",
    "    print(\"then its good\")\n",
    "#######################################\n",
    "print('im out of if condition')"
   ]
  },
  {
   "cell_type": "code",
   "execution_count": 31,
   "id": "03175844",
   "metadata": {},
   "outputs": [
    {
     "name": "stdout",
     "output_type": "stream",
     "text": [
      "hello\n",
      "good eve\n",
      "bye\n"
     ]
    }
   ],
   "source": [
    "######## senario-1 ########\n",
    "if 100>10:\n",
    "    print('hello')\n",
    "\n",
    "######## senario-2 ########\n",
    "if True:\n",
    "    print('good eve')\n",
    "\n",
    "######## senario-3 ########\n",
    "if bool(100):\n",
    "    print('bye')"
   ]
  },
  {
   "cell_type": "markdown",
   "id": "36de8682",
   "metadata": {},
   "source": [
    "**Case-2: if-else**\n",
    "\n",
    "- when condition fails it goes to else area\n",
    "\n",
    "- only if needs condition, else does not need any condition"
   ]
  },
  {
   "cell_type": "code",
   "execution_count": 33,
   "id": "80a12980",
   "metadata": {},
   "outputs": [],
   "source": [
    "if <condition>:\n",
    "    # start write your code\n",
    "else:\n",
    "    # write your code"
   ]
  },
  {
   "cell_type": "code",
   "execution_count": 34,
   "id": "01ff27d9",
   "metadata": {},
   "outputs": [
    {
     "name": "stdout",
     "output_type": "stream",
     "text": [
      "hello\n"
     ]
    }
   ],
   "source": [
    "if 100>10:\n",
    "    print('hello')\n",
    "else:\n",
    "    print('BYE')"
   ]
  },
  {
   "cell_type": "code",
   "execution_count": 36,
   "id": "27b6ad7e",
   "metadata": {},
   "outputs": [
    {
     "name": "stdout",
     "output_type": "stream",
     "text": [
      "BYE\n"
     ]
    }
   ],
   "source": [
    "if 100<10:\n",
    "    print('hello')\n",
    "else:\n",
    "    print('BYE')\n",
    "\n",
    "# step-1: if 100<10 false\n",
    "# step-2: else area\n",
    "# step-3: bye"
   ]
  },
  {
   "cell_type": "code",
   "execution_count": 37,
   "id": "cdab391c",
   "metadata": {},
   "outputs": [
    {
     "name": "stdout",
     "output_type": "stream",
     "text": [
      "hello\n",
      "okay\n"
     ]
    }
   ],
   "source": [
    "if 100>10:\n",
    "    print('hello')\n",
    "else:\n",
    "    print('BYE')\n",
    "print('okay')"
   ]
  },
  {
   "cell_type": "code",
   "execution_count": 38,
   "id": "9da313de",
   "metadata": {},
   "outputs": [
    {
     "name": "stdout",
     "output_type": "stream",
     "text": [
      "BYE\n",
      "okay\n"
     ]
    }
   ],
   "source": [
    "if 100<10:\n",
    "    print('hello')\n",
    "else:\n",
    "    print('BYE')\n",
    "print('okay')"
   ]
  },
  {
   "cell_type": "code",
   "execution_count": 39,
   "id": "a4520105",
   "metadata": {},
   "outputs": [
    {
     "name": "stdout",
     "output_type": "stream",
     "text": [
      "hey\n",
      "hello\n",
      "okay\n"
     ]
    }
   ],
   "source": [
    "print('hey')\n",
    "if 100>10:\n",
    "    print('hello')\n",
    "else:\n",
    "    print('BYE')\n",
    "print('okay')"
   ]
  },
  {
   "cell_type": "code",
   "execution_count": 40,
   "id": "f7982259",
   "metadata": {},
   "outputs": [
    {
     "ename": "SyntaxError",
     "evalue": "invalid syntax (2412222487.py, line 5)",
     "output_type": "error",
     "traceback": [
      "\u001b[1;36m  File \u001b[1;32m\"C:\\Users\\swaga\\AppData\\Local\\Temp\\ipykernel_755416\\2412222487.py\"\u001b[1;36m, line \u001b[1;32m5\u001b[0m\n\u001b[1;33m    else:\u001b[0m\n\u001b[1;37m    ^\u001b[0m\n\u001b[1;31mSyntaxError\u001b[0m\u001b[1;31m:\u001b[0m invalid syntax\n"
     ]
    }
   ],
   "source": [
    "print('hey')\n",
    "if 100>10:\n",
    "    print('hello')\n",
    "print('Why are you in middle')\n",
    "else:\n",
    "    print('BYE')\n",
    "print('okay')"
   ]
  },
  {
   "cell_type": "code",
   "execution_count": 43,
   "id": "2ecd8661",
   "metadata": {},
   "outputs": [
    {
     "name": "stdout",
     "output_type": "stream",
     "text": [
      "Enter a number :-1\n",
      "-1 is Negative\n"
     ]
    }
   ],
   "source": [
    "# q1\n",
    "# WAP ask the user enter a number\n",
    "# print positive if number greater than>=0\n",
    "# otherwise print negative\n",
    "\n",
    "# Idea:\n",
    "# step-1 num = eval(input())\n",
    "\n",
    "\n",
    "\n",
    "num = eval(input('Enter a number :'))\n",
    "if num>=0:\n",
    "    print(f'{num} is Positive')\n",
    "else:\n",
    "    print(f'{num} is Negative')"
   ]
  },
  {
   "cell_type": "code",
   "execution_count": 48,
   "id": "f7c603ec",
   "metadata": {},
   "outputs": [
    {
     "name": "stdout",
     "output_type": "stream",
     "text": [
      "Enter num1 :90\n",
      "Enter num2 :100\n",
      "100 is greater than90\n"
     ]
    }
   ],
   "source": [
    "# q2\n",
    "num1 = eval(input('Enter num1 :'))\n",
    "num2 = eval(input('Enter num2 :'))\n",
    "\n",
    "if num1>num2:\n",
    "    print(f'{num1} is greater than{num2}')\n",
    "else:\n",
    "     print(f'{num2} is greater than {num1}')"
   ]
  },
  {
   "cell_type": "code",
   "execution_count": 49,
   "id": "92f3126f",
   "metadata": {},
   "outputs": [
    {
     "name": "stdout",
     "output_type": "stream",
     "text": [
      "117 is greater than 86\n"
     ]
    }
   ],
   "source": [
    "# q2\n",
    "import random\n",
    "num1 = random.randint(100,120)\n",
    "num2 = random.randint(80,110)\n",
    "\n",
    "if num1>=num2:\n",
    "    print(f'{num1} is greater than {num2}')\n",
    "else:\n",
    "     print(f'{num2} is greater than {num1}')"
   ]
  },
  {
   "cell_type": "code",
   "execution_count": 55,
   "id": "dff5fa41",
   "metadata": {},
   "outputs": [
    {
     "name": "stdout",
     "output_type": "stream",
     "text": [
      "Enter your number:8\n",
      "Won\n"
     ]
    }
   ],
   "source": [
    "# q3\n",
    "# We will enter one number\n",
    "# code will give some random number 1 to 10 n2\n",
    "# if both are equal then print won\n",
    "# other wise lost\n",
    "\n",
    "import random\n",
    "n1 = eval(input('Enter your number:'))\n",
    "n2 = random.randint(1,10)\n",
    "if n1==n2:\n",
    "    print('Won')\n",
    "else:\n",
    "    print('Lost')"
   ]
  },
  {
   "cell_type": "code",
   "execution_count": 57,
   "id": "10fac3bc",
   "metadata": {},
   "outputs": [
    {
     "name": "stdout",
     "output_type": "stream",
     "text": [
      "Enter your number:10\n",
      "13\n",
      "Lost\n"
     ]
    }
   ],
   "source": [
    "import random\n",
    "\n",
    "n2 = random.randint(10,20)\n",
    "print(n2)n1 = eval(input('Enter your number:'))\n",
    "if n1==n2:\n",
    "    print('Won')\n",
    "else:\n",
    "    print('Lost')"
   ]
  },
  {
   "cell_type": "code",
   "execution_count": 3,
   "id": "b0bea683",
   "metadata": {},
   "outputs": [
    {
     "name": "stdout",
     "output_type": "stream",
     "text": [
      "Enter the distance in km : 500\n",
      "Enter the free distance : 100\n",
      "Enter the charge per km :10\n",
      "Total charge is : 4000\n"
     ]
    }
   ],
   "source": [
    "# q4\n",
    "\n",
    "dist = eval(input('Enter the distance in km : '))\n",
    "free_distance = eval(input('Enter the free distance : '))\n",
    "if dist>=free_distance:\n",
    "    charge = eval(input('Enter the charge per km :'))\n",
    "    travel_distance = dist - free_distance \n",
    "    total_charge = travel_distance*charge\n",
    "    print(f'Total charge is : {total_charge}')\n",
    "else:\n",
    "    print('Free ride')"
   ]
  },
  {
   "cell_type": "code",
   "execution_count": 11,
   "id": "c33ae7b0",
   "metadata": {},
   "outputs": [
    {
     "name": "stdout",
     "output_type": "stream",
     "text": [
      "Enter the distance in km : 200\n",
      "Enter the free distance : 190\n",
      "Enter the charge per km :2\n",
      "The distance coverd is 200km-190km= 10km\n",
      "Total charge is : 10km*2rs = 20rs\n"
     ]
    }
   ],
   "source": [
    "# q4\n",
    "\n",
    "dist = eval(input('Enter the distance in km : '))\n",
    "free_distance = eval(input('Enter the free distance : '))\n",
    "if dist<=free_distance:\n",
    "    print('Free ride')\n",
    "else:\n",
    "    charge = eval(input('Enter the charge per km :'))\n",
    "    travel_distance = dist - free_distance \n",
    "    print(f'The distance coverd is {dist}km-{free_distance}km= {travel_distance}km')\n",
    "    total_charge = travel_distance*charge\n",
    "    print(f'Total charge is : {travel_distance}km*{charge}rs = {total_charge}rs')"
   ]
  },
  {
   "cell_type": "code",
   "execution_count": 19,
   "id": "121e6bf0",
   "metadata": {},
   "outputs": [
    {
     "name": "stdout",
     "output_type": "stream",
     "text": [
      "Enter your gender:MALE\n",
      "Enter the distance you : 30\n",
      "Enter charge per km : 2\n",
      "The total charge of distance 30 is 60\n"
     ]
    }
   ],
   "source": [
    "# q5\n",
    "gender = input(\"Enter your gender:\")\n",
    "if gender == 'male'or'MALE':\n",
    "    dist = eval(input('Enter the distance you : '))\n",
    "    charge = eval(input('Enter charge per km : '))\n",
    "    total_charge = dist*charge\n",
    "    print(f'The total charge of distance {dist} is {total_charge}')\n",
    "else:\n",
    "    print('Free ride')"
   ]
  },
  {
   "cell_type": "code",
   "execution_count": 20,
   "id": "2270ebb8",
   "metadata": {},
   "outputs": [
    {
     "name": "stdout",
     "output_type": "stream",
     "text": [
      "Enter a number to check even or odd : 11\n",
      "11 is odd\n"
     ]
    }
   ],
   "source": [
    "# q6\n",
    "num = eval(input('Enter a number to check even or odd : '))\n",
    "if num%2 == 0:\n",
    "    print(f'{num} is even')\n",
    "else:\n",
    "    print(f'{num} is odd')"
   ]
  },
  {
   "cell_type": "code",
   "execution_count": 21,
   "id": "1cc3fbde",
   "metadata": {},
   "outputs": [
    {
     "data": {
      "text/plain": [
       "1.6666666666666667"
      ]
     },
     "execution_count": 21,
     "metadata": {},
     "output_type": "execute_result"
    }
   ],
   "source": [
    "5/3"
   ]
  },
  {
   "cell_type": "code",
   "execution_count": 22,
   "id": "742eef51",
   "metadata": {},
   "outputs": [
    {
     "data": {
      "text/plain": [
       "1"
      ]
     },
     "execution_count": 22,
     "metadata": {},
     "output_type": "execute_result"
    }
   ],
   "source": [
    "5//3   # floor qutionet"
   ]
  },
  {
   "cell_type": "code",
   "execution_count": 23,
   "id": "6f1e1b79",
   "metadata": {},
   "outputs": [
    {
     "data": {
      "text/plain": [
       "2"
      ]
     },
     "execution_count": 23,
     "metadata": {},
     "output_type": "execute_result"
    }
   ],
   "source": [
    "5%3  # reminder"
   ]
  },
  {
   "cell_type": "code",
   "execution_count": 25,
   "id": "6cdb29fc",
   "metadata": {},
   "outputs": [
    {
     "name": "stdout",
     "output_type": "stream",
     "text": [
      "Enter your enrolled course : data science\n",
      "Enter your institute name : NareshIT\n",
      "Life is secure\n"
     ]
    }
   ],
   "source": [
    "course = input('Enter your enrolled course : ')\n",
    "institute = input('Enter your institute name : ')\n",
    "if course == 'data science' and institute == 'NareshIT':\n",
    "    print('Life is secure')\n",
    "else:\n",
    "    print('Khatam zindagi')"
   ]
  },
  {
   "cell_type": "code",
   "execution_count": null,
   "id": "06dfdedb",
   "metadata": {},
   "outputs": [],
   "source": [
    "#  if\n",
    "# if else\n",
    "# if elif else\n"
   ]
  },
  {
   "cell_type": "code",
   "execution_count": null,
   "id": "d8c161ac",
   "metadata": {},
   "outputs": [],
   "source": [
    "# ask the user enter a number\n",
    "# print if >0 pos\n",
    "# print if <0 neg\n",
    "# print if==0 zero\n",
    "\n",
    "if <cond>\n",
    "elif<cond> \n",
    "else no need of men\n",
    "\n",
    "if\n",
    "if else\n",
    "if elif else\n",
    "if elif elif else\n",
    "if elif elif elif else"
   ]
  },
  {
   "cell_type": "code",
   "execution_count": 3,
   "id": "ed2404e4",
   "metadata": {},
   "outputs": [
    {
     "name": "stdout",
     "output_type": "stream",
     "text": [
      "Enter a number: 0\n",
      "The number 0 is equal to zero\n"
     ]
    }
   ],
   "source": [
    "num = eval(input('Enter a number: '))\n",
    "if num > 0:\n",
    "    print(f'The number {num} is positive')\n",
    "elif num < 0:\n",
    "    print(f'The number {num} is negative')\n",
    "else:\n",
    "    print(f'The number {num} is equal to zero')"
   ]
  },
  {
   "cell_type": "code",
   "execution_count": 4,
   "id": "b69c37cf",
   "metadata": {},
   "outputs": [
    {
     "name": "stdout",
     "output_type": "stream",
     "text": [
      "The number -1 is negative\n"
     ]
    }
   ],
   "source": [
    "import random\n",
    "num = random.randint(-10,10)\n",
    "if num > 0:\n",
    "    print(f'The number {num} is positive')\n",
    "elif num < 0:\n",
    "    print(f'The number {num} is negative')\n",
    "else:\n",
    "    print(f'The number {num} is equal to zero')"
   ]
  },
  {
   "cell_type": "code",
   "execution_count": 10,
   "id": "b92512ab",
   "metadata": {},
   "outputs": [
    {
     "name": "stdout",
     "output_type": "stream",
     "text": [
      "Enter your percentage :85\n",
      "A grade\n"
     ]
    }
   ],
   "source": [
    "marks = eval(input('Enter your percentage :'))\n",
    "if marks >= 75:\n",
    "    print('A grade')\n",
    "elif marks >= 60:\n",
    "    print('B grade')\n",
    "elif marks < 60:\n",
    "    print('C grade')\n",
    "else:\n",
    "    print('D grade')"
   ]
  },
  {
   "cell_type": "code",
   "execution_count": 11,
   "id": "432fa990",
   "metadata": {},
   "outputs": [
    {
     "name": "stdout",
     "output_type": "stream",
     "text": [
      "Enter your percentage :85\n",
      "A grade\n",
      "B grade\n"
     ]
    }
   ],
   "source": [
    "marks = eval(input('Enter your percentage :'))\n",
    "if marks >= 75:\n",
    "    print('A grade')\n",
    "if marks >= 60:\n",
    "    print('B grade')\n",
    "elif marks < 60:\n",
    "    print('C grade')\n",
    "else:\n",
    "    print('D grade')"
   ]
  },
  {
   "cell_type": "code",
   "execution_count": 21,
   "id": "5b76d61b",
   "metadata": {},
   "outputs": [
    {
     "name": "stdout",
     "output_type": "stream",
     "text": [
      "Enter your age : 500\n",
      "Unlucky person\n"
     ]
    }
   ],
   "source": [
    "age = eval(input('Enter your age : '))\n",
    "if age >= 100:\n",
    "    print('Unlucky person')\n",
    "elif age >= 60:\n",
    "    print('Senior citizen')    \n",
    "elif age >= 30:\n",
    "    print('middle age')\n",
    "elif age >= 20:\n",
    "    print('Young age')\n",
    "elif age >= 13:\n",
    "    print('Teen age')\n",
    "else:\n",
    "    print('Kid')"
   ]
  },
  {
   "cell_type": "code",
   "execution_count": 22,
   "id": "c52be703",
   "metadata": {},
   "outputs": [
    {
     "name": "stdout",
     "output_type": "stream",
     "text": [
      "Enter your age : 6\n",
      "Kid\n"
     ]
    }
   ],
   "source": [
    "age = eval(input('Enter your age : '))\n",
    "if age >= 100:print('Unlucky person')\n",
    "elif age >= 60:print('Senior citizen')    \n",
    "elif age >= 30:print('middle age')\n",
    "elif age >= 20:print('Young age')\n",
    "elif age >= 13:print('Teen age')\n",
    "else:print('Kid')"
   ]
  },
  {
   "cell_type": "code",
   "execution_count": 23,
   "id": "961f11e5",
   "metadata": {},
   "outputs": [
    {
     "name": "stdout",
     "output_type": "stream",
     "text": [
      "Enter a number0\n",
      "Zero\n"
     ]
    }
   ],
   "source": [
    "num = eval(input('Enter a number'))\n",
    "if num >= 0:\n",
    "    if num == 0:\n",
    "        print('Zero')\n",
    "    else:\n",
    "        print(f'The number {num} is positive')\n",
    "else:\n",
    "    print(f'The number {num} is negative')"
   ]
  },
  {
   "cell_type": "code",
   "execution_count": 25,
   "id": "43f69c14",
   "metadata": {},
   "outputs": [
    {
     "name": "stdout",
     "output_type": "stream",
     "text": [
      "Enter your gendermale\n",
      "Enter your age : 89\n",
      "Senior citizen\n"
     ]
    }
   ],
   "source": [
    "gender = input('Enter your gender')\n",
    "if gender == 'Male' or gender== 'male':\n",
    "    age = eval(input('Enter your age : '))\n",
    "    if age >=60:\n",
    "        print('Senior citizen')\n",
    "    elif age >=30:\n",
    "        print('middle age man')\n",
    "    elif age >=15:\n",
    "        print('Young boy')\n",
    "    else:\n",
    "        print('boy')\n",
    "elif gender == 'Female' or gender =='female':\n",
    "    age = eval(input('Enter your age : '))\n",
    "    if age >=60:\n",
    "        print('Senior citizen')\n",
    "    elif age >=30:\n",
    "        print('middle age woman')\n",
    "    elif age >=15:\n",
    "        print('Young girl')\n",
    "    else:\n",
    "        print('girl')\n",
    "else:\n",
    "    print('Enter valid age')\n",
    "    "
   ]
  },
  {
   "cell_type": "code",
   "execution_count": 34,
   "id": "3c1b7424",
   "metadata": {},
   "outputs": [
    {
     "name": "stdout",
     "output_type": "stream",
     "text": [
      "Enter code 1 for add the two input numbers\n",
      "Enter code 2 for substract the two input numbers\n",
      "Enter code 3 for multiple two input numbers\n",
      "Enter code 4 for divide the two input numbers\n",
      "Enter the first number : 8\n",
      "Enter the second number : 9\n",
      "Enter your operation code:9\n",
      "Enter a valid operation code\n"
     ]
    }
   ],
   "source": [
    "print('Enter code 1 for add the two input numbers')\n",
    "print('Enter code 2 for substract the two input numbers')\n",
    "print('Enter code 3 for multiple two input numbers')\n",
    "print('Enter code 4 for divide the two input numbers')\n",
    "\n",
    "num1 = eval(input('Enter the first number : '))\n",
    "num2 = eval(input('Enter the second number : '))\n",
    "operation = eval(input('Enter your operation code:'))\n",
    "\n",
    "if operation == 1:\n",
    "    addition = num1+num2\n",
    "    print(f'The addition of {num1} and {num2} is {addition}')\n",
    "elif operation == 2:\n",
    "    substraction = num1-num2\n",
    "    print(f'The substraction of {num1} and {num2} is {substraction}')\n",
    "elif operation == 3:\n",
    "    multiplication = num1*num2\n",
    "    print(f'The multiplication of {num1} and {num2} is {multiplication}')\n",
    "elif operation == 4:\n",
    "    division = num1/num2\n",
    "    print(f'The divison of {num1} and {num2} is {division}')\n",
    "else:\n",
    "    print('Enter a valid operation code')"
   ]
  },
  {
   "cell_type": "code",
   "execution_count": null,
   "id": "c9dcbd7c",
   "metadata": {},
   "outputs": [],
   "source": []
  }
 ],
 "metadata": {
  "kernelspec": {
   "display_name": "Python 3 (ipykernel)",
   "language": "python",
   "name": "python3"
  },
  "language_info": {
   "codemirror_mode": {
    "name": "ipython",
    "version": 3
   },
   "file_extension": ".py",
   "mimetype": "text/x-python",
   "name": "python",
   "nbconvert_exporter": "python",
   "pygments_lexer": "ipython3",
   "version": "3.9.13"
  }
 },
 "nbformat": 4,
 "nbformat_minor": 5
}
