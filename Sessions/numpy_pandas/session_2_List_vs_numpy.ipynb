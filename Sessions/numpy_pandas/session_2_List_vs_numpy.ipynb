{
 "cells": [
  {
   "cell_type": "code",
   "execution_count": 3,
   "id": "68325193",
   "metadata": {},
   "outputs": [
    {
     "data": {
      "text/plain": [
       "[11, 22, 33]"
      ]
     },
     "execution_count": 3,
     "metadata": {},
     "output_type": "execute_result"
    }
   ],
   "source": [
    "l1 = [1,2,3]\n",
    "l2 = [10,20,30]\n",
    "l = []\n",
    "for i in range(len(l1)):\n",
    "    l.append(l1[i] +l2[i])\n",
    "l"
   ]
  },
  {
   "cell_type": "code",
   "execution_count": 4,
   "id": "a4e095fd",
   "metadata": {},
   "outputs": [
    {
     "data": {
      "text/plain": [
       "[11, 22, 33]"
      ]
     },
     "execution_count": 4,
     "metadata": {},
     "output_type": "execute_result"
    }
   ],
   "source": [
    "[i+j for i,j in zip(l1,l2)]"
   ]
  },
  {
   "cell_type": "code",
   "execution_count": 5,
   "id": "2bbc8ecb",
   "metadata": {},
   "outputs": [],
   "source": [
    "import numpy as np"
   ]
  },
  {
   "cell_type": "code",
   "execution_count": 7,
   "id": "0729d6d1",
   "metadata": {},
   "outputs": [],
   "source": [
    "arr1 = np.array(l1)\n",
    "arr2 = np.array(l2)"
   ]
  },
  {
   "cell_type": "code",
   "execution_count": 8,
   "id": "a54baabf",
   "metadata": {},
   "outputs": [
    {
     "data": {
      "text/plain": [
       "array([11, 22, 33])"
      ]
     },
     "execution_count": 8,
     "metadata": {},
     "output_type": "execute_result"
    }
   ],
   "source": [
    "arr1+arr2"
   ]
  },
  {
   "cell_type": "markdown",
   "id": "59be4a01",
   "metadata": {},
   "source": [
    "- element wise operation works in numpy\n"
   ]
  },
  {
   "cell_type": "code",
   "execution_count": 9,
   "id": "34406cde",
   "metadata": {},
   "outputs": [
    {
     "data": {
      "text/plain": [
       "array([10, 40, 90])"
      ]
     },
     "execution_count": 9,
     "metadata": {},
     "output_type": "execute_result"
    }
   ],
   "source": [
    "arr1*arr2"
   ]
  },
  {
   "cell_type": "code",
   "execution_count": 10,
   "id": "ee5f8aef",
   "metadata": {},
   "outputs": [
    {
     "data": {
      "text/plain": [
       "array([0.1, 0.1, 0.1])"
      ]
     },
     "execution_count": 10,
     "metadata": {},
     "output_type": "execute_result"
    }
   ],
   "source": [
    "arr1/arr2"
   ]
  },
  {
   "cell_type": "markdown",
   "id": "e09c6727",
   "metadata": {},
   "source": [
    "**how to convert array to list**"
   ]
  },
  {
   "cell_type": "code",
   "execution_count": 11,
   "id": "d58f01a2",
   "metadata": {},
   "outputs": [
    {
     "data": {
      "text/plain": [
       "array([1, 2, 3])"
      ]
     },
     "execution_count": 11,
     "metadata": {},
     "output_type": "execute_result"
    }
   ],
   "source": [
    "arr1"
   ]
  },
  {
   "cell_type": "code",
   "execution_count": 14,
   "id": "80e315d9",
   "metadata": {},
   "outputs": [
    {
     "data": {
      "text/plain": [
       "[1, 2, 3]"
      ]
     },
     "execution_count": 14,
     "metadata": {},
     "output_type": "execute_result"
    }
   ],
   "source": [
    "list(arr1)    # type casting"
   ]
  },
  {
   "cell_type": "code",
   "execution_count": 15,
   "id": "87a94b28",
   "metadata": {},
   "outputs": [
    {
     "data": {
      "text/plain": [
       "[1, 2, 3]"
      ]
     },
     "execution_count": 15,
     "metadata": {},
     "output_type": "execute_result"
    }
   ],
   "source": [
    "arr1.tolist()"
   ]
  },
  {
   "cell_type": "markdown",
   "id": "becbab66",
   "metadata": {},
   "source": [
    "**speed analysis**"
   ]
  },
  {
   "cell_type": "code",
   "execution_count": 17,
   "id": "cba559a0",
   "metadata": {},
   "outputs": [],
   "source": [
    "# take tow list of 1000 numbers\n",
    "# multiply those\n",
    "# calculate the time process\n",
    "\n",
    "# take tow arrays of 1000 numbers\n",
    "# multiply those\n",
    "# calculate the time process"
   ]
  },
  {
   "cell_type": "code",
   "execution_count": 3,
   "id": "dd842b27",
   "metadata": {},
   "outputs": [
    {
     "name": "stdout",
     "output_type": "stream",
     "text": [
      "time taking is: 25.907930374145508\n"
     ]
    }
   ],
   "source": [
    "import time\n",
    "start = time.time()\n",
    "l1 = range(1,10000)\n",
    "l2 = range(1,10000)\n",
    "[i*j for i,j in zip(l1,l2)]\n",
    "end = time.time()\n",
    "print('time taking is:',(end-start))"
   ]
  },
  {
   "cell_type": "code",
   "execution_count": 4,
   "id": "3e1a785b",
   "metadata": {},
   "outputs": [
    {
     "name": "stdout",
     "output_type": "stream",
     "text": [
      "time taking is: 29.036244869232178\n"
     ]
    }
   ],
   "source": [
    "import time\n",
    "import numpy as np\n",
    "start = time.time()\n",
    "arr1 = np.arange(1,100000000)\n",
    "arr2 = np.arange(1,100000000)\n",
    "[i*j for i,j in zip(l1,l2)]\n",
    "end = time.time()\n",
    "print('time taking is:',(end-start))"
   ]
  },
  {
   "cell_type": "markdown",
   "id": "b01eb244",
   "metadata": {},
   "source": [
    "- len\n",
    "\n",
    "- min\n",
    "\n",
    "- max\n",
    "\n",
    "- sum\n",
    "\n",
    "- count\n",
    "\n",
    "- mean\n",
    "\n",
    "- median\n",
    "\n",
    "- mode\n",
    "\n",
    "- variance\n",
    "\n",
    "- standard deviation\n",
    "\n",
    "- covariance\n",
    "\n",
    "- correlation\n",
    "\n",
    "- percentile\n",
    "\n",
    "- quartile"
   ]
  },
  {
   "cell_type": "code",
   "execution_count": null,
   "id": "1b095cd0",
   "metadata": {},
   "outputs": [],
   "source": []
  }
 ],
 "metadata": {
  "kernelspec": {
   "display_name": "Python 3 (ipykernel)",
   "language": "python",
   "name": "python3"
  },
  "language_info": {
   "codemirror_mode": {
    "name": "ipython",
    "version": 3
   },
   "file_extension": ".py",
   "mimetype": "text/x-python",
   "name": "python",
   "nbconvert_exporter": "python",
   "pygments_lexer": "ipython3",
   "version": "3.9.13"
  }
 },
 "nbformat": 4,
 "nbformat_minor": 5
}
