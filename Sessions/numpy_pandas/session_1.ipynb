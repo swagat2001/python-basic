{
 "cells": [
  {
   "cell_type": "markdown",
   "id": "b5061e8b",
   "metadata": {},
   "source": [
    "- Numpy is a package used for math operations\n",
    "\n",
    "\n",
    "- Numpy means numerical python\n",
    "\n",
    "\n",
    "- Because of Numpy we can create multi dimensional data\n",
    "\n",
    "\n",
    "- Data represents in form of list or tuple\n",
    "\n",
    "\n",
    "- same as data represents in multipule ways\n",
    "\n",
    "    - **List** : does not have any dimensions\n",
    "    \n",
    "    - **Array** : Has dimensions created by numpy,mostly used in ML\n",
    "    \n",
    "    - **Tensors** : Has dimensions also vector representations created by tensorflow in DL NLP AI    \n",
    "    \n",
    "    - **Torch** : also another form of vectors created by torch in DL NLP AI"
   ]
  },
  {
   "cell_type": "code",
   "execution_count": 2,
   "id": "1d0d6dd2",
   "metadata": {},
   "outputs": [],
   "source": [
    "[1,2,3,4]\n",
    "array([1,2,3,4])  # CPU support but not gpu\n",
    "tensor([1,2,3,4]) # CPU and GPU support "
   ]
  },
  {
   "cell_type": "code",
   "execution_count": 3,
   "id": "3c818716",
   "metadata": {},
   "outputs": [],
   "source": [
    "import numpy as np"
   ]
  },
  {
   "cell_type": "code",
   "execution_count": 4,
   "id": "88c8b8d3",
   "metadata": {},
   "outputs": [
    {
     "data": {
      "text/plain": [
       "'1.21.5'"
      ]
     },
     "execution_count": 4,
     "metadata": {},
     "output_type": "execute_result"
    }
   ],
   "source": [
    "np.__version__"
   ]
  },
  {
   "cell_type": "code",
   "execution_count": null,
   "id": "8b0a00aa",
   "metadata": {},
   "outputs": [],
   "source": [
    "# Note : Numpy is a very powerful module\n",
    "#      the versions are impact on another modules\n",
    "#      some times we might be increas the version or decrease the version"
   ]
  },
  {
   "cell_type": "markdown",
   "id": "a2f057e5",
   "metadata": {},
   "source": [
    "**Create an array**"
   ]
  },
  {
   "cell_type": "code",
   "execution_count": 6,
   "id": "7180f54a",
   "metadata": {},
   "outputs": [
    {
     "data": {
      "text/plain": [
       "array([1, 2, 3, 4])"
      ]
     },
     "execution_count": 6,
     "metadata": {},
     "output_type": "execute_result"
    }
   ],
   "source": [
    "list1 = [1,2,3,4]\n",
    "arr1 = np.array(list1)\n",
    "arr1"
   ]
  },
  {
   "cell_type": "code",
   "execution_count": 7,
   "id": "b00f8557",
   "metadata": {},
   "outputs": [
    {
     "data": {
      "text/plain": [
       "numpy.ndarray"
      ]
     },
     "execution_count": 7,
     "metadata": {},
     "output_type": "execute_result"
    }
   ],
   "source": [
    "type(arr1)"
   ]
  },
  {
   "cell_type": "code",
   "execution_count": 8,
   "id": "ab1b3a47",
   "metadata": {},
   "outputs": [
    {
     "data": {
      "text/plain": [
       "1"
      ]
     },
     "execution_count": 8,
     "metadata": {},
     "output_type": "execute_result"
    }
   ],
   "source": [
    "arr1.ndim"
   ]
  },
  {
   "cell_type": "code",
   "execution_count": 10,
   "id": "75c5779b",
   "metadata": {},
   "outputs": [
    {
     "data": {
      "text/plain": [
       "array([[ 1,  2,  3],\n",
       "       [10, 20, 30]])"
      ]
     },
     "execution_count": 10,
     "metadata": {},
     "output_type": "execute_result"
    }
   ],
   "source": [
    "np.array([1,2,3])\n",
    "np.array([1,2,3],[10,20,30])\n",
    "np.array([[1,2,3],[10,20,30]])\n",
    "\n",
    "l1 = [1,2,3]\n",
    "l2 = [10,20,30]\n",
    "np.arr"
   ]
  },
  {
   "cell_type": "code",
   "execution_count": 14,
   "id": "a8c250f2",
   "metadata": {},
   "outputs": [
    {
     "data": {
      "text/plain": [
       "2"
      ]
     },
     "execution_count": 14,
     "metadata": {},
     "output_type": "execute_result"
    }
   ],
   "source": [
    "arr2 = np.array([[1,2,3],[10,20,30]])\n",
    "arr2.ndim"
   ]
  },
  {
   "cell_type": "code",
   "execution_count": 15,
   "id": "108ae36f",
   "metadata": {},
   "outputs": [
    {
     "data": {
      "text/plain": [
       "2"
      ]
     },
     "execution_count": 15,
     "metadata": {},
     "output_type": "execute_result"
    }
   ],
   "source": [
    "arr3 = np.array([[1,2,3],[10,20,30],[100,200,300]])\n",
    "arr3.ndim"
   ]
  },
  {
   "cell_type": "code",
   "execution_count": 1,
   "id": "f36544b6",
   "metadata": {},
   "outputs": [],
   "source": [
    "import numpy as np"
   ]
  },
  {
   "cell_type": "code",
   "execution_count": 2,
   "id": "ab9d7168",
   "metadata": {},
   "outputs": [],
   "source": [
    "arr1 = np.array([1,2,3,4])"
   ]
  },
  {
   "cell_type": "code",
   "execution_count": 3,
   "id": "f022d2cd",
   "metadata": {},
   "outputs": [
    {
     "data": {
      "text/plain": [
       "array([1, 2, 3, 4])"
      ]
     },
     "execution_count": 3,
     "metadata": {},
     "output_type": "execute_result"
    }
   ],
   "source": [
    "arr1"
   ]
  },
  {
   "cell_type": "code",
   "execution_count": 4,
   "id": "712439cd",
   "metadata": {},
   "outputs": [
    {
     "data": {
      "text/plain": [
       "numpy.ndarray"
      ]
     },
     "execution_count": 4,
     "metadata": {},
     "output_type": "execute_result"
    }
   ],
   "source": [
    "type(arr1)"
   ]
  },
  {
   "cell_type": "code",
   "execution_count": 5,
   "id": "2b413648",
   "metadata": {},
   "outputs": [
    {
     "data": {
      "text/plain": [
       "1"
      ]
     },
     "execution_count": 5,
     "metadata": {},
     "output_type": "execute_result"
    }
   ],
   "source": [
    "arr1.ndim"
   ]
  },
  {
   "cell_type": "code",
   "execution_count": 14,
   "id": "1f79a5b2",
   "metadata": {},
   "outputs": [],
   "source": [
    "arr3 = np.array([[[1,2,3],[10,20,30],[100,200,300]]])"
   ]
  },
  {
   "cell_type": "code",
   "execution_count": 15,
   "id": "8140ab87",
   "metadata": {},
   "outputs": [
    {
     "data": {
      "text/plain": [
       "3"
      ]
     },
     "execution_count": 15,
     "metadata": {},
     "output_type": "execute_result"
    }
   ],
   "source": [
    "arr3.ndim"
   ]
  },
  {
   "cell_type": "code",
   "execution_count": 25,
   "id": "6a2be67b",
   "metadata": {},
   "outputs": [],
   "source": [
    "arr2 = np.array([[1,2,3],[10,20,30]])"
   ]
  },
  {
   "cell_type": "code",
   "execution_count": 26,
   "id": "98c1ef7a",
   "metadata": {},
   "outputs": [
    {
     "data": {
      "text/plain": [
       "2"
      ]
     },
     "execution_count": 26,
     "metadata": {},
     "output_type": "execute_result"
    }
   ],
   "source": [
    "arr2.ndim"
   ]
  },
  {
   "cell_type": "code",
   "execution_count": 30,
   "id": "cbc26e5f",
   "metadata": {},
   "outputs": [],
   "source": [
    "arr2_1 = np.array([[[1,2,3],[10,20,30]]])"
   ]
  },
  {
   "cell_type": "code",
   "execution_count": 32,
   "id": "6a2f8368",
   "metadata": {},
   "outputs": [
    {
     "data": {
      "text/plain": [
       "3"
      ]
     },
     "execution_count": 32,
     "metadata": {},
     "output_type": "execute_result"
    }
   ],
   "source": [
    "arr2_1.ndim"
   ]
  },
  {
   "cell_type": "code",
   "execution_count": 33,
   "id": "dcf85465",
   "metadata": {},
   "outputs": [],
   "source": [
    "arr4 = np.array([[[[1,2,3],[10,20,30]]]])"
   ]
  },
  {
   "cell_type": "code",
   "execution_count": 34,
   "id": "f467a3c8",
   "metadata": {},
   "outputs": [
    {
     "data": {
      "text/plain": [
       "4"
      ]
     },
     "execution_count": 34,
     "metadata": {},
     "output_type": "execute_result"
    }
   ],
   "source": [
    "arr4.ndim"
   ]
  },
  {
   "cell_type": "code",
   "execution_count": 35,
   "id": "b6da1209",
   "metadata": {},
   "outputs": [
    {
     "data": {
      "text/plain": [
       "array([1, 2, 3, 4])"
      ]
     },
     "execution_count": 35,
     "metadata": {},
     "output_type": "execute_result"
    }
   ],
   "source": [
    "arr1"
   ]
  },
  {
   "cell_type": "code",
   "execution_count": 36,
   "id": "3b7f170c",
   "metadata": {},
   "outputs": [
    {
     "data": {
      "text/plain": [
       "array([[ 1,  2,  3],\n",
       "       [10, 20, 30]])"
      ]
     },
     "execution_count": 36,
     "metadata": {},
     "output_type": "execute_result"
    }
   ],
   "source": [
    "arr2"
   ]
  },
  {
   "cell_type": "code",
   "execution_count": 38,
   "id": "edcc35ac",
   "metadata": {},
   "outputs": [
    {
     "data": {
      "text/plain": [
       "array([[[ 1,  2,  3],\n",
       "        [10, 20, 30]]])"
      ]
     },
     "execution_count": 38,
     "metadata": {},
     "output_type": "execute_result"
    }
   ],
   "source": [
    "arr2_1"
   ]
  },
  {
   "cell_type": "code",
   "execution_count": 39,
   "id": "b2917f1d",
   "metadata": {},
   "outputs": [
    {
     "data": {
      "text/plain": [
       "array([[[  1,   2,   3],\n",
       "        [ 10,  20,  30],\n",
       "        [100, 200, 300]]])"
      ]
     },
     "execution_count": 39,
     "metadata": {},
     "output_type": "execute_result"
    }
   ],
   "source": [
    "arr3"
   ]
  },
  {
   "cell_type": "code",
   "execution_count": 40,
   "id": "d8f6e4a3",
   "metadata": {},
   "outputs": [
    {
     "data": {
      "text/plain": [
       "array([[[[ 1,  2,  3],\n",
       "         [10, 20, 30]]]])"
      ]
     },
     "execution_count": 40,
     "metadata": {},
     "output_type": "execute_result"
    }
   ],
   "source": [
    "arr4"
   ]
  },
  {
   "cell_type": "code",
   "execution_count": 41,
   "id": "e2c76bcc",
   "metadata": {},
   "outputs": [
    {
     "data": {
      "text/plain": [
       "(4,)"
      ]
     },
     "execution_count": 41,
     "metadata": {},
     "output_type": "execute_result"
    }
   ],
   "source": [
    "arr1.shape"
   ]
  },
  {
   "cell_type": "code",
   "execution_count": 42,
   "id": "ddfeb012",
   "metadata": {},
   "outputs": [
    {
     "data": {
      "text/plain": [
       "(2, 3)"
      ]
     },
     "execution_count": 42,
     "metadata": {},
     "output_type": "execute_result"
    }
   ],
   "source": [
    "arr2.shape"
   ]
  },
  {
   "cell_type": "code",
   "execution_count": 43,
   "id": "9df33863",
   "metadata": {},
   "outputs": [
    {
     "data": {
      "text/plain": [
       "(1, 2, 3)"
      ]
     },
     "execution_count": 43,
     "metadata": {},
     "output_type": "execute_result"
    }
   ],
   "source": [
    "arr2_1.shape"
   ]
  },
  {
   "cell_type": "code",
   "execution_count": 44,
   "id": "609d3355",
   "metadata": {},
   "outputs": [
    {
     "data": {
      "text/plain": [
       "(1, 3, 3)"
      ]
     },
     "execution_count": 44,
     "metadata": {},
     "output_type": "execute_result"
    }
   ],
   "source": [
    "arr3.shape"
   ]
  },
  {
   "cell_type": "code",
   "execution_count": 45,
   "id": "f125dc35",
   "metadata": {},
   "outputs": [
    {
     "data": {
      "text/plain": [
       "(1, 1, 2, 3)"
      ]
     },
     "execution_count": 45,
     "metadata": {},
     "output_type": "execute_result"
    }
   ],
   "source": [
    "arr4.shape"
   ]
  },
  {
   "cell_type": "code",
   "execution_count": 66,
   "id": "1775032d",
   "metadata": {},
   "outputs": [],
   "source": [
    "arr4_1 = np.array([[[1,2,3],\n",
    "                   [10,20,30]],\n",
    "                [[1,2,3],\n",
    "                   [10,20,30]]])"
   ]
  },
  {
   "cell_type": "code",
   "execution_count": 67,
   "id": "0dc0c73d",
   "metadata": {},
   "outputs": [
    {
     "data": {
      "text/plain": [
       "(2, 2, 3)"
      ]
     },
     "execution_count": 67,
     "metadata": {},
     "output_type": "execute_result"
    }
   ],
   "source": [
    "arr4_1.shape"
   ]
  },
  {
   "cell_type": "code",
   "execution_count": 68,
   "id": "da65748b",
   "metadata": {},
   "outputs": [
    {
     "data": {
      "text/plain": [
       "array([[[ 1,  2,  3],\n",
       "        [10, 20, 30]],\n",
       "\n",
       "       [[ 1,  2,  3],\n",
       "        [10, 20, 30]]])"
      ]
     },
     "execution_count": 68,
     "metadata": {},
     "output_type": "execute_result"
    }
   ],
   "source": [
    "arr4_1"
   ]
  },
  {
   "cell_type": "code",
   "execution_count": 71,
   "id": "1be9a791",
   "metadata": {},
   "outputs": [],
   "source": [
    "arr4_2 = np.array([[\n",
    "                    [\n",
    "                        [1,2,3,4],\n",
    "                   [10,20,30,40],\n",
    "                [100,200,300,400]\n",
    "                    ],\n",
    "    \n",
    "                [\n",
    "                    [1,2,3,4],\n",
    "                   [10,20,30,40],\n",
    "                [100,200,300,400]\n",
    "                ]\n",
    "]])"
   ]
  },
  {
   "cell_type": "code",
   "execution_count": 72,
   "id": "8d904265",
   "metadata": {},
   "outputs": [
    {
     "data": {
      "text/plain": [
       "(1, 2, 3, 4)"
      ]
     },
     "execution_count": 72,
     "metadata": {},
     "output_type": "execute_result"
    }
   ],
   "source": [
    "arr4_2.shape"
   ]
  },
  {
   "cell_type": "code",
   "execution_count": 73,
   "id": "3e579459",
   "metadata": {},
   "outputs": [
    {
     "data": {
      "text/plain": [
       "array([[[[  1,   2,   3,   4],\n",
       "         [ 10,  20,  30,  40],\n",
       "         [100, 200, 300, 400]],\n",
       "\n",
       "        [[  1,   2,   3,   4],\n",
       "         [ 10,  20,  30,  40],\n",
       "         [100, 200, 300, 400]]]])"
      ]
     },
     "execution_count": 73,
     "metadata": {},
     "output_type": "execute_result"
    }
   ],
   "source": [
    "arr4_2"
   ]
  },
  {
   "cell_type": "code",
   "execution_count": null,
   "id": "b5bc5fe8",
   "metadata": {},
   "outputs": [],
   "source": []
  }
 ],
 "metadata": {
  "kernelspec": {
   "display_name": "Python 3 (ipykernel)",
   "language": "python",
   "name": "python3"
  },
  "language_info": {
   "codemirror_mode": {
    "name": "ipython",
    "version": 3
   },
   "file_extension": ".py",
   "mimetype": "text/x-python",
   "name": "python",
   "nbconvert_exporter": "python",
   "pygments_lexer": "ipython3",
   "version": "3.9.13"
  }
 },
 "nbformat": 4,
 "nbformat_minor": 5
}
