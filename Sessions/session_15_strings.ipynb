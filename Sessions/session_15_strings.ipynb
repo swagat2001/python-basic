{
 "cells": [
  {
   "cell_type": "markdown",
   "id": "93cb361d",
   "metadata": {},
   "source": [
    "**Strings**\n",
    "\n",
    "\n",
    "#################Basic pythons#############\n",
    "\n",
    "- python variables \n",
    "\n",
    "- python data typpes\n",
    "\n",
    "- type casting\n",
    "\n",
    "- print\n",
    "\n",
    "- eval input\n",
    "\n",
    "- basic codes\n",
    "\n",
    "- conditional statements\n",
    "\n",
    "- try-except handling\n",
    "\n",
    "- functions\n",
    "\n",
    "- loops\n",
    "\n",
    "\n",
    "##############python intermediate core python##############\n",
    "\n",
    "- strings\n",
    "\n",
    "- lists\n",
    "\n",
    "- tuples\n",
    "\n",
    "- sets\n",
    "\n",
    "- dictionary\n",
    "\n",
    "- lambda functions\n",
    "\n",
    "- file handling\n"
   ]
  },
  {
   "cell_type": "markdown",
   "id": "37a4218d",
   "metadata": {},
   "source": [
    "**Note**\n",
    "\n",
    "- initialization or representation\n",
    "\n",
    "\n",
    "- type \n",
    "\n",
    "\n",
    "- inbuilt functions\n",
    "\n",
    "    - length\n",
    "\n",
    "    - sum\n",
    "\n",
    "    - max\n",
    "\n",
    "    - min\n",
    "\n",
    "    - reversed\n",
    "\n",
    "    - sorted\n",
    "    \n",
    "    \n",
    "- concatenation\n",
    "\n",
    "\n",
    "- index\n",
    "\n",
    "\n",
    "- mutable vs immutable\n",
    "\n",
    "\n",
    "- slicing\n",
    "\n",
    "\n",
    "- methods"
   ]
  },
  {
   "cell_type": "markdown",
   "id": "8e8d33b3",
   "metadata": {},
   "source": [
    "**1.Representations**"
   ]
  },
  {
   "cell_type": "code",
   "execution_count": 1,
   "id": "523b91ac",
   "metadata": {},
   "outputs": [],
   "source": [
    "name ='python'"
   ]
  },
  {
   "cell_type": "code",
   "execution_count": 3,
   "id": "9af4b44a",
   "metadata": {},
   "outputs": [],
   "source": [
    "name1=\"python\""
   ]
  },
  {
   "cell_type": "code",
   "execution_count": 4,
   "id": "dbca64d5",
   "metadata": {},
   "outputs": [
    {
     "data": {
      "text/plain": [
       "'python'"
      ]
     },
     "execution_count": 4,
     "metadata": {},
     "output_type": "execute_result"
    }
   ],
   "source": [
    "name1"
   ]
  },
  {
   "cell_type": "code",
   "execution_count": 5,
   "id": "818c8e30",
   "metadata": {},
   "outputs": [
    {
     "data": {
      "text/plain": [
       "'Hello I like python'"
      ]
     },
     "execution_count": 5,
     "metadata": {},
     "output_type": "execute_result"
    }
   ],
   "source": [
    "\"Hello I like python\""
   ]
  },
  {
   "cell_type": "code",
   "execution_count": 6,
   "id": "b30eaad3",
   "metadata": {},
   "outputs": [
    {
     "data": {
      "text/plain": [
       "'Hello I like python'"
      ]
     },
     "execution_count": 6,
     "metadata": {},
     "output_type": "execute_result"
    }
   ],
   "source": [
    "'''Hello I like python'''"
   ]
  },
  {
   "cell_type": "code",
   "execution_count": 7,
   "id": "f3680f75",
   "metadata": {},
   "outputs": [
    {
     "data": {
      "text/plain": [
       "'Hello I like python'"
      ]
     },
     "execution_count": 7,
     "metadata": {},
     "output_type": "execute_result"
    }
   ],
   "source": [
    "'Hello I like python'"
   ]
  },
  {
   "cell_type": "markdown",
   "id": "f4e389ad",
   "metadata": {},
   "source": [
    "**doc string**"
   ]
  },
  {
   "cell_type": "markdown",
   "id": "ebb77b17",
   "metadata": {},
   "source": [
    "- triple used as doc string \n",
    "\n",
    "- in vs code or pycharm we will write the information using triple quotes"
   ]
  },
  {
   "cell_type": "markdown",
   "id": "6c072215",
   "metadata": {},
   "source": [
    "**type**"
   ]
  },
  {
   "cell_type": "code",
   "execution_count": 8,
   "id": "4d27b047",
   "metadata": {},
   "outputs": [],
   "source": [
    "name = 'python'"
   ]
  },
  {
   "cell_type": "code",
   "execution_count": 9,
   "id": "c4811bbd",
   "metadata": {},
   "outputs": [
    {
     "data": {
      "text/plain": [
       "str"
      ]
     },
     "execution_count": 9,
     "metadata": {},
     "output_type": "execute_result"
    }
   ],
   "source": [
    "type(name)"
   ]
  },
  {
   "cell_type": "code",
   "execution_count": 10,
   "id": "4ae6c65c",
   "metadata": {},
   "outputs": [
    {
     "ename": "NameError",
     "evalue": "name 'python' is not defined",
     "output_type": "error",
     "traceback": [
      "\u001b[1;31m---------------------------------------------------------------------------\u001b[0m",
      "\u001b[1;31mNameError\u001b[0m                                 Traceback (most recent call last)",
      "\u001b[1;32m~\\AppData\\Local\\Temp\\ipykernel_76552\\1955527080.py\u001b[0m in \u001b[0;36m<module>\u001b[1;34m\u001b[0m\n\u001b[1;32m----> 1\u001b[1;33m \u001b[0meval\u001b[0m\u001b[1;33m(\u001b[0m\u001b[0mname\u001b[0m\u001b[1;33m)\u001b[0m\u001b[1;33m\u001b[0m\u001b[1;33m\u001b[0m\u001b[0m\n\u001b[0m",
      "\u001b[1;32m<string>\u001b[0m in \u001b[0;36m<module>\u001b[1;34m\u001b[0m\n",
      "\u001b[1;31mNameError\u001b[0m: name 'python' is not defined"
     ]
    }
   ],
   "source": [
    "eval(name)"
   ]
  },
  {
   "cell_type": "code",
   "execution_count": 11,
   "id": "9219c006",
   "metadata": {},
   "outputs": [
    {
     "name": "stdout",
     "output_type": "stream",
     "text": [
      "pythonswagat\n"
     ]
    },
    {
     "data": {
      "text/plain": [
       "'swagat'"
      ]
     },
     "execution_count": 11,
     "metadata": {},
     "output_type": "execute_result"
    }
   ],
   "source": [
    "input(name)"
   ]
  },
  {
   "cell_type": "code",
   "execution_count": 12,
   "id": "81549e4f",
   "metadata": {},
   "outputs": [
    {
     "name": "stdout",
     "output_type": "stream",
     "text": [
      "python\n"
     ]
    }
   ],
   "source": [
    "print(name)"
   ]
  },
  {
   "cell_type": "code",
   "execution_count": 19,
   "id": "794b71cf",
   "metadata": {},
   "outputs": [
    {
     "data": {
      "text/plain": [
       "str"
      ]
     },
     "execution_count": 19,
     "metadata": {},
     "output_type": "execute_result"
    }
   ],
   "source": [
    "type(name)"
   ]
  },
  {
   "cell_type": "code",
   "execution_count": 13,
   "id": "aad794b6",
   "metadata": {},
   "outputs": [
    {
     "data": {
      "text/plain": [
       "6"
      ]
     },
     "execution_count": 13,
     "metadata": {},
     "output_type": "execute_result"
    }
   ],
   "source": [
    "len(name)"
   ]
  },
  {
   "cell_type": "code",
   "execution_count": 14,
   "id": "143181ce",
   "metadata": {},
   "outputs": [
    {
     "data": {
      "text/plain": [
       "'h'"
      ]
     },
     "execution_count": 14,
     "metadata": {},
     "output_type": "execute_result"
    }
   ],
   "source": [
    "min(name)"
   ]
  },
  {
   "cell_type": "code",
   "execution_count": 21,
   "id": "14fe678a",
   "metadata": {},
   "outputs": [
    {
     "data": {
      "text/plain": [
       "(112, 121, 116, 104, 111, 110)"
      ]
     },
     "execution_count": 21,
     "metadata": {},
     "output_type": "execute_result"
    }
   ],
   "source": [
    "ord('p'),ord('y'),ord('t'),ord('h'),ord('o'),ord('n')"
   ]
  },
  {
   "cell_type": "code",
   "execution_count": 15,
   "id": "d72ada41",
   "metadata": {},
   "outputs": [
    {
     "data": {
      "text/plain": [
       "'y'"
      ]
     },
     "execution_count": 15,
     "metadata": {},
     "output_type": "execute_result"
    }
   ],
   "source": [
    "max(name)"
   ]
  },
  {
   "cell_type": "code",
   "execution_count": 16,
   "id": "6bcad6a7",
   "metadata": {},
   "outputs": [
    {
     "ename": "TypeError",
     "evalue": "unsupported operand type(s) for +: 'int' and 'str'",
     "output_type": "error",
     "traceback": [
      "\u001b[1;31m---------------------------------------------------------------------------\u001b[0m",
      "\u001b[1;31mTypeError\u001b[0m                                 Traceback (most recent call last)",
      "\u001b[1;32m~\\AppData\\Local\\Temp\\ipykernel_76552\\644013756.py\u001b[0m in \u001b[0;36m<module>\u001b[1;34m\u001b[0m\n\u001b[1;32m----> 1\u001b[1;33m \u001b[0msum\u001b[0m\u001b[1;33m(\u001b[0m\u001b[0mname\u001b[0m\u001b[1;33m)\u001b[0m\u001b[1;33m\u001b[0m\u001b[1;33m\u001b[0m\u001b[0m\n\u001b[0m",
      "\u001b[1;31mTypeError\u001b[0m: unsupported operand type(s) for +: 'int' and 'str'"
     ]
    }
   ],
   "source": [
    "sum(name)"
   ]
  },
  {
   "cell_type": "code",
   "execution_count": 17,
   "id": "f5948c14",
   "metadata": {},
   "outputs": [
    {
     "data": {
      "text/plain": [
       "<reversed at 0x22ee5628040>"
      ]
     },
     "execution_count": 17,
     "metadata": {},
     "output_type": "execute_result"
    }
   ],
   "source": [
    "reversed(name)"
   ]
  },
  {
   "cell_type": "code",
   "execution_count": 18,
   "id": "3dea4ab0",
   "metadata": {},
   "outputs": [
    {
     "data": {
      "text/plain": [
       "['h', 'n', 'o', 'p', 't', 'y']"
      ]
     },
     "execution_count": 18,
     "metadata": {},
     "output_type": "execute_result"
    }
   ],
   "source": [
    "sorted(name)"
   ]
  },
  {
   "cell_type": "code",
   "execution_count": 22,
   "id": "cb260da5",
   "metadata": {},
   "outputs": [
    {
     "data": {
      "text/plain": [
       "60"
      ]
     },
     "execution_count": 22,
     "metadata": {},
     "output_type": "execute_result"
    }
   ],
   "source": [
    "list = [10,20,30]\n",
    "sum(list)"
   ]
  },
  {
   "cell_type": "code",
   "execution_count": 23,
   "id": "19392d00",
   "metadata": {},
   "outputs": [],
   "source": [
    "# iteration ==== anything that can be print by using loop\n",
    "\n",
    "# strings are iterable\n",
    "\n",
    "# we can access the elements of a string using for loop"
   ]
  },
  {
   "cell_type": "code",
   "execution_count": 24,
   "id": "24a7d3dc",
   "metadata": {},
   "outputs": [
    {
     "data": {
      "text/plain": [
       "['y', 't', 'p', 'o', 'n', 'h']"
      ]
     },
     "execution_count": 24,
     "metadata": {},
     "output_type": "execute_result"
    }
   ],
   "source": [
    "sorted(name,reverse=True)"
   ]
  },
  {
   "cell_type": "markdown",
   "id": "878c0487",
   "metadata": {},
   "source": [
    "**Note**\n",
    "\n",
    "\n",
    "- by default sorted will give ascending order because reverse = false\n",
    "\n",
    "- now change reverse = true to get in decending order"
   ]
  },
  {
   "cell_type": "code",
   "execution_count": 25,
   "id": "3e44e639",
   "metadata": {},
   "outputs": [
    {
     "data": {
      "text/plain": [
       "0j"
      ]
     },
     "execution_count": 25,
     "metadata": {},
     "output_type": "execute_result"
    }
   ],
   "source": [
    "complex()  #a+bj"
   ]
  },
  {
   "cell_type": "code",
   "execution_count": 26,
   "id": "ac5038e6",
   "metadata": {},
   "outputs": [
    {
     "data": {
      "text/plain": [
       "(3+5j)"
      ]
     },
     "execution_count": 26,
     "metadata": {},
     "output_type": "execute_result"
    }
   ],
   "source": [
    "complex(3,5)"
   ]
  },
  {
   "cell_type": "code",
   "execution_count": 27,
   "id": "a8f7564b",
   "metadata": {},
   "outputs": [
    {
     "data": {
      "text/plain": [
       "complex"
      ]
     },
     "execution_count": 27,
     "metadata": {},
     "output_type": "execute_result"
    }
   ],
   "source": [
    "complex()"
   ]
  },
  {
   "cell_type": "code",
   "execution_count": null,
   "id": "6952239f",
   "metadata": {},
   "outputs": [],
   "source": [
    "sorted()"
   ]
  },
  {
   "cell_type": "code",
   "execution_count": 33,
   "id": "2df2fc6e",
   "metadata": {},
   "outputs": [
    {
     "name": "stdout",
     "output_type": "stream",
     "text": [
      "50\n"
     ]
    }
   ],
   "source": [
    "def add(a,b):\n",
    "    print(a+b)\n",
    "# add(a=20,b=30)\n",
    "# add(a=20,30)\n",
    "# add(20,30)\n",
    "add(20,b=30)"
   ]
  },
  {
   "cell_type": "code",
   "execution_count": 34,
   "id": "a334c246",
   "metadata": {},
   "outputs": [
    {
     "ename": "TypeError",
     "evalue": "sorted expected 1 argument, got 0",
     "output_type": "error",
     "traceback": [
      "\u001b[1;31m---------------------------------------------------------------------------\u001b[0m",
      "\u001b[1;31mTypeError\u001b[0m                                 Traceback (most recent call last)",
      "\u001b[1;32m~\\AppData\\Local\\Temp\\ipykernel_76552\\2769653331.py\u001b[0m in \u001b[0;36m<module>\u001b[1;34m\u001b[0m\n\u001b[1;32m----> 1\u001b[1;33m \u001b[0msorted\u001b[0m\u001b[1;33m(\u001b[0m\u001b[0miterable\u001b[0m\u001b[1;33m=\u001b[0m\u001b[1;34m'python'\u001b[0m\u001b[1;33m)\u001b[0m\u001b[1;33m\u001b[0m\u001b[1;33m\u001b[0m\u001b[0m\n\u001b[0m",
      "\u001b[1;31mTypeError\u001b[0m: sorted expected 1 argument, got 0"
     ]
    }
   ],
   "source": [
    "sorted(iterable='python') #"
   ]
  },
  {
   "cell_type": "code",
   "execution_count": 35,
   "id": "c1c27007",
   "metadata": {},
   "outputs": [
    {
     "ename": "TypeError",
     "evalue": "sorted expected 1 argument, got 2",
     "output_type": "error",
     "traceback": [
      "\u001b[1;31m---------------------------------------------------------------------------\u001b[0m",
      "\u001b[1;31mTypeError\u001b[0m                                 Traceback (most recent call last)",
      "\u001b[1;32m~\\AppData\\Local\\Temp\\ipykernel_76552\\3008762673.py\u001b[0m in \u001b[0;36m<module>\u001b[1;34m\u001b[0m\n\u001b[1;32m----> 1\u001b[1;33m \u001b[0msorted\u001b[0m\u001b[1;33m(\u001b[0m\u001b[1;34m'python'\u001b[0m\u001b[1;33m,\u001b[0m\u001b[1;32mTrue\u001b[0m\u001b[1;33m)\u001b[0m\u001b[1;33m\u001b[0m\u001b[1;33m\u001b[0m\u001b[0m\n\u001b[0m",
      "\u001b[1;31mTypeError\u001b[0m: sorted expected 1 argument, got 2"
     ]
    }
   ],
   "source": [
    "sorted('python',True)"
   ]
  },
  {
   "cell_type": "code",
   "execution_count": 36,
   "id": "64814257",
   "metadata": {},
   "outputs": [
    {
     "ename": "TypeError",
     "evalue": "sorted expected 1 argument, got 0",
     "output_type": "error",
     "traceback": [
      "\u001b[1;31m---------------------------------------------------------------------------\u001b[0m",
      "\u001b[1;31mTypeError\u001b[0m                                 Traceback (most recent call last)",
      "\u001b[1;32m~\\AppData\\Local\\Temp\\ipykernel_76552\\413563844.py\u001b[0m in \u001b[0;36m<module>\u001b[1;34m\u001b[0m\n\u001b[0;32m      2\u001b[0m \u001b[1;31m# sorted(iter'python')\u001b[0m\u001b[1;33m\u001b[0m\u001b[1;33m\u001b[0m\u001b[0m\n\u001b[0;32m      3\u001b[0m \u001b[1;33m\u001b[0m\u001b[0m\n\u001b[1;32m----> 4\u001b[1;33m \u001b[0msorted\u001b[0m\u001b[1;33m(\u001b[0m\u001b[0miterable\u001b[0m\u001b[1;33m=\u001b[0m\u001b[1;34m'python'\u001b[0m\u001b[1;33m,\u001b[0m\u001b[0mreverse\u001b[0m\u001b[1;33m=\u001b[0m\u001b[1;32mTrue\u001b[0m\u001b[1;33m)\u001b[0m\u001b[1;33m\u001b[0m\u001b[1;33m\u001b[0m\u001b[0m\n\u001b[0m",
      "\u001b[1;31mTypeError\u001b[0m: sorted expected 1 argument, got 0"
     ]
    }
   ],
   "source": [
    "# sorted('python') # works\n",
    "# sorted('python',reverse=True)\n",
    "# sorted(iterable='python')\n",
    "sorted(iterable='python',reverse=True) #fail\n",
    "\n",
    "\n",
    "# Don't provide iterable \n",
    "#  definately provide reverse\n",
    "# "
   ]
  },
  {
   "cell_type": "markdown",
   "id": "aefd59a2",
   "metadata": {},
   "source": [
    "**Note**\n",
    "\n",
    "- '/' indicate positional argument details\n",
    "\n",
    "- before slash (left hand side) or don't give argumet name \n",
    "\n",
    "- after slash (right hand side) give the argument name "
   ]
  },
  {
   "cell_type": "code",
   "execution_count": 37,
   "id": "b7505a28",
   "metadata": {},
   "outputs": [],
   "source": [
    "def greet(name,/):\n",
    "    print(f'Hello {name} good evening')"
   ]
  },
  {
   "cell_type": "code",
   "execution_count": 38,
   "id": "c27bb0bc",
   "metadata": {},
   "outputs": [
    {
     "name": "stdout",
     "output_type": "stream",
     "text": [
      "Hello omkar sir good evening\n"
     ]
    }
   ],
   "source": [
    "greet('omkar sir')"
   ]
  },
  {
   "cell_type": "code",
   "execution_count": 39,
   "id": "d8041cc3",
   "metadata": {},
   "outputs": [
    {
     "ename": "TypeError",
     "evalue": "greet() got some positional-only arguments passed as keyword arguments: 'name'",
     "output_type": "error",
     "traceback": [
      "\u001b[1;31m---------------------------------------------------------------------------\u001b[0m",
      "\u001b[1;31mTypeError\u001b[0m                                 Traceback (most recent call last)",
      "\u001b[1;32m~\\AppData\\Local\\Temp\\ipykernel_76552\\3548582648.py\u001b[0m in \u001b[0;36m<module>\u001b[1;34m\u001b[0m\n\u001b[1;32m----> 1\u001b[1;33m \u001b[0mgreet\u001b[0m\u001b[1;33m(\u001b[0m\u001b[0mname\u001b[0m \u001b[1;33m=\u001b[0m \u001b[1;34m'omkar sir'\u001b[0m\u001b[1;33m)\u001b[0m\u001b[1;33m\u001b[0m\u001b[1;33m\u001b[0m\u001b[0m\n\u001b[0m",
      "\u001b[1;31mTypeError\u001b[0m: greet() got some positional-only arguments passed as keyword arguments: 'name'"
     ]
    }
   ],
   "source": [
    "greet(name = 'omkar sir')"
   ]
  },
  {
   "cell_type": "code",
   "execution_count": 40,
   "id": "011f8eed",
   "metadata": {},
   "outputs": [],
   "source": [
    "def greet1(name):\n",
    "    print(f'Hello {name} good evening')"
   ]
  },
  {
   "cell_type": "code",
   "execution_count": 41,
   "id": "11dbf54d",
   "metadata": {},
   "outputs": [
    {
     "name": "stdout",
     "output_type": "stream",
     "text": [
      "Hello omkar sir good evening\n"
     ]
    }
   ],
   "source": [
    "greet1('omkar sir')"
   ]
  },
  {
   "cell_type": "code",
   "execution_count": 42,
   "id": "7a9ab82d",
   "metadata": {},
   "outputs": [
    {
     "name": "stdout",
     "output_type": "stream",
     "text": [
      "Hello omkar sir good evening\n"
     ]
    }
   ],
   "source": [
    "greet1(name = 'omkar sir')"
   ]
  },
  {
   "cell_type": "code",
   "execution_count": 3,
   "id": "1a76cdba",
   "metadata": {},
   "outputs": [
    {
     "name": "stdout",
     "output_type": "stream",
     "text": [
      "50\n"
     ]
    }
   ],
   "source": [
    "def add1(a,/,b):\n",
    "    print(a+b)\n",
    "add1(20,30)"
   ]
  },
  {
   "cell_type": "code",
   "execution_count": 2,
   "id": "366774f0",
   "metadata": {},
   "outputs": [
    {
     "ename": "TypeError",
     "evalue": "add1() takes 1 positional argument but 2 were given",
     "output_type": "error",
     "traceback": [
      "\u001b[1;31m---------------------------------------------------------------------------\u001b[0m",
      "\u001b[1;31mTypeError\u001b[0m                                 Traceback (most recent call last)",
      "\u001b[1;32m~\\AppData\\Local\\Temp\\ipykernel_19972\\650331084.py\u001b[0m in \u001b[0;36m<module>\u001b[1;34m\u001b[0m\n\u001b[0;32m      1\u001b[0m \u001b[1;32mdef\u001b[0m \u001b[0madd1\u001b[0m\u001b[1;33m(\u001b[0m\u001b[0ma\u001b[0m\u001b[1;33m,\u001b[0m\u001b[1;33m/\u001b[0m\u001b[1;33m,\u001b[0m\u001b[1;33m*\u001b[0m\u001b[1;33m,\u001b[0m\u001b[0mb\u001b[0m\u001b[1;33m)\u001b[0m\u001b[1;33m:\u001b[0m\u001b[1;33m\u001b[0m\u001b[1;33m\u001b[0m\u001b[0m\n\u001b[0;32m      2\u001b[0m     \u001b[0mprint\u001b[0m\u001b[1;33m(\u001b[0m\u001b[0ma\u001b[0m\u001b[1;33m+\u001b[0m\u001b[0mb\u001b[0m\u001b[1;33m)\u001b[0m\u001b[1;33m\u001b[0m\u001b[1;33m\u001b[0m\u001b[0m\n\u001b[1;32m----> 3\u001b[1;33m \u001b[0madd1\u001b[0m\u001b[1;33m(\u001b[0m\u001b[1;36m20\u001b[0m\u001b[1;33m,\u001b[0m\u001b[1;36m30\u001b[0m\u001b[1;33m)\u001b[0m\u001b[1;33m\u001b[0m\u001b[1;33m\u001b[0m\u001b[0m\n\u001b[0m",
      "\u001b[1;31mTypeError\u001b[0m: add1() takes 1 positional argument but 2 were given"
     ]
    }
   ],
   "source": [
    "def add1(a,/,*,b):\n",
    "    print(a+b)\n",
    "add1(20,30)"
   ]
  },
  {
   "cell_type": "markdown",
   "id": "c8fd1b99",
   "metadata": {},
   "source": [
    "**reversed**"
   ]
  },
  {
   "cell_type": "code",
   "execution_count": 2,
   "id": "f908aaae",
   "metadata": {},
   "outputs": [],
   "source": [
    "name = 'python'"
   ]
  },
  {
   "cell_type": "code",
   "execution_count": 3,
   "id": "e54add25",
   "metadata": {},
   "outputs": [
    {
     "data": {
      "text/plain": [
       "<reversed at 0x1da3c505a60>"
      ]
     },
     "execution_count": 3,
     "metadata": {},
     "output_type": "execute_result"
    }
   ],
   "source": [
    "reversed(name)"
   ]
  },
  {
   "cell_type": "markdown",
   "id": "2a1d2a0d",
   "metadata": {},
   "source": [
    "**method-1**"
   ]
  },
  {
   "cell_type": "code",
   "execution_count": 6,
   "id": "25052da3",
   "metadata": {},
   "outputs": [
    {
     "name": "stdout",
     "output_type": "stream",
     "text": [
      "n o h t y p "
     ]
    }
   ],
   "source": [
    "for i in reversed(name):\n",
    "    print(i,end=\" \")\n",
    "\n",
    "# "
   ]
  },
  {
   "cell_type": "markdown",
   "id": "d79df259",
   "metadata": {},
   "source": [
    "**method-2**"
   ]
  },
  {
   "cell_type": "code",
   "execution_count": 10,
   "id": "edcd2e24",
   "metadata": {},
   "outputs": [
    {
     "data": {
      "text/plain": [
       "['n', 'o', 'h', 't', 'y', 'p']"
      ]
     },
     "execution_count": 10,
     "metadata": {},
     "output_type": "execute_result"
    }
   ],
   "source": [
    "str1 = reversed(name)\n",
    "list(str1)\n",
    "# str1"
   ]
  },
  {
   "cell_type": "markdown",
   "id": "d1463215",
   "metadata": {},
   "source": [
    "- output at address> ==== > life\n",
    "\n",
    "- output at adress type caste list\n",
    "\n",
    "- any function()\n",
    "    \n",
    "- any function inside brackets shift+tab docstring\n",
    "    \n",
    "- packages methods behaviour own function"
   ]
  },
  {
   "cell_type": "markdown",
   "id": "912f728d",
   "metadata": {},
   "source": [
    "**concatenation**"
   ]
  },
  {
   "cell_type": "code",
   "execution_count": 16,
   "id": "ac37e533",
   "metadata": {},
   "outputs": [
    {
     "data": {
      "text/plain": [
       "'helloevening'"
      ]
     },
     "execution_count": 16,
     "metadata": {},
     "output_type": "execute_result"
    }
   ],
   "source": [
    "str1 = 'hello'\n",
    "str2 = 'evening'\n",
    "str1+str2"
   ]
  },
  {
   "cell_type": "code",
   "execution_count": 17,
   "id": "980ddc30",
   "metadata": {},
   "outputs": [
    {
     "data": {
      "text/plain": [
       "'hello evening'"
      ]
     },
     "execution_count": 17,
     "metadata": {},
     "output_type": "execute_result"
    }
   ],
   "source": [
    "str1 = 'hello'\n",
    "str2 = ' evening'\n",
    "str1+str2"
   ]
  },
  {
   "cell_type": "code",
   "execution_count": 20,
   "id": "3f9be9b1",
   "metadata": {},
   "outputs": [
    {
     "data": {
      "text/plain": [
       "'hello evening'"
      ]
     },
     "execution_count": 20,
     "metadata": {},
     "output_type": "execute_result"
    }
   ],
   "source": [
    "str1 = 'hello'\n",
    "str2 = 'evening'\n",
    "str1+' '+str2"
   ]
  },
  {
   "cell_type": "code",
   "execution_count": 21,
   "id": "f1dcf504",
   "metadata": {},
   "outputs": [
    {
     "data": {
      "text/plain": [
       "'hello evening'"
      ]
     },
     "execution_count": 21,
     "metadata": {},
     "output_type": "execute_result"
    }
   ],
   "source": [
    "str1 = 'hello'\n",
    "str2 = 'evening'\n",
    "str3 =' '\n",
    "str1+str3+str2"
   ]
  },
  {
   "cell_type": "code",
   "execution_count": 13,
   "id": "afcb90e3",
   "metadata": {},
   "outputs": [
    {
     "ename": "TypeError",
     "evalue": "unsupported operand type(s) for -: 'str' and 'str'",
     "output_type": "error",
     "traceback": [
      "\u001b[1;31m---------------------------------------------------------------------------\u001b[0m",
      "\u001b[1;31mTypeError\u001b[0m                                 Traceback (most recent call last)",
      "\u001b[1;32m~\\AppData\\Local\\Temp\\ipykernel_115912\\533321809.py\u001b[0m in \u001b[0;36m<module>\u001b[1;34m\u001b[0m\n\u001b[1;32m----> 1\u001b[1;33m \u001b[0mstr1\u001b[0m\u001b[1;33m-\u001b[0m\u001b[0mstr2\u001b[0m\u001b[1;33m\u001b[0m\u001b[1;33m\u001b[0m\u001b[0m\n\u001b[0m",
      "\u001b[1;31mTypeError\u001b[0m: unsupported operand type(s) for -: 'str' and 'str'"
     ]
    }
   ],
   "source": [
    "str1-str2"
   ]
  },
  {
   "cell_type": "code",
   "execution_count": 14,
   "id": "76fa62fb",
   "metadata": {},
   "outputs": [
    {
     "ename": "TypeError",
     "evalue": "can't multiply sequence by non-int of type 'str'",
     "output_type": "error",
     "traceback": [
      "\u001b[1;31m---------------------------------------------------------------------------\u001b[0m",
      "\u001b[1;31mTypeError\u001b[0m                                 Traceback (most recent call last)",
      "\u001b[1;32m~\\AppData\\Local\\Temp\\ipykernel_115912\\4199405932.py\u001b[0m in \u001b[0;36m<module>\u001b[1;34m\u001b[0m\n\u001b[1;32m----> 1\u001b[1;33m \u001b[0mstr1\u001b[0m\u001b[1;33m*\u001b[0m\u001b[0mstr2\u001b[0m\u001b[1;33m\u001b[0m\u001b[1;33m\u001b[0m\u001b[0m\n\u001b[0m",
      "\u001b[1;31mTypeError\u001b[0m: can't multiply sequence by non-int of type 'str'"
     ]
    }
   ],
   "source": [
    "str1*str2"
   ]
  },
  {
   "cell_type": "code",
   "execution_count": 15,
   "id": "2a70a539",
   "metadata": {},
   "outputs": [
    {
     "ename": "TypeError",
     "evalue": "unsupported operand type(s) for /: 'str' and 'str'",
     "output_type": "error",
     "traceback": [
      "\u001b[1;31m---------------------------------------------------------------------------\u001b[0m",
      "\u001b[1;31mTypeError\u001b[0m                                 Traceback (most recent call last)",
      "\u001b[1;32m~\\AppData\\Local\\Temp\\ipykernel_115912\\3996127809.py\u001b[0m in \u001b[0;36m<module>\u001b[1;34m\u001b[0m\n\u001b[1;32m----> 1\u001b[1;33m \u001b[0mstr1\u001b[0m\u001b[1;33m/\u001b[0m\u001b[0mstr2\u001b[0m\u001b[1;33m\u001b[0m\u001b[1;33m\u001b[0m\u001b[0m\n\u001b[0m",
      "\u001b[1;31mTypeError\u001b[0m: unsupported operand type(s) for /: 'str' and 'str'"
     ]
    }
   ],
   "source": [
    "str1/str2"
   ]
  },
  {
   "cell_type": "markdown",
   "id": "a1843bb2",
   "metadata": {},
   "source": [
    "**index**\n",
    "\n",
    "- index is used to access the strings"
   ]
  },
  {
   "cell_type": "code",
   "execution_count": null,
   "id": "2347d469",
   "metadata": {},
   "outputs": [],
   "source": [
    "-6   -5    -4     -3     -2     -1\n",
    "p     y     t      h      o      n\n",
    "0     1     2      3      4      5"
   ]
  },
  {
   "cell_type": "code",
   "execution_count": 22,
   "id": "1a2cb649",
   "metadata": {},
   "outputs": [
    {
     "data": {
      "text/plain": [
       "('p', 'p')"
      ]
     },
     "execution_count": 22,
     "metadata": {},
     "output_type": "execute_result"
    }
   ],
   "source": [
    "name = 'python'\n",
    "name[0],name[-6]"
   ]
  },
  {
   "cell_type": "code",
   "execution_count": 23,
   "id": "aecadd38",
   "metadata": {},
   "outputs": [
    {
     "data": {
      "text/plain": [
       "('y', 'y')"
      ]
     },
     "execution_count": 23,
     "metadata": {},
     "output_type": "execute_result"
    }
   ],
   "source": [
    "name[1],name[-5]"
   ]
  },
  {
   "cell_type": "code",
   "execution_count": 24,
   "id": "5f4f0c74",
   "metadata": {},
   "outputs": [
    {
     "data": {
      "text/plain": [
       "('t', 't')"
      ]
     },
     "execution_count": 24,
     "metadata": {},
     "output_type": "execute_result"
    }
   ],
   "source": [
    "name[2],name[-4]"
   ]
  },
  {
   "cell_type": "code",
   "execution_count": 25,
   "id": "8a9c2814",
   "metadata": {},
   "outputs": [
    {
     "data": {
      "text/plain": [
       "('h', 'h')"
      ]
     },
     "execution_count": 25,
     "metadata": {},
     "output_type": "execute_result"
    }
   ],
   "source": [
    "name[3],name[-3]"
   ]
  },
  {
   "cell_type": "code",
   "execution_count": 26,
   "id": "59d6c1fd",
   "metadata": {},
   "outputs": [
    {
     "data": {
      "text/plain": [
       "('o', 'o')"
      ]
     },
     "execution_count": 26,
     "metadata": {},
     "output_type": "execute_result"
    }
   ],
   "source": [
    "name[4],name[-2]"
   ]
  },
  {
   "cell_type": "code",
   "execution_count": 27,
   "id": "7181a328",
   "metadata": {},
   "outputs": [
    {
     "data": {
      "text/plain": [
       "('n', 'n')"
      ]
     },
     "execution_count": 27,
     "metadata": {},
     "output_type": "execute_result"
    }
   ],
   "source": [
    "name[5],name[-1]"
   ]
  },
  {
   "cell_type": "code",
   "execution_count": 30,
   "id": "b522f6bb",
   "metadata": {},
   "outputs": [
    {
     "name": "stdout",
     "output_type": "stream",
     "text": [
      "0 p\n",
      "1 y\n",
      "2 t\n",
      "3 h\n",
      "4 o\n",
      "5 n\n"
     ]
    }
   ],
   "source": [
    "for i in range(6):\n",
    "    print(i,name[i])"
   ]
  },
  {
   "cell_type": "code",
   "execution_count": 34,
   "id": "186ec29b",
   "metadata": {},
   "outputs": [
    {
     "name": "stdout",
     "output_type": "stream",
     "text": [
      "0:h\n",
      "1:a\n",
      "2:i\n",
      "3: \n",
      "4:h\n",
      "5:o\n",
      "6:w\n",
      "7: \n",
      "8:a\n",
      "9:r\n",
      "10:e\n",
      "11: \n",
      "12:y\n",
      "13:o\n",
      "14:u\n"
     ]
    }
   ],
   "source": [
    "name = 'hai how are you'\n",
    "n = len(name)\n",
    "for i in range(n):\n",
    "    print(f'{i}:{name[i]}')"
   ]
  },
  {
   "cell_type": "code",
   "execution_count": 35,
   "id": "ab5ee15c",
   "metadata": {},
   "outputs": [
    {
     "name": "stdout",
     "output_type": "stream",
     "text": [
      "The positive index of p is: 0\n",
      "The positive index of y is: 1\n",
      "The positive index of t is: 2\n",
      "The positive index of h is: 3\n",
      "The positive index of o is: 4\n",
      "The positive index of n is: 5\n"
     ]
    }
   ],
   "source": [
    "# -6   -5    -4     -3     -2     -1\n",
    "#  p    y     t      h      o      n\n",
    "#  0    1     2      3      4      5\n",
    "\n",
    "name = 'python'\n",
    "for i in range(len(name)):\n",
    "    print(f'The positive index of {name[i]} is: {i}')"
   ]
  },
  {
   "cell_type": "code",
   "execution_count": 48,
   "id": "725376a5",
   "metadata": {},
   "outputs": [
    {
     "name": "stdout",
     "output_type": "stream",
     "text": [
      "The postive index is 0 and the negative index is -6 for p\n",
      "The postive index is 1 and the negative index is -5 for y\n",
      "The postive index is 2 and the negative index is -4 for t\n",
      "The postive index is 3 and the negative index is -3 for h\n",
      "The postive index is 4 and the negative index is -2 for o\n",
      "The postive index is 5 and the negative index is -1 for n\n"
     ]
    }
   ],
   "source": [
    "name = 'python'\n",
    "# print(list(name))\n",
    "for i in range(len(name)):\n",
    "    print(f'The postive index is {i} and the negative index is {i-6} for {name[i]}')"
   ]
  },
  {
   "cell_type": "code",
   "execution_count": 67,
   "id": "d2e4055a",
   "metadata": {},
   "outputs": [
    {
     "name": "stdout",
     "output_type": "stream",
     "text": [
      "11\n"
     ]
    }
   ],
   "source": [
    "# \n",
    "str1 = 'ola ola ola'\n",
    "count=0\n",
    "for i in range(len(str1)):\n",
    "#     print(str1[i],end =\" \")\n",
    "    if 'a' in str1:\n",
    "        count= count+1\n",
    "print(count)\n",
    "        "
   ]
  },
  {
   "cell_type": "code",
   "execution_count": 66,
   "id": "64ed4bde",
   "metadata": {},
   "outputs": [
    {
     "name": "stdout",
     "output_type": "stream",
     "text": [
      "3\n"
     ]
    }
   ],
   "source": [
    "# \n",
    "str1 = 'ola ola ola'\n",
    "count=0\n",
    "for i in (str1):\n",
    "#     print(str1[i],end =\" \")\n",
    "    if i=='a':\n",
    "        count= count+1\n",
    "print(count)\n",
    "        "
   ]
  },
  {
   "cell_type": "code",
   "execution_count": 76,
   "id": "914b9cb7",
   "metadata": {},
   "outputs": [
    {
     "name": "stdout",
     "output_type": "stream",
     "text": [
      "18\n"
     ]
    }
   ],
   "source": [
    "str1 = 'ola ola ola'\n",
    "summ=0\n",
    "for i in range(len(str1)):\n",
    "#     print(i,str1[i])\n",
    "    if str1[i]=='a':\n",
    "        summ = summ+i\n",
    "print(summ)"
   ]
  },
  {
   "cell_type": "code",
   "execution_count": 81,
   "id": "bc526641",
   "metadata": {},
   "outputs": [
    {
     "name": "stdout",
     "output_type": "stream",
     "text": [
      "7\n"
     ]
    }
   ],
   "source": [
    "str1 = 'hai how are you'\n",
    "vowels = 'aeiou'\n",
    "countt=0\n",
    "for i in (str1):\n",
    "#     print(str1[i],end =\" \")\n",
    "    if i in vowels:\n",
    "        countt= countt+1\n",
    "print(countt)"
   ]
  },
  {
   "cell_type": "code",
   "execution_count": 3,
   "id": "4f347379",
   "metadata": {},
   "outputs": [
    {
     "name": "stdout",
     "output_type": "stream",
     "text": [
      "11\n"
     ]
    }
   ],
   "source": [
    "str2 = 'ola ola ola'\n",
    "count = 0\n",
    "for i in range(len(str2)):\n",
    "    if 'a' in str2 :\n",
    "        count+=1\n",
    "print(count)"
   ]
  },
  {
   "cell_type": "markdown",
   "id": "452b62a3",
   "metadata": {},
   "source": []
  }
 ],
 "metadata": {
  "kernelspec": {
   "display_name": "Python 3 (ipykernel)",
   "language": "python",
   "name": "python3"
  },
  "language_info": {
   "codemirror_mode": {
    "name": "ipython",
    "version": 3
   },
   "file_extension": ".py",
   "mimetype": "text/x-python",
   "name": "python",
   "nbconvert_exporter": "python",
   "pygments_lexer": "ipython3",
   "version": "3.9.13"
  }
 },
 "nbformat": 4,
 "nbformat_minor": 5
}
