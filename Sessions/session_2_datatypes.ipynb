{
 "cells": [
  {
   "cell_type": "markdown",
   "id": "df76d05f",
   "metadata": {},
   "source": [
    "# Data Types\n",
    "- Integer\n",
    "- float\n",
    "- string\n",
    "- boolean\n",
    "- list\n",
    "- dictionary\n",
    "- tuple\n",
    "- set\n",
    "- range\n",
    "- byte\n",
    "- bytearray\n",
    "- memoryview\n",
    "- frozen set\n",
    "- Nontype\n",
    "- Complex"
   ]
  },
  {
   "cell_type": "markdown",
   "id": "f160eb34",
   "metadata": {},
   "source": [
    "## Important Notes\n",
    "- Python basic level\n",
    "\n",
    "    - variables\n",
    "    - data types\n",
    "    - how to convert one data type to another type (Typecasting)\n",
    "    - basic codes\n",
    "    - conditional statements\n",
    "    - functions\n",
    "    - try-except\n",
    "    - loops(for + while)\n",
    "- Python Intermediate level\n",
    "    - Strings\n",
    "    - List\n",
    "    - Dictionary\n",
    "    - Tuple\n",
    "    - Sets\n",
    "    - File handling\n",
    "    - Lambda functions\n",
    "- Python Advance level\n",
    "    - OOPS concept\n",
    "_______________________________________________________________\n",
    "\n",
    "- python + statistics = EDA\n",
    "- python + ML = model development\n",
    "- python + DL\n",
    "- python + NLP\n",
    "- python + GenAI\n",
    "- python + AI agents"
   ]
  },
  {
   "cell_type": "markdown",
   "id": "2dcb7f51",
   "metadata": {},
   "source": [
    "**Integer**\n",
    "- integer means a discrete value with out any decimal points"
   ]
  },
  {
   "cell_type": "code",
   "execution_count": 1,
   "id": "3222d24d",
   "metadata": {},
   "outputs": [
    {
     "data": {
      "text/plain": [
       "int"
      ]
     },
     "execution_count": 1,
     "metadata": {},
     "output_type": "execute_result"
    }
   ],
   "source": [
    "num = 100\n",
    "type(num)"
   ]
  },
  {
   "cell_type": "markdown",
   "id": "b2068fd1",
   "metadata": {},
   "source": [
    "**Number system**\n",
    "- binary\n",
    "- octal\n",
    "- decimal (most of the time we will follow this)\n",
    "- hexa"
   ]
  },
  {
   "cell_type": "markdown",
   "id": "f326a146",
   "metadata": {},
   "source": [
    "**Binary**\n",
    "\n",
    "- digits : 0,1,2,3,4,5,6,7,8,9\n",
    "- binary means : two so 0 and 1\n",
    "- Now any number represent with 0 and 1 is called as **binary number**\n",
    "- represent with **b or B**\n",
    "- example: 0b11, 0b101, 0b1000, 0B0001\n",
    "- Invalid: 0b123 because 2 and 3 digits are there"
   ]
  },
  {
   "cell_type": "code",
   "execution_count": 4,
   "id": "1aadffb7",
   "metadata": {},
   "outputs": [
    {
     "data": {
      "text/plain": [
       "3"
      ]
     },
     "execution_count": 4,
     "metadata": {},
     "output_type": "execute_result"
    }
   ],
   "source": [
    "0b11"
   ]
  },
  {
   "cell_type": "code",
   "execution_count": 5,
   "id": "89c24ede",
   "metadata": {},
   "outputs": [
    {
     "data": {
      "text/plain": [
       "3"
      ]
     },
     "execution_count": 5,
     "metadata": {},
     "output_type": "execute_result"
    }
   ],
   "source": [
    "0B11"
   ]
  },
  {
   "cell_type": "code",
   "execution_count": null,
   "id": "c6456351",
   "metadata": {},
   "outputs": [],
   "source": []
  }
 ],
 "metadata": {
  "kernelspec": {
   "display_name": "Python 3 (ipykernel)",
   "language": "python",
   "name": "python3"
  },
  "language_info": {
   "codemirror_mode": {
    "name": "ipython",
    "version": 3
   },
   "file_extension": ".py",
   "mimetype": "text/x-python",
   "name": "python",
   "nbconvert_exporter": "python",
   "pygments_lexer": "ipython3",
   "version": "3.9.13"
  }
 },
 "nbformat": 4,
 "nbformat_minor": 5
}
