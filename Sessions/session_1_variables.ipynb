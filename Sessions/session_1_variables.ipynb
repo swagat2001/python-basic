{
 "cells": [
  {
   "cell_type": "markdown",
   "id": "9344eba6",
   "metadata": {},
   "source": [
    "# Variables"
   ]
  },
  {
   "cell_type": "markdown",
   "id": "8217d0b1",
   "metadata": {},
   "source": [
    "- variables are used to store the value or information\n",
    "- variables can change their values or information\n",
    "- We need to consider always latest value"
   ]
  },
  {
   "cell_type": "code",
   "execution_count": 12,
   "id": "27f56a5b",
   "metadata": {},
   "outputs": [
    {
     "data": {
      "text/plain": [
       "200"
      ]
     },
     "execution_count": 12,
     "metadata": {},
     "output_type": "execute_result"
    }
   ],
   "source": [
    "n1 = 100\n",
    "n2 = 200\n",
    "n1 \n",
    "n2"
   ]
  },
  {
   "cell_type": "code",
   "execution_count": 13,
   "id": "9ec36b4b",
   "metadata": {},
   "outputs": [
    {
     "data": {
      "text/plain": [
       "(100, 200)"
      ]
     },
     "execution_count": 13,
     "metadata": {},
     "output_type": "execute_result"
    }
   ],
   "source": [
    "n1 = 100\n",
    "n2 = 200\n",
    "n1,n2"
   ]
  },
  {
   "cell_type": "code",
   "execution_count": 14,
   "id": "95efd225",
   "metadata": {},
   "outputs": [
    {
     "name": "stdout",
     "output_type": "stream",
     "text": [
      "100\n",
      "200\n"
     ]
    }
   ],
   "source": [
    "n1 = 100\n",
    "n2 = 200\n",
    "print (n1) \n",
    "print (n2)"
   ]
  },
  {
   "cell_type": "markdown",
   "id": "21175a9e",
   "metadata": {},
   "source": [
    "- in python we no need to mention data types\n",
    "\n",
    "- based on user provides value the data type autimatically comes"
   ]
  },
  {
   "cell_type": "markdown",
   "id": "9429abff",
   "metadata": {},
   "source": [
    "**Type**\n",
    "\n",
    "- type is an in built functions \n",
    "- Always remeber inbuilt functions have small brackets\n",
    "- for example **print** also inbuilt function"
   ]
  },
  {
   "cell_type": "code",
   "execution_count": 15,
   "id": "0068fd6d",
   "metadata": {},
   "outputs": [
    {
     "name": "stdout",
     "output_type": "stream",
     "text": [
      "100\n"
     ]
    }
   ],
   "source": [
    "a = 100\n",
    "print(a)"
   ]
  },
  {
   "cell_type": "code",
   "execution_count": 16,
   "id": "96a1c6c2",
   "metadata": {},
   "outputs": [
    {
     "data": {
      "text/plain": [
       "int"
      ]
     },
     "execution_count": 16,
     "metadata": {},
     "output_type": "execute_result"
    }
   ],
   "source": [
    "type(a)"
   ]
  },
  {
   "cell_type": "code",
   "execution_count": 17,
   "id": "22a10565",
   "metadata": {},
   "outputs": [
    {
     "data": {
      "text/plain": [
       "10.5"
      ]
     },
     "execution_count": 17,
     "metadata": {},
     "output_type": "execute_result"
    }
   ],
   "source": [
    "b = 10.5\n",
    "b"
   ]
  },
  {
   "cell_type": "code",
   "execution_count": 18,
   "id": "c9518078",
   "metadata": {},
   "outputs": [
    {
     "data": {
      "text/plain": [
       "float"
      ]
     },
     "execution_count": 18,
     "metadata": {},
     "output_type": "execute_result"
    }
   ],
   "source": [
    "type(b)"
   ]
  },
  {
   "cell_type": "code",
   "execution_count": 25,
   "id": "107c5b75",
   "metadata": {},
   "outputs": [
    {
     "data": {
      "text/plain": [
       "100"
      ]
     },
     "execution_count": 25,
     "metadata": {},
     "output_type": "execute_result"
    }
   ],
   "source": []
  },
  {
   "cell_type": "code",
   "execution_count": 21,
   "id": "8846437f",
   "metadata": {},
   "outputs": [
    {
     "data": {
      "text/plain": [
       "100"
      ]
     },
     "execution_count": 21,
     "metadata": {},
     "output_type": "execute_result"
    }
   ],
   "source": [
    "true = 100\n",
    "d = true\n",
    "d"
   ]
  },
  {
   "cell_type": "code",
   "execution_count": 23,
   "id": "46c35f30",
   "metadata": {},
   "outputs": [
    {
     "ename": "NameError",
     "evalue": "name 'omkar' is not defined",
     "output_type": "error",
     "traceback": [
      "\u001b[1;31m---------------------------------------------------------------------------\u001b[0m",
      "\u001b[1;31mNameError\u001b[0m                                 Traceback (most recent call last)",
      "\u001b[1;32m~\\AppData\\Local\\Temp\\ipykernel_234904\\1561449547.py\u001b[0m in \u001b[0;36m<module>\u001b[1;34m\u001b[0m\n\u001b[1;32m----> 1\u001b[1;33m \u001b[0mname\u001b[0m \u001b[1;33m=\u001b[0m \u001b[0momkar\u001b[0m\u001b[1;33m\u001b[0m\u001b[1;33m\u001b[0m\u001b[0m\n\u001b[0m\u001b[0;32m      2\u001b[0m \u001b[1;31m# omkar is not defined\u001b[0m\u001b[1;33m\u001b[0m\u001b[1;33m\u001b[0m\u001b[0m\n",
      "\u001b[1;31mNameError\u001b[0m: name 'omkar' is not defined"
     ]
    }
   ],
   "source": [
    "name = omkar\n",
    "# omkar is not defined"
   ]
  },
  {
   "cell_type": "code",
   "execution_count": 24,
   "id": "3fcc41b7",
   "metadata": {},
   "outputs": [
    {
     "ename": "NameError",
     "evalue": "name 'omkar' is not defined",
     "output_type": "error",
     "traceback": [
      "\u001b[1;31m---------------------------------------------------------------------------\u001b[0m",
      "\u001b[1;31mNameError\u001b[0m                                 Traceback (most recent call last)",
      "\u001b[1;32m~\\AppData\\Local\\Temp\\ipykernel_234904\\2613880441.py\u001b[0m in \u001b[0;36m<module>\u001b[1;34m\u001b[0m\n\u001b[1;32m----> 1\u001b[1;33m \u001b[0mname\u001b[0m \u001b[1;33m=\u001b[0m \u001b[0momkar\u001b[0m\u001b[1;33m\u001b[0m\u001b[1;33m\u001b[0m\u001b[0m\n\u001b[0m\u001b[0;32m      2\u001b[0m \u001b[0momkar\u001b[0m \u001b[1;33m=\u001b[0m \u001b[1;36m200\u001b[0m\u001b[1;33m\u001b[0m\u001b[1;33m\u001b[0m\u001b[0m\n\u001b[0;32m      3\u001b[0m \u001b[0mname\u001b[0m\u001b[1;33m\u001b[0m\u001b[1;33m\u001b[0m\u001b[0m\n",
      "\u001b[1;31mNameError\u001b[0m: name 'omkar' is not defined"
     ]
    }
   ],
   "source": [
    "name = omkar \n",
    "omkar = 200\n",
    "name"
   ]
  },
  {
   "cell_type": "code",
   "execution_count": 27,
   "id": "40b31bf8",
   "metadata": {},
   "outputs": [
    {
     "data": {
      "text/plain": [
       "bool"
      ]
     },
     "execution_count": 27,
     "metadata": {},
     "output_type": "execute_result"
    }
   ],
   "source": [
    "value = True\n",
    "type (value)"
   ]
  },
  {
   "cell_type": "code",
   "execution_count": 28,
   "id": "e456303d",
   "metadata": {},
   "outputs": [
    {
     "data": {
      "text/plain": [
       "str"
      ]
     },
     "execution_count": 28,
     "metadata": {},
     "output_type": "execute_result"
    }
   ],
   "source": [
    "name = 'Naresh IT'\n",
    "type(name)"
   ]
  },
  {
   "cell_type": "code",
   "execution_count": 29,
   "id": "da5e2917",
   "metadata": {},
   "outputs": [
    {
     "data": {
      "text/plain": [
       "100"
      ]
     },
     "execution_count": 29,
     "metadata": {},
     "output_type": "execute_result"
    }
   ],
   "source": [
    "number = 100\n",
    "number"
   ]
  },
  {
   "cell_type": "code",
   "execution_count": 30,
   "id": "ec2628a3",
   "metadata": {},
   "outputs": [
    {
     "data": {
      "text/plain": [
       "200"
      ]
     },
     "execution_count": 30,
     "metadata": {},
     "output_type": "execute_result"
    }
   ],
   "source": [
    "NUMBER = 200\n",
    "NUMBER"
   ]
  },
  {
   "cell_type": "code",
   "execution_count": 31,
   "id": "aff26968",
   "metadata": {},
   "outputs": [
    {
     "data": {
      "text/plain": [
       "300"
      ]
     },
     "execution_count": 31,
     "metadata": {},
     "output_type": "execute_result"
    }
   ],
   "source": [
    "NUMber = 300\n",
    "NUMber"
   ]
  },
  {
   "cell_type": "code",
   "execution_count": 32,
   "id": "3e37cb20",
   "metadata": {},
   "outputs": [
    {
     "data": {
      "text/plain": [
       "400"
      ]
     },
     "execution_count": 32,
     "metadata": {},
     "output_type": "execute_result"
    }
   ],
   "source": [
    "number123 = 400\n",
    "number123"
   ]
  },
  {
   "cell_type": "code",
   "execution_count": 33,
   "id": "aa08c738",
   "metadata": {},
   "outputs": [
    {
     "ename": "SyntaxError",
     "evalue": "invalid syntax (2938286726.py, line 1)",
     "output_type": "error",
     "traceback": [
      "\u001b[1;36m  File \u001b[1;32m\"C:\\Users\\swaga\\AppData\\Local\\Temp\\ipykernel_234904\\2938286726.py\"\u001b[1;36m, line \u001b[1;32m1\u001b[0m\n\u001b[1;33m    123number =500\u001b[0m\n\u001b[1;37m       ^\u001b[0m\n\u001b[1;31mSyntaxError\u001b[0m\u001b[1;31m:\u001b[0m invalid syntax\n"
     ]
    }
   ],
   "source": [
    "123number =500\n",
    "123number"
   ]
  },
  {
   "cell_type": "code",
   "execution_count": 34,
   "id": "f3c9a40c",
   "metadata": {},
   "outputs": [
    {
     "ename": "SyntaxError",
     "evalue": "invalid syntax (3164987712.py, line 1)",
     "output_type": "error",
     "traceback": [
      "\u001b[1;36m  File \u001b[1;32m\"C:\\Users\\swaga\\AppData\\Local\\Temp\\ipykernel_234904\\3164987712.py\"\u001b[1;36m, line \u001b[1;32m1\u001b[0m\n\u001b[1;33m    number one = 600\u001b[0m\n\u001b[1;37m           ^\u001b[0m\n\u001b[1;31mSyntaxError\u001b[0m\u001b[1;31m:\u001b[0m invalid syntax\n"
     ]
    }
   ],
   "source": [
    "number one = 600\n",
    "number one"
   ]
  },
  {
   "cell_type": "code",
   "execution_count": 35,
   "id": "0773faf0",
   "metadata": {},
   "outputs": [
    {
     "ename": "SyntaxError",
     "evalue": "cannot assign to operator (367768131.py, line 1)",
     "output_type": "error",
     "traceback": [
      "\u001b[1;36m  File \u001b[1;32m\"C:\\Users\\swaga\\AppData\\Local\\Temp\\ipykernel_234904\\367768131.py\"\u001b[1;36m, line \u001b[1;32m1\u001b[0m\n\u001b[1;33m    number*one = 700\u001b[0m\n\u001b[1;37m    ^\u001b[0m\n\u001b[1;31mSyntaxError\u001b[0m\u001b[1;31m:\u001b[0m cannot assign to operator\n"
     ]
    }
   ],
   "source": [
    "number*one = 700"
   ]
  },
  {
   "cell_type": "code",
   "execution_count": 36,
   "id": "b6fd1477",
   "metadata": {},
   "outputs": [
    {
     "data": {
      "text/plain": [
       "800"
      ]
     },
     "execution_count": 36,
     "metadata": {},
     "output_type": "execute_result"
    }
   ],
   "source": [
    "number_one = 800\n",
    "number_one"
   ]
  },
  {
   "cell_type": "code",
   "execution_count": 38,
   "id": "ee74f77e",
   "metadata": {},
   "outputs": [
    {
     "data": {
      "text/plain": [
       "900"
      ]
     },
     "execution_count": 38,
     "metadata": {},
     "output_type": "execute_result"
    }
   ],
   "source": [
    "_= 900\n",
    "_"
   ]
  },
  {
   "cell_type": "code",
   "execution_count": 39,
   "id": "d1d1a04f",
   "metadata": {},
   "outputs": [
    {
     "ename": "SyntaxError",
     "evalue": "invalid syntax (1061723218.py, line 1)",
     "output_type": "error",
     "traceback": [
      "\u001b[1;36m  File \u001b[1;32m\"C:\\Users\\swaga\\AppData\\Local\\Temp\\ipykernel_234904\\1061723218.py\"\u001b[1;36m, line \u001b[1;32m1\u001b[0m\n\u001b[1;33m    if = 1000\u001b[0m\n\u001b[1;37m       ^\u001b[0m\n\u001b[1;31mSyntaxError\u001b[0m\u001b[1;31m:\u001b[0m invalid syntax\n"
     ]
    }
   ],
   "source": [
    "if = 1000\n",
    "if"
   ]
  },
  {
   "cell_type": "markdown",
   "id": "7cd5de5b",
   "metadata": {},
   "source": [
    "- black color is variables\n",
    "- red color is strings\n",
    "- green color is keywords\n",
    "- inbuilt functions have paranthesis"
   ]
  },
  {
   "cell_type": "code",
   "execution_count": 40,
   "id": "2a54dd31",
   "metadata": {},
   "outputs": [
    {
     "ename": "SyntaxError",
     "evalue": "invalid syntax (4250292996.py, line 5)",
     "output_type": "error",
     "traceback": [
      "\u001b[1;36m  File \u001b[1;32m\"C:\\Users\\swaga\\AppData\\Local\\Temp\\ipykernel_234904\\4250292996.py\"\u001b[1;36m, line \u001b[1;32m5\u001b[0m\n\u001b[1;33m    123number = 500 # f\u001b[0m\n\u001b[1;37m       ^\u001b[0m\n\u001b[1;31mSyntaxError\u001b[0m\u001b[1;31m:\u001b[0m invalid syntax\n"
     ]
    }
   ],
   "source": [
    "number = 100 #w\n",
    "NUMBER = 200 # w\n",
    "NUMber = 300 # w\n",
    "number123 = 400 # w\n",
    "123number = 500 # f\n",
    "number one = 600\n",
    "number&one = 700\n",
    "number*one = 800\n",
    "number_one = 900\n",
    "_ = 1000\n",
    "if = 1100"
   ]
  },
  {
   "cell_type": "markdown",
   "id": "a06c77c8",
   "metadata": {},
   "source": [
    "- variables are case sensitive\n",
    "    - which means both capital and small letteers allowed\n",
    "    - and both are different\n",
    "- Numbers as suffix allowed ex: **number123**\n",
    "- Numbers as prefix not allowed ex:**123number**\n",
    "- Variables does not include special characters ex : **number%one**\n",
    "- Variables can allowed underscores ex:**number_one**\n",
    "- Only undersore also can allowed ex :**_**\n",
    "- keywords are not allowed ex: **if**\n",
    "- Space between words is not allowed ex:**number one**"
   ]
  },
  {
   "cell_type": "code",
   "execution_count": null,
   "id": "d7eff158",
   "metadata": {},
   "outputs": [],
   "source": []
  }
 ],
 "metadata": {
  "kernelspec": {
   "display_name": "Python 3 (ipykernel)",
   "language": "python",
   "name": "python3"
  },
  "language_info": {
   "codemirror_mode": {
    "name": "ipython",
    "version": 3
   },
   "file_extension": ".py",
   "mimetype": "text/x-python",
   "name": "python",
   "nbconvert_exporter": "python",
   "pygments_lexer": "ipython3",
   "version": "3.9.13"
  }
 },
 "nbformat": 4,
 "nbformat_minor": 5
}
